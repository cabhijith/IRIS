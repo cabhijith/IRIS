{
  "nbformat": 4,
  "nbformat_minor": 0,
  "metadata": {
    "kernelspec": {
      "name": "python3",
      "display_name": "Python 3"
    },
    "language_info": {
      "codemirror_mode": {
        "name": "ipython",
        "version": 3
      },
      "file_extension": ".py",
      "mimetype": "text/x-python",
      "name": "python",
      "nbconvert_exporter": "python",
      "pygments_lexer": "ipython3",
      "version": "3.6.2"
    },
    "colab": {
      "name": "Combined_model",
      "provenance": []
    },
    "accelerator": "GPU"
  },
  "cells": [
    {
      "cell_type": "markdown",
      "metadata": {
        "id": "FmYvKNIQi1CK",
        "colab_type": "text"
      },
      "source": [
        "# A novel multi-model, data first, chrome extension and WhatsApp based approach to fake news."
      ]
    },
    {
      "cell_type": "code",
      "metadata": {
        "id": "OxVsRwSRjXWX",
        "colab_type": "code",
        "outputId": "8da668cf-9e12-4bd2-d6d8-9b9bb1967684",
        "colab": {
          "base_uri": "https://localhost:8080/",
          "height": 122
        }
      },
      "source": [
        "from google.colab import drive\n",
        "drive.mount(\"/content/drive\")"
      ],
      "execution_count": 1,
      "outputs": [
        {
          "output_type": "stream",
          "text": [
            "Go to this URL in a browser: https://accounts.google.com/o/oauth2/auth?client_id=947318989803-6bn6qk8qdgf4n4g3pfee6491hc0brc4i.apps.googleusercontent.com&redirect_uri=urn%3aietf%3awg%3aoauth%3a2.0%3aoob&response_type=code&scope=email%20https%3a%2f%2fwww.googleapis.com%2fauth%2fdocs.test%20https%3a%2f%2fwww.googleapis.com%2fauth%2fdrive%20https%3a%2f%2fwww.googleapis.com%2fauth%2fdrive.photos.readonly%20https%3a%2f%2fwww.googleapis.com%2fauth%2fpeopleapi.readonly\n",
            "\n",
            "Enter your authorization code:\n",
            "··········\n",
            "Mounted at /content/drive\n"
          ],
          "name": "stdout"
        }
      ]
    },
    {
      "cell_type": "code",
      "metadata": {
        "id": "6DJTjCMR8oML",
        "colab_type": "code",
        "outputId": "9007b272-9da1-4171-f9e3-ce4209340631",
        "colab": {
          "base_uri": "https://localhost:8080/",
          "height": 221
        }
      },
      "source": [
        "!curl -s https://packagecloud.io/install/repositories/github/git-lfs/script.deb.sh | sudo bash\n",
        "\n"
      ],
      "execution_count": 0,
      "outputs": [
        {
          "output_type": "stream",
          "text": [
            "Detected operating system as Ubuntu/bionic.\n",
            "Checking for curl...\n",
            "Detected curl...\n",
            "Checking for gpg...\n",
            "Detected gpg...\n",
            "Running apt-get update... done.\n",
            "Installing apt-transport-https... done.\n",
            "Installing /etc/apt/sources.list.d/github_git-lfs.list...done.\n",
            "Importing packagecloud gpg key... done.\n",
            "Running apt-get update... done.\n",
            "\n",
            "The repository is setup! You can now install packages.\n"
          ],
          "name": "stdout"
        }
      ]
    },
    {
      "cell_type": "code",
      "metadata": {
        "id": "_Fhl-ron82Xg",
        "colab_type": "code",
        "outputId": "4d082b2c-6a51-4aa1-ff0f-3094ed82a199",
        "colab": {
          "base_uri": "https://localhost:8080/",
          "height": 513
        }
      },
      "source": [
        "!sudo apt-get install git-lfs"
      ],
      "execution_count": 0,
      "outputs": [
        {
          "output_type": "stream",
          "text": [
            "\rReading package lists... 0%\r\rReading package lists... 0%\r\rReading package lists... 0%\r\rReading package lists... 7%\r\rReading package lists... 7%\r\rReading package lists... 7%\r\rReading package lists... 7%\r\rReading package lists... 65%\r\rReading package lists... 65%\r\rReading package lists... 66%\r\rReading package lists... 66%\r\rReading package lists... 72%\r\rReading package lists... 72%\r\rReading package lists... 73%\r\rReading package lists... 73%\r\rReading package lists... 73%\r\rReading package lists... 82%\r\rReading package lists... 82%\r\rReading package lists... 82%\r\rReading package lists... 82%\r\rReading package lists... 82%\r\rReading package lists... 82%\r\rReading package lists... 82%\r\rReading package lists... 82%\r\rReading package lists... 87%\r\rReading package lists... 87%\r\rReading package lists... 87%\r\rReading package lists... 87%\r\rReading package lists... 93%\r\rReading package lists... 93%\r\rReading package lists... 93%\r\rReading package lists... 93%\r\rReading package lists... 93%\r\rReading package lists... 93%\r\rReading package lists... 94%\r\rReading package lists... 94%\r\rReading package lists... 94%\r\rReading package lists... 94%\r\rReading package lists... 95%\r\rReading package lists... 95%\r\rReading package lists... 98%\r\rReading package lists... 98%\r\rReading package lists... 98%\r\rReading package lists... 98%\r\rReading package lists... Done\r\n",
            "\rBuilding dependency tree... 0%\r\rBuilding dependency tree... 0%\r\rBuilding dependency tree... 50%\r\rBuilding dependency tree... 50%\r\rBuilding dependency tree       \r\n",
            "Reading state information... Done\n",
            "The following package was automatically installed and is no longer required:\n",
            "  libnvidia-common-430\n",
            "Use 'sudo apt autoremove' to remove it.\n",
            "The following NEW packages will be installed:\n",
            "  git-lfs\n",
            "0 upgraded, 1 newly installed, 0 to remove and 65 not upgraded.\n",
            "Need to get 6,096 kB of archives.\n",
            "After this operation, 14.8 MB of additional disk space will be used.\n",
            "Get:1 https://packagecloud.io/github/git-lfs/ubuntu bionic/main amd64 git-lfs amd64 2.9.2 [6,096 kB]\n",
            "Fetched 6,096 kB in 1s (7,577 kB/s)\n",
            "debconf: unable to initialize frontend: Dialog\n",
            "debconf: (No usable dialog-like program is installed, so the dialog based frontend cannot be used. at /usr/share/perl5/Debconf/FrontEnd/Dialog.pm line 76, <> line 1.)\n",
            "debconf: falling back to frontend: Readline\n",
            "debconf: unable to initialize frontend: Readline\n",
            "debconf: (This frontend requires a controlling tty.)\n",
            "debconf: falling back to frontend: Teletype\n",
            "dpkg-preconfigure: unable to re-open stdin: \n",
            "Selecting previously unselected package git-lfs.\n",
            "(Reading database ... 145678 files and directories currently installed.)\n",
            "Preparing to unpack .../git-lfs_2.9.2_amd64.deb ...\n",
            "Unpacking git-lfs (2.9.2) ...\n",
            "Setting up git-lfs (2.9.2) ...\n",
            "Error: Failed to call git rev-parse --git-dir: exit status 128 \n",
            "Git LFS initialized.\n",
            "Processing triggers for man-db (2.8.3-2ubuntu0.1) ...\n"
          ],
          "name": "stdout"
        }
      ]
    },
    {
      "cell_type": "code",
      "metadata": {
        "id": "YBGKKO5Ij0gH",
        "colab_type": "code",
        "outputId": "fc3905f9-7a30-48c3-e336-409cb68c8076",
        "colab": {
          "base_uri": "https://localhost:8080/",
          "height": 51
        }
      },
      "source": [
        "%cd drive/My Drive/DL/FND/Fake-News"
      ],
      "execution_count": 7,
      "outputs": [
        {
          "output_type": "stream",
          "text": [
            "[Errno 2] No such file or directory: 'drive/My Drive/DL/FND/Fake-News'\n",
            "/content/drive/My Drive/DL/fnc-msc\n"
          ],
          "name": "stdout"
        }
      ]
    },
    {
      "cell_type": "code",
      "metadata": {
        "id": "mll54coli1CP",
        "colab_type": "code",
        "colab": {}
      },
      "source": [
        "from fastai.text import *\n",
        "from fastai import *"
      ],
      "execution_count": 0,
      "outputs": []
    },
    {
      "cell_type": "markdown",
      "metadata": {
        "id": "i8RcUbx0i1CU",
        "colab_type": "text"
      },
      "source": [
        "\n",
        "## Preparing the Data"
      ]
    },
    {
      "cell_type": "code",
      "metadata": {
        "id": "2PJg0RMzi1CV",
        "colab_type": "code",
        "colab": {}
      },
      "source": [
        "path = Path(\"../Fake-News\")"
      ],
      "execution_count": 0,
      "outputs": []
    },
    {
      "cell_type": "code",
      "metadata": {
        "id": "8VIpxN2Di1CY",
        "colab_type": "code",
        "outputId": "e8851d22-711e-4e97-934e-90323d13c6c1",
        "colab": {
          "base_uri": "https://localhost:8080/",
          "height": 187
        }
      },
      "source": [
        "path.ls()"
      ],
      "execution_count": 0,
      "outputs": [
        {
          "output_type": "execute_result",
          "data": {
            "text/plain": [
              "[PosixPath('../Fake-News/Fake+News -1.ipynb'),\n",
              " PosixPath('../Fake-News/fake_or_real_news.csv'),\n",
              " PosixPath('../Fake-News/__MACOSX'),\n",
              " PosixPath('../Fake-News/.git'),\n",
              " PosixPath('../Fake-News/LICENSE'),\n",
              " PosixPath('../Fake-News/README.md'),\n",
              " PosixPath('../Fake-News/Status-Work in Progress-success.svg'),\n",
              " PosixPath('../Fake-News/fake_or_real_news.csv.zip'),\n",
              " PosixPath('../Fake-News/models'),\n",
              " PosixPath('../Fake-News/data-c')]"
            ]
          },
          "metadata": {
            "tags": []
          },
          "execution_count": 7
        }
      ]
    },
    {
      "cell_type": "markdown",
      "metadata": {
        "id": "sOKMPzFti1Cd",
        "colab_type": "text"
      },
      "source": [
        "Reading the data with the pandas library, we can see the format of the data. It's a .csv file with a Title, text and a label:- <b>Real</b> or <b>Fake</b>"
      ]
    },
    {
      "cell_type": "code",
      "metadata": {
        "id": "IraEJ8uQi1Cf",
        "colab_type": "code",
        "outputId": "6597c3af-5685-4402-a9ee-35317b60af50",
        "colab": {
          "base_uri": "https://localhost:8080/",
          "height": 204
        }
      },
      "source": [
        "df = pd.read_csv(path/'fake_or_real_news.csv')\n",
        "df.head()"
      ],
      "execution_count": 0,
      "outputs": [
        {
          "output_type": "execute_result",
          "data": {
            "text/html": [
              "<div>\n",
              "<style scoped>\n",
              "    .dataframe tbody tr th:only-of-type {\n",
              "        vertical-align: middle;\n",
              "    }\n",
              "\n",
              "    .dataframe tbody tr th {\n",
              "        vertical-align: top;\n",
              "    }\n",
              "\n",
              "    .dataframe thead th {\n",
              "        text-align: right;\n",
              "    }\n",
              "</style>\n",
              "<table border=\"1\" class=\"dataframe\">\n",
              "  <thead>\n",
              "    <tr style=\"text-align: right;\">\n",
              "      <th></th>\n",
              "      <th>Unnamed: 0</th>\n",
              "      <th>title</th>\n",
              "      <th>text</th>\n",
              "      <th>label</th>\n",
              "    </tr>\n",
              "  </thead>\n",
              "  <tbody>\n",
              "    <tr>\n",
              "      <th>0</th>\n",
              "      <td>8476</td>\n",
              "      <td>You Can Smell Hillary’s Fear</td>\n",
              "      <td>Daniel Greenfield, a Shillman Journalism Fello...</td>\n",
              "      <td>FAKE</td>\n",
              "    </tr>\n",
              "    <tr>\n",
              "      <th>1</th>\n",
              "      <td>10294</td>\n",
              "      <td>Watch The Exact Moment Paul Ryan Committed Pol...</td>\n",
              "      <td>Google Pinterest Digg Linkedin Reddit Stumbleu...</td>\n",
              "      <td>FAKE</td>\n",
              "    </tr>\n",
              "    <tr>\n",
              "      <th>2</th>\n",
              "      <td>3608</td>\n",
              "      <td>Kerry to go to Paris in gesture of sympathy</td>\n",
              "      <td>U.S. Secretary of State John F. Kerry said Mon...</td>\n",
              "      <td>REAL</td>\n",
              "    </tr>\n",
              "    <tr>\n",
              "      <th>3</th>\n",
              "      <td>10142</td>\n",
              "      <td>Bernie supporters on Twitter erupt in anger ag...</td>\n",
              "      <td>— Kaydee King (@KaydeeKing) November 9, 2016 T...</td>\n",
              "      <td>FAKE</td>\n",
              "    </tr>\n",
              "    <tr>\n",
              "      <th>4</th>\n",
              "      <td>875</td>\n",
              "      <td>The Battle of New York: Why This Primary Matters</td>\n",
              "      <td>It's primary day in New York and front-runners...</td>\n",
              "      <td>REAL</td>\n",
              "    </tr>\n",
              "  </tbody>\n",
              "</table>\n",
              "</div>"
            ],
            "text/plain": [
              "   Unnamed: 0  ... label\n",
              "0        8476  ...  FAKE\n",
              "1       10294  ...  FAKE\n",
              "2        3608  ...  REAL\n",
              "3       10142  ...  FAKE\n",
              "4         875  ...  REAL\n",
              "\n",
              "[5 rows x 4 columns]"
            ]
          },
          "metadata": {
            "tags": []
          },
          "execution_count": 8
        }
      ]
    },
    {
      "cell_type": "markdown",
      "metadata": {
        "id": "RV0bsH6ri1Ci",
        "colab_type": "text"
      },
      "source": [
        "\n",
        "\n"
      ]
    },
    {
      "cell_type": "markdown",
      "metadata": {
        "id": "karG62k4i1Cj",
        "colab_type": "text"
      },
      "source": [
        "\n",
        "\n",
        "\n",
        "\n",
        "\n",
        "\n",
        "\n",
        "\n",
        "\n",
        "\n",
        "\n",
        "\n",
        "\n",
        "\n",
        "\n",
        "Using a pandas dataframe, we can index into any particluar text (in this case 100). We can index into different text pieces to \n",
        "get a sense of the data. Using the title 'text' we can read the contents of the article. To get the title ot label  of it, replace text with name of the column you would like to see\n",
        "\n",
        "\n"
      ]
    },
    {
      "cell_type": "code",
      "metadata": {
        "id": "Z3pEt33ci1Ck",
        "colab_type": "code",
        "outputId": "caa4ec24-4a56-440b-a3d0-03540c8f3824",
        "colab": {
          "base_uri": "https://localhost:8080/",
          "height": 54
        }
      },
      "source": [
        "df['text'][100]"
      ],
      "execution_count": 0,
      "outputs": [
        {
          "output_type": "execute_result",
          "data": {
            "text/plain": [
              "\"In 2008, in the high-profile Supreme Court gun-rights case called District of Columbia v. Heller, a brief was filed from the eighth floor of the Price Daniel Sr. State Office Building in Austin, Texas, specifically from the corner office of the man who was then the state’s solicitor general, Ted Cruz.\\n\\nThe brief took a strong stance on the divisive question of whether the Second Amendment establishes an individual right to own guns, or just protects state and local militias. The brief argued forcefully for the first view, writing that “the individual right to keep and bear arms” is a “fundamental right” and that “an individual right that can be altogether abrogated is no right at all.” Thirty attorneys general from other states signed on.\\n\\nToday, with the White House pushing new gun restrictions and Cruz's candidacy riding on next month's Iowa caucuses, it's no surprise that the Texas Republican would embrace gun rights as a defining issue, holding an event at a firing range and even raffling off an engraved 12-gauge shotgun as a campaign promotion.\\n\\nIn 2008, the situation was very different: he was wading into a case that had no immediate connection to Texas at all. But to see the signature of R. Ted Cruz on the brief would not have surprised the nine Supreme Court justices in the least. By that time, Cruz had been solicitor general for five years, and inserting himself into a case of wide prominence and importance regardless of any direct tie to Texas had become part of his playbook. He clearly saw the Heller case as a watershed in gun rights, writing that it would “determine whether the Second Amendment has any modern relevance.” And he was right. The Supreme Court in a 5-4 decision shot down the Washington, D.C., handgun ban and ruled for the first time in the history of this country that the amendment ensures an individual person’s right to have a gun for self-defense. The National Rifle Association recognized Cruz’s role with a resolution.\\n\\nAs Cruz climbs to the top of the Republican presidential field, the five-plus years he served as the solicitor general of Texas remain the most important period in his public résumé. They’re the record he ran on when he was elected to the U.S. Senate in 2012—and they represent significantly more of his working life than the three years he has served so far in the Senate. They're also a prime source of fodder for liberal and moderate critics, should be become the Republican presidential nominee.\\n\\nA Politico review of Cruz’s record as solicitor general shows he used the role in a new and far more ideological way than his predecessors, taking a relatively low-profile job that had traditionally been used mostly to defend the state government and turning it into a stage for pushing national conservative causes. Cruz argued eight cases in front of the U.S. Supreme Court—far more than his predecessors and successors—using each of them to advance a position endorsed by conservative thinkers. He also was the counsel of record on some 70 friend-of-the-court briefs, or amicus briefs, weighing in on cases across the country, like Heller, in which Texas had no direct stake, but which similarly offered a chance to argue ideological points.\\n\\n“He really turned the office into a platform,” David Bernstein, a George Mason law professor who recently wrote a book about the Obama administration for which Cruz wrote the foreword, said in an interview.\\n\\n“He built up the national aura of the office,” said Tom Phillips, who was the chief justice of the Supreme Court of Texas at the start of Cruz’s run as solicitor general.\\n\\nCruz’s zealous work served the ambitions of the conservative movement, but he also personally used it to build a bridge between what he was (an elite constitutional law nerd) to what he is today (an ascendant right-wing politician). Yet while pleasing to conservatives, other aspects of his record are sure to attract critics. He argued against leniency for an unjustly sentenced man whose lawyer had made a technical mistake; he invoked 13th-century “Saxon law” and the practice of cutting off testicles to justify harsher punishments in a rape case; and he referred to a late-term abortion technique as “infanticide.”\\n\\nAlthough little examined in the race so far, Cruz’s time as solicitor general built him a powerful allegiance among the conservative donors necessary to launch a national campaign. Heading into Iowa, New Hampshire, South Carolina and beyond, he has more money at his disposal than any candidate besides Jeb Bush. And the way he used that Texas office is part of the reason. Toby Neugebauer, who wrote a $10 million check to the Cruz super PAC called Keep the Promise II, told me the reason he did that—the single reason—is what Cruz did as solicitor general. He said other major donors feel the same way.\\n\\n“We’re backing someone,” Neugebauer told me, “that had a worldview and went out and executed on it.”\\n\\nCruz took the solicitor job as a reboot of sorts after his initial foray into politics had fizzled.\\n\\nAs a debater at Princeton, as a law school student at Harvard, and as a clerk to then-Supreme Court Chief Justice William Rehnquist, Cruz was widely considered brilliant—but he left his first real job as a promising appellate attorney in private practice in Washington to instead toil in 2000 as a domestic policy analyst in George W. Bush’s presidential campaign, then as a legal hand for Bush’s team in the frantic recount in Florida that ultimately won Bush the election.\\n\\nIn return, Cruz “desperately” wanted “a senior post” in the White House, he wrote in his autobiography. On the campaign, though, he had earned a reputation for his outsized ego as much as for his obvious intelligence, and the post-election jobs he got were out-of-the-way roles at the Department of Justice and the Federal Trade Commission. “I just don’t like the guy,” Bush has said since. The solicitor general role in his home state of Texas, offered to him by Greg Abbott—then the attorney general of Texas, now the governor—was a political lifeline.\\n\\nFrom the start, it offered a chance to turn his legal acumen into political potential, because it came with a green light to advance conservative aims in the courts. Abbott’s directive for the solicitor general of Texas, Cruz said in his book, was to “look across the country” and “identify chances to defend conservative principles.”\\n\\nThis is not the traditional definition of a solicitor general’s job, which comes with two main duties. The first: States get sued, attorneys general and their staffs respond, and some of the cases get appealed—and that’s where the solicitor general comes in, representing the state in higher courts, where the cases are the most legalistic and complex. The second: the writing of amicus briefs in cases elsewhere in which a state believes it has an interest even though it’s not a party.\\n\\nThe first part can be seen as defense. The second part is more like offense, selectively advancing the interests of the state. The way Cruz did the job? Even the defense was offense, and the interests being asserted were less those of the state than its conservative leaders.\\n\\n“Texas is a huge state, and there’s plenty of work for the attorney general’s office to do,” said Jim Ho, an attorney in Dallas who succeeded Cruz as solicitor general and is a friend and supporter. Cruz, though, “was not content to simply do what was asked and go home.”\\n\\nWhen it came to cases that allowed him to argue for things like the forceful application of the death penalty and expressions of religion in the public arena and against things like abortion and gun control, Ho told me, Cruz “was on constant watch for opportunities to press a conservative vision of the Constitution.”\""
            ]
          },
          "metadata": {
            "tags": []
          },
          "execution_count": 11
        }
      ]
    },
    {
      "cell_type": "code",
      "metadata": {
        "id": "9xJ9q20-i1Cn",
        "colab_type": "code",
        "outputId": "2439bac2-de92-4381-e829-f961299993ef",
        "colab": {
          "base_uri": "https://localhost:8080/",
          "height": 34
        }
      },
      "source": [
        "df['title'][190]\n"
      ],
      "execution_count": 0,
      "outputs": [
        {
          "output_type": "execute_result",
          "data": {
            "text/plain": [
              "'Prison employee pleaded not guilty to aiding escape of two murderers'"
            ]
          },
          "metadata": {
            "tags": []
          },
          "execution_count": 12
        }
      ]
    },
    {
      "cell_type": "code",
      "metadata": {
        "id": "lf-VHoLPi1Cq",
        "colab_type": "code",
        "colab": {}
      },
      "source": [
        "bs = 32"
      ],
      "execution_count": 0,
      "outputs": []
    },
    {
      "cell_type": "markdown",
      "metadata": {
        "id": "7yATUlxsi1Ct",
        "colab_type": "text"
      },
      "source": [
        "\n",
        "## Tokenization\n",
        "The first step of processing we make the texts go through is to split the raw sentences into words, or more exactly tokens. The easiest way to do this would be to split the string on spaces, but we can be smarter:\n",
        "\n",
        "We need to take care of punctuation\n",
        "  - some words are contractions of two different words, like isn't or don't\n",
        "  - we may need to clean some parts of our texts, if there's HTML code for instance\n",
        "  - To see what the tokenizer had done behind the scenes, let's have a look at a few texts in a batch.\n",
        "\n",
        "As we can see below, all the words have been tokenized. For example, in <b>idx</b> 1, hillary's has been separated into two\n",
        "separate tokens - hilary + 's \n",
        "Some words have an 'xx' attached to this. These denoteseparate parts of a document. For example\n",
        "\n",
        "   - xxcap : All Capital Letters\n",
        "   - xxunk : Rarely occuring words\n",
        "   - xxfld :  Beginning of a new field\n"
      ]
    },
    {
      "cell_type": "code",
      "metadata": {
        "id": "MqdDX7xsi1Cu",
        "colab_type": "code",
        "outputId": "48d34926-2344-40a1-9337-118c6652e136",
        "colab": {
          "base_uri": "https://localhost:8080/",
          "height": 71
        }
      },
      "source": [
        "data_language  = (TextList.from_df(df, cols = ['text', 'label']) \n",
        "                  .random_split_by_pct(0.2)\n",
        "                  .label_for_lm()\n",
        "                  .databunch(bs = bs))"
      ],
      "execution_count": 0,
      "outputs": [
        {
          "output_type": "stream",
          "text": [
            "/usr/local/lib/python3.6/dist-packages/fastai/data_block.py:215: UserWarning: `random_split_by_pct` is deprecated, please use `split_by_rand_pct`.\n",
            "  warn(\"`random_split_by_pct` is deprecated, please use `split_by_rand_pct`.\")\n"
          ],
          "name": "stderr"
        },
        {
          "output_type": "display_data",
          "data": {
            "text/html": [
              ""
            ],
            "text/plain": [
              "<IPython.core.display.HTML object>"
            ]
          },
          "metadata": {
            "tags": []
          }
        },
        {
          "output_type": "display_data",
          "data": {
            "text/html": [
              ""
            ],
            "text/plain": [
              "<IPython.core.display.HTML object>"
            ]
          },
          "metadata": {
            "tags": []
          }
        }
      ]
    },
    {
      "cell_type": "code",
      "metadata": {
        "id": "e6VwoZlci1Cw",
        "colab_type": "code",
        "outputId": "58f6cdbd-0311-40a7-dd3a-7ab19216979f",
        "colab": {
          "base_uri": "https://localhost:8080/",
          "height": 1000
        }
      },
      "source": [
        "data_language.show_batch(df.count()[1])\n"
      ],
      "execution_count": 0,
      "outputs": [
        {
          "output_type": "display_data",
          "data": {
            "text/html": [
              "<table border=\"1\" class=\"dataframe\">\n",
              "  <thead>\n",
              "    <tr style=\"text-align: right;\">\n",
              "      <th>idx</th>\n",
              "      <th>text</th>\n",
              "    </tr>\n",
              "  </thead>\n",
              "  <tbody>\n",
              "    <tr>\n",
              "      <td>0</td>\n",
              "      <td>often this election that it ought to be retired . xxmaj but it ’s still unprecedented for the nominee of a major political party to go war with the xxup fbi . \\n  xxmaj but that ’s exactly what xxmaj hillary and her people have done . xxmaj coma patients just waking up now and watching an hour of xxup cnn from their hospital beds would assume that xxup</td>\n",
              "    </tr>\n",
              "    <tr>\n",
              "      <td>1</td>\n",
              "      <td>only those in xxmaj xxunk ? xxmaj for me it should include xxup et - angelic component . xxmaj time will tell . xxmaj time that runs out , according to xxmaj xxunk and other xxunk of xxmaj virgin xxmaj mary . xxmaj that does n't mean it has all to happen on xxmaj december 1st . xxmaj every next week draws us closer to the two doors , one</td>\n",
              "    </tr>\n",
              "    <tr>\n",
              "      <td>2</td>\n",
              "      <td>about “ conscientious objection ” as a human right , even for government officials . \\n \\n  xxmaj in some ways , the meeting fit with the pope ’s focus on the “ spirit of encounter ” as well as his unorthodox meetings with people he calls on the “ xxunk . ” xxmaj and it also came days after he met with nuns fighting an xxmaj obamacare mandate</td>\n",
              "    </tr>\n",
              "    <tr>\n",
              "      <td>3</td>\n",
              "      <td>for his political activity , and that they timed the transfer to prevent him from meeting with this lawyer . \\n  xxmaj kinetik is an outspoken advocate for the human rights of the incarcerated . xxmaj along with xxmaj xxunk xxmaj khalid and xxmaj bennu xxmaj hannibal xxmaj ra - xxmaj sun , xxmaj kinetik and the xxmaj free xxmaj alabama xxmaj movement were some of the people behind</td>\n",
              "    </tr>\n",
              "    <tr>\n",
              "      <td>4</td>\n",
              "      <td>by xxup xxunk , the armed standoff began xxmaj jan. 2 and lasted nearly six weeks . xxmaj the incident brought new attention to the long - running issue of too much federal ownership of lands in the xxmaj american xxmaj west . xxmaj the confrontations at the refuge earlier this year and on xxmaj cliven xxmaj bundy 's ranch in 2014 essentially reignited arguments between private citizens – mostly</td>\n",
              "    </tr>\n",
              "    <tr>\n",
              "      <td>5</td>\n",
              "      <td>had repeatedly ignored the deadlines to produce records and answers to questions , known as xxunk … xxunk , under subpoena , xxmaj trump appeared for a short deposition . xxmaj when asked about the missing documents , he made a shocking admission : xxmaj the xxmaj trumps had been destroying their corporate records for the previous six months and had no document - retention program . xxmaj they had</td>\n",
              "    </tr>\n",
              "    <tr>\n",
              "      <td>6</td>\n",
              "      <td>justifying ” even harsher counter measures by xxmaj america and its xxmaj european allies against xxmaj moscow . \\n  xxmaj secondly , a digital attack on xxmaj america ’s presidential election day this week , would allow the xxmaj washington establishment to pronounce a xxmaj trump win invalid due to “ xxmaj russian cyber subversion ” . xxmaj xxunk is a prepared option if the ballot results show xxmaj</td>\n",
              "    </tr>\n",
              "    <tr>\n",
              "      <td>7</td>\n",
              "      <td>zionists ’ role in drafting the xxmaj mandate , it included the terms of the xxmaj balfour xxmaj declaration , charging the xxmaj british with enacting policies to “ secure the establishment of the xxmaj jewish national xxunk the facilitation of xxmaj jewish immigration — and requiring the xxmaj british administration to consult and cooperate with the xxmaj jewish xxmaj agency toward that end . \\n  xxmaj it contained</td>\n",
              "    </tr>\n",
              "    <tr>\n",
              "      <td>8</td>\n",
              "      <td>what exactly does that mean ? \\n  — xxmaj jake xxmaj tapper ( @jaketapper ) xxmaj october 26 , 2016 \\n  xxmaj good question . xxmaj there ’s no need to alert the authorities , as plenty of people have already ; it ’ll be up to the powers that be to determine if “ grabbing my musket ” constitutes a threat , or if it ’s meant</td>\n",
              "    </tr>\n",
              "    <tr>\n",
              "      <td>9</td>\n",
              "      <td>gross , president of the xxmaj brady xxmaj campaign and xxmaj center to xxmaj prevent xxmaj gun xxmaj violence ,    said in a statement :   “ [ xxmaj xxunk day , 88 lives are lost in shootings across our nation . xxmaj most of these tragedies are preventable through sensible solutions that just keep guns out of the wrong hands : solutions like expanding xxmaj brady background</td>\n",
              "    </tr>\n",
              "    <tr>\n",
              "      <td>10</td>\n",
              "      <td>, in our treaty of 1868 and 1851 , those two treaties significantly for time xxunk set the borders of the xxmaj great xxmaj sioux xxmaj nation on the east bank of the xxmaj missouri xxmaj river . xxmaj and the 1851 treaty was even past east of the xxmaj missouri xxmaj river . xxmaj so you see those treaties being violated from the beginning of building all these dams</td>\n",
              "    </tr>\n",
              "    <tr>\n",
              "      <td>11</td>\n",
              "      <td>government protests broke out at the scene of the explosions and outside xxmaj ankara hospitals as xxmaj interior xxmaj minister xxmaj xxunk xxmaj xxunk visited the wounded . xxmaj some demonstrators chanted \" xxmaj murderer xxmaj erdogan ! \" — referring to xxmaj president xxmaj recep xxmaj tayyip xxmaj erdogan , whom many accuse of increasing tensions with xxmaj kurds to profit at the ballot box in xxmaj november .</td>\n",
              "    </tr>\n",
              "    <tr>\n",
              "      <td>12</td>\n",
              "      <td>in the race for xxmaj democratic convention delegates by about 300 — requiring xxmaj sanders to stage a near - miraculous comeback in the coming states . \\n \\n  “ xxmaj we are moving closer to securing the xxmaj democratic party nomination and winning this election in xxmaj november , ” xxmaj clinton told supporters in xxmaj west xxmaj palm xxmaj beach , xxmaj fla. xxmaj sounding hoarse ,</td>\n",
              "    </tr>\n",
              "    <tr>\n",
              "      <td>13</td>\n",
              "      <td>take balanced , well - informed and empowered decision about their futures ; instead , they were xxunk onto buses that they did n’t even know the destination of . xxmaj at one point , volunteers tried to hand out maps , to enable refugees to decide between the three locations that were supposed to be on offer to them . xxmaj officials shouted back , “ this is not</td>\n",
              "    </tr>\n",
              "    <tr>\n",
              "      <td>14</td>\n",
              "      <td>decide the future of generations to come . \" \\n  xxmaj watson 's letter undoubtedly had good intentions and amassed xxunk “ likes ” on xxmaj facebook , but some xxmaj americans felt her message was incomplete . \\n  xxmaj xxunk xxmaj xxunk , an xxmaj american woman , argued about those voting for xxmaj hillary xxmaj clinton in the name of “ gender equality ” : \\n</td>\n",
              "    </tr>\n",
              "    <tr>\n",
              "      <td>15</td>\n",
              "      <td>world of lizards ? ” \\n  “ xxmaj no , ” said xxmaj ford , who by this time was a little more rational and coherent than he had been , having finally had the coffee forced down him , “ nothing so simple . xxmaj nothing anything like so straightforward . xxmaj on its world , the people are people . xxmaj the leaders are lizards . xxmaj</td>\n",
              "    </tr>\n",
              "    <tr>\n",
              "      <td>16</td>\n",
              "      <td>to caution and strike . ” \\n  xxmaj on xxmaj xxunk , a state - controlled xxunk website , xxmaj xxunk xxmaj fang , a teacher at the military – run xxmaj national xxmaj defense xxmaj university said that “ xxmaj the xxmaj chinese military will venture up hard and xxmaj china will never submit to any nation on matters of sway , ” \\n  xxmaj wanquan apparently</td>\n",
              "    </tr>\n",
              "    <tr>\n",
              "      <td>17</td>\n",
              "      <td>armed conflict , possibly nuclear conflict , and someone who has a vested interest in continuing what she started , who has declared her intent to take an action that by definition will violate xxmaj syria ’s sovereignty and , with near - certainty will lead to an exchange of weapons between the xxmaj syrian protectors , which are xxmaj russian , and the xxmaj united xxmaj states . \\n</td>\n",
              "    </tr>\n",
              "    <tr>\n",
              "      <td>18</td>\n",
              "      <td>, we could ’ve done that as late as xxmaj monday night , on a vote of ‘ no confidence ’ in the xxmaj speaker . xxmaj but that did n’t happen … and at least one of the supposed challengers to xxmaj boehner today did n’t even go to the meeting last night . xxmaj that told me a lot . ” \\n \\n \\n \\n  xxmaj here</td>\n",
              "    </tr>\n",
              "    <tr>\n",
              "      <td>19</td>\n",
              "      <td>that killed all 224 people onboard . xxmaj only 140 bodies have been recovered so far . xxup real xxbos xxmaj the state that hosts the nation 's first presidential primary will hold its first can't - miss event for the xxmaj republican field of 2016 presidential contenders -- the xxmaj first - in - the - xxmaj nation xxmaj republican xxmaj leadership xxmaj summit -- on xxmaj friday and</td>\n",
              "    </tr>\n",
              "    <tr>\n",
              "      <td>20</td>\n",
              "      <td>things xxmaj putin said about him . \\n \\n  \" xxmaj when people call you ' brilliant ' it 's always good , especially when the person heads up xxmaj russia , \" xxmaj trump said . \\n \\n  xxmaj after the program 's hosts pointed out that xxmaj putin kills journalists , political opponents and invades countries , xxmaj trump still embraced the xxmaj russian leader .</td>\n",
              "    </tr>\n",
              "    <tr>\n",
              "      <td>21</td>\n",
              "      <td>slashed millions for social programs like xxmaj medicare and xxmaj medicaid . xxmaj they put corporate interests over environmental protections . xxmaj they encouraged the deregulation of industry , which greatly boosted xxmaj wall xxmaj street . xxmaj altogether , the xxmaj clintons enabled the right as it decimated the liberal class and expanded unfettered capitalism . ( xxmaj for more , read xxmaj lance xxmaj xxunk ’s book ,</td>\n",
              "    </tr>\n",
              "    <tr>\n",
              "      <td>22</td>\n",
              "      <td>special xxmaj counsel indicated that the independent federal agency may be investigating xxmaj comey over an alleged violation of the xxmaj hatch xxmaj act , which guards against federal officials seeking to influence an election . \\n \\n  xxmaj an emboldened xxmaj trump has described the revelation as “ bigger than xxmaj watergate ” , but there is little initial evidence the news has upended the presidential race .</td>\n",
              "    </tr>\n",
              "    <tr>\n",
              "      <td>23</td>\n",
              "      <td>temperatures would be felt for centuries to come – even if there were immediate efforts to cut the carbon emissions xxunk changes in the oceans . \\n \\n \\n \\n  “ i think of it more like a fly wheel or a freight train . xxmaj it takes a big push to get it going but it is moving now and will xxunk to move long after we continue</td>\n",
              "    </tr>\n",
              "    <tr>\n",
              "      <td>24</td>\n",
              "      <td>obama , meanwhile , hopes to stifle his own critics who insinuate that he is anti - xxmaj israel . xxmaj the deal should serve as a xxunk too for xxmaj hillary xxmaj clinton , the xxmaj democratic xxunk candidate to succeed xxmaj mr xxmaj obama in xxmaj xxunk election . \\n  xxmaj in reality , however , the xxmaj obama administration has quietly punished xxmaj mr xxmaj netanyahu</td>\n",
              "    </tr>\n",
              "    <tr>\n",
              "      <td>25</td>\n",
              "      <td>where he worked in intelligence , and xxmaj plouffe earnestly says that he ca n’t talk about what his dad did before retiring and taking a job with dupont . \\n \\n  xxmaj the son inherited the father ’s love for math — he fondly recalls solving calculus “ puzzles ” as a kid — and like many political pros he grew up a baseball box - score fanatic</td>\n",
              "    </tr>\n",
              "    <tr>\n",
              "      <td>26</td>\n",
              "      <td>. xxmaj dingaan had fled with his wives and cattle , leaving the circular camp of reed huts burning , as a symbol of the destruction of xxmaj zulu power . \\n  xxmaj on the outskirts of the capital the xxmaj boers found the skeletons of xxmaj retief and his men . “ xxmaj their hands and feet were still bound fast with xxunk of ox hide , ”</td>\n",
              "    </tr>\n",
              "    <tr>\n",
              "      <td>27</td>\n",
              "      <td>xxmaj guns , xxmaj xxunk , and xxmaj gravy ,   and presumed presidential contender , is all about wholesome activities like traveling to the local gun range and not listening to the \" mental poison \" that is   xxmaj beyoncé , but he is shocked by the mouths on these big - city women . xxmaj the cursing ! xxmaj the dropping of the f - bomb !</td>\n",
              "    </tr>\n",
              "    <tr>\n",
              "      <td>28</td>\n",
              "      <td>young white men waved “ xxmaj support your xxmaj local xxmaj police ” placards in his face . \\n \\n  xxmaj the stage was set , in 1966 , for the next xxmaj new xxmaj york xxmaj city law - and - order melodrama . xxmaj lindsay , now mayor , fulfilled a campaign pledge by establishing a xxmaj civilian xxmaj complaint xxmaj review xxmaj board to protect citizens</td>\n",
              "    </tr>\n",
              "    <tr>\n",
              "      <td>29</td>\n",
              "      <td>materials . xxmaj trending xxmaj if xxmaj hillary wants to know what new information the xxup fbi has , xxmaj xxunk xxmaj attkisson knows someone she could ask \\n  xxmaj that ’s weird , though : the story before was that xxmaj abedin would forward government emails to her xxmaj yahoo mail account so she could print them for the boss , who liked paper copies so that she</td>\n",
              "    </tr>\n",
              "    <tr>\n",
              "      <td>30</td>\n",
              "      <td>assault which took place in the northern province of xxmaj kunduz on xxmaj thursday . \\n  “ xxmaj afghan forces and coalition troops conducted a joint operation against the xxmaj taliban insurgents . xxmaj in the bombardment , 30 xxmaj afghan civilians were martyred and 25 others were wounded , ” media outlets quoted provincial spokesman , xxmaj xxunk xxmaj danish , as saying . \\n  xxmaj airstrike</td>\n",
              "    </tr>\n",
              "    <tr>\n",
              "      <td>31</td>\n",
              "      <td>for xxmaj hillary xxmaj clinton . \\n  xxmaj that same survey discovered that moral issues are becoming increasingly unimportant to evangelical voters … xxmaj overall , the economy is the top concern for xxmaj americans regardless of religious affiliation ( 30 % ) . xxmaj national security ( 17 % ) and personal character ( 17 % ) also are significant issues . xxmaj supreme xxmaj court nominees (</td>\n",
              "    </tr>\n",
              "  </tbody>\n",
              "</table>"
            ],
            "text/plain": [
              "<IPython.core.display.HTML object>"
            ]
          },
          "metadata": {
            "tags": []
          }
        }
      ]
    },
    {
      "cell_type": "code",
      "metadata": {
        "id": "nMyGl8IIi1Cz",
        "colab_type": "code",
        "outputId": "e65a8bf3-e31a-4ff9-849c-8e0dc0cec100",
        "colab": {
          "base_uri": "https://localhost:8080/",
          "height": 102
        }
      },
      "source": [
        "df.count()\n"
      ],
      "execution_count": 0,
      "outputs": [
        {
          "output_type": "execute_result",
          "data": {
            "text/plain": [
              "Unnamed: 0    6335\n",
              "title         6335\n",
              "text          6335\n",
              "label         6335\n",
              "dtype: int64"
            ]
          },
          "metadata": {
            "tags": []
          },
          "execution_count": 16
        }
      ]
    },
    {
      "cell_type": "markdown",
      "metadata": {
        "id": "_CEfHmd_i1C2",
        "colab_type": "text"
      },
      "source": [
        "As we can see the data has <b>6335</b> items i.e. unique articles/excrepts"
      ]
    },
    {
      "cell_type": "markdown",
      "metadata": {
        "id": "Vej7Qk-4i1C2",
        "colab_type": "text"
      },
      "source": [
        "# Modelling\n",
        "\n",
        "\n",
        "### Language Model\n",
        "We have now prepared our data and have created a DataBunch out of it. Now, we can start building models for actual predictions!\n",
        "\n",
        "Before building the actual classifier, we have to build a model that understand English. For that we will be using the WikiText dataset. The reason is that a model finds it very difficult to learn both English and recognising Fake News in one go!\n",
        "\n",
        "We have set the batch size to 32. If your GPU cannot handle it, just decrease it to 16 or 8. A language_model_learner will be creating a Recurrent Neural Network. \n"
      ]
    },
    {
      "cell_type": "code",
      "metadata": {
        "id": "dyq9HBiTi1C3",
        "colab_type": "code",
        "colab": {}
      },
      "source": [
        "bs = 32"
      ],
      "execution_count": 0,
      "outputs": []
    },
    {
      "cell_type": "code",
      "metadata": {
        "id": "hEJbmQz_gY75",
        "colab_type": "code",
        "colab": {}
      },
      "source": [
        "config = awd_lstm_lm_config.copy()\n",
        "config['n_hid'] = 33056"
      ],
      "execution_count": 0,
      "outputs": []
    },
    {
      "cell_type": "code",
      "metadata": {
        "id": "ZMRu3tZni1C-",
        "colab_type": "code",
        "outputId": "cc2c801e-4a85-48c2-a3be-6ed5f777b819",
        "colab": {
          "base_uri": "https://localhost:8080/",
          "height": 34
        }
      },
      "source": [
        "learn = language_model_learner(data_language, arch = AWD_LSTM , pretrained = True, drop_mult=0.3)"
      ],
      "execution_count": 0,
      "outputs": [
        {
          "output_type": "stream",
          "text": [
            "Downloading https://s3.amazonaws.com/fast-ai-modelzoo/wt103-fwd\n"
          ],
          "name": "stdout"
        },
        {
          "output_type": "display_data",
          "data": {
            "text/html": [
              ""
            ],
            "text/plain": [
              "<IPython.core.display.HTML object>"
            ]
          },
          "metadata": {
            "tags": []
          }
        }
      ]
    },
    {
      "cell_type": "markdown",
      "metadata": {
        "id": "aST14tPAi1DA",
        "colab_type": "text"
      },
      "source": [
        "In fast.ai ``` learn.lr_find()```, helps us find to the optimal learning rate. Once it is complete, run ```learn.recorder.plot()``` to plot the <b>loss</b> v/s <b>different learning rates.</b> Looking at the plot, we have to pick a learning rate just before the plot rises, here it is 1e-02."
      ]
    },
    {
      "cell_type": "code",
      "metadata": {
        "id": "Tm62UxGii1DB",
        "colab_type": "code",
        "outputId": "3e4f5aa8-0ab4-4c5e-fc32-8104021e92bd",
        "colab": {
          "base_uri": "https://localhost:8080/",
          "height": 34
        }
      },
      "source": [
        "learn.lr_find()"
      ],
      "execution_count": 0,
      "outputs": [
        {
          "output_type": "display_data",
          "data": {
            "text/html": [
              ""
            ],
            "text/plain": [
              "<IPython.core.display.HTML object>"
            ]
          },
          "metadata": {
            "tags": []
          }
        },
        {
          "output_type": "stream",
          "text": [
            "LR Finder is complete, type {learner_name}.recorder.plot() to see the graph.\n"
          ],
          "name": "stdout"
        }
      ]
    },
    {
      "cell_type": "code",
      "metadata": {
        "id": "vPv7UgGki1DE",
        "colab_type": "code",
        "outputId": "791a7657-bafc-40a9-b78c-2a8043185063",
        "colab": {
          "base_uri": "https://localhost:8080/",
          "height": 279
        }
      },
      "source": [
        "learn.recorder.plot()"
      ],
      "execution_count": 0,
      "outputs": [
        {
          "output_type": "display_data",
          "data": {
            "image/png": "[encoded data removed]",
            "text/plain": [
              "<Figure size 432x288 with 1 Axes>"
            ]
          },
          "metadata": {
            "tags": []
          }
        }
      ]
    },
    {
      "cell_type": "code",
      "metadata": {
        "id": "FDswcfVii1DG",
        "colab_type": "code",
        "outputId": "b67833b1-ee4d-4b85-e32c-c7f46bb528c1",
        "colab": {
          "base_uri": "https://localhost:8080/",
          "height": 173
        }
      },
      "source": [
        "learn.fit_one_cycle(4, 1e-03,moms=(0.8,0.7))"
      ],
      "execution_count": 0,
      "outputs": [
        {
          "output_type": "display_data",
          "data": {
            "text/html": [
              "<table border=\"1\" class=\"dataframe\">\n",
              "  <thead>\n",
              "    <tr style=\"text-align: left;\">\n",
              "      <th>epoch</th>\n",
              "      <th>train_loss</th>\n",
              "      <th>valid_loss</th>\n",
              "      <th>accuracy</th>\n",
              "      <th>time</th>\n",
              "    </tr>\n",
              "  </thead>\n",
              "  <tbody>\n",
              "    <tr>\n",
              "      <td>0</td>\n",
              "      <td>3.949067</td>\n",
              "      <td>3.821654</td>\n",
              "      <td>0.318966</td>\n",
              "      <td>03:59</td>\n",
              "    </tr>\n",
              "    <tr>\n",
              "      <td>1</td>\n",
              "      <td>3.816660</td>\n",
              "      <td>3.745053</td>\n",
              "      <td>0.326263</td>\n",
              "      <td>03:58</td>\n",
              "    </tr>\n",
              "    <tr>\n",
              "      <td>2</td>\n",
              "      <td>3.766992</td>\n",
              "      <td>3.724754</td>\n",
              "      <td>0.329093</td>\n",
              "      <td>03:58</td>\n",
              "    </tr>\n",
              "    <tr>\n",
              "      <td>3</td>\n",
              "      <td>3.658822</td>\n",
              "      <td>3.722051</td>\n",
              "      <td>0.329558</td>\n",
              "      <td>03:58</td>\n",
              "    </tr>\n",
              "  </tbody>\n",
              "</table>"
            ],
            "text/plain": [
              "<IPython.core.display.HTML object>"
            ]
          },
          "metadata": {
            "tags": []
          }
        }
      ]
    },
    {
      "cell_type": "markdown",
      "metadata": {
        "id": "xKUq47tdi1DJ",
        "colab_type": "text"
      },
      "source": [
        "Use ```learn.save()```, to save the weights of the model we trained just now. Load it back up by using ```learn.load()```."
      ]
    },
    {
      "cell_type": "code",
      "metadata": {
        "id": "JxxB7cdEi1DK",
        "colab_type": "code",
        "colab": {}
      },
      "source": [
        "learn.save('model-6J')"
      ],
      "execution_count": 0,
      "outputs": []
    },
    {
      "cell_type": "code",
      "metadata": {
        "id": "ATnq5ZTgi1DN",
        "colab_type": "code",
        "outputId": "39b62c1a-f7c2-4b4b-9652-09a0e75812b9",
        "colab": {
          "base_uri": "https://localhost:8080/",
          "height": 1000
        }
      },
      "source": [
        "learn.load('model-6J')"
      ],
      "execution_count": 0,
      "outputs": [
        {
          "output_type": "execute_result",
          "data": {
            "text/plain": [
              "LanguageLearner(data=TextLMDataBunch;\n",
              "\n",
              "Train: LabelList (5068 items)\n",
              "x: LMTextList\n",
              "xxbos xxmaj daniel xxmaj greenfield , a xxmaj shillman xxmaj journalism xxmaj fellow at the xxmaj freedom xxmaj center , is a xxmaj new xxmaj york writer focusing on radical xxmaj islam . \n",
              "  xxmaj in the final stretch of the election , xxmaj hillary xxmaj rodham xxmaj clinton has gone to war with the xxup fbi . \n",
              "  xxmaj the word “ unprecedented ” has been thrown around so often this election that it ought to be retired . xxmaj but it ’s still unprecedented for the nominee of a major political party to go war with the xxup fbi . \n",
              "  xxmaj but that ’s exactly what xxmaj hillary and her people have done . xxmaj coma patients just waking up now and watching an hour of xxup cnn from their hospital beds would assume that xxup fbi xxmaj director xxmaj james xxmaj comey is xxmaj hillary ’s opponent in this election . \n",
              "  xxmaj the xxup fbi is under attack by everyone from xxmaj obama to xxup cnn . xxmaj hillary ’s people have circulated a letter attacking xxmaj comey . xxmaj there are currently more media hit pieces lambasting him than targeting xxmaj trump . xxmaj it would n’t be too surprising if the xxmaj clintons or their allies were to start running attack ads against the xxup fbi . \n",
              "  xxmaj the xxup fbi ’s leadership is being warned that the entire left - wing establishment will form a lynch mob if they continue going after xxmaj hillary . xxmaj and the xxup fbi ’s credibility is being attacked by the media and the xxmaj democrats to preemptively head off the results of the investigation of the xxmaj clinton xxmaj foundation and xxmaj hillary xxmaj clinton . \n",
              "  xxmaj the covert struggle between xxup fbi agents and xxmaj obama ’s xxup doj people has gone xxunk public . \n",
              "  xxmaj the xxmaj new xxmaj york xxmaj times has compared xxmaj comey to xxup j. xxmaj edgar xxmaj hoover . xxmaj its bizarre headline , “ xxmaj james xxmaj comey xxmaj role xxmaj recalls xxmaj hoover ’s xxup fbi , xxmaj fairly or xxmaj not ” practically admits up front that it ’s spouting nonsense . xxmaj the xxmaj boston xxmaj globe has published a column calling for xxmaj comey ’s resignation . xxmaj not to be outdone , xxmaj time has an editorial claiming that the scandal is really an attack on all women . \n",
              "  xxmaj james xxmaj carville appeared on xxup msnbc to remind everyone that he was still alive and insane . xxmaj he accused xxmaj comey of coordinating with xxmaj house xxmaj republicans and the xxup kgb . xxmaj and you thought the “ vast right wing conspiracy ” was a stretch . \n",
              "  xxmaj countless media stories charge xxmaj comey with violating procedure . xxmaj do you know what ’s a procedural violation ? xxmaj emailing classified information stored on your bathroom server . \n",
              "  xxmaj senator xxmaj harry xxmaj reid has sent xxmaj comey a letter accusing him of violating the xxmaj hatch xxmaj act . xxmaj the xxmaj hatch xxmaj act is a nice idea that has as much relevance in the age of xxmaj obama as the xxmaj tenth xxmaj amendment . xxmaj but the cable news spectrum quickly filled with media hacks glancing at the xxmaj wikipedia article on the xxmaj hatch xxmaj act under the table while accusing the xxup fbi director of one of the most awkward conspiracies against xxmaj hillary ever . \n",
              "  xxmaj if xxmaj james xxmaj comey is really out to hurt xxmaj hillary , he picked one hell of a strange way to do it . \n",
              "  xxmaj not too long ago xxmaj democrats were breathing a sigh of relief when he gave xxmaj hillary xxmaj clinton a pass in a prominent public statement . xxmaj if he really were out to elect xxmaj trump by keeping the email scandal going , why did he trash the investigation ? xxmaj was he on the payroll of xxmaj house xxmaj republicans and the xxup kgb back then and playing it coy or was it a sudden development where xxmaj vladimir xxmaj putin and xxmaj paul xxmaj ryan talked him into taking a look at xxmaj anthony xxmaj weiner ’s computer ? \n",
              "  xxmaj either xxmaj comey is the most cunning xxup fbi director that ever lived or he ’s just awkwardly trying to navigate a political mess that has trapped him between a xxup doj leadership whose political futures are tied to xxmaj hillary ’s victory and his own bureau whose apolitical agents just want to be allowed to do their jobs . \n",
              "  xxmaj the only truly mysterious thing is why xxmaj hillary and her associates decided to go to war with a respected xxmaj federal agency . xxmaj most xxmaj americans like the xxup fbi while xxmaj hillary xxmaj clinton enjoys a 60 % unfavorable rating . \n",
              "  xxmaj and it ’s an interesting question . \n",
              "  xxmaj hillary ’s old strategy was to lie and deny that the xxup fbi even had a criminal investigation underway . xxmaj instead her associates insisted that it was a security review . xxmaj the xxup fbi corrected her and she shrugged it off . xxmaj but the old breezy denial approach has given way to a savage assault on the xxup fbi . \n",
              "  xxmaj pretending that nothing was wrong was a bad strategy , but it was a better one that picking a fight with the xxup fbi while lunatic xxmaj clinton associates try to claim that the xxup fbi is really the xxup kgb . \n",
              "  xxmaj there are two possible explanations . \n",
              "  xxmaj hillary xxmaj clinton might be arrogant enough to lash out at the xxup fbi now that she believes that victory is near . xxmaj the same kind of hubris that led her to plan her victory fireworks display could lead her to declare a war on the xxup fbi for irritating her during the final miles of her campaign . \n",
              "  xxmaj but the other explanation is that her people panicked . \n",
              "  xxmaj going to war with the xxup fbi is not the behavior of a smart and focused presidential campaign . xxmaj it ’s an act of desperation . xxmaj when a presidential candidate decides that her only option is to try and destroy the credibility of the xxup fbi , that ’s not hubris , it ’s fear of what the xxup fbi might be about to reveal about her . \n",
              "  xxmaj during the original xxup fbi investigation , xxmaj hillary xxmaj clinton was confident that she could ride it out . xxmaj and she had good reason for believing that . xxmaj but that xxmaj hillary xxmaj clinton is gone . xxmaj in her place is a paranoid wreck . xxmaj within a short space of time the “ positive ” xxmaj clinton campaign promising to unite the country has been replaced by a desperate and flailing operation that has focused all its energy on fighting the xxup fbi . \n",
              "  xxmaj there ’s only one reason for such bizarre behavior . \n",
              "  xxmaj the xxmaj clinton campaign has decided that an xxup fbi investigation of the latest batch of emails poses a threat to its survival . xxmaj and so it ’s gone all in on fighting the xxup fbi . xxmaj it ’s an unprecedented step born of fear . xxmaj it ’s hard to know whether that fear is justified . xxmaj but the existence of that fear already tells us a whole lot . \n",
              "  xxmaj clinton loyalists rigged the old investigation . xxmaj they knew the outcome ahead of time as well as they knew the debate questions . xxmaj now suddenly they are no longer in control . xxmaj and they are afraid . \n",
              "  xxmaj you can smell the fear . \n",
              "  xxmaj the xxup fbi has wiretaps from the investigation of the xxmaj clinton xxmaj foundation . xxmaj it ’s finding new emails all the time . xxmaj and xxmaj clintonworld panicked . xxmaj the xxunk of xxmaj clintonworld have claimed that the email scandal is just so much smoke without fire . xxmaj all that ’s here is the appearance of impropriety without any of the substance . xxmaj but this is n’t how you react to smoke . xxmaj it ’s how you respond to a fire . \n",
              "  xxmaj the misguided assault on the xxup fbi tells us that xxmaj hillary xxmaj clinton and her allies are afraid of a revelation bigger than the fundamental illegality of her email setup . xxmaj the email setup was a preemptive cover up . xxmaj the xxmaj clinton campaign has panicked badly out of the belief , right or wrong , that whatever crime the illegal setup was meant to cover up is at risk of being exposed . \n",
              "  xxmaj the xxmaj clintons have weathered countless scandals over the years . xxmaj whatever they are protecting this time around is bigger than the usual corruption , bribery , sexual assaults and abuses of power that have followed them around throughout the years . xxmaj this is bigger and more damaging than any of the allegations that have already come out . xxmaj and they do n’t want xxup fbi investigators anywhere near it . \n",
              "  xxmaj the campaign against xxmaj comey is pure intimidation . xxmaj it ’s also a warning . xxmaj any senior xxup fbi people who value their careers are being warned to stay away . xxmaj the xxmaj democrats are closing ranks around their nominee against the xxup fbi . xxmaj it ’s an ugly and unprecedented scene . xxmaj it may also be their last stand . \n",
              "  xxmaj hillary xxmaj clinton has awkwardly wound her way through numerous scandals in just this election cycle . xxmaj but she ’s never shown fear or desperation before . xxmaj now that has changed . xxmaj whatever she is afraid of , it lies buried in her emails with xxmaj huma xxmaj abedin . xxmaj and it can bring her down like nothing else has . xxup fake,xxbos xxmaj google xxmaj pinterest xxmaj digg xxmaj linkedin xxmaj reddit xxmaj stumbleupon xxmaj print xxmaj delicious xxmaj pocket xxmaj tumblr \n",
              "  xxmaj there are two fundamental truths in this world : xxmaj paul xxmaj ryan desperately wants to be president . xxmaj and xxmaj paul xxmaj ryan will never be president . xxmaj today proved it . \n",
              "  xxmaj in a particularly staggering example of political cowardice , xxmaj paul xxmaj ryan re - re - re - reversed course and announced that he was back on the xxmaj trump xxmaj train after all . xxmaj this was an xxunk from where he was a few weeks ago . xxmaj he had previously declared he would not be supporting or defending xxmaj trump after a tape was made public in which xxmaj trump bragged about assaulting women . xxmaj suddenly , xxmaj ryan was appearing at a pro - xxmaj trump rally and boldly declaring that he already sent in his vote to make him xxmaj president of the xxmaj united xxmaj states . xxmaj it was a surreal moment . xxmaj the figurehead of the xxmaj republican xxmaj party xxunk himself in gasoline , got up on a stage on a chilly afternoon in xxmaj wisconsin , and lit a match . . @speakerryan says he voted for @realdonaldtrump : “ xxmaj republicans , it is time to come home ” https : / / t.co / xxunk pic.twitter.com / xxunk \n",
              "  — xxup abc xxmaj news xxmaj politics ( xxunk ) xxmaj november 5 , 2016 \n",
              "  xxmaj the xxmaj democratic xxmaj party could n’t have asked for a better moment of film . xxmaj ryan ’s chances of ever becoming president went down to zero in an instant . xxmaj in the wreckage xxmaj trump is to leave behind in his wake , those who xxunk backed his campaign will not recover . xxmaj if xxmaj ryan ’s career manages to limp all the way to 2020 , then the xxup dnc will have this tape locked and loaded to be used in every ad until xxmaj election xxmaj day . \n",
              "  xxmaj the ringing endorsement of the man he clearly hates on a personal level speaks volumes about his own spinelessness . xxmaj ryan has xxunk himself as a “ principled ” conservative , and one uncomfortable with xxmaj trump ’s unapologetic bigotry and sexism . xxmaj however , when push came to shove , xxmaj paul xxmaj ryan – like many of his colleagues – turned into a sniveling xxunk . xxmaj after all his lofty xxunk about conviction , his principles were a house of cards and collapsed with the slightest breeze . \n",
              "  xxmaj what ’s especially bizarre is how close xxmaj ryan came to making it through unscathed . xxmaj for months the xxmaj speaker of the xxmaj house refused to comment on xxmaj trump at all . xxmaj his strategy seemed to be to keep his head down , pretend xxmaj trump did n’t exist , and hope that nobody remembered what happened in 2016 . xxmaj now , just days away from the election , he screwed it all up . \n",
              "  xxmaj if 2016 ’s very ugly election has done any good it ’s by exposing the utter cowardice of the xxmaj republicans who once feigned moral courage . a reality television star spit on them , hijacked their party , insulted their wives , and got every last one of them to kneel before him . xxmaj what a turn of events . \n",
              "  xxmaj featured image via xxmaj twitter xxup fake,xxbos xxup u.s. xxmaj secretary of xxmaj state xxmaj john xxup f. xxmaj kerry said xxmaj monday that he will stop in xxmaj paris later this week , amid criticism that no top xxmaj american officials attended xxmaj sunday ’s unity march against terrorism . \n",
              " \n",
              "  xxmaj kerry said he expects to arrive in xxmaj paris xxmaj thursday evening , as he heads home after a week abroad . xxmaj he said he will fly to xxmaj france at the conclusion of a series of meetings scheduled for xxmaj thursday in xxmaj sofia , xxmaj bulgaria . xxmaj he plans to meet the next day with xxmaj foreign xxmaj minister xxmaj laurent xxmaj fabius and xxmaj president xxmaj francois xxmaj hollande , then return to xxmaj washington . \n",
              " \n",
              "  xxmaj the visit by xxmaj kerry , who has family and childhood ties to the country and speaks fluent xxmaj french , could address some of the criticism that the xxmaj united xxmaj states snubbed xxmaj france in its darkest hour in many years . \n",
              " \n",
              "  xxmaj the xxmaj french press on xxmaj monday was filled with questions about why neither xxmaj president xxmaj obama nor xxmaj kerry attended xxmaj sunday ’s march , as about 40 leaders of other nations did . xxmaj obama was said to have stayed away because his own security needs can be taxing on a country , and xxmaj kerry had prior commitments . \n",
              " \n",
              "  xxmaj among roughly 40 leaders who did attend was xxmaj israeli xxmaj prime xxmaj minister xxmaj benjamin xxmaj netanyahu , no stranger to intense security , who marched beside xxmaj hollande through the city streets . xxmaj the highest ranking xxup u.s. officials attending the march were xxmaj jane xxmaj hartley , the ambassador to xxmaj france , and xxmaj victoria xxmaj nuland , the assistant secretary of state for xxmaj european affairs . xxmaj attorney xxmaj general xxmaj eric xxup h. xxmaj holder xxmaj jr. was in xxmaj paris for meetings with law enforcement officials but did not participate in the march . \n",
              " \n",
              "  xxmaj kerry spent xxmaj sunday at a business summit hosted by xxmaj india ’s prime minister , xxmaj narendra xxmaj modi . xxmaj the xxmaj united xxmaj states is eager for xxmaj india to relax stringent laws that function as barriers to foreign investment and hopes xxmaj modi ’s government will act to open the huge xxmaj indian market for more xxmaj american businesses . \n",
              " \n",
              "  xxmaj in a news conference , xxmaj kerry brushed aside criticism that the xxmaj united xxmaj states had not sent a more senior official to xxmaj paris as “ quibbling a little bit . ” xxmaj he noted that many staffers of the xxmaj american xxmaj embassy in xxmaj paris attended the march , including the ambassador . xxmaj he said he had wanted to be present at the march himself but could not because of his prior commitments in xxmaj india . \n",
              " \n",
              "  “ xxmaj but that is why i am going there on the way home , to make it crystal clear how passionately we feel about the events that have taken place there , ” he said . \n",
              " \n",
              "  “ xxmaj and i do n’t think the people of xxmaj france have any doubts about xxmaj america ’s understanding of what happened , of our personal sense of loss and our deep commitment to the people of xxmaj france in this moment of trauma . ” xxup real,xxbos — xxmaj xxunk xxmaj king ( xxunk ) xxmaj november 9 , 2016 xxmaj the lesson from tonight 's xxmaj dem losses : xxmaj time for xxmaj democrats to start listening to the voters . xxmaj stop running the same establishment candidates . \n",
              "  — xxmaj people xxmaj for xxmaj bernie ( xxunk ) xxmaj november 9 , 2016 xxmaj if xxmaj dems did n't want a tight race they should n't have worked against xxmaj bernie . \n",
              "  — xxmaj walker xxmaj xxunk ( xxunk ) xxmaj november 9 , 2016 \n",
              "  xxmaj new xxmaj york xxmaj times columnist xxmaj paul xxmaj krugman , who was one of xxmaj hillary xxmaj clinton ’s most outspoken surrogates during the contentious xxmaj democratic primary , blamed xxmaj clinton ’s poor performance on xxmaj green xxmaj party candidate xxmaj jill xxmaj stein , who has so far received a negligible number of votes nationally , saying xxmaj stein was the xxmaj ralph xxmaj nader of 2016 in preventing a xxmaj clinton victory . xxmaj the account xxunk threw xxmaj krugman ’s analysis back in his face . xxmaj your candidate was the issue . xxmaj take responsibility . https : / / t.co / xxunk \n",
              "  — xxmaj teachers for xxmaj bernie ( xxunk ) xxmaj november 9 , 2016 \n",
              "  xxmaj ana xxmaj navarro , a xxmaj republican who recently endorsed xxmaj hillary xxmaj clinton , summed up the preposterous nature of the 2016 presidential election in this tweet : xxup gop nominated the only damn candidate who could lose to xxmaj hillary xxmaj clinton . xxmaj democrats nominated the only damn candidate who could lose to xxmaj trump \n",
              "  — xxmaj ana xxmaj navarro ( xxunk ) xxmaj november 9 , 2016 \n",
              "  xxmaj popular left - wing xxmaj facebook page xxmaj the xxmaj other 98 % , which was pro - xxmaj sanders during the primary , responded to xxmaj trump ’s surge by simply posting a meme of xxmaj sanders ’ face with the text “ xxmaj all this could ’ve been avoided . xxmaj thanks for nothing , xxup dnc ! ” xxmaj the meme has been shared almost 15,000 times in less than an hour : \n",
              "  xxmaj posted by xxmaj the xxmaj other 98 % on xxmaj tuesday , xxmaj november 8 , 2016 \n",
              "  xxmaj while xxmaj bernie xxmaj sanders endorsed xxmaj hillary xxmaj clinton just before the xxmaj democratic xxmaj national xxmaj convention in xxmaj july , many of his supporters remained adamant in their refusal to support the xxup dnc - anointed candidate , pointing to wikileaks ’ revelations that top officials at the xxup dnc had been working behind the scenes to tip the scales in xxmaj clinton ’s favor by coordinating with media figures to circulate anti - xxmaj sanders narratives . \n",
              "  xxmaj rather than attribute a potential xxmaj trump presidency to the xxup gop nominee ’s perceived popularity among voters , the closeness of this election could be credited to xxmaj hillary xxmaj clinton ’s unfavorable ratings . xxmaj according to realclearpolitics , anywhere between 51 and 57 percent of voters had a negative opinion of the xxmaj democratic nominee . \n",
              "  xxmaj as of 11 xxup pm xxmaj eastern , xxmaj florida , xxmaj michigan , xxmaj pennsylvania , and xxmaj wisconsin remain too close to call . xxmaj clinton has xxunk electoral votes to xxmaj trump ’s 187 . \n",
              " \n",
              "  xxmaj zach xxmaj cartwright is an activist and author from xxmaj richmond , xxmaj virginia . xxmaj he enjoys writing about politics , government , and the media . xxmaj send him an email at [ email protected ] xxup fake,xxbos xxmaj it 's primary day in xxmaj new xxmaj york and front - runners xxmaj hillary xxmaj clinton and xxmaj donald xxmaj trump are leading in the polls . \n",
              " \n",
              "  xxmaj trump is now vowing to win enough delegates to clinch the xxmaj republican nomination and prevent a contested convention . xxmaj but xxmaj sens . xxmaj ted xxmaj cruz , r - xxmaj texas , xxmaj bernie xxmaj sanders , d - xxmaj vt . , and xxmaj ohio xxmaj gov. xxmaj john xxmaj kasich and are n't giving up just yet . \n",
              " \n",
              "  a big win in xxmaj new xxmaj york could tip the scales for both the xxmaj republican and xxmaj democratic front - runners in this year 's race for the xxmaj white xxmaj house . xxmaj clinton and xxmaj trump have each suffered losses in recent contests , shifting the momentum to their rivals . \n",
              " \n",
              "  \" xxmaj we have won eight out of the last nine caucuses and primaries ! xxmaj cheer ! \" xxmaj sanders recently told supporters . \n",
              " \n",
              "  xxmaj while wins in xxmaj new xxmaj york for xxmaj trump and xxmaj clinton are expected , the margins of those victories are also important . \n",
              " \n",
              "  xxmaj trump needs to capture more than 50 percent of the vote statewide if he wants to be positioned to win all of the state 's 95 xxup gop delegates . xxmaj that would put him one step closer to avoiding a contested convention . \n",
              " \n",
              "  \" xxmaj we 've got to vote and you know xxmaj cruz is way , way down in the polls , \" xxmaj trump urged supporters . \n",
              " \n",
              "  xxmaj meanwhile , xxmaj sanders is hoping for a close race in the xxmaj empire xxmaj state . a loss by 10 points means he 'll need to win 80 percent of the remaining delegates to clinch the nomination . \n",
              " \n",
              "  xxmaj despite a predicted loss in xxmaj new xxmaj york , xxmaj cruz has n't lost momentum . xxmaj he 's hoping to sweep up more delegates this weekend while he 's talking about how he can win in xxmaj november . \n",
              " \n",
              "  \" xxmaj because if i 'm the nominee , we win the xxmaj general xxmaj election , \" xxmaj cruz promised his supporters . \" xxmaj we 're beating xxmaj hillary in the key swing states , we 're beating xxmaj hillary with xxmaj independents , we 're beating xxmaj hillary with young people . \" \n",
              " \n",
              "  xxmaj for now , xxmaj cruz , xxmaj kasich , and xxmaj sanders have all moved on from xxmaj new xxmaj york to other states . xxmaj trump and xxmaj clinton are the only two staying in their home state to watch the results come in . xxup real\n",
              "y: LMLabelList\n",
              ",,,,\n",
              "Path: .;\n",
              "\n",
              "Valid: LabelList (1267 items)\n",
              "x: LMTextList\n",
              "xxbos xxmaj thursday , 3 xxmaj november 2016 ' xxup vote xxup for xxup me , xxup what xxup have xxup you xxup got xxup to xxup lose ? \" \n",
              "  xxmaj donald xxmaj trump has given an amazing closing speech about why he should be elected xxmaj president in 2016 . xxmaj it can be broken down into different parts about why he should be elected according to xxmaj mr. xxmaj trump : \n",
              "  1 ) \" xxmaj people say i suffer from a pathological narcissistic disorder , am a xxunk , assault women , and am a sociopath . xxmaj well , suppose all of this is true . xxmaj it mostly is n't true of xxmaj bill xxmaj clinton and xxmaj barak xxmaj obama and look where these xxunk have gotten us today ! xxmaj they are total losers who have destroyed the military and the middle class . xxmaj why not give a crazy person a chance ? i 'm bound to be better than they are . xxmaj what have you got to lose ? \" \n",
              "  2 ) i 'm a great entertainer . xxmaj elect me and you 'll never be bored . xxmaj if i threaten some country or the other with nuclear annihilation you 'll hold your xxunk to see if i carry it out . xxmaj it will be amazingly exciting . xxmaj you 'll have nothing to lose ! \n",
              "  3 ) xxmaj previous xxmaj presidents , from what i 've read about only 4 of them , because of my limited attention span , have been relatively honest . xxmaj not me ! i 've engaged in many fraudulent business practices even cheating widows and orphans ! xxmaj why not try a deceitful xxunk like me ? xxmaj politics is just one big con anyway ! xxmaj what have you got to lose with a guy like me on your side ? xxmaj what have you got to lose ? xxmaj xxunk xxunk xxunk xxunk xxunk xxunk xxunk . \n",
              "  4 ) xxmaj the xxup pc people say that xxmaj presidents should be well read and educated . xxmaj and the lightweight loses who have been in the xxmaj oval office have mostly been that way . xxmaj even though i 've forgotten everything i 've learned , i did go to one of the best xxmaj ivy xxmaj league xxmaj schools . xxmaj and , remember this folks , reading is for low energy people who do n't have the best brains ; they are the opposite of me . xxmaj education and reading , believe me , are overrated . \n",
              "  5 ) xxmaj hatred , bigotry , racism , strong immigration restrictions , xxmaj nativism , xenophobia , anti - xxunk , advocacy of violence against one 's political opponents and misogyny are part of our xxmaj american heritage . i embody all of these . i am the true voice of the xxmaj american people . i \" tell it like it is , \" and say things millions of xxmaj americans are afraid to say . xxmaj that is why hate groups support me . \n",
              "  6 ) xxmaj people say i am a \" walking xxmaj xxunk \" i say , so what ? xxmaj the i d is very , very strong . xxmaj it is the xxunk in our brains . xxmaj it 's all about winning , being a celebrity and grabbing women 's xxunk to show one 's power . xxmaj it 's all about the strength and power that total losers do n't have . i am an unbelievably strong winner just like my friend xxmaj putin . xxmaj you need on your side . xxmaj vote for me . xxmaj what have you got to lose ? i truly am unbelievable . \" \n",
              "  xxmaj with apologies to xxmaj nicholas xxmaj xxunk whose 11 / 3 / 16 xxup nyt 's column sparked this . xxmaj make xxmaj keith xxmaj xxunk 's xxup fake,xxbos xxmaj julian xxmaj assange has undoubtedly been on a run , exposing endless and shocking truths regarding xxmaj democratic presidential nominee xxmaj hillary xxmaj clinton just days before the election is set to reveal the path the next four years will take in the xxup u.s. xxmaj via xxunk \n",
              " \n",
              "  xxmaj and now there ’s more news to be baffled over , with xxmaj assange claiming xxmaj hillary xxmaj clinton misled xxmaj americans about the reality of xxmaj islamic xxmaj state ’s support from xxmaj washington ’s xxmaj middle xxmaj east allies . xxmaj last month , xxmaj assange ’s wikileaks made a 2014 email public that exposed how then xxmaj secretary of xxmaj state xxmaj hillary xxmaj clinton urged then adviser to xxmaj president xxmaj barack xxmaj obama xxmaj john xxmaj podesta to “ bring pressure ” on xxmaj qatar and xxmaj saudi xxmaj arabia , saying that they were “ providing clandestine financial and logistic support to xxup isil [ xxmaj islamic xxmaj state , xxup is , xxup isis ] and other radical xxmaj sunni groups . ” xxmaj in a video , xxmaj assange called the email the “ most important ” of the entire collection of ammo wikileaks has obtained against the xxmaj clinton campaign : xxmaj all serious analysts know , and even the xxup us government has agreed , that some xxmaj saudi figures have been supporting xxup isis and funding xxup isis , but the dodge has always been that it is some “ rogue ” princes using their oil money to do whatever they like , but actually the government disapproves . xxmaj but that email says that it is the government of xxmaj saudi xxmaj arabia , and the government of xxmaj qatar that have been funding xxup isis . \n",
              "  xxmaj assange sat down with veteran journalist xxmaj john xxmaj pilger for a 25-minute interview within the xxmaj ecuadorian xxmaj embassy in xxmaj london , where xxmaj assange has been living as a refugee since 2012 . xxmaj he discussed in detail the conflict of interest between xxmaj clinton ’s official position , which occurred during xxmaj obama ’s first term , husband xxmaj bill xxmaj clinton ’s nonprofit , and the xxmaj middle xxmaj east officials , claiming the output or urgency to fight terrorism may not have been heartfelt . \n",
              "  xxmaj here is a valuable excerpt from the interview : \n",
              "  xxmaj john xxmaj pilger : xxmaj the xxmaj saudis , the xxmaj qataris , the xxmaj moroccans , the xxmaj bahrainis , particularly the first two , are giving all this money to the xxmaj clinton xxmaj foundation , while xxmaj hillary xxmaj clinton is secretary of state , and the xxmaj state xxmaj department is approving massive arms sales , particularly xxmaj saudi xxmaj arabia . \n",
              "  xxmaj julian xxmaj assange : xxmaj under xxmaj hillary xxmaj clinton – and the xxmaj clinton emails reveal a significant discussion of it – the biggest - ever arms deal in the world was made with xxmaj saudi xxmaj arabia : more than $ 80 billion . xxmaj during her tenure , the total arms exports from the xxup u.s. doubled in dollar value \n",
              "  xxup jp : xxmaj of course , the consequence of that is that this notorious jihadist group , called xxup isil or xxup isis , is created largely with money from people who are giving money to the xxmaj clinton xxmaj foundation ? \n",
              "  xxup ja : xxmaj yes . \n",
              "  xxmaj pilger asked xxmaj assange if he thought the accusations against the xxmaj clinton campaign would have any effect on the xxmaj democratic nominee winning the 2016 presidential election . xxmaj assange also believes that next xxmaj tuesday ’s election is absolutely rigged , and is in favor of xxmaj hillary xxmaj clinton . xxmaj he said , \n",
              "  xxmaj my analysis is that xxmaj trump would not be permitted to win . xxmaj why do i say that ? xxmaj because he has had every establishment off his side . xxmaj trump does not have one establishment , maybe with the exception of the xxmaj evangelicals , if you can call them an establishment . xxmaj banks , intelligence , arms companies , foreign money , etc . are all united behind xxmaj hillary xxmaj clinton . xxmaj and the media as well . xxmaj media owners , and the journalists themselves . \n",
              "  xxup fake,xxbos xxmaj the younger xxmaj trump swears his foundation gives all of its money away to good causes . xxmaj which is true , if you do n’t count the cash spent on xxmaj trump - owned resorts . xxmaj or the plastic surgeon . \n",
              " \n",
              "  xxmaj those are some of the beneficiaries of the xxmaj eric xxmaj trump xxmaj foundation , an xxunk public charity headed by the xxmaj republican presidential nominee ’s third - born . xxmaj though xxmaj eric xxmaj trump — the executive vice president of development and acquisitions for the xxmaj trump xxmaj organization , and one of his father ’s top surrogates and closest political advisers — recently claimed his father had donated “ hundreds of thousands ” to his charity , the only available evidence seems to suggest payments , in fact , went the other way : the xxmaj eric xxmaj trump xxmaj foundation ( xxup xxunk ) paying hundreds of thousands over the last 10 years to host lavish fundraising events at   xxmaj donald xxmaj trump ’s golf courses . \n",
              " \n",
              "  xxmaj in promotional videos and press releases , xxup xxunk touts a 95 to 100 percent donation ratio and implies that by benefit of being a xxmaj trump , namesake properties are handed over for charity events at little or no cost . xxmaj but according to a xxmaj daily xxmaj beast analysis of annual xxup irs reports and xxmaj new xxmaj york state financial disclosures from the charity ’s inception in 2007 to 2014 , the most recent year for which data is available , xxup xxunk spent $ xxunk on its annual xxmaj golf xxmaj xxunk at xxmaj trump - owned clubs , a portion of xxunk in 2013 and $ xxunk in xxunk reported as paid directly “ to a company of a family member of the xxmaj board of xxmaj directors . ” xxmaj in other words , xxmaj donald xxmaj trump himself . \n",
              " \n",
              "  xxmaj donald xxmaj trump , and his private foundation , are already in hot water as reports swirl of suspected self - dealing , or using his foundation funds for private gain . xxmaj indeed , the man who considers a presidential run as an opportunity to turn a profit made headlines and invited criticism this week , after xxmaj the xxmaj washington xxmaj post revealed that the self - professed billionaire had reportedly used monies from the xxmaj donald xxup j. xxmaj trump xxmaj foundation to pay off $ xxunk in legal disputes . xxmaj previous reports found xxmaj donald xxmaj trump had also used the fund — which he has n’t personally donated to since xxunk purchase portraits of himself , and gift $ 25,000 to xxmaj florida xxmaj attorney xxmaj general xxmaj pam xxmaj bondi in a possible quid pro quo to head off an investigation into his shady xxmaj trump xxmaj university , both of which may have violated federal and state tax laws . xxmaj new xxmaj york ’s attorney general is currently investigating the reports . \n",
              " \n",
              "  xxmaj of course , viewed through the prism of his father ’s questionable philanthropic practices , xxmaj eric xxmaj trump ’s foundation seems downright angelic . xxmaj eric xxmaj trump ’s foundation operates with almost no overhead : xxmaj eric neither pays himself nor his board members and relies on xxmaj trump xxmaj organization employees who volunteer for whatever the foundation may need . xxmaj most importantly , xxmaj eric xxmaj trump ’s charity has , over the last 10 years according to its tax reports , raised $ 6.5 million for xxmaj st. xxmaj jude xxmaj children ’s xxmaj research xxmaj hospital , a beloved xxmaj tennessee - based nonprofit that treats children with catastrophic diseases free - of - charge . xxmaj that figure nearly doubles , when you include the year - long fundraisers utilizing xxmaj trump hotels — where guests are encouraged to donate and buy special services , a percentage of which goes to xxmaj st. xxmaj jude — and employees , who both contribute their money and volunteer their time by competing in company - wide contests and organizing events like car washes , bake sales , and walk - a - xxunk , to raise cash that goes straight to the hospital — over $ 600,000 this past year , according to xxup xxunk ’s executive director , xxmaj paige xxmaj xxunk . \n",
              " \n",
              "  “ xxmaj we pride ourselves on having an extremely low expense ratio and that is only made possible by leveraging off the xxmaj trump assets , ” xxmaj xxunk wrote in an email to xxmaj the xxmaj daily xxmaj beast . “ xxmaj trump assets are not profiting from these xxup xxunk events , but instead they are donating their time and resources to the cause . ” \n",
              " \n",
              "  “ xxmaj we ’re so lucky as xxmaj trumps to have the best hotels in the world , to have the best golf courses in the world , and other great assets , and we ’re so lucky to be able to use those assets at our disposal for a great purpose . xxmaj and that ’s really what xxup xxunk is , ” xxmaj eric says in a 2016 video . \n",
              " \n",
              "  “ xxmaj it sounds like they were just making a number up , ” said xxmaj elizabeth xxmaj xxunk , a xxmaj boston xxmaj university professor who studies nonprofit finance . “ xxmaj they should have had a proposal that said , ‘ xxmaj these are the costs , ’ for which there should be an xxunk , detailing what the foundation was paying for . xxmaj instead it sounds like the golf course just said , ' xxmaj give us $ 100,000 . ' ” \n",
              " \n",
              "  xxmaj xxunk took the reins as xxup xxunk ’s director in xxmaj january , replacing a woman who left the organization after eight months . xxmaj and hers was n’t the only high - level dropout this year . xxmaj the foundation ’s xxmaj board of xxmaj directors and xxmaj executive xxmaj committee have each lost a member since xxmaj march : xxmaj jeffrey xxmaj xxunk , a freelance real - estate broker and consultant with a history of bid rigging on construction projects , and xxmaj nathan xxmaj crisp , until recently , a xxmaj trump xxmaj hotels executive who police accused of twice slamming a xxmaj brooklyn mother to the ground on xxmaj easter . \n",
              " \n",
              "  xxmaj when asked why the xxmaj trump xxmaj organization did n’t donate the use of the courses , xxmaj michael xxmaj cohen , a longtime attorney to xxmaj donald xxmaj trump and board member on the xxmaj eric xxmaj trump foundation , said , “ i believe there are certain rules that you do have to pay for certain things — they’re not marked up . xxmaj it ’s inexpensive . i think there ’s some law that says you have to . ” \n",
              " \n",
              "  xxmaj trump xxmaj national xxmaj golf xxmaj club xxmaj westchester , where xxup xxunk ’s annual event is held , did not return a request for event pricing , but charities which have held fundraisers at xxmaj trump clubs showed similar expenses and revenue in their tax reports ( known as 990s ) , suggesting xxmaj eric xxmaj trump indeed paid a standard rate — around $ xxunk use of his father ’s property . xxmaj tic xxmaj xxunk xxmaj stop , a charity dedicated to funding xxmaj xxunk xxmaj syndrome research , paid $ xxunk for a smaller golf outing in 2014 . xxmaj and according to xxmaj the xxmaj boston xxmaj globe , the xxmaj dana - xxmaj xxunk xxmaj cancer xxmaj institute — which has held its annual gala at xxmaj trump ’s xxmaj florida club , xxmaj mar - a - xxmaj lago , for the last six years — paid around $ 150,000 for a fundraiser with up to 600 guests . xxmaj the most recent xxup xxunk fundraiser boasted 500 attendees . \n",
              " \n",
              "  xxmaj though the xxmaj eric xxmaj trump xxmaj foundation ’s website says , “ xxmaj we exclusively support xxmaj st. xxmaj jude xxmaj children ’s xxmaj research xxmaj hospital , ” that is n’t the case . xxmaj in 2012 , xxup xxunk began donating in earnest to other causes , cutting small checks to 40 individual charities in addition to the outsize donation given to the children ’s hospital . xxmaj some of these small donations — like the $ 1,600 to the xxmaj american xxmaj society for xxmaj xxunk and xxmaj xxunk , a xxmaj california wine industry organization where xxmaj eric xxmaj trump once gave a keynote address — have seemingly little to do with the charity ’s mission of helping sick children . \n",
              " \n",
              "  xxmaj the cat ’s cradle of connections do n’t end there . xxmaj the xxup xxunk fund paid out $ xxunk that same year for their golf tournament — an annual event held at xxmaj trump ’s xxmaj hudson xxmaj valley course that cost nearly double what the charity gave out in grants that year . xxmaj they , along with at least six other charities that have received donations from the xxmaj eric xxmaj trump xxmaj foundation since 2012 , hold fundraising events at xxmaj trump golf clubs . xxup real,xxbos xxmaj email \n",
              " \n",
              "  xxmaj it appears xxmaj bill and xxmaj hillary xxmaj clinton are making plans to flee the country in the event xxmaj donald xxmaj trump wins this election . \n",
              "  xxmaj reports are circulating that the xxmaj clintons have transferred 1.8 xxmaj billion dollars from the xxmaj clinton xxmaj foundation to the xxmaj qatar xxmaj central xxmaj bank , via a facilitation / xxunk of xxup jp xxmaj morgan xxmaj chase & xxmaj company for reasons not revealed . \n",
              "  xxmaj this move of such a large sum of money to the country of xxmaj qatar says in itself , xxmaj hillary xxmaj clinton knows she is going to lose the election , and she does n’t plan to allow herself to be prosecuted for various high crimes and treason under a xxmaj trump xxmaj administration . \n",
              "  xxmaj the country of xxmaj qatar happens to be one of a handful of countries that does not have an extradition treaty with the xxmaj united xxmaj states , thus would be a perfect place for her to run to in escaping justice . \n",
              "  xxmaj donald xxmaj trump has said many times during his campaign and at the xxmaj presidential debates that once he gets into office , he intends to prosecute her on various high crimes from her latest crimes of sending classified material via a personal e mail server . xxmaj all the way to gun running to terrorist groups in xxmaj syria resulting in the deaths of 4 xxmaj americans in xxmaj benghazi . \n",
              "  xxmaj apparently , xxmaj hillary is not the only person in xxmaj washington who has made plans to escape justice under a xxmaj trump xxmaj administration . xxmaj john xxmaj kerry has quietly been selling his property in the xxup us for millions of dollars of late , with an announcement of the sale of his $ 25 million dollar xxmaj nantucket mansion in xxmaj june 2016 , as well as the sale of his yacht for $ 3.9 million in xxmaj july 2016 . \n",
              "  xxmaj president xxmaj barack h xxmaj obama has also apparently been making exit plans with his purchase of a $ 4.9 million dollar seaside mansion in xxmaj dubai in xxmaj january 2016 , another non extradition country . \n",
              "  xxmaj snopes and other supposed fact checking sites have debunked both the story of xxmaj obama ’s purchase of the mansion and the firing of xxmaj rear xxmaj admiral xxmaj rick xxmaj williams . xxmaj however , over the last several months , these sites have been busted for lying in trying to debunk such information as the before mentioned , when in fact the information is true . \n",
              "  xxmaj snopes and other sites try their best to keep incriminating information from being believed , but the truth has a way of coming out on its own , as it always has . xxup fake,xxbos xxmaj watch xxmaj hillary xxmaj clintons xxmaj concession xxmaj speech xxmaj video \n",
              "  xxunk night i congratulated xxmaj donald xxmaj trump and offered to work with him on behalf of our country . i hope that he will be a president for all of our country ... \n",
              "  xxunk sorry that we did not win this election for the values we all share ... \n",
              "  xxunk represent the best of xxmaj america , and being your candidate has been one of the greatest honors of my life . i know how disappointed you feel , because i feel it too xxrep 4 . xxmaj donald xxmaj trump 's xxmaj victory xxmaj speech xxup fake\n",
              "y: LMLabelList\n",
              ",,,,\n",
              "Path: .;\n",
              "\n",
              "Test: None, model=SequentialRNN(\n",
              "  (0): AWD_LSTM(\n",
              "    (encoder): Embedding(32800, 400, padding_idx=1)\n",
              "    (encoder_dp): EmbeddingDropout(\n",
              "      (emb): Embedding(32800, 400, padding_idx=1)\n",
              "    )\n",
              "    (rnns): ModuleList(\n",
              "      (0): WeightDropout(\n",
              "        (module): LSTM(400, 1152, batch_first=True)\n",
              "      )\n",
              "      (1): WeightDropout(\n",
              "        (module): LSTM(1152, 1152, batch_first=True)\n",
              "      )\n",
              "      (2): WeightDropout(\n",
              "        (module): LSTM(1152, 400, batch_first=True)\n",
              "      )\n",
              "    )\n",
              "    (input_dp): RNNDropout()\n",
              "    (hidden_dps): ModuleList(\n",
              "      (0): RNNDropout()\n",
              "      (1): RNNDropout()\n",
              "      (2): RNNDropout()\n",
              "    )\n",
              "  )\n",
              "  (1): LinearDecoder(\n",
              "    (decoder): Linear(in_features=400, out_features=32800, bias=True)\n",
              "    (output_dp): RNNDropout()\n",
              "  )\n",
              "), opt_func=functools.partial(<class 'torch.optim.adam.Adam'>, betas=(0.9, 0.99)), loss_func=FlattenedLoss of CrossEntropyLoss(), metrics=[<function accuracy at 0x7f4c03c08620>], true_wd=True, bn_wd=True, wd=0.01, train_bn=True, path=PosixPath('.'), model_dir='models', callback_fns=[functools.partial(<class 'fastai.basic_train.Recorder'>, add_time=True, silent=False)], callbacks=[RNNTrainer\n",
              "learn: LanguageLearner(data=TextLMDataBunch;\n",
              "\n",
              "Train: LabelList (5068 items)\n",
              "x: LMTextList\n",
              "xxbos xxmaj daniel xxmaj greenfield , a xxmaj shillman xxmaj journalism xxmaj fellow at the xxmaj freedom xxmaj center , is a xxmaj new xxmaj york writer focusing on radical xxmaj islam . \n",
              "  xxmaj in the final stretch of the election , xxmaj hillary xxmaj rodham xxmaj clinton has gone to war with the xxup fbi . \n",
              "  xxmaj the word “ unprecedented ” has been thrown around so often this election that it ought to be retired . xxmaj but it ’s still unprecedented for the nominee of a major political party to go war with the xxup fbi . \n",
              "  xxmaj but that ’s exactly what xxmaj hillary and her people have done . xxmaj coma patients just waking up now and watching an hour of xxup cnn from their hospital beds would assume that xxup fbi xxmaj director xxmaj james xxmaj comey is xxmaj hillary ’s opponent in this election . \n",
              "  xxmaj the xxup fbi is under attack by everyone from xxmaj obama to xxup cnn . xxmaj hillary ’s people have circulated a letter attacking xxmaj comey . xxmaj there are currently more media hit pieces lambasting him than targeting xxmaj trump . xxmaj it would n’t be too surprising if the xxmaj clintons or their allies were to start running attack ads against the xxup fbi . \n",
              "  xxmaj the xxup fbi ’s leadership is being warned that the entire left - wing establishment will form a lynch mob if they continue going after xxmaj hillary . xxmaj and the xxup fbi ’s credibility is being attacked by the media and the xxmaj democrats to preemptively head off the results of the investigation of the xxmaj clinton xxmaj foundation and xxmaj hillary xxmaj clinton . \n",
              "  xxmaj the covert struggle between xxup fbi agents and xxmaj obama ’s xxup doj people has gone xxunk public . \n",
              "  xxmaj the xxmaj new xxmaj york xxmaj times has compared xxmaj comey to xxup j. xxmaj edgar xxmaj hoover . xxmaj its bizarre headline , “ xxmaj james xxmaj comey xxmaj role xxmaj recalls xxmaj hoover ’s xxup fbi , xxmaj fairly or xxmaj not ” practically admits up front that it ’s spouting nonsense . xxmaj the xxmaj boston xxmaj globe has published a column calling for xxmaj comey ’s resignation . xxmaj not to be outdone , xxmaj time has an editorial claiming that the scandal is really an attack on all women . \n",
              "  xxmaj james xxmaj carville appeared on xxup msnbc to remind everyone that he was still alive and insane . xxmaj he accused xxmaj comey of coordinating with xxmaj house xxmaj republicans and the xxup kgb . xxmaj and you thought the “ vast right wing conspiracy ” was a stretch . \n",
              "  xxmaj countless media stories charge xxmaj comey with violating procedure . xxmaj do you know what ’s a procedural violation ? xxmaj emailing classified information stored on your bathroom server . \n",
              "  xxmaj senator xxmaj harry xxmaj reid has sent xxmaj comey a letter accusing him of violating the xxmaj hatch xxmaj act . xxmaj the xxmaj hatch xxmaj act is a nice idea that has as much relevance in the age of xxmaj obama as the xxmaj tenth xxmaj amendment . xxmaj but the cable news spectrum quickly filled with media hacks glancing at the xxmaj wikipedia article on the xxmaj hatch xxmaj act under the table while accusing the xxup fbi director of one of the most awkward conspiracies against xxmaj hillary ever . \n",
              "  xxmaj if xxmaj james xxmaj comey is really out to hurt xxmaj hillary , he picked one hell of a strange way to do it . \n",
              "  xxmaj not too long ago xxmaj democrats were breathing a sigh of relief when he gave xxmaj hillary xxmaj clinton a pass in a prominent public statement . xxmaj if he really were out to elect xxmaj trump by keeping the email scandal going , why did he trash the investigation ? xxmaj was he on the payroll of xxmaj house xxmaj republicans and the xxup kgb back then and playing it coy or was it a sudden development where xxmaj vladimir xxmaj putin and xxmaj paul xxmaj ryan talked him into taking a look at xxmaj anthony xxmaj weiner ’s computer ? \n",
              "  xxmaj either xxmaj comey is the most cunning xxup fbi director that ever lived or he ’s just awkwardly trying to navigate a political mess that has trapped him between a xxup doj leadership whose political futures are tied to xxmaj hillary ’s victory and his own bureau whose apolitical agents just want to be allowed to do their jobs . \n",
              "  xxmaj the only truly mysterious thing is why xxmaj hillary and her associates decided to go to war with a respected xxmaj federal agency . xxmaj most xxmaj americans like the xxup fbi while xxmaj hillary xxmaj clinton enjoys a 60 % unfavorable rating . \n",
              "  xxmaj and it ’s an interesting question . \n",
              "  xxmaj hillary ’s old strategy was to lie and deny that the xxup fbi even had a criminal investigation underway . xxmaj instead her associates insisted that it was a security review . xxmaj the xxup fbi corrected her and she shrugged it off . xxmaj but the old breezy denial approach has given way to a savage assault on the xxup fbi . \n",
              "  xxmaj pretending that nothing was wrong was a bad strategy , but it was a better one that picking a fight with the xxup fbi while lunatic xxmaj clinton associates try to claim that the xxup fbi is really the xxup kgb . \n",
              "  xxmaj there are two possible explanations . \n",
              "  xxmaj hillary xxmaj clinton might be arrogant enough to lash out at the xxup fbi now that she believes that victory is near . xxmaj the same kind of hubris that led her to plan her victory fireworks display could lead her to declare a war on the xxup fbi for irritating her during the final miles of her campaign . \n",
              "  xxmaj but the other explanation is that her people panicked . \n",
              "  xxmaj going to war with the xxup fbi is not the behavior of a smart and focused presidential campaign . xxmaj it ’s an act of desperation . xxmaj when a presidential candidate decides that her only option is to try and destroy the credibility of the xxup fbi , that ’s not hubris , it ’s fear of what the xxup fbi might be about to reveal about her . \n",
              "  xxmaj during the original xxup fbi investigation , xxmaj hillary xxmaj clinton was confident that she could ride it out . xxmaj and she had good reason for believing that . xxmaj but that xxmaj hillary xxmaj clinton is gone . xxmaj in her place is a paranoid wreck . xxmaj within a short space of time the “ positive ” xxmaj clinton campaign promising to unite the country has been replaced by a desperate and flailing operation that has focused all its energy on fighting the xxup fbi . \n",
              "  xxmaj there ’s only one reason for such bizarre behavior . \n",
              "  xxmaj the xxmaj clinton campaign has decided that an xxup fbi investigation of the latest batch of emails poses a threat to its survival . xxmaj and so it ’s gone all in on fighting the xxup fbi . xxmaj it ’s an unprecedented step born of fear . xxmaj it ’s hard to know whether that fear is justified . xxmaj but the existence of that fear already tells us a whole lot . \n",
              "  xxmaj clinton loyalists rigged the old investigation . xxmaj they knew the outcome ahead of time as well as they knew the debate questions . xxmaj now suddenly they are no longer in control . xxmaj and they are afraid . \n",
              "  xxmaj you can smell the fear . \n",
              "  xxmaj the xxup fbi has wiretaps from the investigation of the xxmaj clinton xxmaj foundation . xxmaj it ’s finding new emails all the time . xxmaj and xxmaj clintonworld panicked . xxmaj the xxunk of xxmaj clintonworld have claimed that the email scandal is just so much smoke without fire . xxmaj all that ’s here is the appearance of impropriety without any of the substance . xxmaj but this is n’t how you react to smoke . xxmaj it ’s how you respond to a fire . \n",
              "  xxmaj the misguided assault on the xxup fbi tells us that xxmaj hillary xxmaj clinton and her allies are afraid of a revelation bigger than the fundamental illegality of her email setup . xxmaj the email setup was a preemptive cover up . xxmaj the xxmaj clinton campaign has panicked badly out of the belief , right or wrong , that whatever crime the illegal setup was meant to cover up is at risk of being exposed . \n",
              "  xxmaj the xxmaj clintons have weathered countless scandals over the years . xxmaj whatever they are protecting this time around is bigger than the usual corruption , bribery , sexual assaults and abuses of power that have followed them around throughout the years . xxmaj this is bigger and more damaging than any of the allegations that have already come out . xxmaj and they do n’t want xxup fbi investigators anywhere near it . \n",
              "  xxmaj the campaign against xxmaj comey is pure intimidation . xxmaj it ’s also a warning . xxmaj any senior xxup fbi people who value their careers are being warned to stay away . xxmaj the xxmaj democrats are closing ranks around their nominee against the xxup fbi . xxmaj it ’s an ugly and unprecedented scene . xxmaj it may also be their last stand . \n",
              "  xxmaj hillary xxmaj clinton has awkwardly wound her way through numerous scandals in just this election cycle . xxmaj but she ’s never shown fear or desperation before . xxmaj now that has changed . xxmaj whatever she is afraid of , it lies buried in her emails with xxmaj huma xxmaj abedin . xxmaj and it can bring her down like nothing else has . xxup fake,xxbos xxmaj google xxmaj pinterest xxmaj digg xxmaj linkedin xxmaj reddit xxmaj stumbleupon xxmaj print xxmaj delicious xxmaj pocket xxmaj tumblr \n",
              "  xxmaj there are two fundamental truths in this world : xxmaj paul xxmaj ryan desperately wants to be president . xxmaj and xxmaj paul xxmaj ryan will never be president . xxmaj today proved it . \n",
              "  xxmaj in a particularly staggering example of political cowardice , xxmaj paul xxmaj ryan re - re - re - reversed course and announced that he was back on the xxmaj trump xxmaj train after all . xxmaj this was an xxunk from where he was a few weeks ago . xxmaj he had previously declared he would not be supporting or defending xxmaj trump after a tape was made public in which xxmaj trump bragged about assaulting women . xxmaj suddenly , xxmaj ryan was appearing at a pro - xxmaj trump rally and boldly declaring that he already sent in his vote to make him xxmaj president of the xxmaj united xxmaj states . xxmaj it was a surreal moment . xxmaj the figurehead of the xxmaj republican xxmaj party xxunk himself in gasoline , got up on a stage on a chilly afternoon in xxmaj wisconsin , and lit a match . . @speakerryan says he voted for @realdonaldtrump : “ xxmaj republicans , it is time to come home ” https : / / t.co / xxunk pic.twitter.com / xxunk \n",
              "  — xxup abc xxmaj news xxmaj politics ( xxunk ) xxmaj november 5 , 2016 \n",
              "  xxmaj the xxmaj democratic xxmaj party could n’t have asked for a better moment of film . xxmaj ryan ’s chances of ever becoming president went down to zero in an instant . xxmaj in the wreckage xxmaj trump is to leave behind in his wake , those who xxunk backed his campaign will not recover . xxmaj if xxmaj ryan ’s career manages to limp all the way to 2020 , then the xxup dnc will have this tape locked and loaded to be used in every ad until xxmaj election xxmaj day . \n",
              "  xxmaj the ringing endorsement of the man he clearly hates on a personal level speaks volumes about his own spinelessness . xxmaj ryan has xxunk himself as a “ principled ” conservative , and one uncomfortable with xxmaj trump ’s unapologetic bigotry and sexism . xxmaj however , when push came to shove , xxmaj paul xxmaj ryan – like many of his colleagues – turned into a sniveling xxunk . xxmaj after all his lofty xxunk about conviction , his principles were a house of cards and collapsed with the slightest breeze . \n",
              "  xxmaj what ’s especially bizarre is how close xxmaj ryan came to making it through unscathed . xxmaj for months the xxmaj speaker of the xxmaj house refused to comment on xxmaj trump at all . xxmaj his strategy seemed to be to keep his head down , pretend xxmaj trump did n’t exist , and hope that nobody remembered what happened in 2016 . xxmaj now , just days away from the election , he screwed it all up . \n",
              "  xxmaj if 2016 ’s very ugly election has done any good it ’s by exposing the utter cowardice of the xxmaj republicans who once feigned moral courage . a reality television star spit on them , hijacked their party , insulted their wives , and got every last one of them to kneel before him . xxmaj what a turn of events . \n",
              "  xxmaj featured image via xxmaj twitter xxup fake,xxbos xxup u.s. xxmaj secretary of xxmaj state xxmaj john xxup f. xxmaj kerry said xxmaj monday that he will stop in xxmaj paris later this week , amid criticism that no top xxmaj american officials attended xxmaj sunday ’s unity march against terrorism . \n",
              " \n",
              "  xxmaj kerry said he expects to arrive in xxmaj paris xxmaj thursday evening , as he heads home after a week abroad . xxmaj he said he will fly to xxmaj france at the conclusion of a series of meetings scheduled for xxmaj thursday in xxmaj sofia , xxmaj bulgaria . xxmaj he plans to meet the next day with xxmaj foreign xxmaj minister xxmaj laurent xxmaj fabius and xxmaj president xxmaj francois xxmaj hollande , then return to xxmaj washington . \n",
              " \n",
              "  xxmaj the visit by xxmaj kerry , who has family and childhood ties to the country and speaks fluent xxmaj french , could address some of the criticism that the xxmaj united xxmaj states snubbed xxmaj france in its darkest hour in many years . \n",
              " \n",
              "  xxmaj the xxmaj french press on xxmaj monday was filled with questions about why neither xxmaj president xxmaj obama nor xxmaj kerry attended xxmaj sunday ’s march , as about 40 leaders of other nations did . xxmaj obama was said to have stayed away because his own security needs can be taxing on a country , and xxmaj kerry had prior commitments . \n",
              " \n",
              "  xxmaj among roughly 40 leaders who did attend was xxmaj israeli xxmaj prime xxmaj minister xxmaj benjamin xxmaj netanyahu , no stranger to intense security , who marched beside xxmaj hollande through the city streets . xxmaj the highest ranking xxup u.s. officials attending the march were xxmaj jane xxmaj hartley , the ambassador to xxmaj france , and xxmaj victoria xxmaj nuland , the assistant secretary of state for xxmaj european affairs . xxmaj attorney xxmaj general xxmaj eric xxup h. xxmaj holder xxmaj jr. was in xxmaj paris for meetings with law enforcement officials but did not participate in the march . \n",
              " \n",
              "  xxmaj kerry spent xxmaj sunday at a business summit hosted by xxmaj india ’s prime minister , xxmaj narendra xxmaj modi . xxmaj the xxmaj united xxmaj states is eager for xxmaj india to relax stringent laws that function as barriers to foreign investment and hopes xxmaj modi ’s government will act to open the huge xxmaj indian market for more xxmaj american businesses . \n",
              " \n",
              "  xxmaj in a news conference , xxmaj kerry brushed aside criticism that the xxmaj united xxmaj states had not sent a more senior official to xxmaj paris as “ quibbling a little bit . ” xxmaj he noted that many staffers of the xxmaj american xxmaj embassy in xxmaj paris attended the march , including the ambassador . xxmaj he said he had wanted to be present at the march himself but could not because of his prior commitments in xxmaj india . \n",
              " \n",
              "  “ xxmaj but that is why i am going there on the way home , to make it crystal clear how passionately we feel about the events that have taken place there , ” he said . \n",
              " \n",
              "  “ xxmaj and i do n’t think the people of xxmaj france have any doubts about xxmaj america ’s understanding of what happened , of our personal sense of loss and our deep commitment to the people of xxmaj france in this moment of trauma . ” xxup real,xxbos — xxmaj xxunk xxmaj king ( xxunk ) xxmaj november 9 , 2016 xxmaj the lesson from tonight 's xxmaj dem losses : xxmaj time for xxmaj democrats to start listening to the voters . xxmaj stop running the same establishment candidates . \n",
              "  — xxmaj people xxmaj for xxmaj bernie ( xxunk ) xxmaj november 9 , 2016 xxmaj if xxmaj dems did n't want a tight race they should n't have worked against xxmaj bernie . \n",
              "  — xxmaj walker xxmaj xxunk ( xxunk ) xxmaj november 9 , 2016 \n",
              "  xxmaj new xxmaj york xxmaj times columnist xxmaj paul xxmaj krugman , who was one of xxmaj hillary xxmaj clinton ’s most outspoken surrogates during the contentious xxmaj democratic primary , blamed xxmaj clinton ’s poor performance on xxmaj green xxmaj party candidate xxmaj jill xxmaj stein , who has so far received a negligible number of votes nationally , saying xxmaj stein was the xxmaj ralph xxmaj nader of 2016 in preventing a xxmaj clinton victory . xxmaj the account xxunk threw xxmaj krugman ’s analysis back in his face . xxmaj your candidate was the issue . xxmaj take responsibility . https : / / t.co / xxunk \n",
              "  — xxmaj teachers for xxmaj bernie ( xxunk ) xxmaj november 9 , 2016 \n",
              "  xxmaj ana xxmaj navarro , a xxmaj republican who recently endorsed xxmaj hillary xxmaj clinton , summed up the preposterous nature of the 2016 presidential election in this tweet : xxup gop nominated the only damn candidate who could lose to xxmaj hillary xxmaj clinton . xxmaj democrats nominated the only damn candidate who could lose to xxmaj trump \n",
              "  — xxmaj ana xxmaj navarro ( xxunk ) xxmaj november 9 , 2016 \n",
              "  xxmaj popular left - wing xxmaj facebook page xxmaj the xxmaj other 98 % , which was pro - xxmaj sanders during the primary , responded to xxmaj trump ’s surge by simply posting a meme of xxmaj sanders ’ face with the text “ xxmaj all this could ’ve been avoided . xxmaj thanks for nothing , xxup dnc ! ” xxmaj the meme has been shared almost 15,000 times in less than an hour : \n",
              "  xxmaj posted by xxmaj the xxmaj other 98 % on xxmaj tuesday , xxmaj november 8 , 2016 \n",
              "  xxmaj while xxmaj bernie xxmaj sanders endorsed xxmaj hillary xxmaj clinton just before the xxmaj democratic xxmaj national xxmaj convention in xxmaj july , many of his supporters remained adamant in their refusal to support the xxup dnc - anointed candidate , pointing to wikileaks ’ revelations that top officials at the xxup dnc had been working behind the scenes to tip the scales in xxmaj clinton ’s favor by coordinating with media figures to circulate anti - xxmaj sanders narratives . \n",
              "  xxmaj rather than attribute a potential xxmaj trump presidency to the xxup gop nominee ’s perceived popularity among voters , the closeness of this election could be credited to xxmaj hillary xxmaj clinton ’s unfavorable ratings . xxmaj according to realclearpolitics , anywhere between 51 and 57 percent of voters had a negative opinion of the xxmaj democratic nominee . \n",
              "  xxmaj as of 11 xxup pm xxmaj eastern , xxmaj florida , xxmaj michigan , xxmaj pennsylvania , and xxmaj wisconsin remain too close to call . xxmaj clinton has xxunk electoral votes to xxmaj trump ’s 187 . \n",
              " \n",
              "  xxmaj zach xxmaj cartwright is an activist and author from xxmaj richmond , xxmaj virginia . xxmaj he enjoys writing about politics , government , and the media . xxmaj send him an email at [ email protected ] xxup fake,xxbos xxmaj it 's primary day in xxmaj new xxmaj york and front - runners xxmaj hillary xxmaj clinton and xxmaj donald xxmaj trump are leading in the polls . \n",
              " \n",
              "  xxmaj trump is now vowing to win enough delegates to clinch the xxmaj republican nomination and prevent a contested convention . xxmaj but xxmaj sens . xxmaj ted xxmaj cruz , r - xxmaj texas , xxmaj bernie xxmaj sanders , d - xxmaj vt . , and xxmaj ohio xxmaj gov. xxmaj john xxmaj kasich and are n't giving up just yet . \n",
              " \n",
              "  a big win in xxmaj new xxmaj york could tip the scales for both the xxmaj republican and xxmaj democratic front - runners in this year 's race for the xxmaj white xxmaj house . xxmaj clinton and xxmaj trump have each suffered losses in recent contests , shifting the momentum to their rivals . \n",
              " \n",
              "  \" xxmaj we have won eight out of the last nine caucuses and primaries ! xxmaj cheer ! \" xxmaj sanders recently told supporters . \n",
              " \n",
              "  xxmaj while wins in xxmaj new xxmaj york for xxmaj trump and xxmaj clinton are expected , the margins of those victories are also important . \n",
              " \n",
              "  xxmaj trump needs to capture more than 50 percent of the vote statewide if he wants to be positioned to win all of the state 's 95 xxup gop delegates . xxmaj that would put him one step closer to avoiding a contested convention . \n",
              " \n",
              "  \" xxmaj we 've got to vote and you know xxmaj cruz is way , way down in the polls , \" xxmaj trump urged supporters . \n",
              " \n",
              "  xxmaj meanwhile , xxmaj sanders is hoping for a close race in the xxmaj empire xxmaj state . a loss by 10 points means he 'll need to win 80 percent of the remaining delegates to clinch the nomination . \n",
              " \n",
              "  xxmaj despite a predicted loss in xxmaj new xxmaj york , xxmaj cruz has n't lost momentum . xxmaj he 's hoping to sweep up more delegates this weekend while he 's talking about how he can win in xxmaj november . \n",
              " \n",
              "  \" xxmaj because if i 'm the nominee , we win the xxmaj general xxmaj election , \" xxmaj cruz promised his supporters . \" xxmaj we 're beating xxmaj hillary in the key swing states , we 're beating xxmaj hillary with xxmaj independents , we 're beating xxmaj hillary with young people . \" \n",
              " \n",
              "  xxmaj for now , xxmaj cruz , xxmaj kasich , and xxmaj sanders have all moved on from xxmaj new xxmaj york to other states . xxmaj trump and xxmaj clinton are the only two staying in their home state to watch the results come in . xxup real\n",
              "y: LMLabelList\n",
              ",,,,\n",
              "Path: .;\n",
              "\n",
              "Valid: LabelList (1267 items)\n",
              "x: LMTextList\n",
              "xxbos xxmaj thursday , 3 xxmaj november 2016 ' xxup vote xxup for xxup me , xxup what xxup have xxup you xxup got xxup to xxup lose ? \" \n",
              "  xxmaj donald xxmaj trump has given an amazing closing speech about why he should be elected xxmaj president in 2016 . xxmaj it can be broken down into different parts about why he should be elected according to xxmaj mr. xxmaj trump : \n",
              "  1 ) \" xxmaj people say i suffer from a pathological narcissistic disorder , am a xxunk , assault women , and am a sociopath . xxmaj well , suppose all of this is true . xxmaj it mostly is n't true of xxmaj bill xxmaj clinton and xxmaj barak xxmaj obama and look where these xxunk have gotten us today ! xxmaj they are total losers who have destroyed the military and the middle class . xxmaj why not give a crazy person a chance ? i 'm bound to be better than they are . xxmaj what have you got to lose ? \" \n",
              "  2 ) i 'm a great entertainer . xxmaj elect me and you 'll never be bored . xxmaj if i threaten some country or the other with nuclear annihilation you 'll hold your xxunk to see if i carry it out . xxmaj it will be amazingly exciting . xxmaj you 'll have nothing to lose ! \n",
              "  3 ) xxmaj previous xxmaj presidents , from what i 've read about only 4 of them , because of my limited attention span , have been relatively honest . xxmaj not me ! i 've engaged in many fraudulent business practices even cheating widows and orphans ! xxmaj why not try a deceitful xxunk like me ? xxmaj politics is just one big con anyway ! xxmaj what have you got to lose with a guy like me on your side ? xxmaj what have you got to lose ? xxmaj xxunk xxunk xxunk xxunk xxunk xxunk xxunk . \n",
              "  4 ) xxmaj the xxup pc people say that xxmaj presidents should be well read and educated . xxmaj and the lightweight loses who have been in the xxmaj oval office have mostly been that way . xxmaj even though i 've forgotten everything i 've learned , i did go to one of the best xxmaj ivy xxmaj league xxmaj schools . xxmaj and , remember this folks , reading is for low energy people who do n't have the best brains ; they are the opposite of me . xxmaj education and reading , believe me , are overrated . \n",
              "  5 ) xxmaj hatred , bigotry , racism , strong immigration restrictions , xxmaj nativism , xenophobia , anti - xxunk , advocacy of violence against one 's political opponents and misogyny are part of our xxmaj american heritage . i embody all of these . i am the true voice of the xxmaj american people . i \" tell it like it is , \" and say things millions of xxmaj americans are afraid to say . xxmaj that is why hate groups support me . \n",
              "  6 ) xxmaj people say i am a \" walking xxmaj xxunk \" i say , so what ? xxmaj the i d is very , very strong . xxmaj it is the xxunk in our brains . xxmaj it 's all about winning , being a celebrity and grabbing women 's xxunk to show one 's power . xxmaj it 's all about the strength and power that total losers do n't have . i am an unbelievably strong winner just like my friend xxmaj putin . xxmaj you need on your side . xxmaj vote for me . xxmaj what have you got to lose ? i truly am unbelievable . \" \n",
              "  xxmaj with apologies to xxmaj nicholas xxmaj xxunk whose 11 / 3 / 16 xxup nyt 's column sparked this . xxmaj make xxmaj keith xxmaj xxunk 's xxup fake,xxbos xxmaj julian xxmaj assange has undoubtedly been on a run , exposing endless and shocking truths regarding xxmaj democratic presidential nominee xxmaj hillary xxmaj clinton just days before the election is set to reveal the path the next four years will take in the xxup u.s. xxmaj via xxunk \n",
              " \n",
              "  xxmaj and now there ’s more news to be baffled over , with xxmaj assange claiming xxmaj hillary xxmaj clinton misled xxmaj americans about the reality of xxmaj islamic xxmaj state ’s support from xxmaj washington ’s xxmaj middle xxmaj east allies . xxmaj last month , xxmaj assange ’s wikileaks made a 2014 email public that exposed how then xxmaj secretary of xxmaj state xxmaj hillary xxmaj clinton urged then adviser to xxmaj president xxmaj barack xxmaj obama xxmaj john xxmaj podesta to “ bring pressure ” on xxmaj qatar and xxmaj saudi xxmaj arabia , saying that they were “ providing clandestine financial and logistic support to xxup isil [ xxmaj islamic xxmaj state , xxup is , xxup isis ] and other radical xxmaj sunni groups . ” xxmaj in a video , xxmaj assange called the email the “ most important ” of the entire collection of ammo wikileaks has obtained against the xxmaj clinton campaign : xxmaj all serious analysts know , and even the xxup us government has agreed , that some xxmaj saudi figures have been supporting xxup isis and funding xxup isis , but the dodge has always been that it is some “ rogue ” princes using their oil money to do whatever they like , but actually the government disapproves . xxmaj but that email says that it is the government of xxmaj saudi xxmaj arabia , and the government of xxmaj qatar that have been funding xxup isis . \n",
              "  xxmaj assange sat down with veteran journalist xxmaj john xxmaj pilger for a 25-minute interview within the xxmaj ecuadorian xxmaj embassy in xxmaj london , where xxmaj assange has been living as a refugee since 2012 . xxmaj he discussed in detail the conflict of interest between xxmaj clinton ’s official position , which occurred during xxmaj obama ’s first term , husband xxmaj bill xxmaj clinton ’s nonprofit , and the xxmaj middle xxmaj east officials , claiming the output or urgency to fight terrorism may not have been heartfelt . \n",
              "  xxmaj here is a valuable excerpt from the interview : \n",
              "  xxmaj john xxmaj pilger : xxmaj the xxmaj saudis , the xxmaj qataris , the xxmaj moroccans , the xxmaj bahrainis , particularly the first two , are giving all this money to the xxmaj clinton xxmaj foundation , while xxmaj hillary xxmaj clinton is secretary of state , and the xxmaj state xxmaj department is approving massive arms sales , particularly xxmaj saudi xxmaj arabia . \n",
              "  xxmaj julian xxmaj assange : xxmaj under xxmaj hillary xxmaj clinton – and the xxmaj clinton emails reveal a significant discussion of it – the biggest - ever arms deal in the world was made with xxmaj saudi xxmaj arabia : more than $ 80 billion . xxmaj during her tenure , the total arms exports from the xxup u.s. doubled in dollar value \n",
              "  xxup jp : xxmaj of course , the consequence of that is that this notorious jihadist group , called xxup isil or xxup isis , is created largely with money from people who are giving money to the xxmaj clinton xxmaj foundation ? \n",
              "  xxup ja : xxmaj yes . \n",
              "  xxmaj pilger asked xxmaj assange if he thought the accusations against the xxmaj clinton campaign would have any effect on the xxmaj democratic nominee winning the 2016 presidential election . xxmaj assange also believes that next xxmaj tuesday ’s election is absolutely rigged , and is in favor of xxmaj hillary xxmaj clinton . xxmaj he said , \n",
              "  xxmaj my analysis is that xxmaj trump would not be permitted to win . xxmaj why do i say that ? xxmaj because he has had every establishment off his side . xxmaj trump does not have one establishment , maybe with the exception of the xxmaj evangelicals , if you can call them an establishment . xxmaj banks , intelligence , arms companies , foreign money , etc . are all united behind xxmaj hillary xxmaj clinton . xxmaj and the media as well . xxmaj media owners , and the journalists themselves . \n",
              "  xxup fake,xxbos xxmaj the younger xxmaj trump swears his foundation gives all of its money away to good causes . xxmaj which is true , if you do n’t count the cash spent on xxmaj trump - owned resorts . xxmaj or the plastic surgeon . \n",
              " \n",
              "  xxmaj those are some of the beneficiaries of the xxmaj eric xxmaj trump xxmaj foundation , an xxunk public charity headed by the xxmaj republican presidential nominee ’s third - born . xxmaj though xxmaj eric xxmaj trump — the executive vice president of development and acquisitions for the xxmaj trump xxmaj organization , and one of his father ’s top surrogates and closest political advisers — recently claimed his father had donated “ hundreds of thousands ” to his charity , the only available evidence seems to suggest payments , in fact , went the other way : the xxmaj eric xxmaj trump xxmaj foundation ( xxup xxunk ) paying hundreds of thousands over the last 10 years to host lavish fundraising events at   xxmaj donald xxmaj trump ’s golf courses . \n",
              " \n",
              "  xxmaj in promotional videos and press releases , xxup xxunk touts a 95 to 100 percent donation ratio and implies that by benefit of being a xxmaj trump , namesake properties are handed over for charity events at little or no cost . xxmaj but according to a xxmaj daily xxmaj beast analysis of annual xxup irs reports and xxmaj new xxmaj york state financial disclosures from the charity ’s inception in 2007 to 2014 , the most recent year for which data is available , xxup xxunk spent $ xxunk on its annual xxmaj golf xxmaj xxunk at xxmaj trump - owned clubs , a portion of xxunk in 2013 and $ xxunk in xxunk reported as paid directly “ to a company of a family member of the xxmaj board of xxmaj directors . ” xxmaj in other words , xxmaj donald xxmaj trump himself . \n",
              " \n",
              "  xxmaj donald xxmaj trump , and his private foundation , are already in hot water as reports swirl of suspected self - dealing , or using his foundation funds for private gain . xxmaj indeed , the man who considers a presidential run as an opportunity to turn a profit made headlines and invited criticism this week , after xxmaj the xxmaj washington xxmaj post revealed that the self - professed billionaire had reportedly used monies from the xxmaj donald xxup j. xxmaj trump xxmaj foundation to pay off $ xxunk in legal disputes . xxmaj previous reports found xxmaj donald xxmaj trump had also used the fund — which he has n’t personally donated to since xxunk purchase portraits of himself , and gift $ 25,000 to xxmaj florida xxmaj attorney xxmaj general xxmaj pam xxmaj bondi in a possible quid pro quo to head off an investigation into his shady xxmaj trump xxmaj university , both of which may have violated federal and state tax laws . xxmaj new xxmaj york ’s attorney general is currently investigating the reports . \n",
              " \n",
              "  xxmaj of course , viewed through the prism of his father ’s questionable philanthropic practices , xxmaj eric xxmaj trump ’s foundation seems downright angelic . xxmaj eric xxmaj trump ’s foundation operates with almost no overhead : xxmaj eric neither pays himself nor his board members and relies on xxmaj trump xxmaj organization employees who volunteer for whatever the foundation may need . xxmaj most importantly , xxmaj eric xxmaj trump ’s charity has , over the last 10 years according to its tax reports , raised $ 6.5 million for xxmaj st. xxmaj jude xxmaj children ’s xxmaj research xxmaj hospital , a beloved xxmaj tennessee - based nonprofit that treats children with catastrophic diseases free - of - charge . xxmaj that figure nearly doubles , when you include the year - long fundraisers utilizing xxmaj trump hotels — where guests are encouraged to donate and buy special services , a percentage of which goes to xxmaj st. xxmaj jude — and employees , who both contribute their money and volunteer their time by competing in company - wide contests and organizing events like car washes , bake sales , and walk - a - xxunk , to raise cash that goes straight to the hospital — over $ 600,000 this past year , according to xxup xxunk ’s executive director , xxmaj paige xxmaj xxunk . \n",
              " \n",
              "  “ xxmaj we pride ourselves on having an extremely low expense ratio and that is only made possible by leveraging off the xxmaj trump assets , ” xxmaj xxunk wrote in an email to xxmaj the xxmaj daily xxmaj beast . “ xxmaj trump assets are not profiting from these xxup xxunk events , but instead they are donating their time and resources to the cause . ” \n",
              " \n",
              "  “ xxmaj we ’re so lucky as xxmaj trumps to have the best hotels in the world , to have the best golf courses in the world , and other great assets , and we ’re so lucky to be able to use those assets at our disposal for a great purpose . xxmaj and that ’s really what xxup xxunk is , ” xxmaj eric says in a 2016 video . \n",
              " \n",
              "  “ xxmaj it sounds like they were just making a number up , ” said xxmaj elizabeth xxmaj xxunk , a xxmaj boston xxmaj university professor who studies nonprofit finance . “ xxmaj they should have had a proposal that said , ‘ xxmaj these are the costs , ’ for which there should be an xxunk , detailing what the foundation was paying for . xxmaj instead it sounds like the golf course just said , ' xxmaj give us $ 100,000 . ' ” \n",
              " \n",
              "  xxmaj xxunk took the reins as xxup xxunk ’s director in xxmaj january , replacing a woman who left the organization after eight months . xxmaj and hers was n’t the only high - level dropout this year . xxmaj the foundation ’s xxmaj board of xxmaj directors and xxmaj executive xxmaj committee have each lost a member since xxmaj march : xxmaj jeffrey xxmaj xxunk , a freelance real - estate broker and consultant with a history of bid rigging on construction projects , and xxmaj nathan xxmaj crisp , until recently , a xxmaj trump xxmaj hotels executive who police accused of twice slamming a xxmaj brooklyn mother to the ground on xxmaj easter . \n",
              " \n",
              "  xxmaj when asked why the xxmaj trump xxmaj organization did n’t donate the use of the courses , xxmaj michael xxmaj cohen , a longtime attorney to xxmaj donald xxmaj trump and board member on the xxmaj eric xxmaj trump foundation , said , “ i believe there are certain rules that you do have to pay for certain things — they’re not marked up . xxmaj it ’s inexpensive . i think there ’s some law that says you have to . ” \n",
              " \n",
              "  xxmaj trump xxmaj national xxmaj golf xxmaj club xxmaj westchester , where xxup xxunk ’s annual event is held , did not return a request for event pricing , but charities which have held fundraisers at xxmaj trump clubs showed similar expenses and revenue in their tax reports ( known as 990s ) , suggesting xxmaj eric xxmaj trump indeed paid a standard rate — around $ xxunk use of his father ’s property . xxmaj tic xxmaj xxunk xxmaj stop , a charity dedicated to funding xxmaj xxunk xxmaj syndrome research , paid $ xxunk for a smaller golf outing in 2014 . xxmaj and according to xxmaj the xxmaj boston xxmaj globe , the xxmaj dana - xxmaj xxunk xxmaj cancer xxmaj institute — which has held its annual gala at xxmaj trump ’s xxmaj florida club , xxmaj mar - a - xxmaj lago , for the last six years — paid around $ 150,000 for a fundraiser with up to 600 guests . xxmaj the most recent xxup xxunk fundraiser boasted 500 attendees . \n",
              " \n",
              "  xxmaj though the xxmaj eric xxmaj trump xxmaj foundation ’s website says , “ xxmaj we exclusively support xxmaj st. xxmaj jude xxmaj children ’s xxmaj research xxmaj hospital , ” that is n’t the case . xxmaj in 2012 , xxup xxunk began donating in earnest to other causes , cutting small checks to 40 individual charities in addition to the outsize donation given to the children ’s hospital . xxmaj some of these small donations — like the $ 1,600 to the xxmaj american xxmaj society for xxmaj xxunk and xxmaj xxunk , a xxmaj california wine industry organization where xxmaj eric xxmaj trump once gave a keynote address — have seemingly little to do with the charity ’s mission of helping sick children . \n",
              " \n",
              "  xxmaj the cat ’s cradle of connections do n’t end there . xxmaj the xxup xxunk fund paid out $ xxunk that same year for their golf tournament — an annual event held at xxmaj trump ’s xxmaj hudson xxmaj valley course that cost nearly double what the charity gave out in grants that year . xxmaj they , along with at least six other charities that have received donations from the xxmaj eric xxmaj trump xxmaj foundation since 2012 , hold fundraising events at xxmaj trump golf clubs . xxup real,xxbos xxmaj email \n",
              " \n",
              "  xxmaj it appears xxmaj bill and xxmaj hillary xxmaj clinton are making plans to flee the country in the event xxmaj donald xxmaj trump wins this election . \n",
              "  xxmaj reports are circulating that the xxmaj clintons have transferred 1.8 xxmaj billion dollars from the xxmaj clinton xxmaj foundation to the xxmaj qatar xxmaj central xxmaj bank , via a facilitation / xxunk of xxup jp xxmaj morgan xxmaj chase & xxmaj company for reasons not revealed . \n",
              "  xxmaj this move of such a large sum of money to the country of xxmaj qatar says in itself , xxmaj hillary xxmaj clinton knows she is going to lose the election , and she does n’t plan to allow herself to be prosecuted for various high crimes and treason under a xxmaj trump xxmaj administration . \n",
              "  xxmaj the country of xxmaj qatar happens to be one of a handful of countries that does not have an extradition treaty with the xxmaj united xxmaj states , thus would be a perfect place for her to run to in escaping justice . \n",
              "  xxmaj donald xxmaj trump has said many times during his campaign and at the xxmaj presidential debates that once he gets into office , he intends to prosecute her on various high crimes from her latest crimes of sending classified material via a personal e mail server . xxmaj all the way to gun running to terrorist groups in xxmaj syria resulting in the deaths of 4 xxmaj americans in xxmaj benghazi . \n",
              "  xxmaj apparently , xxmaj hillary is not the only person in xxmaj washington who has made plans to escape justice under a xxmaj trump xxmaj administration . xxmaj john xxmaj kerry has quietly been selling his property in the xxup us for millions of dollars of late , with an announcement of the sale of his $ 25 million dollar xxmaj nantucket mansion in xxmaj june 2016 , as well as the sale of his yacht for $ 3.9 million in xxmaj july 2016 . \n",
              "  xxmaj president xxmaj barack h xxmaj obama has also apparently been making exit plans with his purchase of a $ 4.9 million dollar seaside mansion in xxmaj dubai in xxmaj january 2016 , another non extradition country . \n",
              "  xxmaj snopes and other supposed fact checking sites have debunked both the story of xxmaj obama ’s purchase of the mansion and the firing of xxmaj rear xxmaj admiral xxmaj rick xxmaj williams . xxmaj however , over the last several months , these sites have been busted for lying in trying to debunk such information as the before mentioned , when in fact the information is true . \n",
              "  xxmaj snopes and other sites try their best to keep incriminating information from being believed , but the truth has a way of coming out on its own , as it always has . xxup fake,xxbos xxmaj watch xxmaj hillary xxmaj clintons xxmaj concession xxmaj speech xxmaj video \n",
              "  xxunk night i congratulated xxmaj donald xxmaj trump and offered to work with him on behalf of our country . i hope that he will be a president for all of our country ... \n",
              "  xxunk sorry that we did not win this election for the values we all share ... \n",
              "  xxunk represent the best of xxmaj america , and being your candidate has been one of the greatest honors of my life . i know how disappointed you feel , because i feel it too xxrep 4 . xxmaj donald xxmaj trump 's xxmaj victory xxmaj speech xxup fake\n",
              "y: LMLabelList\n",
              ",,,,\n",
              "Path: .;\n",
              "\n",
              "Test: None, model=SequentialRNN(\n",
              "  (0): AWD_LSTM(\n",
              "    (encoder): Embedding(32800, 400, padding_idx=1)\n",
              "    (encoder_dp): EmbeddingDropout(\n",
              "      (emb): Embedding(32800, 400, padding_idx=1)\n",
              "    )\n",
              "    (rnns): ModuleList(\n",
              "      (0): WeightDropout(\n",
              "        (module): LSTM(400, 1152, batch_first=True)\n",
              "      )\n",
              "      (1): WeightDropout(\n",
              "        (module): LSTM(1152, 1152, batch_first=True)\n",
              "      )\n",
              "      (2): WeightDropout(\n",
              "        (module): LSTM(1152, 400, batch_first=True)\n",
              "      )\n",
              "    )\n",
              "    (input_dp): RNNDropout()\n",
              "    (hidden_dps): ModuleList(\n",
              "      (0): RNNDropout()\n",
              "      (1): RNNDropout()\n",
              "      (2): RNNDropout()\n",
              "    )\n",
              "  )\n",
              "  (1): LinearDecoder(\n",
              "    (decoder): Linear(in_features=400, out_features=32800, bias=True)\n",
              "    (output_dp): RNNDropout()\n",
              "  )\n",
              "), opt_func=functools.partial(<class 'torch.optim.adam.Adam'>, betas=(0.9, 0.99)), loss_func=FlattenedLoss of CrossEntropyLoss(), metrics=[<function accuracy at 0x7f4c03c08620>], true_wd=True, bn_wd=True, wd=0.01, train_bn=True, path=PosixPath('.'), model_dir='models', callback_fns=[functools.partial(<class 'fastai.basic_train.Recorder'>, add_time=True, silent=False)], callbacks=[...], layer_groups=[Sequential(\n",
              "  (0): WeightDropout(\n",
              "    (module): LSTM(400, 1152, batch_first=True)\n",
              "  )\n",
              "  (1): RNNDropout()\n",
              "), Sequential(\n",
              "  (0): WeightDropout(\n",
              "    (module): LSTM(1152, 1152, batch_first=True)\n",
              "  )\n",
              "  (1): RNNDropout()\n",
              "), Sequential(\n",
              "  (0): WeightDropout(\n",
              "    (module): LSTM(1152, 400, batch_first=True)\n",
              "  )\n",
              "  (1): RNNDropout()\n",
              "), Sequential(\n",
              "  (0): Embedding(32800, 400, padding_idx=1)\n",
              "  (1): EmbeddingDropout(\n",
              "    (emb): Embedding(32800, 400, padding_idx=1)\n",
              "  )\n",
              "  (2): LinearDecoder(\n",
              "    (decoder): Linear(in_features=400, out_features=32800, bias=True)\n",
              "    (output_dp): RNNDropout()\n",
              "  )\n",
              ")], add_time=True, silent=False)\n",
              "alpha: 2.0\n",
              "beta: 1.0], layer_groups=[Sequential(\n",
              "  (0): WeightDropout(\n",
              "    (module): LSTM(400, 1152, batch_first=True)\n",
              "  )\n",
              "  (1): RNNDropout()\n",
              "), Sequential(\n",
              "  (0): WeightDropout(\n",
              "    (module): LSTM(1152, 1152, batch_first=True)\n",
              "  )\n",
              "  (1): RNNDropout()\n",
              "), Sequential(\n",
              "  (0): WeightDropout(\n",
              "    (module): LSTM(1152, 400, batch_first=True)\n",
              "  )\n",
              "  (1): RNNDropout()\n",
              "), Sequential(\n",
              "  (0): Embedding(32800, 400, padding_idx=1)\n",
              "  (1): EmbeddingDropout(\n",
              "    (emb): Embedding(32800, 400, padding_idx=1)\n",
              "  )\n",
              "  (2): LinearDecoder(\n",
              "    (decoder): Linear(in_features=400, out_features=32800, bias=True)\n",
              "    (output_dp): RNNDropout()\n",
              "  )\n",
              ")], add_time=True, silent=False)"
            ]
          },
          "metadata": {
            "tags": []
          },
          "execution_count": 16
        }
      ]
    },
    {
      "cell_type": "markdown",
      "metadata": {
        "id": "ID6G6ERji1DR",
        "colab_type": "text"
      },
      "source": [
        "Use ```learn.unfreeze()```to unfeeze earlier layers. Read more about this [here](https://forums.fast.ai/t/can-someone-explain-precompute-true-and-freeze-or-unfreeze/18169/2)"
      ]
    },
    {
      "cell_type": "code",
      "metadata": {
        "id": "3y5bvgKZi1DS",
        "colab_type": "code",
        "colab": {}
      },
      "source": [
        "learn.unfreeze()"
      ],
      "execution_count": 0,
      "outputs": []
    },
    {
      "cell_type": "code",
      "metadata": {
        "id": "vHECt_rMi1DV",
        "colab_type": "code",
        "outputId": "b7ddb1df-cfab-46ed-d12e-086bee565562",
        "colab": {
          "base_uri": "https://localhost:8080/",
          "height": 34
        }
      },
      "source": [
        "learn.lr_find()"
      ],
      "execution_count": 0,
      "outputs": [
        {
          "output_type": "display_data",
          "data": {
            "text/html": [
              ""
            ],
            "text/plain": [
              "<IPython.core.display.HTML object>"
            ]
          },
          "metadata": {
            "tags": []
          }
        },
        {
          "output_type": "stream",
          "text": [
            "LR Finder is complete, type {learner_name}.recorder.plot() to see the graph.\n"
          ],
          "name": "stdout"
        }
      ]
    },
    {
      "cell_type": "code",
      "metadata": {
        "id": "NJiRMJCVi1DX",
        "colab_type": "code",
        "outputId": "6ad96a95-c618-4ed6-ae80-77d7a932f355",
        "colab": {
          "base_uri": "https://localhost:8080/",
          "height": 279
        }
      },
      "source": [
        "learn.recorder.plot()"
      ],
      "execution_count": 0,
      "outputs": [
        {
          "output_type": "display_data",
          "data": {
            "image/png": "[encoded data removed]",
            "text/plain": [
              "<Figure size 432x288 with 1 Axes>"
            ]
          },
          "metadata": {
            "tags": []
          }
        }
      ]
    },
    {
      "cell_type": "code",
      "metadata": {
        "id": "YZAFW45Si1Da",
        "colab_type": "code",
        "outputId": "5009b854-b1bb-470d-e024-3305ce7193c7",
        "colab": {
          "base_uri": "https://localhost:8080/",
          "height": 173
        }
      },
      "source": [
        "learn.fit_one_cycle(4, 1e-3, moms = (0.8,0.7))"
      ],
      "execution_count": 0,
      "outputs": [
        {
          "output_type": "display_data",
          "data": {
            "text/html": [
              "<table border=\"1\" class=\"dataframe\">\n",
              "  <thead>\n",
              "    <tr style=\"text-align: left;\">\n",
              "      <th>epoch</th>\n",
              "      <th>train_loss</th>\n",
              "      <th>valid_loss</th>\n",
              "      <th>accuracy</th>\n",
              "      <th>time</th>\n",
              "    </tr>\n",
              "  </thead>\n",
              "  <tbody>\n",
              "    <tr>\n",
              "      <td>0</td>\n",
              "      <td>3.653933</td>\n",
              "      <td>3.668294</td>\n",
              "      <td>0.339434</td>\n",
              "      <td>04:44</td>\n",
              "    </tr>\n",
              "    <tr>\n",
              "      <td>1</td>\n",
              "      <td>3.581274</td>\n",
              "      <td>3.597492</td>\n",
              "      <td>0.350769</td>\n",
              "      <td>04:47</td>\n",
              "    </tr>\n",
              "    <tr>\n",
              "      <td>2</td>\n",
              "      <td>3.289354</td>\n",
              "      <td>3.532580</td>\n",
              "      <td>0.360833</td>\n",
              "      <td>04:43</td>\n",
              "    </tr>\n",
              "    <tr>\n",
              "      <td>3</td>\n",
              "      <td>3.106197</td>\n",
              "      <td>3.533060</td>\n",
              "      <td>0.362161</td>\n",
              "      <td>04:44</td>\n",
              "    </tr>\n",
              "  </tbody>\n",
              "</table>"
            ],
            "text/plain": [
              "<IPython.core.display.HTML object>"
            ]
          },
          "metadata": {
            "tags": []
          }
        }
      ]
    },
    {
      "cell_type": "code",
      "metadata": {
        "id": "OcBxCZG8i1Dd",
        "colab_type": "code",
        "colab": {}
      },
      "source": [
        "learn.save('enc-6J')"
      ],
      "execution_count": 0,
      "outputs": []
    },
    {
      "cell_type": "code",
      "metadata": {
        "scrolled": false,
        "id": "H2EZMP_Yi1Df",
        "colab_type": "code",
        "outputId": "d8b53fa2-6919-4541-aa68-26b1ec4407ef",
        "colab": {
          "base_uri": "https://localhost:8080/",
          "height": 1000
        }
      },
      "source": [
        "learn.load('enc-6J')"
      ],
      "execution_count": 0,
      "outputs": [
        {
          "output_type": "execute_result",
          "data": {
            "text/plain": [
              "LanguageLearner(data=TextLMDataBunch;\n",
              "\n",
              "Train: LabelList (5068 items)\n",
              "x: LMTextList\n",
              "xxbos xxmaj daniel xxmaj greenfield , a xxmaj shillman xxmaj journalism xxmaj fellow at the xxmaj freedom xxmaj center , is a xxmaj new xxmaj york writer focusing on radical xxmaj islam . \n",
              "  xxmaj in the final stretch of the election , xxmaj hillary xxmaj rodham xxmaj clinton has gone to war with the xxup fbi . \n",
              "  xxmaj the word “ unprecedented ” has been thrown around so often this election that it ought to be retired . xxmaj but it ’s still unprecedented for the nominee of a major political party to go war with the xxup fbi . \n",
              "  xxmaj but that ’s exactly what xxmaj hillary and her people have done . xxmaj coma patients just waking up now and watching an hour of xxup cnn from their hospital beds would assume that xxup fbi xxmaj director xxmaj james xxmaj comey is xxmaj hillary ’s opponent in this election . \n",
              "  xxmaj the xxup fbi is under attack by everyone from xxmaj obama to xxup cnn . xxmaj hillary ’s people have circulated a letter attacking xxmaj comey . xxmaj there are currently more media hit pieces lambasting him than targeting xxmaj trump . xxmaj it would n’t be too surprising if the xxmaj clintons or their allies were to start running attack ads against the xxup fbi . \n",
              "  xxmaj the xxup fbi ’s leadership is being warned that the entire left - wing establishment will form a lynch mob if they continue going after xxmaj hillary . xxmaj and the xxup fbi ’s credibility is being attacked by the media and the xxmaj democrats to preemptively head off the results of the investigation of the xxmaj clinton xxmaj foundation and xxmaj hillary xxmaj clinton . \n",
              "  xxmaj the covert struggle between xxup fbi agents and xxmaj obama ’s xxup doj people has gone xxunk public . \n",
              "  xxmaj the xxmaj new xxmaj york xxmaj times has compared xxmaj comey to xxup j. xxmaj edgar xxmaj hoover . xxmaj its bizarre headline , “ xxmaj james xxmaj comey xxmaj role xxmaj recalls xxmaj hoover ’s xxup fbi , xxmaj fairly or xxmaj not ” practically admits up front that it ’s spouting nonsense . xxmaj the xxmaj boston xxmaj globe has published a column calling for xxmaj comey ’s resignation . xxmaj not to be outdone , xxmaj time has an editorial claiming that the scandal is really an attack on all women . \n",
              "  xxmaj james xxmaj carville appeared on xxup msnbc to remind everyone that he was still alive and insane . xxmaj he accused xxmaj comey of coordinating with xxmaj house xxmaj republicans and the xxup kgb . xxmaj and you thought the “ vast right wing conspiracy ” was a stretch . \n",
              "  xxmaj countless media stories charge xxmaj comey with violating procedure . xxmaj do you know what ’s a procedural violation ? xxmaj emailing classified information stored on your bathroom server . \n",
              "  xxmaj senator xxmaj harry xxmaj reid has sent xxmaj comey a letter accusing him of violating the xxmaj hatch xxmaj act . xxmaj the xxmaj hatch xxmaj act is a nice idea that has as much relevance in the age of xxmaj obama as the xxmaj tenth xxmaj amendment . xxmaj but the cable news spectrum quickly filled with media hacks glancing at the xxmaj wikipedia article on the xxmaj hatch xxmaj act under the table while accusing the xxup fbi director of one of the most awkward conspiracies against xxmaj hillary ever . \n",
              "  xxmaj if xxmaj james xxmaj comey is really out to hurt xxmaj hillary , he picked one hell of a strange way to do it . \n",
              "  xxmaj not too long ago xxmaj democrats were breathing a sigh of relief when he gave xxmaj hillary xxmaj clinton a pass in a prominent public statement . xxmaj if he really were out to elect xxmaj trump by keeping the email scandal going , why did he trash the investigation ? xxmaj was he on the payroll of xxmaj house xxmaj republicans and the xxup kgb back then and playing it coy or was it a sudden development where xxmaj vladimir xxmaj putin and xxmaj paul xxmaj ryan talked him into taking a look at xxmaj anthony xxmaj weiner ’s computer ? \n",
              "  xxmaj either xxmaj comey is the most cunning xxup fbi director that ever lived or he ’s just awkwardly trying to navigate a political mess that has trapped him between a xxup doj leadership whose political futures are tied to xxmaj hillary ’s victory and his own bureau whose apolitical agents just want to be allowed to do their jobs . \n",
              "  xxmaj the only truly mysterious thing is why xxmaj hillary and her associates decided to go to war with a respected xxmaj federal agency . xxmaj most xxmaj americans like the xxup fbi while xxmaj hillary xxmaj clinton enjoys a 60 % unfavorable rating . \n",
              "  xxmaj and it ’s an interesting question . \n",
              "  xxmaj hillary ’s old strategy was to lie and deny that the xxup fbi even had a criminal investigation underway . xxmaj instead her associates insisted that it was a security review . xxmaj the xxup fbi corrected her and she shrugged it off . xxmaj but the old breezy denial approach has given way to a savage assault on the xxup fbi . \n",
              "  xxmaj pretending that nothing was wrong was a bad strategy , but it was a better one that picking a fight with the xxup fbi while lunatic xxmaj clinton associates try to claim that the xxup fbi is really the xxup kgb . \n",
              "  xxmaj there are two possible explanations . \n",
              "  xxmaj hillary xxmaj clinton might be arrogant enough to lash out at the xxup fbi now that she believes that victory is near . xxmaj the same kind of hubris that led her to plan her victory fireworks display could lead her to declare a war on the xxup fbi for irritating her during the final miles of her campaign . \n",
              "  xxmaj but the other explanation is that her people panicked . \n",
              "  xxmaj going to war with the xxup fbi is not the behavior of a smart and focused presidential campaign . xxmaj it ’s an act of desperation . xxmaj when a presidential candidate decides that her only option is to try and destroy the credibility of the xxup fbi , that ’s not hubris , it ’s fear of what the xxup fbi might be about to reveal about her . \n",
              "  xxmaj during the original xxup fbi investigation , xxmaj hillary xxmaj clinton was confident that she could ride it out . xxmaj and she had good reason for believing that . xxmaj but that xxmaj hillary xxmaj clinton is gone . xxmaj in her place is a paranoid wreck . xxmaj within a short space of time the “ positive ” xxmaj clinton campaign promising to unite the country has been replaced by a desperate and flailing operation that has focused all its energy on fighting the xxup fbi . \n",
              "  xxmaj there ’s only one reason for such bizarre behavior . \n",
              "  xxmaj the xxmaj clinton campaign has decided that an xxup fbi investigation of the latest batch of emails poses a threat to its survival . xxmaj and so it ’s gone all in on fighting the xxup fbi . xxmaj it ’s an unprecedented step born of fear . xxmaj it ’s hard to know whether that fear is justified . xxmaj but the existence of that fear already tells us a whole lot . \n",
              "  xxmaj clinton loyalists rigged the old investigation . xxmaj they knew the outcome ahead of time as well as they knew the debate questions . xxmaj now suddenly they are no longer in control . xxmaj and they are afraid . \n",
              "  xxmaj you can smell the fear . \n",
              "  xxmaj the xxup fbi has wiretaps from the investigation of the xxmaj clinton xxmaj foundation . xxmaj it ’s finding new emails all the time . xxmaj and xxmaj clintonworld panicked . xxmaj the xxunk of xxmaj clintonworld have claimed that the email scandal is just so much smoke without fire . xxmaj all that ’s here is the appearance of impropriety without any of the substance . xxmaj but this is n’t how you react to smoke . xxmaj it ’s how you respond to a fire . \n",
              "  xxmaj the misguided assault on the xxup fbi tells us that xxmaj hillary xxmaj clinton and her allies are afraid of a revelation bigger than the fundamental illegality of her email setup . xxmaj the email setup was a preemptive cover up . xxmaj the xxmaj clinton campaign has panicked badly out of the belief , right or wrong , that whatever crime the illegal setup was meant to cover up is at risk of being exposed . \n",
              "  xxmaj the xxmaj clintons have weathered countless scandals over the years . xxmaj whatever they are protecting this time around is bigger than the usual corruption , bribery , sexual assaults and abuses of power that have followed them around throughout the years . xxmaj this is bigger and more damaging than any of the allegations that have already come out . xxmaj and they do n’t want xxup fbi investigators anywhere near it . \n",
              "  xxmaj the campaign against xxmaj comey is pure intimidation . xxmaj it ’s also a warning . xxmaj any senior xxup fbi people who value their careers are being warned to stay away . xxmaj the xxmaj democrats are closing ranks around their nominee against the xxup fbi . xxmaj it ’s an ugly and unprecedented scene . xxmaj it may also be their last stand . \n",
              "  xxmaj hillary xxmaj clinton has awkwardly wound her way through numerous scandals in just this election cycle . xxmaj but she ’s never shown fear or desperation before . xxmaj now that has changed . xxmaj whatever she is afraid of , it lies buried in her emails with xxmaj huma xxmaj abedin . xxmaj and it can bring her down like nothing else has . xxup fake,xxbos xxmaj google xxmaj pinterest xxmaj digg xxmaj linkedin xxmaj reddit xxmaj stumbleupon xxmaj print xxmaj delicious xxmaj pocket xxmaj tumblr \n",
              "  xxmaj there are two fundamental truths in this world : xxmaj paul xxmaj ryan desperately wants to be president . xxmaj and xxmaj paul xxmaj ryan will never be president . xxmaj today proved it . \n",
              "  xxmaj in a particularly staggering example of political cowardice , xxmaj paul xxmaj ryan re - re - re - reversed course and announced that he was back on the xxmaj trump xxmaj train after all . xxmaj this was an xxunk from where he was a few weeks ago . xxmaj he had previously declared he would not be supporting or defending xxmaj trump after a tape was made public in which xxmaj trump bragged about assaulting women . xxmaj suddenly , xxmaj ryan was appearing at a pro - xxmaj trump rally and boldly declaring that he already sent in his vote to make him xxmaj president of the xxmaj united xxmaj states . xxmaj it was a surreal moment . xxmaj the figurehead of the xxmaj republican xxmaj party xxunk himself in gasoline , got up on a stage on a chilly afternoon in xxmaj wisconsin , and lit a match . . @speakerryan says he voted for @realdonaldtrump : “ xxmaj republicans , it is time to come home ” https : / / t.co / xxunk pic.twitter.com / xxunk \n",
              "  — xxup abc xxmaj news xxmaj politics ( xxunk ) xxmaj november 5 , 2016 \n",
              "  xxmaj the xxmaj democratic xxmaj party could n’t have asked for a better moment of film . xxmaj ryan ’s chances of ever becoming president went down to zero in an instant . xxmaj in the wreckage xxmaj trump is to leave behind in his wake , those who xxunk backed his campaign will not recover . xxmaj if xxmaj ryan ’s career manages to limp all the way to 2020 , then the xxup dnc will have this tape locked and loaded to be used in every ad until xxmaj election xxmaj day . \n",
              "  xxmaj the ringing endorsement of the man he clearly hates on a personal level speaks volumes about his own spinelessness . xxmaj ryan has xxunk himself as a “ principled ” conservative , and one uncomfortable with xxmaj trump ’s unapologetic bigotry and sexism . xxmaj however , when push came to shove , xxmaj paul xxmaj ryan – like many of his colleagues – turned into a sniveling xxunk . xxmaj after all his lofty xxunk about conviction , his principles were a house of cards and collapsed with the slightest breeze . \n",
              "  xxmaj what ’s especially bizarre is how close xxmaj ryan came to making it through unscathed . xxmaj for months the xxmaj speaker of the xxmaj house refused to comment on xxmaj trump at all . xxmaj his strategy seemed to be to keep his head down , pretend xxmaj trump did n’t exist , and hope that nobody remembered what happened in 2016 . xxmaj now , just days away from the election , he screwed it all up . \n",
              "  xxmaj if 2016 ’s very ugly election has done any good it ’s by exposing the utter cowardice of the xxmaj republicans who once feigned moral courage . a reality television star spit on them , hijacked their party , insulted their wives , and got every last one of them to kneel before him . xxmaj what a turn of events . \n",
              "  xxmaj featured image via xxmaj twitter xxup fake,xxbos xxup u.s. xxmaj secretary of xxmaj state xxmaj john xxup f. xxmaj kerry said xxmaj monday that he will stop in xxmaj paris later this week , amid criticism that no top xxmaj american officials attended xxmaj sunday ’s unity march against terrorism . \n",
              " \n",
              "  xxmaj kerry said he expects to arrive in xxmaj paris xxmaj thursday evening , as he heads home after a week abroad . xxmaj he said he will fly to xxmaj france at the conclusion of a series of meetings scheduled for xxmaj thursday in xxmaj sofia , xxmaj bulgaria . xxmaj he plans to meet the next day with xxmaj foreign xxmaj minister xxmaj laurent xxmaj fabius and xxmaj president xxmaj francois xxmaj hollande , then return to xxmaj washington . \n",
              " \n",
              "  xxmaj the visit by xxmaj kerry , who has family and childhood ties to the country and speaks fluent xxmaj french , could address some of the criticism that the xxmaj united xxmaj states snubbed xxmaj france in its darkest hour in many years . \n",
              " \n",
              "  xxmaj the xxmaj french press on xxmaj monday was filled with questions about why neither xxmaj president xxmaj obama nor xxmaj kerry attended xxmaj sunday ’s march , as about 40 leaders of other nations did . xxmaj obama was said to have stayed away because his own security needs can be taxing on a country , and xxmaj kerry had prior commitments . \n",
              " \n",
              "  xxmaj among roughly 40 leaders who did attend was xxmaj israeli xxmaj prime xxmaj minister xxmaj benjamin xxmaj netanyahu , no stranger to intense security , who marched beside xxmaj hollande through the city streets . xxmaj the highest ranking xxup u.s. officials attending the march were xxmaj jane xxmaj hartley , the ambassador to xxmaj france , and xxmaj victoria xxmaj nuland , the assistant secretary of state for xxmaj european affairs . xxmaj attorney xxmaj general xxmaj eric xxup h. xxmaj holder xxmaj jr. was in xxmaj paris for meetings with law enforcement officials but did not participate in the march . \n",
              " \n",
              "  xxmaj kerry spent xxmaj sunday at a business summit hosted by xxmaj india ’s prime minister , xxmaj narendra xxmaj modi . xxmaj the xxmaj united xxmaj states is eager for xxmaj india to relax stringent laws that function as barriers to foreign investment and hopes xxmaj modi ’s government will act to open the huge xxmaj indian market for more xxmaj american businesses . \n",
              " \n",
              "  xxmaj in a news conference , xxmaj kerry brushed aside criticism that the xxmaj united xxmaj states had not sent a more senior official to xxmaj paris as “ quibbling a little bit . ” xxmaj he noted that many staffers of the xxmaj american xxmaj embassy in xxmaj paris attended the march , including the ambassador . xxmaj he said he had wanted to be present at the march himself but could not because of his prior commitments in xxmaj india . \n",
              " \n",
              "  “ xxmaj but that is why i am going there on the way home , to make it crystal clear how passionately we feel about the events that have taken place there , ” he said . \n",
              " \n",
              "  “ xxmaj and i do n’t think the people of xxmaj france have any doubts about xxmaj america ’s understanding of what happened , of our personal sense of loss and our deep commitment to the people of xxmaj france in this moment of trauma . ” xxup real,xxbos — xxmaj xxunk xxmaj king ( xxunk ) xxmaj november 9 , 2016 xxmaj the lesson from tonight 's xxmaj dem losses : xxmaj time for xxmaj democrats to start listening to the voters . xxmaj stop running the same establishment candidates . \n",
              "  — xxmaj people xxmaj for xxmaj bernie ( xxunk ) xxmaj november 9 , 2016 xxmaj if xxmaj dems did n't want a tight race they should n't have worked against xxmaj bernie . \n",
              "  — xxmaj walker xxmaj xxunk ( xxunk ) xxmaj november 9 , 2016 \n",
              "  xxmaj new xxmaj york xxmaj times columnist xxmaj paul xxmaj krugman , who was one of xxmaj hillary xxmaj clinton ’s most outspoken surrogates during the contentious xxmaj democratic primary , blamed xxmaj clinton ’s poor performance on xxmaj green xxmaj party candidate xxmaj jill xxmaj stein , who has so far received a negligible number of votes nationally , saying xxmaj stein was the xxmaj ralph xxmaj nader of 2016 in preventing a xxmaj clinton victory . xxmaj the account xxunk threw xxmaj krugman ’s analysis back in his face . xxmaj your candidate was the issue . xxmaj take responsibility . https : / / t.co / xxunk \n",
              "  — xxmaj teachers for xxmaj bernie ( xxunk ) xxmaj november 9 , 2016 \n",
              "  xxmaj ana xxmaj navarro , a xxmaj republican who recently endorsed xxmaj hillary xxmaj clinton , summed up the preposterous nature of the 2016 presidential election in this tweet : xxup gop nominated the only damn candidate who could lose to xxmaj hillary xxmaj clinton . xxmaj democrats nominated the only damn candidate who could lose to xxmaj trump \n",
              "  — xxmaj ana xxmaj navarro ( xxunk ) xxmaj november 9 , 2016 \n",
              "  xxmaj popular left - wing xxmaj facebook page xxmaj the xxmaj other 98 % , which was pro - xxmaj sanders during the primary , responded to xxmaj trump ’s surge by simply posting a meme of xxmaj sanders ’ face with the text “ xxmaj all this could ’ve been avoided . xxmaj thanks for nothing , xxup dnc ! ” xxmaj the meme has been shared almost 15,000 times in less than an hour : \n",
              "  xxmaj posted by xxmaj the xxmaj other 98 % on xxmaj tuesday , xxmaj november 8 , 2016 \n",
              "  xxmaj while xxmaj bernie xxmaj sanders endorsed xxmaj hillary xxmaj clinton just before the xxmaj democratic xxmaj national xxmaj convention in xxmaj july , many of his supporters remained adamant in their refusal to support the xxup dnc - anointed candidate , pointing to wikileaks ’ revelations that top officials at the xxup dnc had been working behind the scenes to tip the scales in xxmaj clinton ’s favor by coordinating with media figures to circulate anti - xxmaj sanders narratives . \n",
              "  xxmaj rather than attribute a potential xxmaj trump presidency to the xxup gop nominee ’s perceived popularity among voters , the closeness of this election could be credited to xxmaj hillary xxmaj clinton ’s unfavorable ratings . xxmaj according to realclearpolitics , anywhere between 51 and 57 percent of voters had a negative opinion of the xxmaj democratic nominee . \n",
              "  xxmaj as of 11 xxup pm xxmaj eastern , xxmaj florida , xxmaj michigan , xxmaj pennsylvania , and xxmaj wisconsin remain too close to call . xxmaj clinton has xxunk electoral votes to xxmaj trump ’s 187 . \n",
              " \n",
              "  xxmaj zach xxmaj cartwright is an activist and author from xxmaj richmond , xxmaj virginia . xxmaj he enjoys writing about politics , government , and the media . xxmaj send him an email at [ email protected ] xxup fake,xxbos xxmaj it 's primary day in xxmaj new xxmaj york and front - runners xxmaj hillary xxmaj clinton and xxmaj donald xxmaj trump are leading in the polls . \n",
              " \n",
              "  xxmaj trump is now vowing to win enough delegates to clinch the xxmaj republican nomination and prevent a contested convention . xxmaj but xxmaj sens . xxmaj ted xxmaj cruz , r - xxmaj texas , xxmaj bernie xxmaj sanders , d - xxmaj vt . , and xxmaj ohio xxmaj gov. xxmaj john xxmaj kasich and are n't giving up just yet . \n",
              " \n",
              "  a big win in xxmaj new xxmaj york could tip the scales for both the xxmaj republican and xxmaj democratic front - runners in this year 's race for the xxmaj white xxmaj house . xxmaj clinton and xxmaj trump have each suffered losses in recent contests , shifting the momentum to their rivals . \n",
              " \n",
              "  \" xxmaj we have won eight out of the last nine caucuses and primaries ! xxmaj cheer ! \" xxmaj sanders recently told supporters . \n",
              " \n",
              "  xxmaj while wins in xxmaj new xxmaj york for xxmaj trump and xxmaj clinton are expected , the margins of those victories are also important . \n",
              " \n",
              "  xxmaj trump needs to capture more than 50 percent of the vote statewide if he wants to be positioned to win all of the state 's 95 xxup gop delegates . xxmaj that would put him one step closer to avoiding a contested convention . \n",
              " \n",
              "  \" xxmaj we 've got to vote and you know xxmaj cruz is way , way down in the polls , \" xxmaj trump urged supporters . \n",
              " \n",
              "  xxmaj meanwhile , xxmaj sanders is hoping for a close race in the xxmaj empire xxmaj state . a loss by 10 points means he 'll need to win 80 percent of the remaining delegates to clinch the nomination . \n",
              " \n",
              "  xxmaj despite a predicted loss in xxmaj new xxmaj york , xxmaj cruz has n't lost momentum . xxmaj he 's hoping to sweep up more delegates this weekend while he 's talking about how he can win in xxmaj november . \n",
              " \n",
              "  \" xxmaj because if i 'm the nominee , we win the xxmaj general xxmaj election , \" xxmaj cruz promised his supporters . \" xxmaj we 're beating xxmaj hillary in the key swing states , we 're beating xxmaj hillary with xxmaj independents , we 're beating xxmaj hillary with young people . \" \n",
              " \n",
              "  xxmaj for now , xxmaj cruz , xxmaj kasich , and xxmaj sanders have all moved on from xxmaj new xxmaj york to other states . xxmaj trump and xxmaj clinton are the only two staying in their home state to watch the results come in . xxup real\n",
              "y: LMLabelList\n",
              ",,,,\n",
              "Path: .;\n",
              "\n",
              "Valid: LabelList (1267 items)\n",
              "x: LMTextList\n",
              "xxbos xxmaj thursday , 3 xxmaj november 2016 ' xxup vote xxup for xxup me , xxup what xxup have xxup you xxup got xxup to xxup lose ? \" \n",
              "  xxmaj donald xxmaj trump has given an amazing closing speech about why he should be elected xxmaj president in 2016 . xxmaj it can be broken down into different parts about why he should be elected according to xxmaj mr. xxmaj trump : \n",
              "  1 ) \" xxmaj people say i suffer from a pathological narcissistic disorder , am a xxunk , assault women , and am a sociopath . xxmaj well , suppose all of this is true . xxmaj it mostly is n't true of xxmaj bill xxmaj clinton and xxmaj barak xxmaj obama and look where these xxunk have gotten us today ! xxmaj they are total losers who have destroyed the military and the middle class . xxmaj why not give a crazy person a chance ? i 'm bound to be better than they are . xxmaj what have you got to lose ? \" \n",
              "  2 ) i 'm a great entertainer . xxmaj elect me and you 'll never be bored . xxmaj if i threaten some country or the other with nuclear annihilation you 'll hold your xxunk to see if i carry it out . xxmaj it will be amazingly exciting . xxmaj you 'll have nothing to lose ! \n",
              "  3 ) xxmaj previous xxmaj presidents , from what i 've read about only 4 of them , because of my limited attention span , have been relatively honest . xxmaj not me ! i 've engaged in many fraudulent business practices even cheating widows and orphans ! xxmaj why not try a deceitful xxunk like me ? xxmaj politics is just one big con anyway ! xxmaj what have you got to lose with a guy like me on your side ? xxmaj what have you got to lose ? xxmaj xxunk xxunk xxunk xxunk xxunk xxunk xxunk . \n",
              "  4 ) xxmaj the xxup pc people say that xxmaj presidents should be well read and educated . xxmaj and the lightweight loses who have been in the xxmaj oval office have mostly been that way . xxmaj even though i 've forgotten everything i 've learned , i did go to one of the best xxmaj ivy xxmaj league xxmaj schools . xxmaj and , remember this folks , reading is for low energy people who do n't have the best brains ; they are the opposite of me . xxmaj education and reading , believe me , are overrated . \n",
              "  5 ) xxmaj hatred , bigotry , racism , strong immigration restrictions , xxmaj nativism , xenophobia , anti - xxunk , advocacy of violence against one 's political opponents and misogyny are part of our xxmaj american heritage . i embody all of these . i am the true voice of the xxmaj american people . i \" tell it like it is , \" and say things millions of xxmaj americans are afraid to say . xxmaj that is why hate groups support me . \n",
              "  6 ) xxmaj people say i am a \" walking xxmaj xxunk \" i say , so what ? xxmaj the i d is very , very strong . xxmaj it is the xxunk in our brains . xxmaj it 's all about winning , being a celebrity and grabbing women 's xxunk to show one 's power . xxmaj it 's all about the strength and power that total losers do n't have . i am an unbelievably strong winner just like my friend xxmaj putin . xxmaj you need on your side . xxmaj vote for me . xxmaj what have you got to lose ? i truly am unbelievable . \" \n",
              "  xxmaj with apologies to xxmaj nicholas xxmaj xxunk whose 11 / 3 / 16 xxup nyt 's column sparked this . xxmaj make xxmaj keith xxmaj xxunk 's xxup fake,xxbos xxmaj julian xxmaj assange has undoubtedly been on a run , exposing endless and shocking truths regarding xxmaj democratic presidential nominee xxmaj hillary xxmaj clinton just days before the election is set to reveal the path the next four years will take in the xxup u.s. xxmaj via xxunk \n",
              " \n",
              "  xxmaj and now there ’s more news to be baffled over , with xxmaj assange claiming xxmaj hillary xxmaj clinton misled xxmaj americans about the reality of xxmaj islamic xxmaj state ’s support from xxmaj washington ’s xxmaj middle xxmaj east allies . xxmaj last month , xxmaj assange ’s wikileaks made a 2014 email public that exposed how then xxmaj secretary of xxmaj state xxmaj hillary xxmaj clinton urged then adviser to xxmaj president xxmaj barack xxmaj obama xxmaj john xxmaj podesta to “ bring pressure ” on xxmaj qatar and xxmaj saudi xxmaj arabia , saying that they were “ providing clandestine financial and logistic support to xxup isil [ xxmaj islamic xxmaj state , xxup is , xxup isis ] and other radical xxmaj sunni groups . ” xxmaj in a video , xxmaj assange called the email the “ most important ” of the entire collection of ammo wikileaks has obtained against the xxmaj clinton campaign : xxmaj all serious analysts know , and even the xxup us government has agreed , that some xxmaj saudi figures have been supporting xxup isis and funding xxup isis , but the dodge has always been that it is some “ rogue ” princes using their oil money to do whatever they like , but actually the government disapproves . xxmaj but that email says that it is the government of xxmaj saudi xxmaj arabia , and the government of xxmaj qatar that have been funding xxup isis . \n",
              "  xxmaj assange sat down with veteran journalist xxmaj john xxmaj pilger for a 25-minute interview within the xxmaj ecuadorian xxmaj embassy in xxmaj london , where xxmaj assange has been living as a refugee since 2012 . xxmaj he discussed in detail the conflict of interest between xxmaj clinton ’s official position , which occurred during xxmaj obama ’s first term , husband xxmaj bill xxmaj clinton ’s nonprofit , and the xxmaj middle xxmaj east officials , claiming the output or urgency to fight terrorism may not have been heartfelt . \n",
              "  xxmaj here is a valuable excerpt from the interview : \n",
              "  xxmaj john xxmaj pilger : xxmaj the xxmaj saudis , the xxmaj qataris , the xxmaj moroccans , the xxmaj bahrainis , particularly the first two , are giving all this money to the xxmaj clinton xxmaj foundation , while xxmaj hillary xxmaj clinton is secretary of state , and the xxmaj state xxmaj department is approving massive arms sales , particularly xxmaj saudi xxmaj arabia . \n",
              "  xxmaj julian xxmaj assange : xxmaj under xxmaj hillary xxmaj clinton – and the xxmaj clinton emails reveal a significant discussion of it – the biggest - ever arms deal in the world was made with xxmaj saudi xxmaj arabia : more than $ 80 billion . xxmaj during her tenure , the total arms exports from the xxup u.s. doubled in dollar value \n",
              "  xxup jp : xxmaj of course , the consequence of that is that this notorious jihadist group , called xxup isil or xxup isis , is created largely with money from people who are giving money to the xxmaj clinton xxmaj foundation ? \n",
              "  xxup ja : xxmaj yes . \n",
              "  xxmaj pilger asked xxmaj assange if he thought the accusations against the xxmaj clinton campaign would have any effect on the xxmaj democratic nominee winning the 2016 presidential election . xxmaj assange also believes that next xxmaj tuesday ’s election is absolutely rigged , and is in favor of xxmaj hillary xxmaj clinton . xxmaj he said , \n",
              "  xxmaj my analysis is that xxmaj trump would not be permitted to win . xxmaj why do i say that ? xxmaj because he has had every establishment off his side . xxmaj trump does not have one establishment , maybe with the exception of the xxmaj evangelicals , if you can call them an establishment . xxmaj banks , intelligence , arms companies , foreign money , etc . are all united behind xxmaj hillary xxmaj clinton . xxmaj and the media as well . xxmaj media owners , and the journalists themselves . \n",
              "  xxup fake,xxbos xxmaj the younger xxmaj trump swears his foundation gives all of its money away to good causes . xxmaj which is true , if you do n’t count the cash spent on xxmaj trump - owned resorts . xxmaj or the plastic surgeon . \n",
              " \n",
              "  xxmaj those are some of the beneficiaries of the xxmaj eric xxmaj trump xxmaj foundation , an xxunk public charity headed by the xxmaj republican presidential nominee ’s third - born . xxmaj though xxmaj eric xxmaj trump — the executive vice president of development and acquisitions for the xxmaj trump xxmaj organization , and one of his father ’s top surrogates and closest political advisers — recently claimed his father had donated “ hundreds of thousands ” to his charity , the only available evidence seems to suggest payments , in fact , went the other way : the xxmaj eric xxmaj trump xxmaj foundation ( xxup xxunk ) paying hundreds of thousands over the last 10 years to host lavish fundraising events at   xxmaj donald xxmaj trump ’s golf courses . \n",
              " \n",
              "  xxmaj in promotional videos and press releases , xxup xxunk touts a 95 to 100 percent donation ratio and implies that by benefit of being a xxmaj trump , namesake properties are handed over for charity events at little or no cost . xxmaj but according to a xxmaj daily xxmaj beast analysis of annual xxup irs reports and xxmaj new xxmaj york state financial disclosures from the charity ’s inception in 2007 to 2014 , the most recent year for which data is available , xxup xxunk spent $ xxunk on its annual xxmaj golf xxmaj xxunk at xxmaj trump - owned clubs , a portion of xxunk in 2013 and $ xxunk in xxunk reported as paid directly “ to a company of a family member of the xxmaj board of xxmaj directors . ” xxmaj in other words , xxmaj donald xxmaj trump himself . \n",
              " \n",
              "  xxmaj donald xxmaj trump , and his private foundation , are already in hot water as reports swirl of suspected self - dealing , or using his foundation funds for private gain . xxmaj indeed , the man who considers a presidential run as an opportunity to turn a profit made headlines and invited criticism this week , after xxmaj the xxmaj washington xxmaj post revealed that the self - professed billionaire had reportedly used monies from the xxmaj donald xxup j. xxmaj trump xxmaj foundation to pay off $ xxunk in legal disputes . xxmaj previous reports found xxmaj donald xxmaj trump had also used the fund — which he has n’t personally donated to since xxunk purchase portraits of himself , and gift $ 25,000 to xxmaj florida xxmaj attorney xxmaj general xxmaj pam xxmaj bondi in a possible quid pro quo to head off an investigation into his shady xxmaj trump xxmaj university , both of which may have violated federal and state tax laws . xxmaj new xxmaj york ’s attorney general is currently investigating the reports . \n",
              " \n",
              "  xxmaj of course , viewed through the prism of his father ’s questionable philanthropic practices , xxmaj eric xxmaj trump ’s foundation seems downright angelic . xxmaj eric xxmaj trump ’s foundation operates with almost no overhead : xxmaj eric neither pays himself nor his board members and relies on xxmaj trump xxmaj organization employees who volunteer for whatever the foundation may need . xxmaj most importantly , xxmaj eric xxmaj trump ’s charity has , over the last 10 years according to its tax reports , raised $ 6.5 million for xxmaj st. xxmaj jude xxmaj children ’s xxmaj research xxmaj hospital , a beloved xxmaj tennessee - based nonprofit that treats children with catastrophic diseases free - of - charge . xxmaj that figure nearly doubles , when you include the year - long fundraisers utilizing xxmaj trump hotels — where guests are encouraged to donate and buy special services , a percentage of which goes to xxmaj st. xxmaj jude — and employees , who both contribute their money and volunteer their time by competing in company - wide contests and organizing events like car washes , bake sales , and walk - a - xxunk , to raise cash that goes straight to the hospital — over $ 600,000 this past year , according to xxup xxunk ’s executive director , xxmaj paige xxmaj xxunk . \n",
              " \n",
              "  “ xxmaj we pride ourselves on having an extremely low expense ratio and that is only made possible by leveraging off the xxmaj trump assets , ” xxmaj xxunk wrote in an email to xxmaj the xxmaj daily xxmaj beast . “ xxmaj trump assets are not profiting from these xxup xxunk events , but instead they are donating their time and resources to the cause . ” \n",
              " \n",
              "  “ xxmaj we ’re so lucky as xxmaj trumps to have the best hotels in the world , to have the best golf courses in the world , and other great assets , and we ’re so lucky to be able to use those assets at our disposal for a great purpose . xxmaj and that ’s really what xxup xxunk is , ” xxmaj eric says in a 2016 video . \n",
              " \n",
              "  “ xxmaj it sounds like they were just making a number up , ” said xxmaj elizabeth xxmaj xxunk , a xxmaj boston xxmaj university professor who studies nonprofit finance . “ xxmaj they should have had a proposal that said , ‘ xxmaj these are the costs , ’ for which there should be an xxunk , detailing what the foundation was paying for . xxmaj instead it sounds like the golf course just said , ' xxmaj give us $ 100,000 . ' ” \n",
              " \n",
              "  xxmaj xxunk took the reins as xxup xxunk ’s director in xxmaj january , replacing a woman who left the organization after eight months . xxmaj and hers was n’t the only high - level dropout this year . xxmaj the foundation ’s xxmaj board of xxmaj directors and xxmaj executive xxmaj committee have each lost a member since xxmaj march : xxmaj jeffrey xxmaj xxunk , a freelance real - estate broker and consultant with a history of bid rigging on construction projects , and xxmaj nathan xxmaj crisp , until recently , a xxmaj trump xxmaj hotels executive who police accused of twice slamming a xxmaj brooklyn mother to the ground on xxmaj easter . \n",
              " \n",
              "  xxmaj when asked why the xxmaj trump xxmaj organization did n’t donate the use of the courses , xxmaj michael xxmaj cohen , a longtime attorney to xxmaj donald xxmaj trump and board member on the xxmaj eric xxmaj trump foundation , said , “ i believe there are certain rules that you do have to pay for certain things — they’re not marked up . xxmaj it ’s inexpensive . i think there ’s some law that says you have to . ” \n",
              " \n",
              "  xxmaj trump xxmaj national xxmaj golf xxmaj club xxmaj westchester , where xxup xxunk ’s annual event is held , did not return a request for event pricing , but charities which have held fundraisers at xxmaj trump clubs showed similar expenses and revenue in their tax reports ( known as 990s ) , suggesting xxmaj eric xxmaj trump indeed paid a standard rate — around $ xxunk use of his father ’s property . xxmaj tic xxmaj xxunk xxmaj stop , a charity dedicated to funding xxmaj xxunk xxmaj syndrome research , paid $ xxunk for a smaller golf outing in 2014 . xxmaj and according to xxmaj the xxmaj boston xxmaj globe , the xxmaj dana - xxmaj xxunk xxmaj cancer xxmaj institute — which has held its annual gala at xxmaj trump ’s xxmaj florida club , xxmaj mar - a - xxmaj lago , for the last six years — paid around $ 150,000 for a fundraiser with up to 600 guests . xxmaj the most recent xxup xxunk fundraiser boasted 500 attendees . \n",
              " \n",
              "  xxmaj though the xxmaj eric xxmaj trump xxmaj foundation ’s website says , “ xxmaj we exclusively support xxmaj st. xxmaj jude xxmaj children ’s xxmaj research xxmaj hospital , ” that is n’t the case . xxmaj in 2012 , xxup xxunk began donating in earnest to other causes , cutting small checks to 40 individual charities in addition to the outsize donation given to the children ’s hospital . xxmaj some of these small donations — like the $ 1,600 to the xxmaj american xxmaj society for xxmaj xxunk and xxmaj xxunk , a xxmaj california wine industry organization where xxmaj eric xxmaj trump once gave a keynote address — have seemingly little to do with the charity ’s mission of helping sick children . \n",
              " \n",
              "  xxmaj the cat ’s cradle of connections do n’t end there . xxmaj the xxup xxunk fund paid out $ xxunk that same year for their golf tournament — an annual event held at xxmaj trump ’s xxmaj hudson xxmaj valley course that cost nearly double what the charity gave out in grants that year . xxmaj they , along with at least six other charities that have received donations from the xxmaj eric xxmaj trump xxmaj foundation since 2012 , hold fundraising events at xxmaj trump golf clubs . xxup real,xxbos xxmaj email \n",
              " \n",
              "  xxmaj it appears xxmaj bill and xxmaj hillary xxmaj clinton are making plans to flee the country in the event xxmaj donald xxmaj trump wins this election . \n",
              "  xxmaj reports are circulating that the xxmaj clintons have transferred 1.8 xxmaj billion dollars from the xxmaj clinton xxmaj foundation to the xxmaj qatar xxmaj central xxmaj bank , via a facilitation / xxunk of xxup jp xxmaj morgan xxmaj chase & xxmaj company for reasons not revealed . \n",
              "  xxmaj this move of such a large sum of money to the country of xxmaj qatar says in itself , xxmaj hillary xxmaj clinton knows she is going to lose the election , and she does n’t plan to allow herself to be prosecuted for various high crimes and treason under a xxmaj trump xxmaj administration . \n",
              "  xxmaj the country of xxmaj qatar happens to be one of a handful of countries that does not have an extradition treaty with the xxmaj united xxmaj states , thus would be a perfect place for her to run to in escaping justice . \n",
              "  xxmaj donald xxmaj trump has said many times during his campaign and at the xxmaj presidential debates that once he gets into office , he intends to prosecute her on various high crimes from her latest crimes of sending classified material via a personal e mail server . xxmaj all the way to gun running to terrorist groups in xxmaj syria resulting in the deaths of 4 xxmaj americans in xxmaj benghazi . \n",
              "  xxmaj apparently , xxmaj hillary is not the only person in xxmaj washington who has made plans to escape justice under a xxmaj trump xxmaj administration . xxmaj john xxmaj kerry has quietly been selling his property in the xxup us for millions of dollars of late , with an announcement of the sale of his $ 25 million dollar xxmaj nantucket mansion in xxmaj june 2016 , as well as the sale of his yacht for $ 3.9 million in xxmaj july 2016 . \n",
              "  xxmaj president xxmaj barack h xxmaj obama has also apparently been making exit plans with his purchase of a $ 4.9 million dollar seaside mansion in xxmaj dubai in xxmaj january 2016 , another non extradition country . \n",
              "  xxmaj snopes and other supposed fact checking sites have debunked both the story of xxmaj obama ’s purchase of the mansion and the firing of xxmaj rear xxmaj admiral xxmaj rick xxmaj williams . xxmaj however , over the last several months , these sites have been busted for lying in trying to debunk such information as the before mentioned , when in fact the information is true . \n",
              "  xxmaj snopes and other sites try their best to keep incriminating information from being believed , but the truth has a way of coming out on its own , as it always has . xxup fake,xxbos xxmaj watch xxmaj hillary xxmaj clintons xxmaj concession xxmaj speech xxmaj video \n",
              "  xxunk night i congratulated xxmaj donald xxmaj trump and offered to work with him on behalf of our country . i hope that he will be a president for all of our country ... \n",
              "  xxunk sorry that we did not win this election for the values we all share ... \n",
              "  xxunk represent the best of xxmaj america , and being your candidate has been one of the greatest honors of my life . i know how disappointed you feel , because i feel it too xxrep 4 . xxmaj donald xxmaj trump 's xxmaj victory xxmaj speech xxup fake\n",
              "y: LMLabelList\n",
              ",,,,\n",
              "Path: .;\n",
              "\n",
              "Test: None, model=SequentialRNN(\n",
              "  (0): AWD_LSTM(\n",
              "    (encoder): Embedding(32800, 400, padding_idx=1)\n",
              "    (encoder_dp): EmbeddingDropout(\n",
              "      (emb): Embedding(32800, 400, padding_idx=1)\n",
              "    )\n",
              "    (rnns): ModuleList(\n",
              "      (0): WeightDropout(\n",
              "        (module): LSTM(400, 1152, batch_first=True)\n",
              "      )\n",
              "      (1): WeightDropout(\n",
              "        (module): LSTM(1152, 1152, batch_first=True)\n",
              "      )\n",
              "      (2): WeightDropout(\n",
              "        (module): LSTM(1152, 400, batch_first=True)\n",
              "      )\n",
              "    )\n",
              "    (input_dp): RNNDropout()\n",
              "    (hidden_dps): ModuleList(\n",
              "      (0): RNNDropout()\n",
              "      (1): RNNDropout()\n",
              "      (2): RNNDropout()\n",
              "    )\n",
              "  )\n",
              "  (1): LinearDecoder(\n",
              "    (decoder): Linear(in_features=400, out_features=32800, bias=True)\n",
              "    (output_dp): RNNDropout()\n",
              "  )\n",
              "), opt_func=functools.partial(<class 'torch.optim.adam.Adam'>, betas=(0.9, 0.99)), loss_func=FlattenedLoss of CrossEntropyLoss(), metrics=[<function accuracy at 0x7f4c03c08620>], true_wd=True, bn_wd=True, wd=0.01, train_bn=True, path=PosixPath('.'), model_dir='models', callback_fns=[functools.partial(<class 'fastai.basic_train.Recorder'>, add_time=True, silent=False)], callbacks=[RNNTrainer\n",
              "learn: LanguageLearner(data=TextLMDataBunch;\n",
              "\n",
              "Train: LabelList (5068 items)\n",
              "x: LMTextList\n",
              "xxbos xxmaj daniel xxmaj greenfield , a xxmaj shillman xxmaj journalism xxmaj fellow at the xxmaj freedom xxmaj center , is a xxmaj new xxmaj york writer focusing on radical xxmaj islam . \n",
              "  xxmaj in the final stretch of the election , xxmaj hillary xxmaj rodham xxmaj clinton has gone to war with the xxup fbi . \n",
              "  xxmaj the word “ unprecedented ” has been thrown around so often this election that it ought to be retired . xxmaj but it ’s still unprecedented for the nominee of a major political party to go war with the xxup fbi . \n",
              "  xxmaj but that ’s exactly what xxmaj hillary and her people have done . xxmaj coma patients just waking up now and watching an hour of xxup cnn from their hospital beds would assume that xxup fbi xxmaj director xxmaj james xxmaj comey is xxmaj hillary ’s opponent in this election . \n",
              "  xxmaj the xxup fbi is under attack by everyone from xxmaj obama to xxup cnn . xxmaj hillary ’s people have circulated a letter attacking xxmaj comey . xxmaj there are currently more media hit pieces lambasting him than targeting xxmaj trump . xxmaj it would n’t be too surprising if the xxmaj clintons or their allies were to start running attack ads against the xxup fbi . \n",
              "  xxmaj the xxup fbi ’s leadership is being warned that the entire left - wing establishment will form a lynch mob if they continue going after xxmaj hillary . xxmaj and the xxup fbi ’s credibility is being attacked by the media and the xxmaj democrats to preemptively head off the results of the investigation of the xxmaj clinton xxmaj foundation and xxmaj hillary xxmaj clinton . \n",
              "  xxmaj the covert struggle between xxup fbi agents and xxmaj obama ’s xxup doj people has gone xxunk public . \n",
              "  xxmaj the xxmaj new xxmaj york xxmaj times has compared xxmaj comey to xxup j. xxmaj edgar xxmaj hoover . xxmaj its bizarre headline , “ xxmaj james xxmaj comey xxmaj role xxmaj recalls xxmaj hoover ’s xxup fbi , xxmaj fairly or xxmaj not ” practically admits up front that it ’s spouting nonsense . xxmaj the xxmaj boston xxmaj globe has published a column calling for xxmaj comey ’s resignation . xxmaj not to be outdone , xxmaj time has an editorial claiming that the scandal is really an attack on all women . \n",
              "  xxmaj james xxmaj carville appeared on xxup msnbc to remind everyone that he was still alive and insane . xxmaj he accused xxmaj comey of coordinating with xxmaj house xxmaj republicans and the xxup kgb . xxmaj and you thought the “ vast right wing conspiracy ” was a stretch . \n",
              "  xxmaj countless media stories charge xxmaj comey with violating procedure . xxmaj do you know what ’s a procedural violation ? xxmaj emailing classified information stored on your bathroom server . \n",
              "  xxmaj senator xxmaj harry xxmaj reid has sent xxmaj comey a letter accusing him of violating the xxmaj hatch xxmaj act . xxmaj the xxmaj hatch xxmaj act is a nice idea that has as much relevance in the age of xxmaj obama as the xxmaj tenth xxmaj amendment . xxmaj but the cable news spectrum quickly filled with media hacks glancing at the xxmaj wikipedia article on the xxmaj hatch xxmaj act under the table while accusing the xxup fbi director of one of the most awkward conspiracies against xxmaj hillary ever . \n",
              "  xxmaj if xxmaj james xxmaj comey is really out to hurt xxmaj hillary , he picked one hell of a strange way to do it . \n",
              "  xxmaj not too long ago xxmaj democrats were breathing a sigh of relief when he gave xxmaj hillary xxmaj clinton a pass in a prominent public statement . xxmaj if he really were out to elect xxmaj trump by keeping the email scandal going , why did he trash the investigation ? xxmaj was he on the payroll of xxmaj house xxmaj republicans and the xxup kgb back then and playing it coy or was it a sudden development where xxmaj vladimir xxmaj putin and xxmaj paul xxmaj ryan talked him into taking a look at xxmaj anthony xxmaj weiner ’s computer ? \n",
              "  xxmaj either xxmaj comey is the most cunning xxup fbi director that ever lived or he ’s just awkwardly trying to navigate a political mess that has trapped him between a xxup doj leadership whose political futures are tied to xxmaj hillary ’s victory and his own bureau whose apolitical agents just want to be allowed to do their jobs . \n",
              "  xxmaj the only truly mysterious thing is why xxmaj hillary and her associates decided to go to war with a respected xxmaj federal agency . xxmaj most xxmaj americans like the xxup fbi while xxmaj hillary xxmaj clinton enjoys a 60 % unfavorable rating . \n",
              "  xxmaj and it ’s an interesting question . \n",
              "  xxmaj hillary ’s old strategy was to lie and deny that the xxup fbi even had a criminal investigation underway . xxmaj instead her associates insisted that it was a security review . xxmaj the xxup fbi corrected her and she shrugged it off . xxmaj but the old breezy denial approach has given way to a savage assault on the xxup fbi . \n",
              "  xxmaj pretending that nothing was wrong was a bad strategy , but it was a better one that picking a fight with the xxup fbi while lunatic xxmaj clinton associates try to claim that the xxup fbi is really the xxup kgb . \n",
              "  xxmaj there are two possible explanations . \n",
              "  xxmaj hillary xxmaj clinton might be arrogant enough to lash out at the xxup fbi now that she believes that victory is near . xxmaj the same kind of hubris that led her to plan her victory fireworks display could lead her to declare a war on the xxup fbi for irritating her during the final miles of her campaign . \n",
              "  xxmaj but the other explanation is that her people panicked . \n",
              "  xxmaj going to war with the xxup fbi is not the behavior of a smart and focused presidential campaign . xxmaj it ’s an act of desperation . xxmaj when a presidential candidate decides that her only option is to try and destroy the credibility of the xxup fbi , that ’s not hubris , it ’s fear of what the xxup fbi might be about to reveal about her . \n",
              "  xxmaj during the original xxup fbi investigation , xxmaj hillary xxmaj clinton was confident that she could ride it out . xxmaj and she had good reason for believing that . xxmaj but that xxmaj hillary xxmaj clinton is gone . xxmaj in her place is a paranoid wreck . xxmaj within a short space of time the “ positive ” xxmaj clinton campaign promising to unite the country has been replaced by a desperate and flailing operation that has focused all its energy on fighting the xxup fbi . \n",
              "  xxmaj there ’s only one reason for such bizarre behavior . \n",
              "  xxmaj the xxmaj clinton campaign has decided that an xxup fbi investigation of the latest batch of emails poses a threat to its survival . xxmaj and so it ’s gone all in on fighting the xxup fbi . xxmaj it ’s an unprecedented step born of fear . xxmaj it ’s hard to know whether that fear is justified . xxmaj but the existence of that fear already tells us a whole lot . \n",
              "  xxmaj clinton loyalists rigged the old investigation . xxmaj they knew the outcome ahead of time as well as they knew the debate questions . xxmaj now suddenly they are no longer in control . xxmaj and they are afraid . \n",
              "  xxmaj you can smell the fear . \n",
              "  xxmaj the xxup fbi has wiretaps from the investigation of the xxmaj clinton xxmaj foundation . xxmaj it ’s finding new emails all the time . xxmaj and xxmaj clintonworld panicked . xxmaj the xxunk of xxmaj clintonworld have claimed that the email scandal is just so much smoke without fire . xxmaj all that ’s here is the appearance of impropriety without any of the substance . xxmaj but this is n’t how you react to smoke . xxmaj it ’s how you respond to a fire . \n",
              "  xxmaj the misguided assault on the xxup fbi tells us that xxmaj hillary xxmaj clinton and her allies are afraid of a revelation bigger than the fundamental illegality of her email setup . xxmaj the email setup was a preemptive cover up . xxmaj the xxmaj clinton campaign has panicked badly out of the belief , right or wrong , that whatever crime the illegal setup was meant to cover up is at risk of being exposed . \n",
              "  xxmaj the xxmaj clintons have weathered countless scandals over the years . xxmaj whatever they are protecting this time around is bigger than the usual corruption , bribery , sexual assaults and abuses of power that have followed them around throughout the years . xxmaj this is bigger and more damaging than any of the allegations that have already come out . xxmaj and they do n’t want xxup fbi investigators anywhere near it . \n",
              "  xxmaj the campaign against xxmaj comey is pure intimidation . xxmaj it ’s also a warning . xxmaj any senior xxup fbi people who value their careers are being warned to stay away . xxmaj the xxmaj democrats are closing ranks around their nominee against the xxup fbi . xxmaj it ’s an ugly and unprecedented scene . xxmaj it may also be their last stand . \n",
              "  xxmaj hillary xxmaj clinton has awkwardly wound her way through numerous scandals in just this election cycle . xxmaj but she ’s never shown fear or desperation before . xxmaj now that has changed . xxmaj whatever she is afraid of , it lies buried in her emails with xxmaj huma xxmaj abedin . xxmaj and it can bring her down like nothing else has . xxup fake,xxbos xxmaj google xxmaj pinterest xxmaj digg xxmaj linkedin xxmaj reddit xxmaj stumbleupon xxmaj print xxmaj delicious xxmaj pocket xxmaj tumblr \n",
              "  xxmaj there are two fundamental truths in this world : xxmaj paul xxmaj ryan desperately wants to be president . xxmaj and xxmaj paul xxmaj ryan will never be president . xxmaj today proved it . \n",
              "  xxmaj in a particularly staggering example of political cowardice , xxmaj paul xxmaj ryan re - re - re - reversed course and announced that he was back on the xxmaj trump xxmaj train after all . xxmaj this was an xxunk from where he was a few weeks ago . xxmaj he had previously declared he would not be supporting or defending xxmaj trump after a tape was made public in which xxmaj trump bragged about assaulting women . xxmaj suddenly , xxmaj ryan was appearing at a pro - xxmaj trump rally and boldly declaring that he already sent in his vote to make him xxmaj president of the xxmaj united xxmaj states . xxmaj it was a surreal moment . xxmaj the figurehead of the xxmaj republican xxmaj party xxunk himself in gasoline , got up on a stage on a chilly afternoon in xxmaj wisconsin , and lit a match . . @speakerryan says he voted for @realdonaldtrump : “ xxmaj republicans , it is time to come home ” https : / / t.co / xxunk pic.twitter.com / xxunk \n",
              "  — xxup abc xxmaj news xxmaj politics ( xxunk ) xxmaj november 5 , 2016 \n",
              "  xxmaj the xxmaj democratic xxmaj party could n’t have asked for a better moment of film . xxmaj ryan ’s chances of ever becoming president went down to zero in an instant . xxmaj in the wreckage xxmaj trump is to leave behind in his wake , those who xxunk backed his campaign will not recover . xxmaj if xxmaj ryan ’s career manages to limp all the way to 2020 , then the xxup dnc will have this tape locked and loaded to be used in every ad until xxmaj election xxmaj day . \n",
              "  xxmaj the ringing endorsement of the man he clearly hates on a personal level speaks volumes about his own spinelessness . xxmaj ryan has xxunk himself as a “ principled ” conservative , and one uncomfortable with xxmaj trump ’s unapologetic bigotry and sexism . xxmaj however , when push came to shove , xxmaj paul xxmaj ryan – like many of his colleagues – turned into a sniveling xxunk . xxmaj after all his lofty xxunk about conviction , his principles were a house of cards and collapsed with the slightest breeze . \n",
              "  xxmaj what ’s especially bizarre is how close xxmaj ryan came to making it through unscathed . xxmaj for months the xxmaj speaker of the xxmaj house refused to comment on xxmaj trump at all . xxmaj his strategy seemed to be to keep his head down , pretend xxmaj trump did n’t exist , and hope that nobody remembered what happened in 2016 . xxmaj now , just days away from the election , he screwed it all up . \n",
              "  xxmaj if 2016 ’s very ugly election has done any good it ’s by exposing the utter cowardice of the xxmaj republicans who once feigned moral courage . a reality television star spit on them , hijacked their party , insulted their wives , and got every last one of them to kneel before him . xxmaj what a turn of events . \n",
              "  xxmaj featured image via xxmaj twitter xxup fake,xxbos xxup u.s. xxmaj secretary of xxmaj state xxmaj john xxup f. xxmaj kerry said xxmaj monday that he will stop in xxmaj paris later this week , amid criticism that no top xxmaj american officials attended xxmaj sunday ’s unity march against terrorism . \n",
              " \n",
              "  xxmaj kerry said he expects to arrive in xxmaj paris xxmaj thursday evening , as he heads home after a week abroad . xxmaj he said he will fly to xxmaj france at the conclusion of a series of meetings scheduled for xxmaj thursday in xxmaj sofia , xxmaj bulgaria . xxmaj he plans to meet the next day with xxmaj foreign xxmaj minister xxmaj laurent xxmaj fabius and xxmaj president xxmaj francois xxmaj hollande , then return to xxmaj washington . \n",
              " \n",
              "  xxmaj the visit by xxmaj kerry , who has family and childhood ties to the country and speaks fluent xxmaj french , could address some of the criticism that the xxmaj united xxmaj states snubbed xxmaj france in its darkest hour in many years . \n",
              " \n",
              "  xxmaj the xxmaj french press on xxmaj monday was filled with questions about why neither xxmaj president xxmaj obama nor xxmaj kerry attended xxmaj sunday ’s march , as about 40 leaders of other nations did . xxmaj obama was said to have stayed away because his own security needs can be taxing on a country , and xxmaj kerry had prior commitments . \n",
              " \n",
              "  xxmaj among roughly 40 leaders who did attend was xxmaj israeli xxmaj prime xxmaj minister xxmaj benjamin xxmaj netanyahu , no stranger to intense security , who marched beside xxmaj hollande through the city streets . xxmaj the highest ranking xxup u.s. officials attending the march were xxmaj jane xxmaj hartley , the ambassador to xxmaj france , and xxmaj victoria xxmaj nuland , the assistant secretary of state for xxmaj european affairs . xxmaj attorney xxmaj general xxmaj eric xxup h. xxmaj holder xxmaj jr. was in xxmaj paris for meetings with law enforcement officials but did not participate in the march . \n",
              " \n",
              "  xxmaj kerry spent xxmaj sunday at a business summit hosted by xxmaj india ’s prime minister , xxmaj narendra xxmaj modi . xxmaj the xxmaj united xxmaj states is eager for xxmaj india to relax stringent laws that function as barriers to foreign investment and hopes xxmaj modi ’s government will act to open the huge xxmaj indian market for more xxmaj american businesses . \n",
              " \n",
              "  xxmaj in a news conference , xxmaj kerry brushed aside criticism that the xxmaj united xxmaj states had not sent a more senior official to xxmaj paris as “ quibbling a little bit . ” xxmaj he noted that many staffers of the xxmaj american xxmaj embassy in xxmaj paris attended the march , including the ambassador . xxmaj he said he had wanted to be present at the march himself but could not because of his prior commitments in xxmaj india . \n",
              " \n",
              "  “ xxmaj but that is why i am going there on the way home , to make it crystal clear how passionately we feel about the events that have taken place there , ” he said . \n",
              " \n",
              "  “ xxmaj and i do n’t think the people of xxmaj france have any doubts about xxmaj america ’s understanding of what happened , of our personal sense of loss and our deep commitment to the people of xxmaj france in this moment of trauma . ” xxup real,xxbos — xxmaj xxunk xxmaj king ( xxunk ) xxmaj november 9 , 2016 xxmaj the lesson from tonight 's xxmaj dem losses : xxmaj time for xxmaj democrats to start listening to the voters . xxmaj stop running the same establishment candidates . \n",
              "  — xxmaj people xxmaj for xxmaj bernie ( xxunk ) xxmaj november 9 , 2016 xxmaj if xxmaj dems did n't want a tight race they should n't have worked against xxmaj bernie . \n",
              "  — xxmaj walker xxmaj xxunk ( xxunk ) xxmaj november 9 , 2016 \n",
              "  xxmaj new xxmaj york xxmaj times columnist xxmaj paul xxmaj krugman , who was one of xxmaj hillary xxmaj clinton ’s most outspoken surrogates during the contentious xxmaj democratic primary , blamed xxmaj clinton ’s poor performance on xxmaj green xxmaj party candidate xxmaj jill xxmaj stein , who has so far received a negligible number of votes nationally , saying xxmaj stein was the xxmaj ralph xxmaj nader of 2016 in preventing a xxmaj clinton victory . xxmaj the account xxunk threw xxmaj krugman ’s analysis back in his face . xxmaj your candidate was the issue . xxmaj take responsibility . https : / / t.co / xxunk \n",
              "  — xxmaj teachers for xxmaj bernie ( xxunk ) xxmaj november 9 , 2016 \n",
              "  xxmaj ana xxmaj navarro , a xxmaj republican who recently endorsed xxmaj hillary xxmaj clinton , summed up the preposterous nature of the 2016 presidential election in this tweet : xxup gop nominated the only damn candidate who could lose to xxmaj hillary xxmaj clinton . xxmaj democrats nominated the only damn candidate who could lose to xxmaj trump \n",
              "  — xxmaj ana xxmaj navarro ( xxunk ) xxmaj november 9 , 2016 \n",
              "  xxmaj popular left - wing xxmaj facebook page xxmaj the xxmaj other 98 % , which was pro - xxmaj sanders during the primary , responded to xxmaj trump ’s surge by simply posting a meme of xxmaj sanders ’ face with the text “ xxmaj all this could ’ve been avoided . xxmaj thanks for nothing , xxup dnc ! ” xxmaj the meme has been shared almost 15,000 times in less than an hour : \n",
              "  xxmaj posted by xxmaj the xxmaj other 98 % on xxmaj tuesday , xxmaj november 8 , 2016 \n",
              "  xxmaj while xxmaj bernie xxmaj sanders endorsed xxmaj hillary xxmaj clinton just before the xxmaj democratic xxmaj national xxmaj convention in xxmaj july , many of his supporters remained adamant in their refusal to support the xxup dnc - anointed candidate , pointing to wikileaks ’ revelations that top officials at the xxup dnc had been working behind the scenes to tip the scales in xxmaj clinton ’s favor by coordinating with media figures to circulate anti - xxmaj sanders narratives . \n",
              "  xxmaj rather than attribute a potential xxmaj trump presidency to the xxup gop nominee ’s perceived popularity among voters , the closeness of this election could be credited to xxmaj hillary xxmaj clinton ’s unfavorable ratings . xxmaj according to realclearpolitics , anywhere between 51 and 57 percent of voters had a negative opinion of the xxmaj democratic nominee . \n",
              "  xxmaj as of 11 xxup pm xxmaj eastern , xxmaj florida , xxmaj michigan , xxmaj pennsylvania , and xxmaj wisconsin remain too close to call . xxmaj clinton has xxunk electoral votes to xxmaj trump ’s 187 . \n",
              " \n",
              "  xxmaj zach xxmaj cartwright is an activist and author from xxmaj richmond , xxmaj virginia . xxmaj he enjoys writing about politics , government , and the media . xxmaj send him an email at [ email protected ] xxup fake,xxbos xxmaj it 's primary day in xxmaj new xxmaj york and front - runners xxmaj hillary xxmaj clinton and xxmaj donald xxmaj trump are leading in the polls . \n",
              " \n",
              "  xxmaj trump is now vowing to win enough delegates to clinch the xxmaj republican nomination and prevent a contested convention . xxmaj but xxmaj sens . xxmaj ted xxmaj cruz , r - xxmaj texas , xxmaj bernie xxmaj sanders , d - xxmaj vt . , and xxmaj ohio xxmaj gov. xxmaj john xxmaj kasich and are n't giving up just yet . \n",
              " \n",
              "  a big win in xxmaj new xxmaj york could tip the scales for both the xxmaj republican and xxmaj democratic front - runners in this year 's race for the xxmaj white xxmaj house . xxmaj clinton and xxmaj trump have each suffered losses in recent contests , shifting the momentum to their rivals . \n",
              " \n",
              "  \" xxmaj we have won eight out of the last nine caucuses and primaries ! xxmaj cheer ! \" xxmaj sanders recently told supporters . \n",
              " \n",
              "  xxmaj while wins in xxmaj new xxmaj york for xxmaj trump and xxmaj clinton are expected , the margins of those victories are also important . \n",
              " \n",
              "  xxmaj trump needs to capture more than 50 percent of the vote statewide if he wants to be positioned to win all of the state 's 95 xxup gop delegates . xxmaj that would put him one step closer to avoiding a contested convention . \n",
              " \n",
              "  \" xxmaj we 've got to vote and you know xxmaj cruz is way , way down in the polls , \" xxmaj trump urged supporters . \n",
              " \n",
              "  xxmaj meanwhile , xxmaj sanders is hoping for a close race in the xxmaj empire xxmaj state . a loss by 10 points means he 'll need to win 80 percent of the remaining delegates to clinch the nomination . \n",
              " \n",
              "  xxmaj despite a predicted loss in xxmaj new xxmaj york , xxmaj cruz has n't lost momentum . xxmaj he 's hoping to sweep up more delegates this weekend while he 's talking about how he can win in xxmaj november . \n",
              " \n",
              "  \" xxmaj because if i 'm the nominee , we win the xxmaj general xxmaj election , \" xxmaj cruz promised his supporters . \" xxmaj we 're beating xxmaj hillary in the key swing states , we 're beating xxmaj hillary with xxmaj independents , we 're beating xxmaj hillary with young people . \" \n",
              " \n",
              "  xxmaj for now , xxmaj cruz , xxmaj kasich , and xxmaj sanders have all moved on from xxmaj new xxmaj york to other states . xxmaj trump and xxmaj clinton are the only two staying in their home state to watch the results come in . xxup real\n",
              "y: LMLabelList\n",
              ",,,,\n",
              "Path: .;\n",
              "\n",
              "Valid: LabelList (1267 items)\n",
              "x: LMTextList\n",
              "xxbos xxmaj thursday , 3 xxmaj november 2016 ' xxup vote xxup for xxup me , xxup what xxup have xxup you xxup got xxup to xxup lose ? \" \n",
              "  xxmaj donald xxmaj trump has given an amazing closing speech about why he should be elected xxmaj president in 2016 . xxmaj it can be broken down into different parts about why he should be elected according to xxmaj mr. xxmaj trump : \n",
              "  1 ) \" xxmaj people say i suffer from a pathological narcissistic disorder , am a xxunk , assault women , and am a sociopath . xxmaj well , suppose all of this is true . xxmaj it mostly is n't true of xxmaj bill xxmaj clinton and xxmaj barak xxmaj obama and look where these xxunk have gotten us today ! xxmaj they are total losers who have destroyed the military and the middle class . xxmaj why not give a crazy person a chance ? i 'm bound to be better than they are . xxmaj what have you got to lose ? \" \n",
              "  2 ) i 'm a great entertainer . xxmaj elect me and you 'll never be bored . xxmaj if i threaten some country or the other with nuclear annihilation you 'll hold your xxunk to see if i carry it out . xxmaj it will be amazingly exciting . xxmaj you 'll have nothing to lose ! \n",
              "  3 ) xxmaj previous xxmaj presidents , from what i 've read about only 4 of them , because of my limited attention span , have been relatively honest . xxmaj not me ! i 've engaged in many fraudulent business practices even cheating widows and orphans ! xxmaj why not try a deceitful xxunk like me ? xxmaj politics is just one big con anyway ! xxmaj what have you got to lose with a guy like me on your side ? xxmaj what have you got to lose ? xxmaj xxunk xxunk xxunk xxunk xxunk xxunk xxunk . \n",
              "  4 ) xxmaj the xxup pc people say that xxmaj presidents should be well read and educated . xxmaj and the lightweight loses who have been in the xxmaj oval office have mostly been that way . xxmaj even though i 've forgotten everything i 've learned , i did go to one of the best xxmaj ivy xxmaj league xxmaj schools . xxmaj and , remember this folks , reading is for low energy people who do n't have the best brains ; they are the opposite of me . xxmaj education and reading , believe me , are overrated . \n",
              "  5 ) xxmaj hatred , bigotry , racism , strong immigration restrictions , xxmaj nativism , xenophobia , anti - xxunk , advocacy of violence against one 's political opponents and misogyny are part of our xxmaj american heritage . i embody all of these . i am the true voice of the xxmaj american people . i \" tell it like it is , \" and say things millions of xxmaj americans are afraid to say . xxmaj that is why hate groups support me . \n",
              "  6 ) xxmaj people say i am a \" walking xxmaj xxunk \" i say , so what ? xxmaj the i d is very , very strong . xxmaj it is the xxunk in our brains . xxmaj it 's all about winning , being a celebrity and grabbing women 's xxunk to show one 's power . xxmaj it 's all about the strength and power that total losers do n't have . i am an unbelievably strong winner just like my friend xxmaj putin . xxmaj you need on your side . xxmaj vote for me . xxmaj what have you got to lose ? i truly am unbelievable . \" \n",
              "  xxmaj with apologies to xxmaj nicholas xxmaj xxunk whose 11 / 3 / 16 xxup nyt 's column sparked this . xxmaj make xxmaj keith xxmaj xxunk 's xxup fake,xxbos xxmaj julian xxmaj assange has undoubtedly been on a run , exposing endless and shocking truths regarding xxmaj democratic presidential nominee xxmaj hillary xxmaj clinton just days before the election is set to reveal the path the next four years will take in the xxup u.s. xxmaj via xxunk \n",
              " \n",
              "  xxmaj and now there ’s more news to be baffled over , with xxmaj assange claiming xxmaj hillary xxmaj clinton misled xxmaj americans about the reality of xxmaj islamic xxmaj state ’s support from xxmaj washington ’s xxmaj middle xxmaj east allies . xxmaj last month , xxmaj assange ’s wikileaks made a 2014 email public that exposed how then xxmaj secretary of xxmaj state xxmaj hillary xxmaj clinton urged then adviser to xxmaj president xxmaj barack xxmaj obama xxmaj john xxmaj podesta to “ bring pressure ” on xxmaj qatar and xxmaj saudi xxmaj arabia , saying that they were “ providing clandestine financial and logistic support to xxup isil [ xxmaj islamic xxmaj state , xxup is , xxup isis ] and other radical xxmaj sunni groups . ” xxmaj in a video , xxmaj assange called the email the “ most important ” of the entire collection of ammo wikileaks has obtained against the xxmaj clinton campaign : xxmaj all serious analysts know , and even the xxup us government has agreed , that some xxmaj saudi figures have been supporting xxup isis and funding xxup isis , but the dodge has always been that it is some “ rogue ” princes using their oil money to do whatever they like , but actually the government disapproves . xxmaj but that email says that it is the government of xxmaj saudi xxmaj arabia , and the government of xxmaj qatar that have been funding xxup isis . \n",
              "  xxmaj assange sat down with veteran journalist xxmaj john xxmaj pilger for a 25-minute interview within the xxmaj ecuadorian xxmaj embassy in xxmaj london , where xxmaj assange has been living as a refugee since 2012 . xxmaj he discussed in detail the conflict of interest between xxmaj clinton ’s official position , which occurred during xxmaj obama ’s first term , husband xxmaj bill xxmaj clinton ’s nonprofit , and the xxmaj middle xxmaj east officials , claiming the output or urgency to fight terrorism may not have been heartfelt . \n",
              "  xxmaj here is a valuable excerpt from the interview : \n",
              "  xxmaj john xxmaj pilger : xxmaj the xxmaj saudis , the xxmaj qataris , the xxmaj moroccans , the xxmaj bahrainis , particularly the first two , are giving all this money to the xxmaj clinton xxmaj foundation , while xxmaj hillary xxmaj clinton is secretary of state , and the xxmaj state xxmaj department is approving massive arms sales , particularly xxmaj saudi xxmaj arabia . \n",
              "  xxmaj julian xxmaj assange : xxmaj under xxmaj hillary xxmaj clinton – and the xxmaj clinton emails reveal a significant discussion of it – the biggest - ever arms deal in the world was made with xxmaj saudi xxmaj arabia : more than $ 80 billion . xxmaj during her tenure , the total arms exports from the xxup u.s. doubled in dollar value \n",
              "  xxup jp : xxmaj of course , the consequence of that is that this notorious jihadist group , called xxup isil or xxup isis , is created largely with money from people who are giving money to the xxmaj clinton xxmaj foundation ? \n",
              "  xxup ja : xxmaj yes . \n",
              "  xxmaj pilger asked xxmaj assange if he thought the accusations against the xxmaj clinton campaign would have any effect on the xxmaj democratic nominee winning the 2016 presidential election . xxmaj assange also believes that next xxmaj tuesday ’s election is absolutely rigged , and is in favor of xxmaj hillary xxmaj clinton . xxmaj he said , \n",
              "  xxmaj my analysis is that xxmaj trump would not be permitted to win . xxmaj why do i say that ? xxmaj because he has had every establishment off his side . xxmaj trump does not have one establishment , maybe with the exception of the xxmaj evangelicals , if you can call them an establishment . xxmaj banks , intelligence , arms companies , foreign money , etc . are all united behind xxmaj hillary xxmaj clinton . xxmaj and the media as well . xxmaj media owners , and the journalists themselves . \n",
              "  xxup fake,xxbos xxmaj the younger xxmaj trump swears his foundation gives all of its money away to good causes . xxmaj which is true , if you do n’t count the cash spent on xxmaj trump - owned resorts . xxmaj or the plastic surgeon . \n",
              " \n",
              "  xxmaj those are some of the beneficiaries of the xxmaj eric xxmaj trump xxmaj foundation , an xxunk public charity headed by the xxmaj republican presidential nominee ’s third - born . xxmaj though xxmaj eric xxmaj trump — the executive vice president of development and acquisitions for the xxmaj trump xxmaj organization , and one of his father ’s top surrogates and closest political advisers — recently claimed his father had donated “ hundreds of thousands ” to his charity , the only available evidence seems to suggest payments , in fact , went the other way : the xxmaj eric xxmaj trump xxmaj foundation ( xxup xxunk ) paying hundreds of thousands over the last 10 years to host lavish fundraising events at   xxmaj donald xxmaj trump ’s golf courses . \n",
              " \n",
              "  xxmaj in promotional videos and press releases , xxup xxunk touts a 95 to 100 percent donation ratio and implies that by benefit of being a xxmaj trump , namesake properties are handed over for charity events at little or no cost . xxmaj but according to a xxmaj daily xxmaj beast analysis of annual xxup irs reports and xxmaj new xxmaj york state financial disclosures from the charity ’s inception in 2007 to 2014 , the most recent year for which data is available , xxup xxunk spent $ xxunk on its annual xxmaj golf xxmaj xxunk at xxmaj trump - owned clubs , a portion of xxunk in 2013 and $ xxunk in xxunk reported as paid directly “ to a company of a family member of the xxmaj board of xxmaj directors . ” xxmaj in other words , xxmaj donald xxmaj trump himself . \n",
              " \n",
              "  xxmaj donald xxmaj trump , and his private foundation , are already in hot water as reports swirl of suspected self - dealing , or using his foundation funds for private gain . xxmaj indeed , the man who considers a presidential run as an opportunity to turn a profit made headlines and invited criticism this week , after xxmaj the xxmaj washington xxmaj post revealed that the self - professed billionaire had reportedly used monies from the xxmaj donald xxup j. xxmaj trump xxmaj foundation to pay off $ xxunk in legal disputes . xxmaj previous reports found xxmaj donald xxmaj trump had also used the fund — which he has n’t personally donated to since xxunk purchase portraits of himself , and gift $ 25,000 to xxmaj florida xxmaj attorney xxmaj general xxmaj pam xxmaj bondi in a possible quid pro quo to head off an investigation into his shady xxmaj trump xxmaj university , both of which may have violated federal and state tax laws . xxmaj new xxmaj york ’s attorney general is currently investigating the reports . \n",
              " \n",
              "  xxmaj of course , viewed through the prism of his father ’s questionable philanthropic practices , xxmaj eric xxmaj trump ’s foundation seems downright angelic . xxmaj eric xxmaj trump ’s foundation operates with almost no overhead : xxmaj eric neither pays himself nor his board members and relies on xxmaj trump xxmaj organization employees who volunteer for whatever the foundation may need . xxmaj most importantly , xxmaj eric xxmaj trump ’s charity has , over the last 10 years according to its tax reports , raised $ 6.5 million for xxmaj st. xxmaj jude xxmaj children ’s xxmaj research xxmaj hospital , a beloved xxmaj tennessee - based nonprofit that treats children with catastrophic diseases free - of - charge . xxmaj that figure nearly doubles , when you include the year - long fundraisers utilizing xxmaj trump hotels — where guests are encouraged to donate and buy special services , a percentage of which goes to xxmaj st. xxmaj jude — and employees , who both contribute their money and volunteer their time by competing in company - wide contests and organizing events like car washes , bake sales , and walk - a - xxunk , to raise cash that goes straight to the hospital — over $ 600,000 this past year , according to xxup xxunk ’s executive director , xxmaj paige xxmaj xxunk . \n",
              " \n",
              "  “ xxmaj we pride ourselves on having an extremely low expense ratio and that is only made possible by leveraging off the xxmaj trump assets , ” xxmaj xxunk wrote in an email to xxmaj the xxmaj daily xxmaj beast . “ xxmaj trump assets are not profiting from these xxup xxunk events , but instead they are donating their time and resources to the cause . ” \n",
              " \n",
              "  “ xxmaj we ’re so lucky as xxmaj trumps to have the best hotels in the world , to have the best golf courses in the world , and other great assets , and we ’re so lucky to be able to use those assets at our disposal for a great purpose . xxmaj and that ’s really what xxup xxunk is , ” xxmaj eric says in a 2016 video . \n",
              " \n",
              "  “ xxmaj it sounds like they were just making a number up , ” said xxmaj elizabeth xxmaj xxunk , a xxmaj boston xxmaj university professor who studies nonprofit finance . “ xxmaj they should have had a proposal that said , ‘ xxmaj these are the costs , ’ for which there should be an xxunk , detailing what the foundation was paying for . xxmaj instead it sounds like the golf course just said , ' xxmaj give us $ 100,000 . ' ” \n",
              " \n",
              "  xxmaj xxunk took the reins as xxup xxunk ’s director in xxmaj january , replacing a woman who left the organization after eight months . xxmaj and hers was n’t the only high - level dropout this year . xxmaj the foundation ’s xxmaj board of xxmaj directors and xxmaj executive xxmaj committee have each lost a member since xxmaj march : xxmaj jeffrey xxmaj xxunk , a freelance real - estate broker and consultant with a history of bid rigging on construction projects , and xxmaj nathan xxmaj crisp , until recently , a xxmaj trump xxmaj hotels executive who police accused of twice slamming a xxmaj brooklyn mother to the ground on xxmaj easter . \n",
              " \n",
              "  xxmaj when asked why the xxmaj trump xxmaj organization did n’t donate the use of the courses , xxmaj michael xxmaj cohen , a longtime attorney to xxmaj donald xxmaj trump and board member on the xxmaj eric xxmaj trump foundation , said , “ i believe there are certain rules that you do have to pay for certain things — they’re not marked up . xxmaj it ’s inexpensive . i think there ’s some law that says you have to . ” \n",
              " \n",
              "  xxmaj trump xxmaj national xxmaj golf xxmaj club xxmaj westchester , where xxup xxunk ’s annual event is held , did not return a request for event pricing , but charities which have held fundraisers at xxmaj trump clubs showed similar expenses and revenue in their tax reports ( known as 990s ) , suggesting xxmaj eric xxmaj trump indeed paid a standard rate — around $ xxunk use of his father ’s property . xxmaj tic xxmaj xxunk xxmaj stop , a charity dedicated to funding xxmaj xxunk xxmaj syndrome research , paid $ xxunk for a smaller golf outing in 2014 . xxmaj and according to xxmaj the xxmaj boston xxmaj globe , the xxmaj dana - xxmaj xxunk xxmaj cancer xxmaj institute — which has held its annual gala at xxmaj trump ’s xxmaj florida club , xxmaj mar - a - xxmaj lago , for the last six years — paid around $ 150,000 for a fundraiser with up to 600 guests . xxmaj the most recent xxup xxunk fundraiser boasted 500 attendees . \n",
              " \n",
              "  xxmaj though the xxmaj eric xxmaj trump xxmaj foundation ’s website says , “ xxmaj we exclusively support xxmaj st. xxmaj jude xxmaj children ’s xxmaj research xxmaj hospital , ” that is n’t the case . xxmaj in 2012 , xxup xxunk began donating in earnest to other causes , cutting small checks to 40 individual charities in addition to the outsize donation given to the children ’s hospital . xxmaj some of these small donations — like the $ 1,600 to the xxmaj american xxmaj society for xxmaj xxunk and xxmaj xxunk , a xxmaj california wine industry organization where xxmaj eric xxmaj trump once gave a keynote address — have seemingly little to do with the charity ’s mission of helping sick children . \n",
              " \n",
              "  xxmaj the cat ’s cradle of connections do n’t end there . xxmaj the xxup xxunk fund paid out $ xxunk that same year for their golf tournament — an annual event held at xxmaj trump ’s xxmaj hudson xxmaj valley course that cost nearly double what the charity gave out in grants that year . xxmaj they , along with at least six other charities that have received donations from the xxmaj eric xxmaj trump xxmaj foundation since 2012 , hold fundraising events at xxmaj trump golf clubs . xxup real,xxbos xxmaj email \n",
              " \n",
              "  xxmaj it appears xxmaj bill and xxmaj hillary xxmaj clinton are making plans to flee the country in the event xxmaj donald xxmaj trump wins this election . \n",
              "  xxmaj reports are circulating that the xxmaj clintons have transferred 1.8 xxmaj billion dollars from the xxmaj clinton xxmaj foundation to the xxmaj qatar xxmaj central xxmaj bank , via a facilitation / xxunk of xxup jp xxmaj morgan xxmaj chase & xxmaj company for reasons not revealed . \n",
              "  xxmaj this move of such a large sum of money to the country of xxmaj qatar says in itself , xxmaj hillary xxmaj clinton knows she is going to lose the election , and she does n’t plan to allow herself to be prosecuted for various high crimes and treason under a xxmaj trump xxmaj administration . \n",
              "  xxmaj the country of xxmaj qatar happens to be one of a handful of countries that does not have an extradition treaty with the xxmaj united xxmaj states , thus would be a perfect place for her to run to in escaping justice . \n",
              "  xxmaj donald xxmaj trump has said many times during his campaign and at the xxmaj presidential debates that once he gets into office , he intends to prosecute her on various high crimes from her latest crimes of sending classified material via a personal e mail server . xxmaj all the way to gun running to terrorist groups in xxmaj syria resulting in the deaths of 4 xxmaj americans in xxmaj benghazi . \n",
              "  xxmaj apparently , xxmaj hillary is not the only person in xxmaj washington who has made plans to escape justice under a xxmaj trump xxmaj administration . xxmaj john xxmaj kerry has quietly been selling his property in the xxup us for millions of dollars of late , with an announcement of the sale of his $ 25 million dollar xxmaj nantucket mansion in xxmaj june 2016 , as well as the sale of his yacht for $ 3.9 million in xxmaj july 2016 . \n",
              "  xxmaj president xxmaj barack h xxmaj obama has also apparently been making exit plans with his purchase of a $ 4.9 million dollar seaside mansion in xxmaj dubai in xxmaj january 2016 , another non extradition country . \n",
              "  xxmaj snopes and other supposed fact checking sites have debunked both the story of xxmaj obama ’s purchase of the mansion and the firing of xxmaj rear xxmaj admiral xxmaj rick xxmaj williams . xxmaj however , over the last several months , these sites have been busted for lying in trying to debunk such information as the before mentioned , when in fact the information is true . \n",
              "  xxmaj snopes and other sites try their best to keep incriminating information from being believed , but the truth has a way of coming out on its own , as it always has . xxup fake,xxbos xxmaj watch xxmaj hillary xxmaj clintons xxmaj concession xxmaj speech xxmaj video \n",
              "  xxunk night i congratulated xxmaj donald xxmaj trump and offered to work with him on behalf of our country . i hope that he will be a president for all of our country ... \n",
              "  xxunk sorry that we did not win this election for the values we all share ... \n",
              "  xxunk represent the best of xxmaj america , and being your candidate has been one of the greatest honors of my life . i know how disappointed you feel , because i feel it too xxrep 4 . xxmaj donald xxmaj trump 's xxmaj victory xxmaj speech xxup fake\n",
              "y: LMLabelList\n",
              ",,,,\n",
              "Path: .;\n",
              "\n",
              "Test: None, model=SequentialRNN(\n",
              "  (0): AWD_LSTM(\n",
              "    (encoder): Embedding(32800, 400, padding_idx=1)\n",
              "    (encoder_dp): EmbeddingDropout(\n",
              "      (emb): Embedding(32800, 400, padding_idx=1)\n",
              "    )\n",
              "    (rnns): ModuleList(\n",
              "      (0): WeightDropout(\n",
              "        (module): LSTM(400, 1152, batch_first=True)\n",
              "      )\n",
              "      (1): WeightDropout(\n",
              "        (module): LSTM(1152, 1152, batch_first=True)\n",
              "      )\n",
              "      (2): WeightDropout(\n",
              "        (module): LSTM(1152, 400, batch_first=True)\n",
              "      )\n",
              "    )\n",
              "    (input_dp): RNNDropout()\n",
              "    (hidden_dps): ModuleList(\n",
              "      (0): RNNDropout()\n",
              "      (1): RNNDropout()\n",
              "      (2): RNNDropout()\n",
              "    )\n",
              "  )\n",
              "  (1): LinearDecoder(\n",
              "    (decoder): Linear(in_features=400, out_features=32800, bias=True)\n",
              "    (output_dp): RNNDropout()\n",
              "  )\n",
              "), opt_func=functools.partial(<class 'torch.optim.adam.Adam'>, betas=(0.9, 0.99)), loss_func=FlattenedLoss of CrossEntropyLoss(), metrics=[<function accuracy at 0x7f4c03c08620>], true_wd=True, bn_wd=True, wd=0.01, train_bn=True, path=PosixPath('.'), model_dir='models', callback_fns=[functools.partial(<class 'fastai.basic_train.Recorder'>, add_time=True, silent=False)], callbacks=[...], layer_groups=[Sequential(\n",
              "  (0): WeightDropout(\n",
              "    (module): LSTM(400, 1152, batch_first=True)\n",
              "  )\n",
              "  (1): RNNDropout()\n",
              "), Sequential(\n",
              "  (0): WeightDropout(\n",
              "    (module): LSTM(1152, 1152, batch_first=True)\n",
              "  )\n",
              "  (1): RNNDropout()\n",
              "), Sequential(\n",
              "  (0): WeightDropout(\n",
              "    (module): LSTM(1152, 400, batch_first=True)\n",
              "  )\n",
              "  (1): RNNDropout()\n",
              "), Sequential(\n",
              "  (0): Embedding(32800, 400, padding_idx=1)\n",
              "  (1): EmbeddingDropout(\n",
              "    (emb): Embedding(32800, 400, padding_idx=1)\n",
              "  )\n",
              "  (2): LinearDecoder(\n",
              "    (decoder): Linear(in_features=400, out_features=32800, bias=True)\n",
              "    (output_dp): RNNDropout()\n",
              "  )\n",
              ")], add_time=True, silent=False)\n",
              "alpha: 2.0\n",
              "beta: 1.0], layer_groups=[Sequential(\n",
              "  (0): WeightDropout(\n",
              "    (module): LSTM(400, 1152, batch_first=True)\n",
              "  )\n",
              "  (1): RNNDropout()\n",
              "), Sequential(\n",
              "  (0): WeightDropout(\n",
              "    (module): LSTM(1152, 1152, batch_first=True)\n",
              "  )\n",
              "  (1): RNNDropout()\n",
              "), Sequential(\n",
              "  (0): WeightDropout(\n",
              "    (module): LSTM(1152, 400, batch_first=True)\n",
              "  )\n",
              "  (1): RNNDropout()\n",
              "), Sequential(\n",
              "  (0): Embedding(32800, 400, padding_idx=1)\n",
              "  (1): EmbeddingDropout(\n",
              "    (emb): Embedding(32800, 400, padding_idx=1)\n",
              "  )\n",
              "  (2): LinearDecoder(\n",
              "    (decoder): Linear(in_features=400, out_features=32800, bias=True)\n",
              "    (output_dp): RNNDropout()\n",
              "  )\n",
              ")], add_time=True, silent=False)"
            ]
          },
          "metadata": {
            "tags": []
          },
          "execution_count": 20
        }
      ]
    },
    {
      "cell_type": "markdown",
      "metadata": {
        "id": "3solbQCVi1Di",
        "colab_type": "text"
      },
      "source": [
        "After trainig the language model, we can ask it to predict the next words by giving it a couple of words in the beginning. Here, we give the words 'Trump's daughter' and ask it to predict the next 100 words. Results are hilarious:-)"
      ]
    },
    {
      "cell_type": "code",
      "metadata": {
        "id": "q-9k_jwFi1Dj",
        "colab_type": "code",
        "outputId": "57dd92d8-1caf-4b93-aea2-e7184b5f17cf",
        "colab": {
          "base_uri": "https://localhost:8080/",
          "height": 54
        }
      },
      "source": [
        "learn.predict(\"Trump's daughter:\", 100, temperature=0.5 ,min_p =0.001)"
      ],
      "execution_count": 0,
      "outputs": [
        {
          "output_type": "execute_result",
          "data": {
            "text/plain": [
              "\"Trump's daughter: Her daughter Melania Trump , who was born in Indiana , said she was born in Indiana to Trump Jr. . The Republican nominee was born in Indiana and is a Muslim . Trump is a Republican , but his father was a British native and his father was a Muslim . Trump is known as a Muslim and is known for his religious beliefs . His father , Stephen Trump , was a Muslim . He was\""
            ]
          },
          "metadata": {
            "tags": []
          },
          "execution_count": 21
        }
      ]
    },
    {
      "cell_type": "markdown",
      "metadata": {
        "id": "r7aPcpgui1Dm",
        "colab_type": "text"
      },
      "source": [
        "Now we can save the language model as an encoder"
      ]
    },
    {
      "cell_type": "code",
      "metadata": {
        "id": "gBsMtiFWi1Dm",
        "colab_type": "code",
        "colab": {}
      },
      "source": [
        "learn.save_encoder('enc1-6J')"
      ],
      "execution_count": 0,
      "outputs": []
    },
    {
      "cell_type": "code",
      "metadata": {
        "id": "-VnPTpCyi1Dp",
        "colab_type": "code",
        "outputId": "aecf52bc-20e4-4799-cb4c-5ca3c9a5d0b9",
        "colab": {
          "base_uri": "https://localhost:8080/",
          "height": 1000
        }
      },
      "source": [
        "learn.load_encoder('enc1-6J')"
      ],
      "execution_count": 0,
      "outputs": [
        {
          "output_type": "execute_result",
          "data": {
            "text/plain": [
              "LanguageLearner(data=TextLMDataBunch;\n",
              "\n",
              "Train: LabelList (5068 items)\n",
              "x: LMTextList\n",
              "xxbos xxmaj daniel xxmaj greenfield , a xxmaj shillman xxmaj journalism xxmaj fellow at the xxmaj freedom xxmaj center , is a xxmaj new xxmaj york writer focusing on radical xxmaj islam . \n",
              "  xxmaj in the final stretch of the election , xxmaj hillary xxmaj rodham xxmaj clinton has gone to war with the xxup fbi . \n",
              "  xxmaj the word “ unprecedented ” has been thrown around so often this election that it ought to be retired . xxmaj but it ’s still unprecedented for the nominee of a major political party to go war with the xxup fbi . \n",
              "  xxmaj but that ’s exactly what xxmaj hillary and her people have done . xxmaj coma patients just waking up now and watching an hour of xxup cnn from their hospital beds would assume that xxup fbi xxmaj director xxmaj james xxmaj comey is xxmaj hillary ’s opponent in this election . \n",
              "  xxmaj the xxup fbi is under attack by everyone from xxmaj obama to xxup cnn . xxmaj hillary ’s people have circulated a letter attacking xxmaj comey . xxmaj there are currently more media hit pieces lambasting him than targeting xxmaj trump . xxmaj it would n’t be too surprising if the xxmaj clintons or their allies were to start running attack ads against the xxup fbi . \n",
              "  xxmaj the xxup fbi ’s leadership is being warned that the entire left - wing establishment will form a lynch mob if they continue going after xxmaj hillary . xxmaj and the xxup fbi ’s credibility is being attacked by the media and the xxmaj democrats to preemptively head off the results of the investigation of the xxmaj clinton xxmaj foundation and xxmaj hillary xxmaj clinton . \n",
              "  xxmaj the covert struggle between xxup fbi agents and xxmaj obama ’s xxup doj people has gone xxunk public . \n",
              "  xxmaj the xxmaj new xxmaj york xxmaj times has compared xxmaj comey to xxup j. xxmaj edgar xxmaj hoover . xxmaj its bizarre headline , “ xxmaj james xxmaj comey xxmaj role xxmaj recalls xxmaj hoover ’s xxup fbi , xxmaj fairly or xxmaj not ” practically admits up front that it ’s spouting nonsense . xxmaj the xxmaj boston xxmaj globe has published a column calling for xxmaj comey ’s resignation . xxmaj not to be outdone , xxmaj time has an editorial claiming that the scandal is really an attack on all women . \n",
              "  xxmaj james xxmaj carville appeared on xxup msnbc to remind everyone that he was still alive and insane . xxmaj he accused xxmaj comey of coordinating with xxmaj house xxmaj republicans and the xxup kgb . xxmaj and you thought the “ vast right wing conspiracy ” was a stretch . \n",
              "  xxmaj countless media stories charge xxmaj comey with violating procedure . xxmaj do you know what ’s a procedural violation ? xxmaj emailing classified information stored on your bathroom server . \n",
              "  xxmaj senator xxmaj harry xxmaj reid has sent xxmaj comey a letter accusing him of violating the xxmaj hatch xxmaj act . xxmaj the xxmaj hatch xxmaj act is a nice idea that has as much relevance in the age of xxmaj obama as the xxmaj tenth xxmaj amendment . xxmaj but the cable news spectrum quickly filled with media hacks glancing at the xxmaj wikipedia article on the xxmaj hatch xxmaj act under the table while accusing the xxup fbi director of one of the most awkward conspiracies against xxmaj hillary ever . \n",
              "  xxmaj if xxmaj james xxmaj comey is really out to hurt xxmaj hillary , he picked one hell of a strange way to do it . \n",
              "  xxmaj not too long ago xxmaj democrats were breathing a sigh of relief when he gave xxmaj hillary xxmaj clinton a pass in a prominent public statement . xxmaj if he really were out to elect xxmaj trump by keeping the email scandal going , why did he trash the investigation ? xxmaj was he on the payroll of xxmaj house xxmaj republicans and the xxup kgb back then and playing it coy or was it a sudden development where xxmaj vladimir xxmaj putin and xxmaj paul xxmaj ryan talked him into taking a look at xxmaj anthony xxmaj weiner ’s computer ? \n",
              "  xxmaj either xxmaj comey is the most cunning xxup fbi director that ever lived or he ’s just awkwardly trying to navigate a political mess that has trapped him between a xxup doj leadership whose political futures are tied to xxmaj hillary ’s victory and his own bureau whose apolitical agents just want to be allowed to do their jobs . \n",
              "  xxmaj the only truly mysterious thing is why xxmaj hillary and her associates decided to go to war with a respected xxmaj federal agency . xxmaj most xxmaj americans like the xxup fbi while xxmaj hillary xxmaj clinton enjoys a 60 % unfavorable rating . \n",
              "  xxmaj and it ’s an interesting question . \n",
              "  xxmaj hillary ’s old strategy was to lie and deny that the xxup fbi even had a criminal investigation underway . xxmaj instead her associates insisted that it was a security review . xxmaj the xxup fbi corrected her and she shrugged it off . xxmaj but the old breezy denial approach has given way to a savage assault on the xxup fbi . \n",
              "  xxmaj pretending that nothing was wrong was a bad strategy , but it was a better one that picking a fight with the xxup fbi while lunatic xxmaj clinton associates try to claim that the xxup fbi is really the xxup kgb . \n",
              "  xxmaj there are two possible explanations . \n",
              "  xxmaj hillary xxmaj clinton might be arrogant enough to lash out at the xxup fbi now that she believes that victory is near . xxmaj the same kind of hubris that led her to plan her victory fireworks display could lead her to declare a war on the xxup fbi for irritating her during the final miles of her campaign . \n",
              "  xxmaj but the other explanation is that her people panicked . \n",
              "  xxmaj going to war with the xxup fbi is not the behavior of a smart and focused presidential campaign . xxmaj it ’s an act of desperation . xxmaj when a presidential candidate decides that her only option is to try and destroy the credibility of the xxup fbi , that ’s not hubris , it ’s fear of what the xxup fbi might be about to reveal about her . \n",
              "  xxmaj during the original xxup fbi investigation , xxmaj hillary xxmaj clinton was confident that she could ride it out . xxmaj and she had good reason for believing that . xxmaj but that xxmaj hillary xxmaj clinton is gone . xxmaj in her place is a paranoid wreck . xxmaj within a short space of time the “ positive ” xxmaj clinton campaign promising to unite the country has been replaced by a desperate and flailing operation that has focused all its energy on fighting the xxup fbi . \n",
              "  xxmaj there ’s only one reason for such bizarre behavior . \n",
              "  xxmaj the xxmaj clinton campaign has decided that an xxup fbi investigation of the latest batch of emails poses a threat to its survival . xxmaj and so it ’s gone all in on fighting the xxup fbi . xxmaj it ’s an unprecedented step born of fear . xxmaj it ’s hard to know whether that fear is justified . xxmaj but the existence of that fear already tells us a whole lot . \n",
              "  xxmaj clinton loyalists rigged the old investigation . xxmaj they knew the outcome ahead of time as well as they knew the debate questions . xxmaj now suddenly they are no longer in control . xxmaj and they are afraid . \n",
              "  xxmaj you can smell the fear . \n",
              "  xxmaj the xxup fbi has wiretaps from the investigation of the xxmaj clinton xxmaj foundation . xxmaj it ’s finding new emails all the time . xxmaj and xxmaj clintonworld panicked . xxmaj the xxunk of xxmaj clintonworld have claimed that the email scandal is just so much smoke without fire . xxmaj all that ’s here is the appearance of impropriety without any of the substance . xxmaj but this is n’t how you react to smoke . xxmaj it ’s how you respond to a fire . \n",
              "  xxmaj the misguided assault on the xxup fbi tells us that xxmaj hillary xxmaj clinton and her allies are afraid of a revelation bigger than the fundamental illegality of her email setup . xxmaj the email setup was a preemptive cover up . xxmaj the xxmaj clinton campaign has panicked badly out of the belief , right or wrong , that whatever crime the illegal setup was meant to cover up is at risk of being exposed . \n",
              "  xxmaj the xxmaj clintons have weathered countless scandals over the years . xxmaj whatever they are protecting this time around is bigger than the usual corruption , bribery , sexual assaults and abuses of power that have followed them around throughout the years . xxmaj this is bigger and more damaging than any of the allegations that have already come out . xxmaj and they do n’t want xxup fbi investigators anywhere near it . \n",
              "  xxmaj the campaign against xxmaj comey is pure intimidation . xxmaj it ’s also a warning . xxmaj any senior xxup fbi people who value their careers are being warned to stay away . xxmaj the xxmaj democrats are closing ranks around their nominee against the xxup fbi . xxmaj it ’s an ugly and unprecedented scene . xxmaj it may also be their last stand . \n",
              "  xxmaj hillary xxmaj clinton has awkwardly wound her way through numerous scandals in just this election cycle . xxmaj but she ’s never shown fear or desperation before . xxmaj now that has changed . xxmaj whatever she is afraid of , it lies buried in her emails with xxmaj huma xxmaj abedin . xxmaj and it can bring her down like nothing else has . xxup fake,xxbos xxmaj google xxmaj pinterest xxmaj digg xxmaj linkedin xxmaj reddit xxmaj stumbleupon xxmaj print xxmaj delicious xxmaj pocket xxmaj tumblr \n",
              "  xxmaj there are two fundamental truths in this world : xxmaj paul xxmaj ryan desperately wants to be president . xxmaj and xxmaj paul xxmaj ryan will never be president . xxmaj today proved it . \n",
              "  xxmaj in a particularly staggering example of political cowardice , xxmaj paul xxmaj ryan re - re - re - reversed course and announced that he was back on the xxmaj trump xxmaj train after all . xxmaj this was an xxunk from where he was a few weeks ago . xxmaj he had previously declared he would not be supporting or defending xxmaj trump after a tape was made public in which xxmaj trump bragged about assaulting women . xxmaj suddenly , xxmaj ryan was appearing at a pro - xxmaj trump rally and boldly declaring that he already sent in his vote to make him xxmaj president of the xxmaj united xxmaj states . xxmaj it was a surreal moment . xxmaj the figurehead of the xxmaj republican xxmaj party xxunk himself in gasoline , got up on a stage on a chilly afternoon in xxmaj wisconsin , and lit a match . . @speakerryan says he voted for @realdonaldtrump : “ xxmaj republicans , it is time to come home ” https : / / t.co / xxunk pic.twitter.com / xxunk \n",
              "  — xxup abc xxmaj news xxmaj politics ( xxunk ) xxmaj november 5 , 2016 \n",
              "  xxmaj the xxmaj democratic xxmaj party could n’t have asked for a better moment of film . xxmaj ryan ’s chances of ever becoming president went down to zero in an instant . xxmaj in the wreckage xxmaj trump is to leave behind in his wake , those who xxunk backed his campaign will not recover . xxmaj if xxmaj ryan ’s career manages to limp all the way to 2020 , then the xxup dnc will have this tape locked and loaded to be used in every ad until xxmaj election xxmaj day . \n",
              "  xxmaj the ringing endorsement of the man he clearly hates on a personal level speaks volumes about his own spinelessness . xxmaj ryan has xxunk himself as a “ principled ” conservative , and one uncomfortable with xxmaj trump ’s unapologetic bigotry and sexism . xxmaj however , when push came to shove , xxmaj paul xxmaj ryan – like many of his colleagues – turned into a sniveling xxunk . xxmaj after all his lofty xxunk about conviction , his principles were a house of cards and collapsed with the slightest breeze . \n",
              "  xxmaj what ’s especially bizarre is how close xxmaj ryan came to making it through unscathed . xxmaj for months the xxmaj speaker of the xxmaj house refused to comment on xxmaj trump at all . xxmaj his strategy seemed to be to keep his head down , pretend xxmaj trump did n’t exist , and hope that nobody remembered what happened in 2016 . xxmaj now , just days away from the election , he screwed it all up . \n",
              "  xxmaj if 2016 ’s very ugly election has done any good it ’s by exposing the utter cowardice of the xxmaj republicans who once feigned moral courage . a reality television star spit on them , hijacked their party , insulted their wives , and got every last one of them to kneel before him . xxmaj what a turn of events . \n",
              "  xxmaj featured image via xxmaj twitter xxup fake,xxbos xxup u.s. xxmaj secretary of xxmaj state xxmaj john xxup f. xxmaj kerry said xxmaj monday that he will stop in xxmaj paris later this week , amid criticism that no top xxmaj american officials attended xxmaj sunday ’s unity march against terrorism . \n",
              " \n",
              "  xxmaj kerry said he expects to arrive in xxmaj paris xxmaj thursday evening , as he heads home after a week abroad . xxmaj he said he will fly to xxmaj france at the conclusion of a series of meetings scheduled for xxmaj thursday in xxmaj sofia , xxmaj bulgaria . xxmaj he plans to meet the next day with xxmaj foreign xxmaj minister xxmaj laurent xxmaj fabius and xxmaj president xxmaj francois xxmaj hollande , then return to xxmaj washington . \n",
              " \n",
              "  xxmaj the visit by xxmaj kerry , who has family and childhood ties to the country and speaks fluent xxmaj french , could address some of the criticism that the xxmaj united xxmaj states snubbed xxmaj france in its darkest hour in many years . \n",
              " \n",
              "  xxmaj the xxmaj french press on xxmaj monday was filled with questions about why neither xxmaj president xxmaj obama nor xxmaj kerry attended xxmaj sunday ’s march , as about 40 leaders of other nations did . xxmaj obama was said to have stayed away because his own security needs can be taxing on a country , and xxmaj kerry had prior commitments . \n",
              " \n",
              "  xxmaj among roughly 40 leaders who did attend was xxmaj israeli xxmaj prime xxmaj minister xxmaj benjamin xxmaj netanyahu , no stranger to intense security , who marched beside xxmaj hollande through the city streets . xxmaj the highest ranking xxup u.s. officials attending the march were xxmaj jane xxmaj hartley , the ambassador to xxmaj france , and xxmaj victoria xxmaj nuland , the assistant secretary of state for xxmaj european affairs . xxmaj attorney xxmaj general xxmaj eric xxup h. xxmaj holder xxmaj jr. was in xxmaj paris for meetings with law enforcement officials but did not participate in the march . \n",
              " \n",
              "  xxmaj kerry spent xxmaj sunday at a business summit hosted by xxmaj india ’s prime minister , xxmaj narendra xxmaj modi . xxmaj the xxmaj united xxmaj states is eager for xxmaj india to relax stringent laws that function as barriers to foreign investment and hopes xxmaj modi ’s government will act to open the huge xxmaj indian market for more xxmaj american businesses . \n",
              " \n",
              "  xxmaj in a news conference , xxmaj kerry brushed aside criticism that the xxmaj united xxmaj states had not sent a more senior official to xxmaj paris as “ quibbling a little bit . ” xxmaj he noted that many staffers of the xxmaj american xxmaj embassy in xxmaj paris attended the march , including the ambassador . xxmaj he said he had wanted to be present at the march himself but could not because of his prior commitments in xxmaj india . \n",
              " \n",
              "  “ xxmaj but that is why i am going there on the way home , to make it crystal clear how passionately we feel about the events that have taken place there , ” he said . \n",
              " \n",
              "  “ xxmaj and i do n’t think the people of xxmaj france have any doubts about xxmaj america ’s understanding of what happened , of our personal sense of loss and our deep commitment to the people of xxmaj france in this moment of trauma . ” xxup real,xxbos — xxmaj xxunk xxmaj king ( xxunk ) xxmaj november 9 , 2016 xxmaj the lesson from tonight 's xxmaj dem losses : xxmaj time for xxmaj democrats to start listening to the voters . xxmaj stop running the same establishment candidates . \n",
              "  — xxmaj people xxmaj for xxmaj bernie ( xxunk ) xxmaj november 9 , 2016 xxmaj if xxmaj dems did n't want a tight race they should n't have worked against xxmaj bernie . \n",
              "  — xxmaj walker xxmaj xxunk ( xxunk ) xxmaj november 9 , 2016 \n",
              "  xxmaj new xxmaj york xxmaj times columnist xxmaj paul xxmaj krugman , who was one of xxmaj hillary xxmaj clinton ’s most outspoken surrogates during the contentious xxmaj democratic primary , blamed xxmaj clinton ’s poor performance on xxmaj green xxmaj party candidate xxmaj jill xxmaj stein , who has so far received a negligible number of votes nationally , saying xxmaj stein was the xxmaj ralph xxmaj nader of 2016 in preventing a xxmaj clinton victory . xxmaj the account xxunk threw xxmaj krugman ’s analysis back in his face . xxmaj your candidate was the issue . xxmaj take responsibility . https : / / t.co / xxunk \n",
              "  — xxmaj teachers for xxmaj bernie ( xxunk ) xxmaj november 9 , 2016 \n",
              "  xxmaj ana xxmaj navarro , a xxmaj republican who recently endorsed xxmaj hillary xxmaj clinton , summed up the preposterous nature of the 2016 presidential election in this tweet : xxup gop nominated the only damn candidate who could lose to xxmaj hillary xxmaj clinton . xxmaj democrats nominated the only damn candidate who could lose to xxmaj trump \n",
              "  — xxmaj ana xxmaj navarro ( xxunk ) xxmaj november 9 , 2016 \n",
              "  xxmaj popular left - wing xxmaj facebook page xxmaj the xxmaj other 98 % , which was pro - xxmaj sanders during the primary , responded to xxmaj trump ’s surge by simply posting a meme of xxmaj sanders ’ face with the text “ xxmaj all this could ’ve been avoided . xxmaj thanks for nothing , xxup dnc ! ” xxmaj the meme has been shared almost 15,000 times in less than an hour : \n",
              "  xxmaj posted by xxmaj the xxmaj other 98 % on xxmaj tuesday , xxmaj november 8 , 2016 \n",
              "  xxmaj while xxmaj bernie xxmaj sanders endorsed xxmaj hillary xxmaj clinton just before the xxmaj democratic xxmaj national xxmaj convention in xxmaj july , many of his supporters remained adamant in their refusal to support the xxup dnc - anointed candidate , pointing to wikileaks ’ revelations that top officials at the xxup dnc had been working behind the scenes to tip the scales in xxmaj clinton ’s favor by coordinating with media figures to circulate anti - xxmaj sanders narratives . \n",
              "  xxmaj rather than attribute a potential xxmaj trump presidency to the xxup gop nominee ’s perceived popularity among voters , the closeness of this election could be credited to xxmaj hillary xxmaj clinton ’s unfavorable ratings . xxmaj according to realclearpolitics , anywhere between 51 and 57 percent of voters had a negative opinion of the xxmaj democratic nominee . \n",
              "  xxmaj as of 11 xxup pm xxmaj eastern , xxmaj florida , xxmaj michigan , xxmaj pennsylvania , and xxmaj wisconsin remain too close to call . xxmaj clinton has xxunk electoral votes to xxmaj trump ’s 187 . \n",
              " \n",
              "  xxmaj zach xxmaj cartwright is an activist and author from xxmaj richmond , xxmaj virginia . xxmaj he enjoys writing about politics , government , and the media . xxmaj send him an email at [ email protected ] xxup fake,xxbos xxmaj it 's primary day in xxmaj new xxmaj york and front - runners xxmaj hillary xxmaj clinton and xxmaj donald xxmaj trump are leading in the polls . \n",
              " \n",
              "  xxmaj trump is now vowing to win enough delegates to clinch the xxmaj republican nomination and prevent a contested convention . xxmaj but xxmaj sens . xxmaj ted xxmaj cruz , r - xxmaj texas , xxmaj bernie xxmaj sanders , d - xxmaj vt . , and xxmaj ohio xxmaj gov. xxmaj john xxmaj kasich and are n't giving up just yet . \n",
              " \n",
              "  a big win in xxmaj new xxmaj york could tip the scales for both the xxmaj republican and xxmaj democratic front - runners in this year 's race for the xxmaj white xxmaj house . xxmaj clinton and xxmaj trump have each suffered losses in recent contests , shifting the momentum to their rivals . \n",
              " \n",
              "  \" xxmaj we have won eight out of the last nine caucuses and primaries ! xxmaj cheer ! \" xxmaj sanders recently told supporters . \n",
              " \n",
              "  xxmaj while wins in xxmaj new xxmaj york for xxmaj trump and xxmaj clinton are expected , the margins of those victories are also important . \n",
              " \n",
              "  xxmaj trump needs to capture more than 50 percent of the vote statewide if he wants to be positioned to win all of the state 's 95 xxup gop delegates . xxmaj that would put him one step closer to avoiding a contested convention . \n",
              " \n",
              "  \" xxmaj we 've got to vote and you know xxmaj cruz is way , way down in the polls , \" xxmaj trump urged supporters . \n",
              " \n",
              "  xxmaj meanwhile , xxmaj sanders is hoping for a close race in the xxmaj empire xxmaj state . a loss by 10 points means he 'll need to win 80 percent of the remaining delegates to clinch the nomination . \n",
              " \n",
              "  xxmaj despite a predicted loss in xxmaj new xxmaj york , xxmaj cruz has n't lost momentum . xxmaj he 's hoping to sweep up more delegates this weekend while he 's talking about how he can win in xxmaj november . \n",
              " \n",
              "  \" xxmaj because if i 'm the nominee , we win the xxmaj general xxmaj election , \" xxmaj cruz promised his supporters . \" xxmaj we 're beating xxmaj hillary in the key swing states , we 're beating xxmaj hillary with xxmaj independents , we 're beating xxmaj hillary with young people . \" \n",
              " \n",
              "  xxmaj for now , xxmaj cruz , xxmaj kasich , and xxmaj sanders have all moved on from xxmaj new xxmaj york to other states . xxmaj trump and xxmaj clinton are the only two staying in their home state to watch the results come in . xxup real\n",
              "y: LMLabelList\n",
              ",,,,\n",
              "Path: .;\n",
              "\n",
              "Valid: LabelList (1267 items)\n",
              "x: LMTextList\n",
              "xxbos xxmaj thursday , 3 xxmaj november 2016 ' xxup vote xxup for xxup me , xxup what xxup have xxup you xxup got xxup to xxup lose ? \" \n",
              "  xxmaj donald xxmaj trump has given an amazing closing speech about why he should be elected xxmaj president in 2016 . xxmaj it can be broken down into different parts about why he should be elected according to xxmaj mr. xxmaj trump : \n",
              "  1 ) \" xxmaj people say i suffer from a pathological narcissistic disorder , am a xxunk , assault women , and am a sociopath . xxmaj well , suppose all of this is true . xxmaj it mostly is n't true of xxmaj bill xxmaj clinton and xxmaj barak xxmaj obama and look where these xxunk have gotten us today ! xxmaj they are total losers who have destroyed the military and the middle class . xxmaj why not give a crazy person a chance ? i 'm bound to be better than they are . xxmaj what have you got to lose ? \" \n",
              "  2 ) i 'm a great entertainer . xxmaj elect me and you 'll never be bored . xxmaj if i threaten some country or the other with nuclear annihilation you 'll hold your xxunk to see if i carry it out . xxmaj it will be amazingly exciting . xxmaj you 'll have nothing to lose ! \n",
              "  3 ) xxmaj previous xxmaj presidents , from what i 've read about only 4 of them , because of my limited attention span , have been relatively honest . xxmaj not me ! i 've engaged in many fraudulent business practices even cheating widows and orphans ! xxmaj why not try a deceitful xxunk like me ? xxmaj politics is just one big con anyway ! xxmaj what have you got to lose with a guy like me on your side ? xxmaj what have you got to lose ? xxmaj xxunk xxunk xxunk xxunk xxunk xxunk xxunk . \n",
              "  4 ) xxmaj the xxup pc people say that xxmaj presidents should be well read and educated . xxmaj and the lightweight loses who have been in the xxmaj oval office have mostly been that way . xxmaj even though i 've forgotten everything i 've learned , i did go to one of the best xxmaj ivy xxmaj league xxmaj schools . xxmaj and , remember this folks , reading is for low energy people who do n't have the best brains ; they are the opposite of me . xxmaj education and reading , believe me , are overrated . \n",
              "  5 ) xxmaj hatred , bigotry , racism , strong immigration restrictions , xxmaj nativism , xenophobia , anti - xxunk , advocacy of violence against one 's political opponents and misogyny are part of our xxmaj american heritage . i embody all of these . i am the true voice of the xxmaj american people . i \" tell it like it is , \" and say things millions of xxmaj americans are afraid to say . xxmaj that is why hate groups support me . \n",
              "  6 ) xxmaj people say i am a \" walking xxmaj xxunk \" i say , so what ? xxmaj the i d is very , very strong . xxmaj it is the xxunk in our brains . xxmaj it 's all about winning , being a celebrity and grabbing women 's xxunk to show one 's power . xxmaj it 's all about the strength and power that total losers do n't have . i am an unbelievably strong winner just like my friend xxmaj putin . xxmaj you need on your side . xxmaj vote for me . xxmaj what have you got to lose ? i truly am unbelievable . \" \n",
              "  xxmaj with apologies to xxmaj nicholas xxmaj xxunk whose 11 / 3 / 16 xxup nyt 's column sparked this . xxmaj make xxmaj keith xxmaj xxunk 's xxup fake,xxbos xxmaj julian xxmaj assange has undoubtedly been on a run , exposing endless and shocking truths regarding xxmaj democratic presidential nominee xxmaj hillary xxmaj clinton just days before the election is set to reveal the path the next four years will take in the xxup u.s. xxmaj via xxunk \n",
              " \n",
              "  xxmaj and now there ’s more news to be baffled over , with xxmaj assange claiming xxmaj hillary xxmaj clinton misled xxmaj americans about the reality of xxmaj islamic xxmaj state ’s support from xxmaj washington ’s xxmaj middle xxmaj east allies . xxmaj last month , xxmaj assange ’s wikileaks made a 2014 email public that exposed how then xxmaj secretary of xxmaj state xxmaj hillary xxmaj clinton urged then adviser to xxmaj president xxmaj barack xxmaj obama xxmaj john xxmaj podesta to “ bring pressure ” on xxmaj qatar and xxmaj saudi xxmaj arabia , saying that they were “ providing clandestine financial and logistic support to xxup isil [ xxmaj islamic xxmaj state , xxup is , xxup isis ] and other radical xxmaj sunni groups . ” xxmaj in a video , xxmaj assange called the email the “ most important ” of the entire collection of ammo wikileaks has obtained against the xxmaj clinton campaign : xxmaj all serious analysts know , and even the xxup us government has agreed , that some xxmaj saudi figures have been supporting xxup isis and funding xxup isis , but the dodge has always been that it is some “ rogue ” princes using their oil money to do whatever they like , but actually the government disapproves . xxmaj but that email says that it is the government of xxmaj saudi xxmaj arabia , and the government of xxmaj qatar that have been funding xxup isis . \n",
              "  xxmaj assange sat down with veteran journalist xxmaj john xxmaj pilger for a 25-minute interview within the xxmaj ecuadorian xxmaj embassy in xxmaj london , where xxmaj assange has been living as a refugee since 2012 . xxmaj he discussed in detail the conflict of interest between xxmaj clinton ’s official position , which occurred during xxmaj obama ’s first term , husband xxmaj bill xxmaj clinton ’s nonprofit , and the xxmaj middle xxmaj east officials , claiming the output or urgency to fight terrorism may not have been heartfelt . \n",
              "  xxmaj here is a valuable excerpt from the interview : \n",
              "  xxmaj john xxmaj pilger : xxmaj the xxmaj saudis , the xxmaj qataris , the xxmaj moroccans , the xxmaj bahrainis , particularly the first two , are giving all this money to the xxmaj clinton xxmaj foundation , while xxmaj hillary xxmaj clinton is secretary of state , and the xxmaj state xxmaj department is approving massive arms sales , particularly xxmaj saudi xxmaj arabia . \n",
              "  xxmaj julian xxmaj assange : xxmaj under xxmaj hillary xxmaj clinton – and the xxmaj clinton emails reveal a significant discussion of it – the biggest - ever arms deal in the world was made with xxmaj saudi xxmaj arabia : more than $ 80 billion . xxmaj during her tenure , the total arms exports from the xxup u.s. doubled in dollar value \n",
              "  xxup jp : xxmaj of course , the consequence of that is that this notorious jihadist group , called xxup isil or xxup isis , is created largely with money from people who are giving money to the xxmaj clinton xxmaj foundation ? \n",
              "  xxup ja : xxmaj yes . \n",
              "  xxmaj pilger asked xxmaj assange if he thought the accusations against the xxmaj clinton campaign would have any effect on the xxmaj democratic nominee winning the 2016 presidential election . xxmaj assange also believes that next xxmaj tuesday ’s election is absolutely rigged , and is in favor of xxmaj hillary xxmaj clinton . xxmaj he said , \n",
              "  xxmaj my analysis is that xxmaj trump would not be permitted to win . xxmaj why do i say that ? xxmaj because he has had every establishment off his side . xxmaj trump does not have one establishment , maybe with the exception of the xxmaj evangelicals , if you can call them an establishment . xxmaj banks , intelligence , arms companies , foreign money , etc . are all united behind xxmaj hillary xxmaj clinton . xxmaj and the media as well . xxmaj media owners , and the journalists themselves . \n",
              "  xxup fake,xxbos xxmaj the younger xxmaj trump swears his foundation gives all of its money away to good causes . xxmaj which is true , if you do n’t count the cash spent on xxmaj trump - owned resorts . xxmaj or the plastic surgeon . \n",
              " \n",
              "  xxmaj those are some of the beneficiaries of the xxmaj eric xxmaj trump xxmaj foundation , an xxunk public charity headed by the xxmaj republican presidential nominee ’s third - born . xxmaj though xxmaj eric xxmaj trump — the executive vice president of development and acquisitions for the xxmaj trump xxmaj organization , and one of his father ’s top surrogates and closest political advisers — recently claimed his father had donated “ hundreds of thousands ” to his charity , the only available evidence seems to suggest payments , in fact , went the other way : the xxmaj eric xxmaj trump xxmaj foundation ( xxup xxunk ) paying hundreds of thousands over the last 10 years to host lavish fundraising events at   xxmaj donald xxmaj trump ’s golf courses . \n",
              " \n",
              "  xxmaj in promotional videos and press releases , xxup xxunk touts a 95 to 100 percent donation ratio and implies that by benefit of being a xxmaj trump , namesake properties are handed over for charity events at little or no cost . xxmaj but according to a xxmaj daily xxmaj beast analysis of annual xxup irs reports and xxmaj new xxmaj york state financial disclosures from the charity ’s inception in 2007 to 2014 , the most recent year for which data is available , xxup xxunk spent $ xxunk on its annual xxmaj golf xxmaj xxunk at xxmaj trump - owned clubs , a portion of xxunk in 2013 and $ xxunk in xxunk reported as paid directly “ to a company of a family member of the xxmaj board of xxmaj directors . ” xxmaj in other words , xxmaj donald xxmaj trump himself . \n",
              " \n",
              "  xxmaj donald xxmaj trump , and his private foundation , are already in hot water as reports swirl of suspected self - dealing , or using his foundation funds for private gain . xxmaj indeed , the man who considers a presidential run as an opportunity to turn a profit made headlines and invited criticism this week , after xxmaj the xxmaj washington xxmaj post revealed that the self - professed billionaire had reportedly used monies from the xxmaj donald xxup j. xxmaj trump xxmaj foundation to pay off $ xxunk in legal disputes . xxmaj previous reports found xxmaj donald xxmaj trump had also used the fund — which he has n’t personally donated to since xxunk purchase portraits of himself , and gift $ 25,000 to xxmaj florida xxmaj attorney xxmaj general xxmaj pam xxmaj bondi in a possible quid pro quo to head off an investigation into his shady xxmaj trump xxmaj university , both of which may have violated federal and state tax laws . xxmaj new xxmaj york ’s attorney general is currently investigating the reports . \n",
              " \n",
              "  xxmaj of course , viewed through the prism of his father ’s questionable philanthropic practices , xxmaj eric xxmaj trump ’s foundation seems downright angelic . xxmaj eric xxmaj trump ’s foundation operates with almost no overhead : xxmaj eric neither pays himself nor his board members and relies on xxmaj trump xxmaj organization employees who volunteer for whatever the foundation may need . xxmaj most importantly , xxmaj eric xxmaj trump ’s charity has , over the last 10 years according to its tax reports , raised $ 6.5 million for xxmaj st. xxmaj jude xxmaj children ’s xxmaj research xxmaj hospital , a beloved xxmaj tennessee - based nonprofit that treats children with catastrophic diseases free - of - charge . xxmaj that figure nearly doubles , when you include the year - long fundraisers utilizing xxmaj trump hotels — where guests are encouraged to donate and buy special services , a percentage of which goes to xxmaj st. xxmaj jude — and employees , who both contribute their money and volunteer their time by competing in company - wide contests and organizing events like car washes , bake sales , and walk - a - xxunk , to raise cash that goes straight to the hospital — over $ 600,000 this past year , according to xxup xxunk ’s executive director , xxmaj paige xxmaj xxunk . \n",
              " \n",
              "  “ xxmaj we pride ourselves on having an extremely low expense ratio and that is only made possible by leveraging off the xxmaj trump assets , ” xxmaj xxunk wrote in an email to xxmaj the xxmaj daily xxmaj beast . “ xxmaj trump assets are not profiting from these xxup xxunk events , but instead they are donating their time and resources to the cause . ” \n",
              " \n",
              "  “ xxmaj we ’re so lucky as xxmaj trumps to have the best hotels in the world , to have the best golf courses in the world , and other great assets , and we ’re so lucky to be able to use those assets at our disposal for a great purpose . xxmaj and that ’s really what xxup xxunk is , ” xxmaj eric says in a 2016 video . \n",
              " \n",
              "  “ xxmaj it sounds like they were just making a number up , ” said xxmaj elizabeth xxmaj xxunk , a xxmaj boston xxmaj university professor who studies nonprofit finance . “ xxmaj they should have had a proposal that said , ‘ xxmaj these are the costs , ’ for which there should be an xxunk , detailing what the foundation was paying for . xxmaj instead it sounds like the golf course just said , ' xxmaj give us $ 100,000 . ' ” \n",
              " \n",
              "  xxmaj xxunk took the reins as xxup xxunk ’s director in xxmaj january , replacing a woman who left the organization after eight months . xxmaj and hers was n’t the only high - level dropout this year . xxmaj the foundation ’s xxmaj board of xxmaj directors and xxmaj executive xxmaj committee have each lost a member since xxmaj march : xxmaj jeffrey xxmaj xxunk , a freelance real - estate broker and consultant with a history of bid rigging on construction projects , and xxmaj nathan xxmaj crisp , until recently , a xxmaj trump xxmaj hotels executive who police accused of twice slamming a xxmaj brooklyn mother to the ground on xxmaj easter . \n",
              " \n",
              "  xxmaj when asked why the xxmaj trump xxmaj organization did n’t donate the use of the courses , xxmaj michael xxmaj cohen , a longtime attorney to xxmaj donald xxmaj trump and board member on the xxmaj eric xxmaj trump foundation , said , “ i believe there are certain rules that you do have to pay for certain things — they’re not marked up . xxmaj it ’s inexpensive . i think there ’s some law that says you have to . ” \n",
              " \n",
              "  xxmaj trump xxmaj national xxmaj golf xxmaj club xxmaj westchester , where xxup xxunk ’s annual event is held , did not return a request for event pricing , but charities which have held fundraisers at xxmaj trump clubs showed similar expenses and revenue in their tax reports ( known as 990s ) , suggesting xxmaj eric xxmaj trump indeed paid a standard rate — around $ xxunk use of his father ’s property . xxmaj tic xxmaj xxunk xxmaj stop , a charity dedicated to funding xxmaj xxunk xxmaj syndrome research , paid $ xxunk for a smaller golf outing in 2014 . xxmaj and according to xxmaj the xxmaj boston xxmaj globe , the xxmaj dana - xxmaj xxunk xxmaj cancer xxmaj institute — which has held its annual gala at xxmaj trump ’s xxmaj florida club , xxmaj mar - a - xxmaj lago , for the last six years — paid around $ 150,000 for a fundraiser with up to 600 guests . xxmaj the most recent xxup xxunk fundraiser boasted 500 attendees . \n",
              " \n",
              "  xxmaj though the xxmaj eric xxmaj trump xxmaj foundation ’s website says , “ xxmaj we exclusively support xxmaj st. xxmaj jude xxmaj children ’s xxmaj research xxmaj hospital , ” that is n’t the case . xxmaj in 2012 , xxup xxunk began donating in earnest to other causes , cutting small checks to 40 individual charities in addition to the outsize donation given to the children ’s hospital . xxmaj some of these small donations — like the $ 1,600 to the xxmaj american xxmaj society for xxmaj xxunk and xxmaj xxunk , a xxmaj california wine industry organization where xxmaj eric xxmaj trump once gave a keynote address — have seemingly little to do with the charity ’s mission of helping sick children . \n",
              " \n",
              "  xxmaj the cat ’s cradle of connections do n’t end there . xxmaj the xxup xxunk fund paid out $ xxunk that same year for their golf tournament — an annual event held at xxmaj trump ’s xxmaj hudson xxmaj valley course that cost nearly double what the charity gave out in grants that year . xxmaj they , along with at least six other charities that have received donations from the xxmaj eric xxmaj trump xxmaj foundation since 2012 , hold fundraising events at xxmaj trump golf clubs . xxup real,xxbos xxmaj email \n",
              " \n",
              "  xxmaj it appears xxmaj bill and xxmaj hillary xxmaj clinton are making plans to flee the country in the event xxmaj donald xxmaj trump wins this election . \n",
              "  xxmaj reports are circulating that the xxmaj clintons have transferred 1.8 xxmaj billion dollars from the xxmaj clinton xxmaj foundation to the xxmaj qatar xxmaj central xxmaj bank , via a facilitation / xxunk of xxup jp xxmaj morgan xxmaj chase & xxmaj company for reasons not revealed . \n",
              "  xxmaj this move of such a large sum of money to the country of xxmaj qatar says in itself , xxmaj hillary xxmaj clinton knows she is going to lose the election , and she does n’t plan to allow herself to be prosecuted for various high crimes and treason under a xxmaj trump xxmaj administration . \n",
              "  xxmaj the country of xxmaj qatar happens to be one of a handful of countries that does not have an extradition treaty with the xxmaj united xxmaj states , thus would be a perfect place for her to run to in escaping justice . \n",
              "  xxmaj donald xxmaj trump has said many times during his campaign and at the xxmaj presidential debates that once he gets into office , he intends to prosecute her on various high crimes from her latest crimes of sending classified material via a personal e mail server . xxmaj all the way to gun running to terrorist groups in xxmaj syria resulting in the deaths of 4 xxmaj americans in xxmaj benghazi . \n",
              "  xxmaj apparently , xxmaj hillary is not the only person in xxmaj washington who has made plans to escape justice under a xxmaj trump xxmaj administration . xxmaj john xxmaj kerry has quietly been selling his property in the xxup us for millions of dollars of late , with an announcement of the sale of his $ 25 million dollar xxmaj nantucket mansion in xxmaj june 2016 , as well as the sale of his yacht for $ 3.9 million in xxmaj july 2016 . \n",
              "  xxmaj president xxmaj barack h xxmaj obama has also apparently been making exit plans with his purchase of a $ 4.9 million dollar seaside mansion in xxmaj dubai in xxmaj january 2016 , another non extradition country . \n",
              "  xxmaj snopes and other supposed fact checking sites have debunked both the story of xxmaj obama ’s purchase of the mansion and the firing of xxmaj rear xxmaj admiral xxmaj rick xxmaj williams . xxmaj however , over the last several months , these sites have been busted for lying in trying to debunk such information as the before mentioned , when in fact the information is true . \n",
              "  xxmaj snopes and other sites try their best to keep incriminating information from being believed , but the truth has a way of coming out on its own , as it always has . xxup fake,xxbos xxmaj watch xxmaj hillary xxmaj clintons xxmaj concession xxmaj speech xxmaj video \n",
              "  xxunk night i congratulated xxmaj donald xxmaj trump and offered to work with him on behalf of our country . i hope that he will be a president for all of our country ... \n",
              "  xxunk sorry that we did not win this election for the values we all share ... \n",
              "  xxunk represent the best of xxmaj america , and being your candidate has been one of the greatest honors of my life . i know how disappointed you feel , because i feel it too xxrep 4 . xxmaj donald xxmaj trump 's xxmaj victory xxmaj speech xxup fake\n",
              "y: LMLabelList\n",
              ",,,,\n",
              "Path: .;\n",
              "\n",
              "Test: None, model=SequentialRNN(\n",
              "  (0): AWD_LSTM(\n",
              "    (encoder): Embedding(32800, 400, padding_idx=1)\n",
              "    (encoder_dp): EmbeddingDropout(\n",
              "      (emb): Embedding(32800, 400, padding_idx=1)\n",
              "    )\n",
              "    (rnns): ModuleList(\n",
              "      (0): WeightDropout(\n",
              "        (module): LSTM(400, 1152, batch_first=True)\n",
              "      )\n",
              "      (1): WeightDropout(\n",
              "        (module): LSTM(1152, 1152, batch_first=True)\n",
              "      )\n",
              "      (2): WeightDropout(\n",
              "        (module): LSTM(1152, 400, batch_first=True)\n",
              "      )\n",
              "    )\n",
              "    (input_dp): RNNDropout()\n",
              "    (hidden_dps): ModuleList(\n",
              "      (0): RNNDropout()\n",
              "      (1): RNNDropout()\n",
              "      (2): RNNDropout()\n",
              "    )\n",
              "  )\n",
              "  (1): LinearDecoder(\n",
              "    (decoder): Linear(in_features=400, out_features=32800, bias=True)\n",
              "    (output_dp): RNNDropout()\n",
              "  )\n",
              "), opt_func=functools.partial(<class 'torch.optim.adam.Adam'>, betas=(0.9, 0.99)), loss_func=FlattenedLoss of CrossEntropyLoss(), metrics=[<function accuracy at 0x7f4c03c08620>], true_wd=True, bn_wd=True, wd=0.01, train_bn=True, path=PosixPath('.'), model_dir='models', callback_fns=[functools.partial(<class 'fastai.basic_train.Recorder'>, add_time=True, silent=False)], callbacks=[RNNTrainer\n",
              "learn: LanguageLearner(data=TextLMDataBunch;\n",
              "\n",
              "Train: LabelList (5068 items)\n",
              "x: LMTextList\n",
              "xxbos xxmaj daniel xxmaj greenfield , a xxmaj shillman xxmaj journalism xxmaj fellow at the xxmaj freedom xxmaj center , is a xxmaj new xxmaj york writer focusing on radical xxmaj islam . \n",
              "  xxmaj in the final stretch of the election , xxmaj hillary xxmaj rodham xxmaj clinton has gone to war with the xxup fbi . \n",
              "  xxmaj the word “ unprecedented ” has been thrown around so often this election that it ought to be retired . xxmaj but it ’s still unprecedented for the nominee of a major political party to go war with the xxup fbi . \n",
              "  xxmaj but that ’s exactly what xxmaj hillary and her people have done . xxmaj coma patients just waking up now and watching an hour of xxup cnn from their hospital beds would assume that xxup fbi xxmaj director xxmaj james xxmaj comey is xxmaj hillary ’s opponent in this election . \n",
              "  xxmaj the xxup fbi is under attack by everyone from xxmaj obama to xxup cnn . xxmaj hillary ’s people have circulated a letter attacking xxmaj comey . xxmaj there are currently more media hit pieces lambasting him than targeting xxmaj trump . xxmaj it would n’t be too surprising if the xxmaj clintons or their allies were to start running attack ads against the xxup fbi . \n",
              "  xxmaj the xxup fbi ’s leadership is being warned that the entire left - wing establishment will form a lynch mob if they continue going after xxmaj hillary . xxmaj and the xxup fbi ’s credibility is being attacked by the media and the xxmaj democrats to preemptively head off the results of the investigation of the xxmaj clinton xxmaj foundation and xxmaj hillary xxmaj clinton . \n",
              "  xxmaj the covert struggle between xxup fbi agents and xxmaj obama ’s xxup doj people has gone xxunk public . \n",
              "  xxmaj the xxmaj new xxmaj york xxmaj times has compared xxmaj comey to xxup j. xxmaj edgar xxmaj hoover . xxmaj its bizarre headline , “ xxmaj james xxmaj comey xxmaj role xxmaj recalls xxmaj hoover ’s xxup fbi , xxmaj fairly or xxmaj not ” practically admits up front that it ’s spouting nonsense . xxmaj the xxmaj boston xxmaj globe has published a column calling for xxmaj comey ’s resignation . xxmaj not to be outdone , xxmaj time has an editorial claiming that the scandal is really an attack on all women . \n",
              "  xxmaj james xxmaj carville appeared on xxup msnbc to remind everyone that he was still alive and insane . xxmaj he accused xxmaj comey of coordinating with xxmaj house xxmaj republicans and the xxup kgb . xxmaj and you thought the “ vast right wing conspiracy ” was a stretch . \n",
              "  xxmaj countless media stories charge xxmaj comey with violating procedure . xxmaj do you know what ’s a procedural violation ? xxmaj emailing classified information stored on your bathroom server . \n",
              "  xxmaj senator xxmaj harry xxmaj reid has sent xxmaj comey a letter accusing him of violating the xxmaj hatch xxmaj act . xxmaj the xxmaj hatch xxmaj act is a nice idea that has as much relevance in the age of xxmaj obama as the xxmaj tenth xxmaj amendment . xxmaj but the cable news spectrum quickly filled with media hacks glancing at the xxmaj wikipedia article on the xxmaj hatch xxmaj act under the table while accusing the xxup fbi director of one of the most awkward conspiracies against xxmaj hillary ever . \n",
              "  xxmaj if xxmaj james xxmaj comey is really out to hurt xxmaj hillary , he picked one hell of a strange way to do it . \n",
              "  xxmaj not too long ago xxmaj democrats were breathing a sigh of relief when he gave xxmaj hillary xxmaj clinton a pass in a prominent public statement . xxmaj if he really were out to elect xxmaj trump by keeping the email scandal going , why did he trash the investigation ? xxmaj was he on the payroll of xxmaj house xxmaj republicans and the xxup kgb back then and playing it coy or was it a sudden development where xxmaj vladimir xxmaj putin and xxmaj paul xxmaj ryan talked him into taking a look at xxmaj anthony xxmaj weiner ’s computer ? \n",
              "  xxmaj either xxmaj comey is the most cunning xxup fbi director that ever lived or he ’s just awkwardly trying to navigate a political mess that has trapped him between a xxup doj leadership whose political futures are tied to xxmaj hillary ’s victory and his own bureau whose apolitical agents just want to be allowed to do their jobs . \n",
              "  xxmaj the only truly mysterious thing is why xxmaj hillary and her associates decided to go to war with a respected xxmaj federal agency . xxmaj most xxmaj americans like the xxup fbi while xxmaj hillary xxmaj clinton enjoys a 60 % unfavorable rating . \n",
              "  xxmaj and it ’s an interesting question . \n",
              "  xxmaj hillary ’s old strategy was to lie and deny that the xxup fbi even had a criminal investigation underway . xxmaj instead her associates insisted that it was a security review . xxmaj the xxup fbi corrected her and she shrugged it off . xxmaj but the old breezy denial approach has given way to a savage assault on the xxup fbi . \n",
              "  xxmaj pretending that nothing was wrong was a bad strategy , but it was a better one that picking a fight with the xxup fbi while lunatic xxmaj clinton associates try to claim that the xxup fbi is really the xxup kgb . \n",
              "  xxmaj there are two possible explanations . \n",
              "  xxmaj hillary xxmaj clinton might be arrogant enough to lash out at the xxup fbi now that she believes that victory is near . xxmaj the same kind of hubris that led her to plan her victory fireworks display could lead her to declare a war on the xxup fbi for irritating her during the final miles of her campaign . \n",
              "  xxmaj but the other explanation is that her people panicked . \n",
              "  xxmaj going to war with the xxup fbi is not the behavior of a smart and focused presidential campaign . xxmaj it ’s an act of desperation . xxmaj when a presidential candidate decides that her only option is to try and destroy the credibility of the xxup fbi , that ’s not hubris , it ’s fear of what the xxup fbi might be about to reveal about her . \n",
              "  xxmaj during the original xxup fbi investigation , xxmaj hillary xxmaj clinton was confident that she could ride it out . xxmaj and she had good reason for believing that . xxmaj but that xxmaj hillary xxmaj clinton is gone . xxmaj in her place is a paranoid wreck . xxmaj within a short space of time the “ positive ” xxmaj clinton campaign promising to unite the country has been replaced by a desperate and flailing operation that has focused all its energy on fighting the xxup fbi . \n",
              "  xxmaj there ’s only one reason for such bizarre behavior . \n",
              "  xxmaj the xxmaj clinton campaign has decided that an xxup fbi investigation of the latest batch of emails poses a threat to its survival . xxmaj and so it ’s gone all in on fighting the xxup fbi . xxmaj it ’s an unprecedented step born of fear . xxmaj it ’s hard to know whether that fear is justified . xxmaj but the existence of that fear already tells us a whole lot . \n",
              "  xxmaj clinton loyalists rigged the old investigation . xxmaj they knew the outcome ahead of time as well as they knew the debate questions . xxmaj now suddenly they are no longer in control . xxmaj and they are afraid . \n",
              "  xxmaj you can smell the fear . \n",
              "  xxmaj the xxup fbi has wiretaps from the investigation of the xxmaj clinton xxmaj foundation . xxmaj it ’s finding new emails all the time . xxmaj and xxmaj clintonworld panicked . xxmaj the xxunk of xxmaj clintonworld have claimed that the email scandal is just so much smoke without fire . xxmaj all that ’s here is the appearance of impropriety without any of the substance . xxmaj but this is n’t how you react to smoke . xxmaj it ’s how you respond to a fire . \n",
              "  xxmaj the misguided assault on the xxup fbi tells us that xxmaj hillary xxmaj clinton and her allies are afraid of a revelation bigger than the fundamental illegality of her email setup . xxmaj the email setup was a preemptive cover up . xxmaj the xxmaj clinton campaign has panicked badly out of the belief , right or wrong , that whatever crime the illegal setup was meant to cover up is at risk of being exposed . \n",
              "  xxmaj the xxmaj clintons have weathered countless scandals over the years . xxmaj whatever they are protecting this time around is bigger than the usual corruption , bribery , sexual assaults and abuses of power that have followed them around throughout the years . xxmaj this is bigger and more damaging than any of the allegations that have already come out . xxmaj and they do n’t want xxup fbi investigators anywhere near it . \n",
              "  xxmaj the campaign against xxmaj comey is pure intimidation . xxmaj it ’s also a warning . xxmaj any senior xxup fbi people who value their careers are being warned to stay away . xxmaj the xxmaj democrats are closing ranks around their nominee against the xxup fbi . xxmaj it ’s an ugly and unprecedented scene . xxmaj it may also be their last stand . \n",
              "  xxmaj hillary xxmaj clinton has awkwardly wound her way through numerous scandals in just this election cycle . xxmaj but she ’s never shown fear or desperation before . xxmaj now that has changed . xxmaj whatever she is afraid of , it lies buried in her emails with xxmaj huma xxmaj abedin . xxmaj and it can bring her down like nothing else has . xxup fake,xxbos xxmaj google xxmaj pinterest xxmaj digg xxmaj linkedin xxmaj reddit xxmaj stumbleupon xxmaj print xxmaj delicious xxmaj pocket xxmaj tumblr \n",
              "  xxmaj there are two fundamental truths in this world : xxmaj paul xxmaj ryan desperately wants to be president . xxmaj and xxmaj paul xxmaj ryan will never be president . xxmaj today proved it . \n",
              "  xxmaj in a particularly staggering example of political cowardice , xxmaj paul xxmaj ryan re - re - re - reversed course and announced that he was back on the xxmaj trump xxmaj train after all . xxmaj this was an xxunk from where he was a few weeks ago . xxmaj he had previously declared he would not be supporting or defending xxmaj trump after a tape was made public in which xxmaj trump bragged about assaulting women . xxmaj suddenly , xxmaj ryan was appearing at a pro - xxmaj trump rally and boldly declaring that he already sent in his vote to make him xxmaj president of the xxmaj united xxmaj states . xxmaj it was a surreal moment . xxmaj the figurehead of the xxmaj republican xxmaj party xxunk himself in gasoline , got up on a stage on a chilly afternoon in xxmaj wisconsin , and lit a match . . @speakerryan says he voted for @realdonaldtrump : “ xxmaj republicans , it is time to come home ” https : / / t.co / xxunk pic.twitter.com / xxunk \n",
              "  — xxup abc xxmaj news xxmaj politics ( xxunk ) xxmaj november 5 , 2016 \n",
              "  xxmaj the xxmaj democratic xxmaj party could n’t have asked for a better moment of film . xxmaj ryan ’s chances of ever becoming president went down to zero in an instant . xxmaj in the wreckage xxmaj trump is to leave behind in his wake , those who xxunk backed his campaign will not recover . xxmaj if xxmaj ryan ’s career manages to limp all the way to 2020 , then the xxup dnc will have this tape locked and loaded to be used in every ad until xxmaj election xxmaj day . \n",
              "  xxmaj the ringing endorsement of the man he clearly hates on a personal level speaks volumes about his own spinelessness . xxmaj ryan has xxunk himself as a “ principled ” conservative , and one uncomfortable with xxmaj trump ’s unapologetic bigotry and sexism . xxmaj however , when push came to shove , xxmaj paul xxmaj ryan – like many of his colleagues – turned into a sniveling xxunk . xxmaj after all his lofty xxunk about conviction , his principles were a house of cards and collapsed with the slightest breeze . \n",
              "  xxmaj what ’s especially bizarre is how close xxmaj ryan came to making it through unscathed . xxmaj for months the xxmaj speaker of the xxmaj house refused to comment on xxmaj trump at all . xxmaj his strategy seemed to be to keep his head down , pretend xxmaj trump did n’t exist , and hope that nobody remembered what happened in 2016 . xxmaj now , just days away from the election , he screwed it all up . \n",
              "  xxmaj if 2016 ’s very ugly election has done any good it ’s by exposing the utter cowardice of the xxmaj republicans who once feigned moral courage . a reality television star spit on them , hijacked their party , insulted their wives , and got every last one of them to kneel before him . xxmaj what a turn of events . \n",
              "  xxmaj featured image via xxmaj twitter xxup fake,xxbos xxup u.s. xxmaj secretary of xxmaj state xxmaj john xxup f. xxmaj kerry said xxmaj monday that he will stop in xxmaj paris later this week , amid criticism that no top xxmaj american officials attended xxmaj sunday ’s unity march against terrorism . \n",
              " \n",
              "  xxmaj kerry said he expects to arrive in xxmaj paris xxmaj thursday evening , as he heads home after a week abroad . xxmaj he said he will fly to xxmaj france at the conclusion of a series of meetings scheduled for xxmaj thursday in xxmaj sofia , xxmaj bulgaria . xxmaj he plans to meet the next day with xxmaj foreign xxmaj minister xxmaj laurent xxmaj fabius and xxmaj president xxmaj francois xxmaj hollande , then return to xxmaj washington . \n",
              " \n",
              "  xxmaj the visit by xxmaj kerry , who has family and childhood ties to the country and speaks fluent xxmaj french , could address some of the criticism that the xxmaj united xxmaj states snubbed xxmaj france in its darkest hour in many years . \n",
              " \n",
              "  xxmaj the xxmaj french press on xxmaj monday was filled with questions about why neither xxmaj president xxmaj obama nor xxmaj kerry attended xxmaj sunday ’s march , as about 40 leaders of other nations did . xxmaj obama was said to have stayed away because his own security needs can be taxing on a country , and xxmaj kerry had prior commitments . \n",
              " \n",
              "  xxmaj among roughly 40 leaders who did attend was xxmaj israeli xxmaj prime xxmaj minister xxmaj benjamin xxmaj netanyahu , no stranger to intense security , who marched beside xxmaj hollande through the city streets . xxmaj the highest ranking xxup u.s. officials attending the march were xxmaj jane xxmaj hartley , the ambassador to xxmaj france , and xxmaj victoria xxmaj nuland , the assistant secretary of state for xxmaj european affairs . xxmaj attorney xxmaj general xxmaj eric xxup h. xxmaj holder xxmaj jr. was in xxmaj paris for meetings with law enforcement officials but did not participate in the march . \n",
              " \n",
              "  xxmaj kerry spent xxmaj sunday at a business summit hosted by xxmaj india ’s prime minister , xxmaj narendra xxmaj modi . xxmaj the xxmaj united xxmaj states is eager for xxmaj india to relax stringent laws that function as barriers to foreign investment and hopes xxmaj modi ’s government will act to open the huge xxmaj indian market for more xxmaj american businesses . \n",
              " \n",
              "  xxmaj in a news conference , xxmaj kerry brushed aside criticism that the xxmaj united xxmaj states had not sent a more senior official to xxmaj paris as “ quibbling a little bit . ” xxmaj he noted that many staffers of the xxmaj american xxmaj embassy in xxmaj paris attended the march , including the ambassador . xxmaj he said he had wanted to be present at the march himself but could not because of his prior commitments in xxmaj india . \n",
              " \n",
              "  “ xxmaj but that is why i am going there on the way home , to make it crystal clear how passionately we feel about the events that have taken place there , ” he said . \n",
              " \n",
              "  “ xxmaj and i do n’t think the people of xxmaj france have any doubts about xxmaj america ’s understanding of what happened , of our personal sense of loss and our deep commitment to the people of xxmaj france in this moment of trauma . ” xxup real,xxbos — xxmaj xxunk xxmaj king ( xxunk ) xxmaj november 9 , 2016 xxmaj the lesson from tonight 's xxmaj dem losses : xxmaj time for xxmaj democrats to start listening to the voters . xxmaj stop running the same establishment candidates . \n",
              "  — xxmaj people xxmaj for xxmaj bernie ( xxunk ) xxmaj november 9 , 2016 xxmaj if xxmaj dems did n't want a tight race they should n't have worked against xxmaj bernie . \n",
              "  — xxmaj walker xxmaj xxunk ( xxunk ) xxmaj november 9 , 2016 \n",
              "  xxmaj new xxmaj york xxmaj times columnist xxmaj paul xxmaj krugman , who was one of xxmaj hillary xxmaj clinton ’s most outspoken surrogates during the contentious xxmaj democratic primary , blamed xxmaj clinton ’s poor performance on xxmaj green xxmaj party candidate xxmaj jill xxmaj stein , who has so far received a negligible number of votes nationally , saying xxmaj stein was the xxmaj ralph xxmaj nader of 2016 in preventing a xxmaj clinton victory . xxmaj the account xxunk threw xxmaj krugman ’s analysis back in his face . xxmaj your candidate was the issue . xxmaj take responsibility . https : / / t.co / xxunk \n",
              "  — xxmaj teachers for xxmaj bernie ( xxunk ) xxmaj november 9 , 2016 \n",
              "  xxmaj ana xxmaj navarro , a xxmaj republican who recently endorsed xxmaj hillary xxmaj clinton , summed up the preposterous nature of the 2016 presidential election in this tweet : xxup gop nominated the only damn candidate who could lose to xxmaj hillary xxmaj clinton . xxmaj democrats nominated the only damn candidate who could lose to xxmaj trump \n",
              "  — xxmaj ana xxmaj navarro ( xxunk ) xxmaj november 9 , 2016 \n",
              "  xxmaj popular left - wing xxmaj facebook page xxmaj the xxmaj other 98 % , which was pro - xxmaj sanders during the primary , responded to xxmaj trump ’s surge by simply posting a meme of xxmaj sanders ’ face with the text “ xxmaj all this could ’ve been avoided . xxmaj thanks for nothing , xxup dnc ! ” xxmaj the meme has been shared almost 15,000 times in less than an hour : \n",
              "  xxmaj posted by xxmaj the xxmaj other 98 % on xxmaj tuesday , xxmaj november 8 , 2016 \n",
              "  xxmaj while xxmaj bernie xxmaj sanders endorsed xxmaj hillary xxmaj clinton just before the xxmaj democratic xxmaj national xxmaj convention in xxmaj july , many of his supporters remained adamant in their refusal to support the xxup dnc - anointed candidate , pointing to wikileaks ’ revelations that top officials at the xxup dnc had been working behind the scenes to tip the scales in xxmaj clinton ’s favor by coordinating with media figures to circulate anti - xxmaj sanders narratives . \n",
              "  xxmaj rather than attribute a potential xxmaj trump presidency to the xxup gop nominee ’s perceived popularity among voters , the closeness of this election could be credited to xxmaj hillary xxmaj clinton ’s unfavorable ratings . xxmaj according to realclearpolitics , anywhere between 51 and 57 percent of voters had a negative opinion of the xxmaj democratic nominee . \n",
              "  xxmaj as of 11 xxup pm xxmaj eastern , xxmaj florida , xxmaj michigan , xxmaj pennsylvania , and xxmaj wisconsin remain too close to call . xxmaj clinton has xxunk electoral votes to xxmaj trump ’s 187 . \n",
              " \n",
              "  xxmaj zach xxmaj cartwright is an activist and author from xxmaj richmond , xxmaj virginia . xxmaj he enjoys writing about politics , government , and the media . xxmaj send him an email at [ email protected ] xxup fake,xxbos xxmaj it 's primary day in xxmaj new xxmaj york and front - runners xxmaj hillary xxmaj clinton and xxmaj donald xxmaj trump are leading in the polls . \n",
              " \n",
              "  xxmaj trump is now vowing to win enough delegates to clinch the xxmaj republican nomination and prevent a contested convention . xxmaj but xxmaj sens . xxmaj ted xxmaj cruz , r - xxmaj texas , xxmaj bernie xxmaj sanders , d - xxmaj vt . , and xxmaj ohio xxmaj gov. xxmaj john xxmaj kasich and are n't giving up just yet . \n",
              " \n",
              "  a big win in xxmaj new xxmaj york could tip the scales for both the xxmaj republican and xxmaj democratic front - runners in this year 's race for the xxmaj white xxmaj house . xxmaj clinton and xxmaj trump have each suffered losses in recent contests , shifting the momentum to their rivals . \n",
              " \n",
              "  \" xxmaj we have won eight out of the last nine caucuses and primaries ! xxmaj cheer ! \" xxmaj sanders recently told supporters . \n",
              " \n",
              "  xxmaj while wins in xxmaj new xxmaj york for xxmaj trump and xxmaj clinton are expected , the margins of those victories are also important . \n",
              " \n",
              "  xxmaj trump needs to capture more than 50 percent of the vote statewide if he wants to be positioned to win all of the state 's 95 xxup gop delegates . xxmaj that would put him one step closer to avoiding a contested convention . \n",
              " \n",
              "  \" xxmaj we 've got to vote and you know xxmaj cruz is way , way down in the polls , \" xxmaj trump urged supporters . \n",
              " \n",
              "  xxmaj meanwhile , xxmaj sanders is hoping for a close race in the xxmaj empire xxmaj state . a loss by 10 points means he 'll need to win 80 percent of the remaining delegates to clinch the nomination . \n",
              " \n",
              "  xxmaj despite a predicted loss in xxmaj new xxmaj york , xxmaj cruz has n't lost momentum . xxmaj he 's hoping to sweep up more delegates this weekend while he 's talking about how he can win in xxmaj november . \n",
              " \n",
              "  \" xxmaj because if i 'm the nominee , we win the xxmaj general xxmaj election , \" xxmaj cruz promised his supporters . \" xxmaj we 're beating xxmaj hillary in the key swing states , we 're beating xxmaj hillary with xxmaj independents , we 're beating xxmaj hillary with young people . \" \n",
              " \n",
              "  xxmaj for now , xxmaj cruz , xxmaj kasich , and xxmaj sanders have all moved on from xxmaj new xxmaj york to other states . xxmaj trump and xxmaj clinton are the only two staying in their home state to watch the results come in . xxup real\n",
              "y: LMLabelList\n",
              ",,,,\n",
              "Path: .;\n",
              "\n",
              "Valid: LabelList (1267 items)\n",
              "x: LMTextList\n",
              "xxbos xxmaj thursday , 3 xxmaj november 2016 ' xxup vote xxup for xxup me , xxup what xxup have xxup you xxup got xxup to xxup lose ? \" \n",
              "  xxmaj donald xxmaj trump has given an amazing closing speech about why he should be elected xxmaj president in 2016 . xxmaj it can be broken down into different parts about why he should be elected according to xxmaj mr. xxmaj trump : \n",
              "  1 ) \" xxmaj people say i suffer from a pathological narcissistic disorder , am a xxunk , assault women , and am a sociopath . xxmaj well , suppose all of this is true . xxmaj it mostly is n't true of xxmaj bill xxmaj clinton and xxmaj barak xxmaj obama and look where these xxunk have gotten us today ! xxmaj they are total losers who have destroyed the military and the middle class . xxmaj why not give a crazy person a chance ? i 'm bound to be better than they are . xxmaj what have you got to lose ? \" \n",
              "  2 ) i 'm a great entertainer . xxmaj elect me and you 'll never be bored . xxmaj if i threaten some country or the other with nuclear annihilation you 'll hold your xxunk to see if i carry it out . xxmaj it will be amazingly exciting . xxmaj you 'll have nothing to lose ! \n",
              "  3 ) xxmaj previous xxmaj presidents , from what i 've read about only 4 of them , because of my limited attention span , have been relatively honest . xxmaj not me ! i 've engaged in many fraudulent business practices even cheating widows and orphans ! xxmaj why not try a deceitful xxunk like me ? xxmaj politics is just one big con anyway ! xxmaj what have you got to lose with a guy like me on your side ? xxmaj what have you got to lose ? xxmaj xxunk xxunk xxunk xxunk xxunk xxunk xxunk . \n",
              "  4 ) xxmaj the xxup pc people say that xxmaj presidents should be well read and educated . xxmaj and the lightweight loses who have been in the xxmaj oval office have mostly been that way . xxmaj even though i 've forgotten everything i 've learned , i did go to one of the best xxmaj ivy xxmaj league xxmaj schools . xxmaj and , remember this folks , reading is for low energy people who do n't have the best brains ; they are the opposite of me . xxmaj education and reading , believe me , are overrated . \n",
              "  5 ) xxmaj hatred , bigotry , racism , strong immigration restrictions , xxmaj nativism , xenophobia , anti - xxunk , advocacy of violence against one 's political opponents and misogyny are part of our xxmaj american heritage . i embody all of these . i am the true voice of the xxmaj american people . i \" tell it like it is , \" and say things millions of xxmaj americans are afraid to say . xxmaj that is why hate groups support me . \n",
              "  6 ) xxmaj people say i am a \" walking xxmaj xxunk \" i say , so what ? xxmaj the i d is very , very strong . xxmaj it is the xxunk in our brains . xxmaj it 's all about winning , being a celebrity and grabbing women 's xxunk to show one 's power . xxmaj it 's all about the strength and power that total losers do n't have . i am an unbelievably strong winner just like my friend xxmaj putin . xxmaj you need on your side . xxmaj vote for me . xxmaj what have you got to lose ? i truly am unbelievable . \" \n",
              "  xxmaj with apologies to xxmaj nicholas xxmaj xxunk whose 11 / 3 / 16 xxup nyt 's column sparked this . xxmaj make xxmaj keith xxmaj xxunk 's xxup fake,xxbos xxmaj julian xxmaj assange has undoubtedly been on a run , exposing endless and shocking truths regarding xxmaj democratic presidential nominee xxmaj hillary xxmaj clinton just days before the election is set to reveal the path the next four years will take in the xxup u.s. xxmaj via xxunk \n",
              " \n",
              "  xxmaj and now there ’s more news to be baffled over , with xxmaj assange claiming xxmaj hillary xxmaj clinton misled xxmaj americans about the reality of xxmaj islamic xxmaj state ’s support from xxmaj washington ’s xxmaj middle xxmaj east allies . xxmaj last month , xxmaj assange ’s wikileaks made a 2014 email public that exposed how then xxmaj secretary of xxmaj state xxmaj hillary xxmaj clinton urged then adviser to xxmaj president xxmaj barack xxmaj obama xxmaj john xxmaj podesta to “ bring pressure ” on xxmaj qatar and xxmaj saudi xxmaj arabia , saying that they were “ providing clandestine financial and logistic support to xxup isil [ xxmaj islamic xxmaj state , xxup is , xxup isis ] and other radical xxmaj sunni groups . ” xxmaj in a video , xxmaj assange called the email the “ most important ” of the entire collection of ammo wikileaks has obtained against the xxmaj clinton campaign : xxmaj all serious analysts know , and even the xxup us government has agreed , that some xxmaj saudi figures have been supporting xxup isis and funding xxup isis , but the dodge has always been that it is some “ rogue ” princes using their oil money to do whatever they like , but actually the government disapproves . xxmaj but that email says that it is the government of xxmaj saudi xxmaj arabia , and the government of xxmaj qatar that have been funding xxup isis . \n",
              "  xxmaj assange sat down with veteran journalist xxmaj john xxmaj pilger for a 25-minute interview within the xxmaj ecuadorian xxmaj embassy in xxmaj london , where xxmaj assange has been living as a refugee since 2012 . xxmaj he discussed in detail the conflict of interest between xxmaj clinton ’s official position , which occurred during xxmaj obama ’s first term , husband xxmaj bill xxmaj clinton ’s nonprofit , and the xxmaj middle xxmaj east officials , claiming the output or urgency to fight terrorism may not have been heartfelt . \n",
              "  xxmaj here is a valuable excerpt from the interview : \n",
              "  xxmaj john xxmaj pilger : xxmaj the xxmaj saudis , the xxmaj qataris , the xxmaj moroccans , the xxmaj bahrainis , particularly the first two , are giving all this money to the xxmaj clinton xxmaj foundation , while xxmaj hillary xxmaj clinton is secretary of state , and the xxmaj state xxmaj department is approving massive arms sales , particularly xxmaj saudi xxmaj arabia . \n",
              "  xxmaj julian xxmaj assange : xxmaj under xxmaj hillary xxmaj clinton – and the xxmaj clinton emails reveal a significant discussion of it – the biggest - ever arms deal in the world was made with xxmaj saudi xxmaj arabia : more than $ 80 billion . xxmaj during her tenure , the total arms exports from the xxup u.s. doubled in dollar value \n",
              "  xxup jp : xxmaj of course , the consequence of that is that this notorious jihadist group , called xxup isil or xxup isis , is created largely with money from people who are giving money to the xxmaj clinton xxmaj foundation ? \n",
              "  xxup ja : xxmaj yes . \n",
              "  xxmaj pilger asked xxmaj assange if he thought the accusations against the xxmaj clinton campaign would have any effect on the xxmaj democratic nominee winning the 2016 presidential election . xxmaj assange also believes that next xxmaj tuesday ’s election is absolutely rigged , and is in favor of xxmaj hillary xxmaj clinton . xxmaj he said , \n",
              "  xxmaj my analysis is that xxmaj trump would not be permitted to win . xxmaj why do i say that ? xxmaj because he has had every establishment off his side . xxmaj trump does not have one establishment , maybe with the exception of the xxmaj evangelicals , if you can call them an establishment . xxmaj banks , intelligence , arms companies , foreign money , etc . are all united behind xxmaj hillary xxmaj clinton . xxmaj and the media as well . xxmaj media owners , and the journalists themselves . \n",
              "  xxup fake,xxbos xxmaj the younger xxmaj trump swears his foundation gives all of its money away to good causes . xxmaj which is true , if you do n’t count the cash spent on xxmaj trump - owned resorts . xxmaj or the plastic surgeon . \n",
              " \n",
              "  xxmaj those are some of the beneficiaries of the xxmaj eric xxmaj trump xxmaj foundation , an xxunk public charity headed by the xxmaj republican presidential nominee ’s third - born . xxmaj though xxmaj eric xxmaj trump — the executive vice president of development and acquisitions for the xxmaj trump xxmaj organization , and one of his father ’s top surrogates and closest political advisers — recently claimed his father had donated “ hundreds of thousands ” to his charity , the only available evidence seems to suggest payments , in fact , went the other way : the xxmaj eric xxmaj trump xxmaj foundation ( xxup xxunk ) paying hundreds of thousands over the last 10 years to host lavish fundraising events at   xxmaj donald xxmaj trump ’s golf courses . \n",
              " \n",
              "  xxmaj in promotional videos and press releases , xxup xxunk touts a 95 to 100 percent donation ratio and implies that by benefit of being a xxmaj trump , namesake properties are handed over for charity events at little or no cost . xxmaj but according to a xxmaj daily xxmaj beast analysis of annual xxup irs reports and xxmaj new xxmaj york state financial disclosures from the charity ’s inception in 2007 to 2014 , the most recent year for which data is available , xxup xxunk spent $ xxunk on its annual xxmaj golf xxmaj xxunk at xxmaj trump - owned clubs , a portion of xxunk in 2013 and $ xxunk in xxunk reported as paid directly “ to a company of a family member of the xxmaj board of xxmaj directors . ” xxmaj in other words , xxmaj donald xxmaj trump himself . \n",
              " \n",
              "  xxmaj donald xxmaj trump , and his private foundation , are already in hot water as reports swirl of suspected self - dealing , or using his foundation funds for private gain . xxmaj indeed , the man who considers a presidential run as an opportunity to turn a profit made headlines and invited criticism this week , after xxmaj the xxmaj washington xxmaj post revealed that the self - professed billionaire had reportedly used monies from the xxmaj donald xxup j. xxmaj trump xxmaj foundation to pay off $ xxunk in legal disputes . xxmaj previous reports found xxmaj donald xxmaj trump had also used the fund — which he has n’t personally donated to since xxunk purchase portraits of himself , and gift $ 25,000 to xxmaj florida xxmaj attorney xxmaj general xxmaj pam xxmaj bondi in a possible quid pro quo to head off an investigation into his shady xxmaj trump xxmaj university , both of which may have violated federal and state tax laws . xxmaj new xxmaj york ’s attorney general is currently investigating the reports . \n",
              " \n",
              "  xxmaj of course , viewed through the prism of his father ’s questionable philanthropic practices , xxmaj eric xxmaj trump ’s foundation seems downright angelic . xxmaj eric xxmaj trump ’s foundation operates with almost no overhead : xxmaj eric neither pays himself nor his board members and relies on xxmaj trump xxmaj organization employees who volunteer for whatever the foundation may need . xxmaj most importantly , xxmaj eric xxmaj trump ’s charity has , over the last 10 years according to its tax reports , raised $ 6.5 million for xxmaj st. xxmaj jude xxmaj children ’s xxmaj research xxmaj hospital , a beloved xxmaj tennessee - based nonprofit that treats children with catastrophic diseases free - of - charge . xxmaj that figure nearly doubles , when you include the year - long fundraisers utilizing xxmaj trump hotels — where guests are encouraged to donate and buy special services , a percentage of which goes to xxmaj st. xxmaj jude — and employees , who both contribute their money and volunteer their time by competing in company - wide contests and organizing events like car washes , bake sales , and walk - a - xxunk , to raise cash that goes straight to the hospital — over $ 600,000 this past year , according to xxup xxunk ’s executive director , xxmaj paige xxmaj xxunk . \n",
              " \n",
              "  “ xxmaj we pride ourselves on having an extremely low expense ratio and that is only made possible by leveraging off the xxmaj trump assets , ” xxmaj xxunk wrote in an email to xxmaj the xxmaj daily xxmaj beast . “ xxmaj trump assets are not profiting from these xxup xxunk events , but instead they are donating their time and resources to the cause . ” \n",
              " \n",
              "  “ xxmaj we ’re so lucky as xxmaj trumps to have the best hotels in the world , to have the best golf courses in the world , and other great assets , and we ’re so lucky to be able to use those assets at our disposal for a great purpose . xxmaj and that ’s really what xxup xxunk is , ” xxmaj eric says in a 2016 video . \n",
              " \n",
              "  “ xxmaj it sounds like they were just making a number up , ” said xxmaj elizabeth xxmaj xxunk , a xxmaj boston xxmaj university professor who studies nonprofit finance . “ xxmaj they should have had a proposal that said , ‘ xxmaj these are the costs , ’ for which there should be an xxunk , detailing what the foundation was paying for . xxmaj instead it sounds like the golf course just said , ' xxmaj give us $ 100,000 . ' ” \n",
              " \n",
              "  xxmaj xxunk took the reins as xxup xxunk ’s director in xxmaj january , replacing a woman who left the organization after eight months . xxmaj and hers was n’t the only high - level dropout this year . xxmaj the foundation ’s xxmaj board of xxmaj directors and xxmaj executive xxmaj committee have each lost a member since xxmaj march : xxmaj jeffrey xxmaj xxunk , a freelance real - estate broker and consultant with a history of bid rigging on construction projects , and xxmaj nathan xxmaj crisp , until recently , a xxmaj trump xxmaj hotels executive who police accused of twice slamming a xxmaj brooklyn mother to the ground on xxmaj easter . \n",
              " \n",
              "  xxmaj when asked why the xxmaj trump xxmaj organization did n’t donate the use of the courses , xxmaj michael xxmaj cohen , a longtime attorney to xxmaj donald xxmaj trump and board member on the xxmaj eric xxmaj trump foundation , said , “ i believe there are certain rules that you do have to pay for certain things — they’re not marked up . xxmaj it ’s inexpensive . i think there ’s some law that says you have to . ” \n",
              " \n",
              "  xxmaj trump xxmaj national xxmaj golf xxmaj club xxmaj westchester , where xxup xxunk ’s annual event is held , did not return a request for event pricing , but charities which have held fundraisers at xxmaj trump clubs showed similar expenses and revenue in their tax reports ( known as 990s ) , suggesting xxmaj eric xxmaj trump indeed paid a standard rate — around $ xxunk use of his father ’s property . xxmaj tic xxmaj xxunk xxmaj stop , a charity dedicated to funding xxmaj xxunk xxmaj syndrome research , paid $ xxunk for a smaller golf outing in 2014 . xxmaj and according to xxmaj the xxmaj boston xxmaj globe , the xxmaj dana - xxmaj xxunk xxmaj cancer xxmaj institute — which has held its annual gala at xxmaj trump ’s xxmaj florida club , xxmaj mar - a - xxmaj lago , for the last six years — paid around $ 150,000 for a fundraiser with up to 600 guests . xxmaj the most recent xxup xxunk fundraiser boasted 500 attendees . \n",
              " \n",
              "  xxmaj though the xxmaj eric xxmaj trump xxmaj foundation ’s website says , “ xxmaj we exclusively support xxmaj st. xxmaj jude xxmaj children ’s xxmaj research xxmaj hospital , ” that is n’t the case . xxmaj in 2012 , xxup xxunk began donating in earnest to other causes , cutting small checks to 40 individual charities in addition to the outsize donation given to the children ’s hospital . xxmaj some of these small donations — like the $ 1,600 to the xxmaj american xxmaj society for xxmaj xxunk and xxmaj xxunk , a xxmaj california wine industry organization where xxmaj eric xxmaj trump once gave a keynote address — have seemingly little to do with the charity ’s mission of helping sick children . \n",
              " \n",
              "  xxmaj the cat ’s cradle of connections do n’t end there . xxmaj the xxup xxunk fund paid out $ xxunk that same year for their golf tournament — an annual event held at xxmaj trump ’s xxmaj hudson xxmaj valley course that cost nearly double what the charity gave out in grants that year . xxmaj they , along with at least six other charities that have received donations from the xxmaj eric xxmaj trump xxmaj foundation since 2012 , hold fundraising events at xxmaj trump golf clubs . xxup real,xxbos xxmaj email \n",
              " \n",
              "  xxmaj it appears xxmaj bill and xxmaj hillary xxmaj clinton are making plans to flee the country in the event xxmaj donald xxmaj trump wins this election . \n",
              "  xxmaj reports are circulating that the xxmaj clintons have transferred 1.8 xxmaj billion dollars from the xxmaj clinton xxmaj foundation to the xxmaj qatar xxmaj central xxmaj bank , via a facilitation / xxunk of xxup jp xxmaj morgan xxmaj chase & xxmaj company for reasons not revealed . \n",
              "  xxmaj this move of such a large sum of money to the country of xxmaj qatar says in itself , xxmaj hillary xxmaj clinton knows she is going to lose the election , and she does n’t plan to allow herself to be prosecuted for various high crimes and treason under a xxmaj trump xxmaj administration . \n",
              "  xxmaj the country of xxmaj qatar happens to be one of a handful of countries that does not have an extradition treaty with the xxmaj united xxmaj states , thus would be a perfect place for her to run to in escaping justice . \n",
              "  xxmaj donald xxmaj trump has said many times during his campaign and at the xxmaj presidential debates that once he gets into office , he intends to prosecute her on various high crimes from her latest crimes of sending classified material via a personal e mail server . xxmaj all the way to gun running to terrorist groups in xxmaj syria resulting in the deaths of 4 xxmaj americans in xxmaj benghazi . \n",
              "  xxmaj apparently , xxmaj hillary is not the only person in xxmaj washington who has made plans to escape justice under a xxmaj trump xxmaj administration . xxmaj john xxmaj kerry has quietly been selling his property in the xxup us for millions of dollars of late , with an announcement of the sale of his $ 25 million dollar xxmaj nantucket mansion in xxmaj june 2016 , as well as the sale of his yacht for $ 3.9 million in xxmaj july 2016 . \n",
              "  xxmaj president xxmaj barack h xxmaj obama has also apparently been making exit plans with his purchase of a $ 4.9 million dollar seaside mansion in xxmaj dubai in xxmaj january 2016 , another non extradition country . \n",
              "  xxmaj snopes and other supposed fact checking sites have debunked both the story of xxmaj obama ’s purchase of the mansion and the firing of xxmaj rear xxmaj admiral xxmaj rick xxmaj williams . xxmaj however , over the last several months , these sites have been busted for lying in trying to debunk such information as the before mentioned , when in fact the information is true . \n",
              "  xxmaj snopes and other sites try their best to keep incriminating information from being believed , but the truth has a way of coming out on its own , as it always has . xxup fake,xxbos xxmaj watch xxmaj hillary xxmaj clintons xxmaj concession xxmaj speech xxmaj video \n",
              "  xxunk night i congratulated xxmaj donald xxmaj trump and offered to work with him on behalf of our country . i hope that he will be a president for all of our country ... \n",
              "  xxunk sorry that we did not win this election for the values we all share ... \n",
              "  xxunk represent the best of xxmaj america , and being your candidate has been one of the greatest honors of my life . i know how disappointed you feel , because i feel it too xxrep 4 . xxmaj donald xxmaj trump 's xxmaj victory xxmaj speech xxup fake\n",
              "y: LMLabelList\n",
              ",,,,\n",
              "Path: .;\n",
              "\n",
              "Test: None, model=SequentialRNN(\n",
              "  (0): AWD_LSTM(\n",
              "    (encoder): Embedding(32800, 400, padding_idx=1)\n",
              "    (encoder_dp): EmbeddingDropout(\n",
              "      (emb): Embedding(32800, 400, padding_idx=1)\n",
              "    )\n",
              "    (rnns): ModuleList(\n",
              "      (0): WeightDropout(\n",
              "        (module): LSTM(400, 1152, batch_first=True)\n",
              "      )\n",
              "      (1): WeightDropout(\n",
              "        (module): LSTM(1152, 1152, batch_first=True)\n",
              "      )\n",
              "      (2): WeightDropout(\n",
              "        (module): LSTM(1152, 400, batch_first=True)\n",
              "      )\n",
              "    )\n",
              "    (input_dp): RNNDropout()\n",
              "    (hidden_dps): ModuleList(\n",
              "      (0): RNNDropout()\n",
              "      (1): RNNDropout()\n",
              "      (2): RNNDropout()\n",
              "    )\n",
              "  )\n",
              "  (1): LinearDecoder(\n",
              "    (decoder): Linear(in_features=400, out_features=32800, bias=True)\n",
              "    (output_dp): RNNDropout()\n",
              "  )\n",
              "), opt_func=functools.partial(<class 'torch.optim.adam.Adam'>, betas=(0.9, 0.99)), loss_func=FlattenedLoss of CrossEntropyLoss(), metrics=[<function accuracy at 0x7f4c03c08620>], true_wd=True, bn_wd=True, wd=0.01, train_bn=True, path=PosixPath('.'), model_dir='models', callback_fns=[functools.partial(<class 'fastai.basic_train.Recorder'>, add_time=True, silent=False)], callbacks=[...], layer_groups=[Sequential(\n",
              "  (0): WeightDropout(\n",
              "    (module): LSTM(400, 1152, batch_first=True)\n",
              "  )\n",
              "  (1): RNNDropout()\n",
              "), Sequential(\n",
              "  (0): WeightDropout(\n",
              "    (module): LSTM(1152, 1152, batch_first=True)\n",
              "  )\n",
              "  (1): RNNDropout()\n",
              "), Sequential(\n",
              "  (0): WeightDropout(\n",
              "    (module): LSTM(1152, 400, batch_first=True)\n",
              "  )\n",
              "  (1): RNNDropout()\n",
              "), Sequential(\n",
              "  (0): Embedding(32800, 400, padding_idx=1)\n",
              "  (1): EmbeddingDropout(\n",
              "    (emb): Embedding(32800, 400, padding_idx=1)\n",
              "  )\n",
              "  (2): LinearDecoder(\n",
              "    (decoder): Linear(in_features=400, out_features=32800, bias=True)\n",
              "    (output_dp): RNNDropout()\n",
              "  )\n",
              ")], add_time=True, silent=False)\n",
              "alpha: 2.0\n",
              "beta: 1.0], layer_groups=[Sequential(\n",
              "  (0): WeightDropout(\n",
              "    (module): LSTM(400, 1152, batch_first=True)\n",
              "  )\n",
              "  (1): RNNDropout()\n",
              "), Sequential(\n",
              "  (0): WeightDropout(\n",
              "    (module): LSTM(1152, 1152, batch_first=True)\n",
              "  )\n",
              "  (1): RNNDropout()\n",
              "), Sequential(\n",
              "  (0): WeightDropout(\n",
              "    (module): LSTM(1152, 400, batch_first=True)\n",
              "  )\n",
              "  (1): RNNDropout()\n",
              "), Sequential(\n",
              "  (0): Embedding(32800, 400, padding_idx=1)\n",
              "  (1): EmbeddingDropout(\n",
              "    (emb): Embedding(32800, 400, padding_idx=1)\n",
              "  )\n",
              "  (2): LinearDecoder(\n",
              "    (decoder): Linear(in_features=400, out_features=32800, bias=True)\n",
              "    (output_dp): RNNDropout()\n",
              "  )\n",
              ")], add_time=True, silent=False)"
            ]
          },
          "metadata": {
            "tags": []
          },
          "execution_count": 23
        }
      ]
    },
    {
      "cell_type": "markdown",
      "metadata": {
        "id": "ZqaQd1hZi1Dt",
        "colab_type": "text"
      },
      "source": [
        "## Classifier\n",
        "\n",
        "Now that we have built the language_model, we can go head and start with the Classifier. The Classifier is quite similar to the language_model. Following the same steps as before, will be fine\n",
        "\n"
      ]
    },
    {
      "cell_type": "code",
      "metadata": {
        "id": "mNqZ1XcLi1Du",
        "colab_type": "code",
        "colab": {}
      },
      "source": [
        "bs = 24"
      ],
      "execution_count": 0,
      "outputs": []
    },
    {
      "cell_type": "code",
      "metadata": {
        "id": "TOMme6C1i1Dy",
        "colab_type": "code",
        "outputId": "4acaa129-2aca-47f1-abe3-db70e036335a",
        "colab": {
          "base_uri": "https://localhost:8080/",
          "height": 71
        }
      },
      "source": [
        "data_b = (TextList.from_df(df, cols='text', vocab=data_language.vocab)\n",
        "            .random_split_by_pct(valid_pct=0.2)\n",
        "            .label_from_df(cols='label')\n",
        "            .databunch(bs=bs))"
      ],
      "execution_count": 0,
      "outputs": [
        {
          "output_type": "stream",
          "text": [
            "/usr/local/lib/python3.6/dist-packages/fastai/data_block.py:215: UserWarning: `random_split_by_pct` is deprecated, please use `split_by_rand_pct`.\n",
            "  warn(\"`random_split_by_pct` is deprecated, please use `split_by_rand_pct`.\")\n"
          ],
          "name": "stderr"
        },
        {
          "output_type": "display_data",
          "data": {
            "text/html": [
              ""
            ],
            "text/plain": [
              "<IPython.core.display.HTML object>"
            ]
          },
          "metadata": {
            "tags": []
          }
        },
        {
          "output_type": "display_data",
          "data": {
            "text/html": [
              ""
            ],
            "text/plain": [
              "<IPython.core.display.HTML object>"
            ]
          },
          "metadata": {
            "tags": []
          }
        }
      ]
    },
    {
      "cell_type": "code",
      "metadata": {
        "id": "OaS43VzSi1D7",
        "colab_type": "code",
        "colab": {}
      },
      "source": [
        "data_cc.save('data-cc')"
      ],
      "execution_count": 0,
      "outputs": []
    },
    {
      "cell_type": "code",
      "metadata": {
        "id": "2GagqlKzi1D-",
        "colab_type": "code",
        "colab": {}
      },
      "source": [
        "path = Path(\"../Fake-News\")"
      ],
      "execution_count": 0,
      "outputs": []
    },
    {
      "cell_type": "code",
      "metadata": {
        "id": "Bnp9XLd-i1EB",
        "colab_type": "code",
        "outputId": "957c3b60-492b-414e-b340-4e9ee5ae023f",
        "colab": {
          "base_uri": "https://localhost:8080/",
          "height": 187
        }
      },
      "source": [
        "path.ls()"
      ],
      "execution_count": 0,
      "outputs": [
        {
          "output_type": "execute_result",
          "data": {
            "text/plain": [
              "[PosixPath('../Fake-News/Fake+News -1.ipynb'),\n",
              " PosixPath('../Fake-News/fake_or_real_news.csv'),\n",
              " PosixPath('../Fake-News/__MACOSX'),\n",
              " PosixPath('../Fake-News/.git'),\n",
              " PosixPath('../Fake-News/LICENSE'),\n",
              " PosixPath('../Fake-News/README.md'),\n",
              " PosixPath('../Fake-News/Status-Work in Progress-success.svg'),\n",
              " PosixPath('../Fake-News/fake_or_real_news.csv.zip'),\n",
              " PosixPath('../Fake-News/models'),\n",
              " PosixPath('../Fake-News/data-c')]"
            ]
          },
          "metadata": {
            "tags": []
          },
          "execution_count": 28
        }
      ]
    },
    {
      "cell_type": "code",
      "metadata": {
        "id": "zd4wyEAXi1EE",
        "colab_type": "code",
        "colab": {}
      },
      "source": [
        "df = pd.read_csv(path/'fake_or_real_news.csv', usecols=[\"label\", \"text\"])[[\"label\", \"text\"]]"
      ],
      "execution_count": 0,
      "outputs": []
    },
    {
      "cell_type": "code",
      "metadata": {
        "id": "zVTam7Hii1EG",
        "colab_type": "code",
        "outputId": "880ba02e-1f7d-418f-efa9-7ee15413d680",
        "colab": {
          "base_uri": "https://localhost:8080/",
          "height": 204
        }
      },
      "source": [
        "df.head()[:20]"
      ],
      "execution_count": 0,
      "outputs": [
        {
          "output_type": "execute_result",
          "data": {
            "text/html": [
              "<div>\n",
              "<style scoped>\n",
              "    .dataframe tbody tr th:only-of-type {\n",
              "        vertical-align: middle;\n",
              "    }\n",
              "\n",
              "    .dataframe tbody tr th {\n",
              "        vertical-align: top;\n",
              "    }\n",
              "\n",
              "    .dataframe thead th {\n",
              "        text-align: right;\n",
              "    }\n",
              "</style>\n",
              "<table border=\"1\" class=\"dataframe\">\n",
              "  <thead>\n",
              "    <tr style=\"text-align: right;\">\n",
              "      <th></th>\n",
              "      <th>label</th>\n",
              "      <th>text</th>\n",
              "    </tr>\n",
              "  </thead>\n",
              "  <tbody>\n",
              "    <tr>\n",
              "      <th>0</th>\n",
              "      <td>FAKE</td>\n",
              "      <td>Daniel Greenfield, a Shillman Journalism Fello...</td>\n",
              "    </tr>\n",
              "    <tr>\n",
              "      <th>1</th>\n",
              "      <td>FAKE</td>\n",
              "      <td>Google Pinterest Digg Linkedin Reddit Stumbleu...</td>\n",
              "    </tr>\n",
              "    <tr>\n",
              "      <th>2</th>\n",
              "      <td>REAL</td>\n",
              "      <td>U.S. Secretary of State John F. Kerry said Mon...</td>\n",
              "    </tr>\n",
              "    <tr>\n",
              "      <th>3</th>\n",
              "      <td>FAKE</td>\n",
              "      <td>— Kaydee King (@KaydeeKing) November 9, 2016 T...</td>\n",
              "    </tr>\n",
              "    <tr>\n",
              "      <th>4</th>\n",
              "      <td>REAL</td>\n",
              "      <td>It's primary day in New York and front-runners...</td>\n",
              "    </tr>\n",
              "  </tbody>\n",
              "</table>\n",
              "</div>"
            ],
            "text/plain": [
              "  label                                               text\n",
              "0  FAKE  Daniel Greenfield, a Shillman Journalism Fello...\n",
              "1  FAKE  Google Pinterest Digg Linkedin Reddit Stumbleu...\n",
              "2  REAL  U.S. Secretary of State John F. Kerry said Mon...\n",
              "3  FAKE  — Kaydee King (@KaydeeKing) November 9, 2016 T...\n",
              "4  REAL  It's primary day in New York and front-runners..."
            ]
          },
          "metadata": {
            "tags": []
          },
          "execution_count": 30
        }
      ]
    },
    {
      "cell_type": "code",
      "metadata": {
        "id": "tBnHUxOgUX8Y",
        "colab_type": "code",
        "colab": {}
      },
      "source": [
        "path2 = path/'data-cc.pkl'"
      ],
      "execution_count": 0,
      "outputs": []
    },
    {
      "cell_type": "code",
      "metadata": {
        "id": "otPsvsqGi1EJ",
        "colab_type": "code",
        "outputId": "b2b7ef8a-7238-411d-edaf-1294d6b3a0d4",
        "colab": {
          "base_uri": "https://localhost:8080/",
          "height": 307
        }
      },
      "source": [
        "# data_c =  TextClasDataBunch.load(path, 'data-cc',bs=bs)\n",
        "data_c = load_data(path2, ,bs=bs)\n"
      ],
      "execution_count": 0,
      "outputs": [
        {
          "output_type": "error",
          "ename": "FileNotFoundError",
          "evalue": "ignored",
          "traceback": [
            "\u001b[0;31m---------------------------------------------------------------------------\u001b[0m",
            "\u001b[0;31mFileNotFoundError\u001b[0m                         Traceback (most recent call last)",
            "\u001b[0;32m<ipython-input-51-4f91265c5276>\u001b[0m in \u001b[0;36m<module>\u001b[0;34m()\u001b[0m\n\u001b[0;32m----> 1\u001b[0;31m \u001b[0mdata_c\u001b[0m \u001b[0;34m=\u001b[0m \u001b[0mload_data\u001b[0m\u001b[0;34m(\u001b[0m\u001b[0mpath2\u001b[0m\u001b[0;34m,\u001b[0m \u001b[0;34m'data_save.pkl'\u001b[0m\u001b[0;34m,\u001b[0m\u001b[0mbs\u001b[0m\u001b[0;34m=\u001b[0m\u001b[0mbs\u001b[0m\u001b[0;34m)\u001b[0m\u001b[0;34m\u001b[0m\u001b[0;34m\u001b[0m\u001b[0m\n\u001b[0m",
            "\u001b[0;32m/usr/local/lib/python3.6/dist-packages/fastai/basic_data.py\u001b[0m in \u001b[0;36mload_data\u001b[0;34m(path, file, bs, val_bs, num_workers, dl_tfms, device, collate_fn, no_check, **kwargs)\u001b[0m\n\u001b[1;32m    277\u001b[0m     \u001b[0;34m\"Load a saved `DataBunch` from `path/file`. `file` can be file-like (file or buffer)\"\u001b[0m\u001b[0;34m\u001b[0m\u001b[0;34m\u001b[0m\u001b[0m\n\u001b[1;32m    278\u001b[0m     \u001b[0msource\u001b[0m \u001b[0;34m=\u001b[0m \u001b[0mPath\u001b[0m\u001b[0;34m(\u001b[0m\u001b[0mpath\u001b[0m\u001b[0;34m)\u001b[0m\u001b[0;34m/\u001b[0m\u001b[0mfile\u001b[0m \u001b[0;32mif\u001b[0m \u001b[0mis_pathlike\u001b[0m\u001b[0;34m(\u001b[0m\u001b[0mfile\u001b[0m\u001b[0;34m)\u001b[0m \u001b[0;32melse\u001b[0m \u001b[0mfile\u001b[0m\u001b[0;34m\u001b[0m\u001b[0;34m\u001b[0m\u001b[0m\n\u001b[0;32m--> 279\u001b[0;31m     \u001b[0mll\u001b[0m \u001b[0;34m=\u001b[0m \u001b[0mtorch\u001b[0m\u001b[0;34m.\u001b[0m\u001b[0mload\u001b[0m\u001b[0;34m(\u001b[0m\u001b[0msource\u001b[0m\u001b[0;34m,\u001b[0m \u001b[0mmap_location\u001b[0m\u001b[0;34m=\u001b[0m\u001b[0;34m'cpu'\u001b[0m\u001b[0;34m)\u001b[0m \u001b[0;32mif\u001b[0m \u001b[0mdefaults\u001b[0m\u001b[0;34m.\u001b[0m\u001b[0mdevice\u001b[0m \u001b[0;34m==\u001b[0m \u001b[0mtorch\u001b[0m\u001b[0;34m.\u001b[0m\u001b[0mdevice\u001b[0m\u001b[0;34m(\u001b[0m\u001b[0;34m'cpu'\u001b[0m\u001b[0;34m)\u001b[0m \u001b[0;32melse\u001b[0m \u001b[0mtorch\u001b[0m\u001b[0;34m.\u001b[0m\u001b[0mload\u001b[0m\u001b[0;34m(\u001b[0m\u001b[0msource\u001b[0m\u001b[0;34m)\u001b[0m\u001b[0;34m\u001b[0m\u001b[0;34m\u001b[0m\u001b[0m\n\u001b[0m\u001b[1;32m    280\u001b[0m     return ll.databunch(path=path, bs=bs, val_bs=val_bs, num_workers=num_workers, dl_tfms=dl_tfms, device=device,\n\u001b[1;32m    281\u001b[0m                         collate_fn=collate_fn, no_check=no_check, **kwargs)\n",
            "\u001b[0;32m/usr/local/lib/python3.6/dist-packages/torch/serialization.py\u001b[0m in \u001b[0;36mload\u001b[0;34m(f, map_location, pickle_module, **pickle_load_args)\u001b[0m\n\u001b[1;32m    420\u001b[0m     \u001b[0;32melif\u001b[0m \u001b[0;34m(\u001b[0m\u001b[0msys\u001b[0m\u001b[0;34m.\u001b[0m\u001b[0mversion_info\u001b[0m\u001b[0;34m[\u001b[0m\u001b[0;36m0\u001b[0m\u001b[0;34m]\u001b[0m \u001b[0;34m==\u001b[0m \u001b[0;36m3\u001b[0m \u001b[0;32mand\u001b[0m \u001b[0misinstance\u001b[0m\u001b[0;34m(\u001b[0m\u001b[0mf\u001b[0m\u001b[0;34m,\u001b[0m \u001b[0mpathlib\u001b[0m\u001b[0;34m.\u001b[0m\u001b[0mPath\u001b[0m\u001b[0;34m)\u001b[0m\u001b[0;34m)\u001b[0m\u001b[0;34m:\u001b[0m\u001b[0;34m\u001b[0m\u001b[0;34m\u001b[0m\u001b[0m\n\u001b[1;32m    421\u001b[0m         \u001b[0mnew_fd\u001b[0m \u001b[0;34m=\u001b[0m \u001b[0;32mTrue\u001b[0m\u001b[0;34m\u001b[0m\u001b[0;34m\u001b[0m\u001b[0m\n\u001b[0;32m--> 422\u001b[0;31m         \u001b[0mf\u001b[0m \u001b[0;34m=\u001b[0m \u001b[0mf\u001b[0m\u001b[0;34m.\u001b[0m\u001b[0mopen\u001b[0m\u001b[0;34m(\u001b[0m\u001b[0;34m'rb'\u001b[0m\u001b[0;34m)\u001b[0m\u001b[0;34m\u001b[0m\u001b[0;34m\u001b[0m\u001b[0m\n\u001b[0m\u001b[1;32m    423\u001b[0m     \u001b[0;32mtry\u001b[0m\u001b[0;34m:\u001b[0m\u001b[0;34m\u001b[0m\u001b[0;34m\u001b[0m\u001b[0m\n\u001b[1;32m    424\u001b[0m         \u001b[0;32mif\u001b[0m \u001b[0msys\u001b[0m\u001b[0;34m.\u001b[0m\u001b[0mversion_info\u001b[0m \u001b[0;34m>=\u001b[0m \u001b[0;34m(\u001b[0m\u001b[0;36m3\u001b[0m\u001b[0;34m,\u001b[0m \u001b[0;36m0\u001b[0m\u001b[0;34m)\u001b[0m \u001b[0;32mand\u001b[0m \u001b[0;34m'encoding'\u001b[0m \u001b[0;32mnot\u001b[0m \u001b[0;32min\u001b[0m \u001b[0mpickle_load_args\u001b[0m\u001b[0;34m.\u001b[0m\u001b[0mkeys\u001b[0m\u001b[0;34m(\u001b[0m\u001b[0;34m)\u001b[0m\u001b[0;34m:\u001b[0m\u001b[0;34m\u001b[0m\u001b[0;34m\u001b[0m\u001b[0m\n",
            "\u001b[0;32m/usr/lib/python3.6/pathlib.py\u001b[0m in \u001b[0;36mopen\u001b[0;34m(self, mode, buffering, encoding, errors, newline)\u001b[0m\n\u001b[1;32m   1181\u001b[0m             \u001b[0mself\u001b[0m\u001b[0;34m.\u001b[0m\u001b[0m_raise_closed\u001b[0m\u001b[0;34m(\u001b[0m\u001b[0;34m)\u001b[0m\u001b[0;34m\u001b[0m\u001b[0;34m\u001b[0m\u001b[0m\n\u001b[1;32m   1182\u001b[0m         return io.open(str(self), mode, buffering, encoding, errors, newline,\n\u001b[0;32m-> 1183\u001b[0;31m                        opener=self._opener)\n\u001b[0m\u001b[1;32m   1184\u001b[0m \u001b[0;34m\u001b[0m\u001b[0m\n\u001b[1;32m   1185\u001b[0m     \u001b[0;32mdef\u001b[0m \u001b[0mread_bytes\u001b[0m\u001b[0;34m(\u001b[0m\u001b[0mself\u001b[0m\u001b[0;34m)\u001b[0m\u001b[0;34m:\u001b[0m\u001b[0;34m\u001b[0m\u001b[0;34m\u001b[0m\u001b[0m\n",
            "\u001b[0;32m/usr/lib/python3.6/pathlib.py\u001b[0m in \u001b[0;36m_opener\u001b[0;34m(self, name, flags, mode)\u001b[0m\n\u001b[1;32m   1035\u001b[0m     \u001b[0;32mdef\u001b[0m \u001b[0m_opener\u001b[0m\u001b[0;34m(\u001b[0m\u001b[0mself\u001b[0m\u001b[0;34m,\u001b[0m \u001b[0mname\u001b[0m\u001b[0;34m,\u001b[0m \u001b[0mflags\u001b[0m\u001b[0;34m,\u001b[0m \u001b[0mmode\u001b[0m\u001b[0;34m=\u001b[0m\u001b[0;36m0o666\u001b[0m\u001b[0;34m)\u001b[0m\u001b[0;34m:\u001b[0m\u001b[0;34m\u001b[0m\u001b[0;34m\u001b[0m\u001b[0m\n\u001b[1;32m   1036\u001b[0m         \u001b[0;31m# A stub for the opener argument to built-in open()\u001b[0m\u001b[0;34m\u001b[0m\u001b[0;34m\u001b[0m\u001b[0;34m\u001b[0m\u001b[0m\n\u001b[0;32m-> 1037\u001b[0;31m         \u001b[0;32mreturn\u001b[0m \u001b[0mself\u001b[0m\u001b[0;34m.\u001b[0m\u001b[0m_accessor\u001b[0m\u001b[0;34m.\u001b[0m\u001b[0mopen\u001b[0m\u001b[0;34m(\u001b[0m\u001b[0mself\u001b[0m\u001b[0;34m,\u001b[0m \u001b[0mflags\u001b[0m\u001b[0;34m,\u001b[0m \u001b[0mmode\u001b[0m\u001b[0;34m)\u001b[0m\u001b[0;34m\u001b[0m\u001b[0;34m\u001b[0m\u001b[0m\n\u001b[0m\u001b[1;32m   1038\u001b[0m \u001b[0;34m\u001b[0m\u001b[0m\n\u001b[1;32m   1039\u001b[0m     \u001b[0;32mdef\u001b[0m \u001b[0m_raw_open\u001b[0m\u001b[0;34m(\u001b[0m\u001b[0mself\u001b[0m\u001b[0;34m,\u001b[0m \u001b[0mflags\u001b[0m\u001b[0;34m,\u001b[0m \u001b[0mmode\u001b[0m\u001b[0;34m=\u001b[0m\u001b[0;36m0o777\u001b[0m\u001b[0;34m)\u001b[0m\u001b[0;34m:\u001b[0m\u001b[0;34m\u001b[0m\u001b[0;34m\u001b[0m\u001b[0m\n",
            "\u001b[0;32m/usr/lib/python3.6/pathlib.py\u001b[0m in \u001b[0;36mwrapped\u001b[0;34m(pathobj, *args)\u001b[0m\n\u001b[1;32m    385\u001b[0m         \u001b[0;34m@\u001b[0m\u001b[0mfunctools\u001b[0m\u001b[0;34m.\u001b[0m\u001b[0mwraps\u001b[0m\u001b[0;34m(\u001b[0m\u001b[0mstrfunc\u001b[0m\u001b[0;34m)\u001b[0m\u001b[0;34m\u001b[0m\u001b[0;34m\u001b[0m\u001b[0m\n\u001b[1;32m    386\u001b[0m         \u001b[0;32mdef\u001b[0m \u001b[0mwrapped\u001b[0m\u001b[0;34m(\u001b[0m\u001b[0mpathobj\u001b[0m\u001b[0;34m,\u001b[0m \u001b[0;34m*\u001b[0m\u001b[0margs\u001b[0m\u001b[0;34m)\u001b[0m\u001b[0;34m:\u001b[0m\u001b[0;34m\u001b[0m\u001b[0;34m\u001b[0m\u001b[0m\n\u001b[0;32m--> 387\u001b[0;31m             \u001b[0;32mreturn\u001b[0m \u001b[0mstrfunc\u001b[0m\u001b[0;34m(\u001b[0m\u001b[0mstr\u001b[0m\u001b[0;34m(\u001b[0m\u001b[0mpathobj\u001b[0m\u001b[0;34m)\u001b[0m\u001b[0;34m,\u001b[0m \u001b[0;34m*\u001b[0m\u001b[0margs\u001b[0m\u001b[0;34m)\u001b[0m\u001b[0;34m\u001b[0m\u001b[0;34m\u001b[0m\u001b[0m\n\u001b[0m\u001b[1;32m    388\u001b[0m         \u001b[0;32mreturn\u001b[0m \u001b[0mstaticmethod\u001b[0m\u001b[0;34m(\u001b[0m\u001b[0mwrapped\u001b[0m\u001b[0;34m)\u001b[0m\u001b[0;34m\u001b[0m\u001b[0;34m\u001b[0m\u001b[0m\n\u001b[1;32m    389\u001b[0m \u001b[0;34m\u001b[0m\u001b[0m\n",
            "\u001b[0;31mFileNotFoundError\u001b[0m: [Errno 2] No such file or directory: '../Fake-News/data-cc.pkl/data_save.pkl'"
          ]
        }
      ]
    },
    {
      "cell_type": "markdown",
      "metadata": {
        "id": "Ianq9aChi1EM",
        "colab_type": "text"
      },
      "source": [
        "Finally, we can create the actual classifier using the ```text_classifier``` in fast.ai"
      ]
    },
    {
      "cell_type": "code",
      "metadata": {
        "id": "fhKy7JvyJgOE",
        "colab_type": "code",
        "outputId": "a2ca0587-3c33-4263-e083-0ec2f6485efc",
        "colab": {
          "base_uri": "https://localhost:8080/",
          "height": 287
        }
      },
      "source": [
        "doc(text_classifier_learner)"
      ],
      "execution_count": 0,
      "outputs": [
        {
          "output_type": "display_data",
          "data": {
            "text/html": [
              "<h4 id=\"text_classifier_learner\" class=\"doc_header\"><code>text_classifier_learner</code><a href=\"https://github.com/fastai/fastai/blob/master/fastai/text/learner.py#L287\" class=\"source_link\" style=\"float:right\">[source]</a><a class=\"source_link\" data-toggle=\"collapse\" data-target=\"#text_classifier_learner-pytest\" style=\"float:right; padding-right:10px\">[test]</a></h4><blockquote><p><code>text_classifier_learner</code>(<strong><code>data</code></strong>:<a href=\"https://docs.fast.ai/basic_data.html#DataBunch\"><code>DataBunch</code></a>, <strong><code>arch</code></strong>:<code>Callable</code>, <strong><code>bptt</code></strong>:<code>int</code>=<strong><em><code>70</code></em></strong>, <strong><code>max_len</code></strong>:<code>int</code>=<strong><em><code>1400</code></em></strong>, <strong><code>config</code></strong>:<code>dict</code>=<strong><em><code>None</code></em></strong>, <strong><code>pretrained</code></strong>:<code>bool</code>=<strong><em><code>True</code></em></strong>, <strong><code>drop_mult</code></strong>:<code>float</code>=<strong><em><code>1.0</code></em></strong>, <strong><code>lin_ftrs</code></strong>:<code>Collection</code>[<code>int</code>]=<strong><em><code>None</code></em></strong>, <strong><code>ps</code></strong>:<code>Collection</code>[<code>float</code>]=<strong><em><code>None</code></em></strong>, <strong>**<code>learn_kwargs</code></strong>) → <code>TextClassifierLearner</code></p>\n",
              "</blockquote>\n",
              "<div class=\"collapse\" id=\"text_classifier_learner-pytest\"><div class=\"card card-body pytest_card\"><a type=\"button\" data-toggle=\"collapse\" data-target=\"#text_classifier_learner-pytest\" class=\"close\" aria-label=\"Close\"><span aria-hidden=\"true\">&times;</span></a><p>Tests found for <code>text_classifier_learner</code>:</p><ul><li><code>pytest -sv tests/test_text_train.py::test_classifier</code> <a href=\"https://github.com/fastai/fastai/blob/master/tests/test_text_train.py#L100\" class=\"source_link\" style=\"float:right\">[source]</a></li><li><code>pytest -sv tests/test_text_train.py::test_order_preds</code> <a href=\"https://github.com/fastai/fastai/blob/master/tests/test_text_train.py#L139\" class=\"source_link\" style=\"float:right\">[source]</a></li></ul><p>To run tests please refer to this <a href=\"/dev/test.html#quick-guide\">guide</a>.</p></div></div><p>Create a <a href=\"https://docs.fast.ai/basic_train.html#Learner\"><code>Learner</code></a> with a text classifier from <code>data</code> and <code>arch</code>.</p>\n",
              "<p><a href=\"https://docs.fast.ai/text.learner.html#text_classifier_learner\" target=\"_blank\" rel=\"noreferrer noopener\">Show in docs</a></p>\n"
            ],
            "text/plain": [
              "<IPython.core.display.HTML object>"
            ]
          },
          "metadata": {
            "tags": []
          }
        }
      ]
    },
    {
      "cell_type": "code",
      "metadata": {
        "id": "XpVPQWMUi1EN",
        "colab_type": "code",
        "colab": {}
      },
      "source": [
        "learn_classify = text_classifier_learner(data_b, arch = AWD_LSTM,drop_mult = 0.45)"
      ],
      "execution_count": 0,
      "outputs": []
    },
    {
      "cell_type": "code",
      "metadata": {
        "id": "nfG1UMNmi1ER",
        "colab_type": "code",
        "outputId": "acf13dd2-9be4-4c65-f0d9-4000af266055",
        "colab": {
          "base_uri": "https://localhost:8080/",
          "height": 1000
        }
      },
      "source": [
        "learn_classify.load_encoder('enc1-6J')"
      ],
      "execution_count": 0,
      "outputs": [
        {
          "output_type": "execute_result",
          "data": {
            "text/plain": [
              "RNNLearner(data=TextClasDataBunch;\n",
              "\n",
              "Train: LabelList (5068 items)\n",
              "x: TextList\n",
              "xxbos xxmaj daniel xxmaj greenfield , a xxmaj shillman xxmaj journalism xxmaj fellow at the xxmaj freedom xxmaj center , is a xxmaj new xxmaj york writer focusing on radical xxmaj islam . \n",
              "  xxmaj in the final stretch of the election , xxmaj hillary xxmaj rodham xxmaj clinton has gone to war with the xxup fbi . \n",
              "  xxmaj the word “ unprecedented ” has been thrown around so often this election that it ought to be retired . xxmaj but it ’s still unprecedented for the nominee of a major political party to go war with the xxup fbi . \n",
              "  xxmaj but that ’s exactly what xxmaj hillary and her people have done . xxmaj coma patients just waking up now and watching an hour of xxup cnn from their hospital beds would assume that xxup fbi xxmaj director xxmaj james xxmaj comey is xxmaj hillary ’s opponent in this election . \n",
              "  xxmaj the xxup fbi is under attack by everyone from xxmaj obama to xxup cnn . xxmaj hillary ’s people have circulated a letter attacking xxmaj comey . xxmaj there are currently more media hit pieces lambasting him than targeting xxmaj trump . xxmaj it would n’t be too surprising if the xxmaj clintons or their allies were to start running attack ads against the xxup fbi . \n",
              "  xxmaj the xxup fbi ’s leadership is being warned that the entire left - wing establishment will form a lynch mob if they continue going after xxmaj hillary . xxmaj and the xxup fbi ’s credibility is being attacked by the media and the xxmaj democrats to preemptively head off the results of the investigation of the xxmaj clinton xxmaj foundation and xxmaj hillary xxmaj clinton . \n",
              "  xxmaj the covert struggle between xxup fbi agents and xxmaj obama ’s xxup doj people has gone xxunk public . \n",
              "  xxmaj the xxmaj new xxmaj york xxmaj times has compared xxmaj comey to xxup j. xxmaj edgar xxmaj hoover . xxmaj its bizarre headline , “ xxmaj james xxmaj comey xxmaj role xxmaj recalls xxmaj hoover ’s xxup fbi , xxmaj fairly or xxmaj not ” practically admits up front that it ’s spouting nonsense . xxmaj the xxmaj boston xxmaj globe has published a column calling for xxmaj comey ’s resignation . xxmaj not to be outdone , xxmaj time has an editorial claiming that the scandal is really an attack on all women . \n",
              "  xxmaj james xxmaj carville appeared on xxup msnbc to remind everyone that he was still alive and insane . xxmaj he accused xxmaj comey of coordinating with xxmaj house xxmaj republicans and the xxup kgb . xxmaj and you thought the “ vast right wing conspiracy ” was a stretch . \n",
              "  xxmaj countless media stories charge xxmaj comey with violating procedure . xxmaj do you know what ’s a procedural violation ? xxmaj emailing classified information stored on your bathroom server . \n",
              "  xxmaj senator xxmaj harry xxmaj reid has sent xxmaj comey a letter accusing him of violating the xxmaj hatch xxmaj act . xxmaj the xxmaj hatch xxmaj act is a nice idea that has as much relevance in the age of xxmaj obama as the xxmaj tenth xxmaj amendment . xxmaj but the cable news spectrum quickly filled with media hacks glancing at the xxmaj wikipedia article on the xxmaj hatch xxmaj act under the table while accusing the xxup fbi director of one of the most awkward conspiracies against xxmaj hillary ever . \n",
              "  xxmaj if xxmaj james xxmaj comey is really out to hurt xxmaj hillary , he picked one hell of a strange way to do it . \n",
              "  xxmaj not too long ago xxmaj democrats were breathing a sigh of relief when he gave xxmaj hillary xxmaj clinton a pass in a prominent public statement . xxmaj if he really were out to elect xxmaj trump by keeping the email scandal going , why did he trash the investigation ? xxmaj was he on the payroll of xxmaj house xxmaj republicans and the xxup kgb back then and playing it coy or was it a sudden development where xxmaj vladimir xxmaj putin and xxmaj paul xxmaj ryan talked him into taking a look at xxmaj anthony xxmaj weiner ’s computer ? \n",
              "  xxmaj either xxmaj comey is the most cunning xxup fbi director that ever lived or he ’s just awkwardly trying to navigate a political mess that has trapped him between a xxup doj leadership whose political futures are tied to xxmaj hillary ’s victory and his own bureau whose apolitical agents just want to be allowed to do their jobs . \n",
              "  xxmaj the only truly mysterious thing is why xxmaj hillary and her associates decided to go to war with a respected xxmaj federal agency . xxmaj most xxmaj americans like the xxup fbi while xxmaj hillary xxmaj clinton enjoys a 60 % unfavorable rating . \n",
              "  xxmaj and it ’s an interesting question . \n",
              "  xxmaj hillary ’s old strategy was to lie and deny that the xxup fbi even had a criminal investigation underway . xxmaj instead her associates insisted that it was a security review . xxmaj the xxup fbi corrected her and she shrugged it off . xxmaj but the old breezy denial approach has given way to a savage assault on the xxup fbi . \n",
              "  xxmaj pretending that nothing was wrong was a bad strategy , but it was a better one that picking a fight with the xxup fbi while lunatic xxmaj clinton associates try to claim that the xxup fbi is really the xxup kgb . \n",
              "  xxmaj there are two possible explanations . \n",
              "  xxmaj hillary xxmaj clinton might be arrogant enough to lash out at the xxup fbi now that she believes that victory is near . xxmaj the same kind of hubris that led her to plan her victory fireworks display could lead her to declare a war on the xxup fbi for irritating her during the final miles of her campaign . \n",
              "  xxmaj but the other explanation is that her people panicked . \n",
              "  xxmaj going to war with the xxup fbi is not the behavior of a smart and focused presidential campaign . xxmaj it ’s an act of desperation . xxmaj when a presidential candidate decides that her only option is to try and destroy the credibility of the xxup fbi , that ’s not hubris , it ’s fear of what the xxup fbi might be about to reveal about her . \n",
              "  xxmaj during the original xxup fbi investigation , xxmaj hillary xxmaj clinton was confident that she could ride it out . xxmaj and she had good reason for believing that . xxmaj but that xxmaj hillary xxmaj clinton is gone . xxmaj in her place is a paranoid wreck . xxmaj within a short space of time the “ positive ” xxmaj clinton campaign promising to unite the country has been replaced by a desperate and flailing operation that has focused all its energy on fighting the xxup fbi . \n",
              "  xxmaj there ’s only one reason for such bizarre behavior . \n",
              "  xxmaj the xxmaj clinton campaign has decided that an xxup fbi investigation of the latest batch of emails poses a threat to its survival . xxmaj and so it ’s gone all in on fighting the xxup fbi . xxmaj it ’s an unprecedented step born of fear . xxmaj it ’s hard to know whether that fear is justified . xxmaj but the existence of that fear already tells us a whole lot . \n",
              "  xxmaj clinton loyalists rigged the old investigation . xxmaj they knew the outcome ahead of time as well as they knew the debate questions . xxmaj now suddenly they are no longer in control . xxmaj and they are afraid . \n",
              "  xxmaj you can smell the fear . \n",
              "  xxmaj the xxup fbi has wiretaps from the investigation of the xxmaj clinton xxmaj foundation . xxmaj it ’s finding new emails all the time . xxmaj and xxmaj clintonworld panicked . xxmaj the xxunk of xxmaj clintonworld have claimed that the email scandal is just so much smoke without fire . xxmaj all that ’s here is the appearance of impropriety without any of the substance . xxmaj but this is n’t how you react to smoke . xxmaj it ’s how you respond to a fire . \n",
              "  xxmaj the misguided assault on the xxup fbi tells us that xxmaj hillary xxmaj clinton and her allies are afraid of a revelation bigger than the fundamental illegality of her email setup . xxmaj the email setup was a preemptive cover up . xxmaj the xxmaj clinton campaign has panicked badly out of the belief , right or wrong , that whatever crime the illegal setup was meant to cover up is at risk of being exposed . \n",
              "  xxmaj the xxmaj clintons have weathered countless scandals over the years . xxmaj whatever they are protecting this time around is bigger than the usual corruption , bribery , sexual assaults and abuses of power that have followed them around throughout the years . xxmaj this is bigger and more damaging than any of the allegations that have already come out . xxmaj and they do n’t want xxup fbi investigators anywhere near it . \n",
              "  xxmaj the campaign against xxmaj comey is pure intimidation . xxmaj it ’s also a warning . xxmaj any senior xxup fbi people who value their careers are being warned to stay away . xxmaj the xxmaj democrats are closing ranks around their nominee against the xxup fbi . xxmaj it ’s an ugly and unprecedented scene . xxmaj it may also be their last stand . \n",
              "  xxmaj hillary xxmaj clinton has awkwardly wound her way through numerous scandals in just this election cycle . xxmaj but she ’s never shown fear or desperation before . xxmaj now that has changed . xxmaj whatever she is afraid of , it lies buried in her emails with xxmaj huma xxmaj abedin . xxmaj and it can bring her down like nothing else has .,xxbos xxmaj google xxmaj pinterest xxmaj digg xxmaj linkedin xxmaj reddit xxmaj stumbleupon xxmaj print xxmaj delicious xxmaj pocket xxmaj tumblr \n",
              "  xxmaj there are two fundamental truths in this world : xxmaj paul xxmaj ryan desperately wants to be president . xxmaj and xxmaj paul xxmaj ryan will never be president . xxmaj today proved it . \n",
              "  xxmaj in a particularly staggering example of political cowardice , xxmaj paul xxmaj ryan re - re - re - reversed course and announced that he was back on the xxmaj trump xxmaj train after all . xxmaj this was an xxunk from where he was a few weeks ago . xxmaj he had previously declared he would not be supporting or defending xxmaj trump after a tape was made public in which xxmaj trump bragged about assaulting women . xxmaj suddenly , xxmaj ryan was appearing at a pro - xxmaj trump rally and boldly declaring that he already sent in his vote to make him xxmaj president of the xxmaj united xxmaj states . xxmaj it was a surreal moment . xxmaj the figurehead of the xxmaj republican xxmaj party xxunk himself in gasoline , got up on a stage on a chilly afternoon in xxmaj wisconsin , and lit a match . . @speakerryan says he voted for @realdonaldtrump : “ xxmaj republicans , it is time to come home ” https : / / t.co / xxunk pic.twitter.com / xxunk \n",
              "  — xxup abc xxmaj news xxmaj politics ( xxunk ) xxmaj november 5 , 2016 \n",
              "  xxmaj the xxmaj democratic xxmaj party could n’t have asked for a better moment of film . xxmaj ryan ’s chances of ever becoming president went down to zero in an instant . xxmaj in the wreckage xxmaj trump is to leave behind in his wake , those who xxunk backed his campaign will not recover . xxmaj if xxmaj ryan ’s career manages to limp all the way to 2020 , then the xxup dnc will have this tape locked and loaded to be used in every ad until xxmaj election xxmaj day . \n",
              "  xxmaj the ringing endorsement of the man he clearly hates on a personal level speaks volumes about his own spinelessness . xxmaj ryan has xxunk himself as a “ principled ” conservative , and one uncomfortable with xxmaj trump ’s unapologetic bigotry and sexism . xxmaj however , when push came to shove , xxmaj paul xxmaj ryan – like many of his colleagues – turned into a sniveling xxunk . xxmaj after all his lofty xxunk about conviction , his principles were a house of cards and collapsed with the slightest breeze . \n",
              "  xxmaj what ’s especially bizarre is how close xxmaj ryan came to making it through unscathed . xxmaj for months the xxmaj speaker of the xxmaj house refused to comment on xxmaj trump at all . xxmaj his strategy seemed to be to keep his head down , pretend xxmaj trump did n’t exist , and hope that nobody remembered what happened in 2016 . xxmaj now , just days away from the election , he screwed it all up . \n",
              "  xxmaj if 2016 ’s very ugly election has done any good it ’s by exposing the utter cowardice of the xxmaj republicans who once feigned moral courage . a reality television star spit on them , hijacked their party , insulted their wives , and got every last one of them to kneel before him . xxmaj what a turn of events . \n",
              "  xxmaj featured image via xxmaj twitter,xxbos — xxmaj xxunk xxmaj king ( xxunk ) xxmaj november 9 , 2016 xxmaj the lesson from tonight 's xxmaj dem losses : xxmaj time for xxmaj democrats to start listening to the voters . xxmaj stop running the same establishment candidates . \n",
              "  — xxmaj people xxmaj for xxmaj bernie ( xxunk ) xxmaj november 9 , 2016 xxmaj if xxmaj dems did n't want a tight race they should n't have worked against xxmaj bernie . \n",
              "  — xxmaj walker xxmaj xxunk ( xxunk ) xxmaj november 9 , 2016 \n",
              "  xxmaj new xxmaj york xxmaj times columnist xxmaj paul xxmaj krugman , who was one of xxmaj hillary xxmaj clinton ’s most outspoken surrogates during the contentious xxmaj democratic primary , blamed xxmaj clinton ’s poor performance on xxmaj green xxmaj party candidate xxmaj jill xxmaj stein , who has so far received a negligible number of votes nationally , saying xxmaj stein was the xxmaj ralph xxmaj nader of 2016 in preventing a xxmaj clinton victory . xxmaj the account xxunk threw xxmaj krugman ’s analysis back in his face . xxmaj your candidate was the issue . xxmaj take responsibility . https : / / t.co / xxunk \n",
              "  — xxmaj teachers for xxmaj bernie ( xxunk ) xxmaj november 9 , 2016 \n",
              "  xxmaj ana xxmaj navarro , a xxmaj republican who recently endorsed xxmaj hillary xxmaj clinton , summed up the preposterous nature of the 2016 presidential election in this tweet : xxup gop nominated the only damn candidate who could lose to xxmaj hillary xxmaj clinton . xxmaj democrats nominated the only damn candidate who could lose to xxmaj trump \n",
              "  — xxmaj ana xxmaj navarro ( xxunk ) xxmaj november 9 , 2016 \n",
              "  xxmaj popular left - wing xxmaj facebook page xxmaj the xxmaj other 98 % , which was pro - xxmaj sanders during the primary , responded to xxmaj trump ’s surge by simply posting a meme of xxmaj sanders ’ face with the text “ xxmaj all this could ’ve been avoided . xxmaj thanks for nothing , xxup dnc ! ” xxmaj the meme has been shared almost 15,000 times in less than an hour : \n",
              "  xxmaj posted by xxmaj the xxmaj other 98 % on xxmaj tuesday , xxmaj november 8 , 2016 \n",
              "  xxmaj while xxmaj bernie xxmaj sanders endorsed xxmaj hillary xxmaj clinton just before the xxmaj democratic xxmaj national xxmaj convention in xxmaj july , many of his supporters remained adamant in their refusal to support the xxup dnc - anointed candidate , pointing to wikileaks ’ revelations that top officials at the xxup dnc had been working behind the scenes to tip the scales in xxmaj clinton ’s favor by coordinating with media figures to circulate anti - xxmaj sanders narratives . \n",
              "  xxmaj rather than attribute a potential xxmaj trump presidency to the xxup gop nominee ’s perceived popularity among voters , the closeness of this election could be credited to xxmaj hillary xxmaj clinton ’s unfavorable ratings . xxmaj according to realclearpolitics , anywhere between 51 and 57 percent of voters had a negative opinion of the xxmaj democratic nominee . \n",
              "  xxmaj as of 11 xxup pm xxmaj eastern , xxmaj florida , xxmaj michigan , xxmaj pennsylvania , and xxmaj wisconsin remain too close to call . xxmaj clinton has xxunk electoral votes to xxmaj trump ’s 187 . \n",
              " \n",
              "  xxmaj zach xxmaj cartwright is an activist and author from xxmaj richmond , xxmaj virginia . xxmaj he enjoys writing about politics , government , and the media . xxmaj send him an email at [ email protected ],xxbos xxmaj it 's primary day in xxmaj new xxmaj york and front - runners xxmaj hillary xxmaj clinton and xxmaj donald xxmaj trump are leading in the polls . \n",
              " \n",
              "  xxmaj trump is now vowing to win enough delegates to clinch the xxmaj republican nomination and prevent a contested convention . xxmaj but xxmaj sens . xxmaj ted xxmaj cruz , r - xxmaj texas , xxmaj bernie xxmaj sanders , d - xxmaj vt . , and xxmaj ohio xxmaj gov. xxmaj john xxmaj kasich and are n't giving up just yet . \n",
              " \n",
              "  a big win in xxmaj new xxmaj york could tip the scales for both the xxmaj republican and xxmaj democratic front - runners in this year 's race for the xxmaj white xxmaj house . xxmaj clinton and xxmaj trump have each suffered losses in recent contests , shifting the momentum to their rivals . \n",
              " \n",
              "  \" xxmaj we have won eight out of the last nine caucuses and primaries ! xxmaj cheer ! \" xxmaj sanders recently told supporters . \n",
              " \n",
              "  xxmaj while wins in xxmaj new xxmaj york for xxmaj trump and xxmaj clinton are expected , the margins of those victories are also important . \n",
              " \n",
              "  xxmaj trump needs to capture more than 50 percent of the vote statewide if he wants to be positioned to win all of the state 's 95 xxup gop delegates . xxmaj that would put him one step closer to avoiding a contested convention . \n",
              " \n",
              "  \" xxmaj we 've got to vote and you know xxmaj cruz is way , way down in the polls , \" xxmaj trump urged supporters . \n",
              " \n",
              "  xxmaj meanwhile , xxmaj sanders is hoping for a close race in the xxmaj empire xxmaj state . a loss by 10 points means he 'll need to win 80 percent of the remaining delegates to clinch the nomination . \n",
              " \n",
              "  xxmaj despite a predicted loss in xxmaj new xxmaj york , xxmaj cruz has n't lost momentum . xxmaj he 's hoping to sweep up more delegates this weekend while he 's talking about how he can win in xxmaj november . \n",
              " \n",
              "  \" xxmaj because if i 'm the nominee , we win the xxmaj general xxmaj election , \" xxmaj cruz promised his supporters . \" xxmaj we 're beating xxmaj hillary in the key swing states , we 're beating xxmaj hillary with xxmaj independents , we 're beating xxmaj hillary with young people . \" \n",
              " \n",
              "  xxmaj for now , xxmaj cruz , xxmaj kasich , and xxmaj sanders have all moved on from xxmaj new xxmaj york to other states . xxmaj trump and xxmaj clinton are the only two staying in their home state to watch the results come in .,xxbos \n",
              "  i ’m not an immigrant , but my grandparents are . xxmaj more than 50 years ago , they arrived in xxmaj new xxmaj york xxmaj city from xxmaj iran . i grew up mainly in central xxmaj new xxmaj jersey , an xxmaj american kid playing little league for the xxmaj raritan xxmaj red xxmaj sox and soccer for the xxmaj raritan xxmaj rovers . xxmaj in 1985 , i travelled with my family to our ancestral land . i was only eight , but old enough to understand that the xxmaj iranians had lost their liberty and freedom . i saw the abject despair of a people who , in a desperate attempt to bring about change , had ushered in nationalist tyrants led by xxmaj ayatollah xxmaj khomeini . \n",
              "  xxmaj what i witnessed during that year in xxmaj iran changed the course of my life . xxmaj in 1996 , at age 19 , wanting to help preserve the blessings of liberty and freedom we enjoy in xxmaj america , i enlisted in the xxup u.s. xxmaj navy . xxmaj now , with the rise of xxmaj donald xxmaj trump and his nationalist alt - right movement , i ’ve come to feel that the values i sought to protect are in jeopardy . \n",
              "  xxmaj in xxmaj iran , theocratic fundmentalists sowed division and hatred of outsiders — of xxmaj westerners , xxmaj christians , and other religious minorities . xxmaj here in xxmaj america , the right wing seems to have stolen passages directly from their playbook as it spreads hatred of immigrants , particularly xxmaj muslim ones . xxmaj this form of nationalistic bigotry — xxmaj islamophobia — threatens the heart of our nation . xxmaj when i chose to serve in the military , i did so to protect what i viewed as our sacred foundational values of liberty , equality , and democracy . xxmaj now , 20 years later , i ’ve joined forces with fellow veterans to again fight for those sacred values , this time right here at home . \n",
              "  “ xxmaj death to xxmaj america ! ” \n",
              "  xxmaj as a child , i sat in my class at the international school one sunny morning and heard in the distance the faint sounds of gunfire and rising chants of “ xxmaj death to xxmaj america ! ” xxmaj that day would define the rest of my life . \n",
              "  xxmaj it was xxmaj tehran , the capital of xxmaj iran , in 1985 . i was attending a unique school for bilingual students who had been born in xxmaj western nations . xxmaj it had become the last refuge in that city with any tolerance for xxmaj western teaching , but that also made it a target for military fundamentalists . xxmaj as the gunfire drew closer , i heard boots pounding the marble tiles outside , marching into our building , and thundering down the corridor toward my classroom . xxmaj as i heard voices chanting “ xxmaj death to xxmaj america ! ” i remember wondering if i would survive to see my parents again . \n",
              "  xxmaj in a flash of green and black uniforms , those soldiers rushed into our classroom , grabbed us by our shirt collars , and yelled at us to get outside . xxmaj we were then packed into the school ’s courtyard where a soldier pointed his rifle at our group and commanded us to look up . xxmaj almost in unison , my classmates and i raised our eyes and saw the flags of our many nations being torn down and dangled from the balcony , then set ablaze and tossed , still burning , into the courtyard . xxmaj as those flags floated to the ground in flames , the soldiers fired their guns in the air . xxmaj shouting , they ordered us — if we ever wanted to see our families again — to swear allegiance to the xxmaj grand xxmaj ayatollah xxmaj khomeini and trample on the remains of the burning symbols of our home countries . i scanned the smoke that was filling the courtyard for my friends and classmates and , horrified , watched them capitulate and begin to chant , “ xxmaj death to xxmaj america ! ” as they stomped on our sacred symbols . \n",
              "  i was so angry that , young as i was , i began to plead with them to come to their senses . xxmaj no one paid the slightest attention to an eight year old and yet , for the first time in my life , i felt something like righteous indignation . i suspect that , born and raised in xxmaj america , i was already imbued with such a sense of privilege that i just could n’t fathom the immense danger i was in . xxmaj certainly , i was acting in ways no native xxmaj iranian would have found reasonable . \n",
              "  xxmaj across the smoke - filled courtyard , i saw a soldier coming at me and knew he meant to force me to submit . i spotted an xxmaj american flag still burning , dropped to my knees , and grabbed the charred pieces from underneath a classmate ’s feet . xxmaj as the soldier closed in on me , i ducked and ran , still clutching my charred pieces of flag into a crowd of civilians who had gathered to witness the commotion . xxmaj the events of that day would come to define all that i have ever stood for — or against . \n",
              "  “ xxmaj camel xxmaj jockey , ” “ xxmaj ayatollah , ” and “ xxmaj gandhi ” \n",
              "  xxmaj my parents and i soon returned to the xxmaj united xxmaj states and i entered third grade . xxmaj more than anything , i just wanted to be normal , to fit in and be accepted by my peers . xxmaj unfortunately , my first name , xxmaj nader ( which i changed to xxmaj nate upon joining the xxmaj navy ) , and my swarthy xxmaj middle xxmaj eastern appearance , were little help on that score , eliciting regular jibes from my classmates . xxmaj even at that young age , they had already mastered a veritable thesaurus of ethnic defamation , including “ camel jockey , ” “ sand - nigger , ” “ xxunk , ” “ ayatollah , ” and ironically , “ xxmaj gandhi ” ( which i now take as a compliment ) . xxmaj my classmates regularly sought to “ other - ize ” me in those years , as if i were a lesser xxmaj american because of my faith and ethnicity . \n",
              "  xxmaj yet i remember that tingling in my chest when i first donned my xxmaj cub xxmaj scout uniform — all because of the xxmaj american flag patch on its shoulder . xxmaj something felt so good about wearing it , a feeling i still had when i joined the military . xxmaj it seems that the flag i tried to rescue in xxmaj tehran was stapled to my heart , or that ’s how i felt anyway as i wore my country ’s uniform . \n",
              "  xxmaj when i took my oath of enlistment in the xxup u.s. xxmaj navy , i gave my mom a camera and asked her to take some photos , but she was so overwhelmed with pride and joy that she cried throughout the ceremony and managed to snap only a few images of the carpet . xxmaj she cried even harder when i was selected to serve as the first xxmaj muslim - xxmaj american member of the xxup u.s. xxmaj navy xxmaj presidential xxmaj ceremonial xxmaj honor xxmaj guard . xxmaj on that day , i was proud , too , and all the taunts of those bullies of my childhood seemed finally silenced . \n",
              "  xxmaj being tormented because of my ethnicity and religion in those early years had another effect on me . xxmaj it caused me to become unusually sensitive to the nature of other people . xxmaj somehow , i grasped that , if it were n’t for a fear of the unknown , there was an inherent goodness and frail humanity lurking in many of the kids who bullied and harassed me . xxmaj often , i discovered , those same bullies could be tremendously kind to their families , friends , or even strangers . i realized , then , that if , despite everything , i could lay myself bare and trust them enough to reach out in kindness , i might in turn gain their trust and they might then see me , too , and stop operating from such a place of fear and hate . \n",
              "  xxmaj through patience , humor , and understanding , i was able to offer myself as the embodiment of my people and somehow defang the “ otherness ” of so much that xxmaj americans found scary . xxmaj to this day , i have friends from elementary school , middle school , high school , and the military who tell me that i am the only xxmaj muslim they have ever known and that , had they not met me , their perspective on xxmaj islam would have been wholly subject to the prevailing fear - based narrative that has poisoned this country since xxmaj september 11 , 2001 . \n",
              "  xxmaj in 1998 , i became special assistant to the xxmaj master xxmaj chief xxmaj petty xxmaj officer of the xxmaj navy and then , in 1999 , i was recruited to serve at the xxmaj defense xxmaj intelligence xxmaj agency . xxmaj in xxmaj august 2000 , i transferred to the xxmaj naval xxmaj reserve . \n",
              "  xxmaj in the wake of 9 / 11 , i began to observe how so many of my fellow xxmaj americans were adopting a fundamentalist “ us vs. them ” attitude towards xxmaj muslims and xxmaj islam . i suddenly found myself in an xxmaj america where the scattered insults i had endured as a child took on an overarching and sinister meaning and form , where they became something like an ideology and way of life . \n",
              "  xxmaj by the time i completed my military service in 2006 , i had begun to understand that our policies in the xxmaj middle xxmaj east , similarly disturbed , seemed in pursuit of little more than perpetual warfare . xxmaj that , in turn , was made possible by the creation of a new enemy : xxmaj islam — or rather of a portrait , painted by the powers - that - be , of xxmaj islam as a terror religion , as a hooded villain lurking out there somewhere in the desert , waiting to destroy us . i knew that attempting to dispel , through the patient approach of my childhood , the kind of xxmaj islamophobia that now had the country by the throat was not going to be enough . xxmaj post-9 / 11 attacks on xxmaj muslims in the xxup u.s. and elsewhere were not merely childish taunts . \n",
              "  xxmaj for the first time in my life , in a country gripped by fear , i believed i was witnessing a shift , en masse , toward an xxmaj american fundamentalism and ultra - nationalism that reflected a wanton lack of reason , not to mention fact . xxmaj as a boy in xxmaj iran , i had witnessed the dark destination down which such a path could take a country . xxmaj now , it seemed to me , in xxmaj america ’s quest to escape the very demons we had sown by our own misadventures in the xxmaj middle xxmaj east , and xxunk the hallmarks of our founding , we risked becoming everything we sought to defeat . \n",
              "  xxmaj the xxmaj boy in the xxmaj schoolyard xxmaj grown xxmaj up \n",
              "  xxmaj on xxmaj february 10 , 2015 , three young xxmaj american students , xxmaj xxunk xxmaj abu - xxmaj salha , xxmaj xxunk xxmaj abu - xxmaj salha , and xxmaj xxunk xxmaj xxunk xxmaj barakat , were executed at an apartment complex in xxmaj chapel xxmaj hill , xxmaj north xxmaj carolina . xxmaj the killer was a gun - crazy white man filled with hate and described by his own daughter as “ a monster . ” xxmaj those assassinations struck a special chord of sorrow and loss in me . xxmaj my mom and i cried and prayed together for those students and their families . \n",
              "  xxmaj the incident in xxmaj chapel xxmaj hill also awoke in me some version of the righteous indignation i had felt so many years earlier in that smoke - filled courtyard in xxmaj iran . i would be damned if i stood by while kids in my country were murdered simply because of their faith . xxmaj it violated every word of the oath i had taken when i joined the military and xxunk every value i held in my heart as a sacred tenet of our nation . xxmaj white nationalists and bigots had , by then , thrown down the gauntlet for so much of this , using xxmaj islamophobia to trigger targeted assassinations in the xxmaj united xxmaj states . xxmaj this was terrorism , pure and simple , inspired by hate - speakers here at home . \n",
              "  xxmaj at that moment , i reached out to fellow veterans who , i thought , might be willing to help — and it ’s true what they say about soul mates being irrevocably drawn to each other . xxmaj when i contacted xxmaj veterans xxmaj for xxmaj peace , an organization dedicated to exposing the costs of war and militarism , i found the leadership well aware of the inherent dangers of xxmaj islamophobia and of the need to confront this new enemy . xxmaj so xxmaj executive xxmaj director xxmaj michael mcphearson formed a committee of vets from around the country to decide how those of us who had donned uniforms to defend this land could best battle the phenomenon — and i , of course , joined it . \n",
              "  xxmaj from that committee emerged xxmaj veterans xxmaj challenge xxmaj islamophobia ( xxup vci ) . xxmaj it now has organizers in xxmaj arizona , xxmaj georgia , xxmaj new xxmaj jersey , and xxmaj texas , and that ’s just a beginning . xxmaj totally nonpartisan , xxup vci focuses on politicians of any party who engage in hate speech . xxmaj we ’ve met with leaders of xxmaj american xxmaj muslim communities , sat with them through xxmaj ramadan , and attended their xxmaj xxunk dinners to break our xxunk together . xxmaj in the wake of the xxmaj orlando shooting , we at xxup vci also mobilized to fight back against attempts to pit the xxmaj muslim community against the xxup xxunk community . \n",
              "  xxmaj our group was born of the belief that , as xxmaj american military veterans , we had a responsibility to call out bigotry , hatred , and the perpetuation of endless warfare . xxmaj we want the xxmaj american xxmaj muslim community to know that they have allies , and that those allies are indeed veterans as well . xxmaj we stand with them and for them and , for those of us who are xxmaj muslim , among them . \n",
              "  xxmaj nationalism and xenophobia have no place in xxmaj american life , and i , for my part , do n’t think xxmaj donald xxmaj trump or anyone like him should be able to peddle xxmaj islamophobia in an attempt to undermine our national unity . xxmaj without xxmaj islamophobia , there no longer exists a “ clash of civilizations . ” xxmaj without xxmaj islamophobia , whatever the problems in the world may be , there is no longer an “ us vs. them ” and it ’s possible to begin reimagining a world of something other than perpetual war . \n",
              "  xxmaj as of now , this remains the struggle of my life , for despite my intense love for xxmaj america , some of my countrymen increasingly see xxmaj american xxmaj muslims as the “ other , ” the enemy . \n",
              "  xxmaj my xxmaj mom taught me as a boy that the only thing that mattered was what was in my heart . xxmaj now , with her in mind and as a representative of xxup vci , when i meet fellow xxmaj americans i always remember my childhood experiences with my bullying peers . xxmaj and i still lay myself bare , as i did then . i give trust to gain trust , but always knowing that these days this is n’t just a matter of niceties . xxmaj it ’s a question of life or death . xxmaj it ’s part of a battle for the soul of our nation . \n",
              "  xxmaj in many ways , i still consider myself that boy in the school courtyard in xxmaj tehran trying to rescue charred pieces of that flag from those trampling feet . xxmaj it ’s just that now i ’m doing it in my own country . \n",
              "  xxmaj nate xxmaj terani is a veteran of the xxup u.s. xxmaj navy and served in military intelligence with the xxmaj defense xxmaj intelligence xxmaj agency . xxmaj he is currently a member of the leadership team at xxmaj common xxmaj defense xxup pac and regional campaign organizer with xxmaj veterans xxmaj challenge xxmaj islamophobia . xxmaj he is a featured columnist with the xxmaj arizona xxmaj muslim xxmaj voice newspaper . ( xxmaj reprinted from tomdispatch by permission of author or representative )\n",
              "y: CategoryList\n",
              "FAKE,FAKE,FAKE,REAL,FAKE\n",
              "Path: .;\n",
              "\n",
              "Valid: LabelList (1267 items)\n",
              "x: TextList\n",
              "xxbos xxmaj the xxmaj obama administration on xxmaj friday offered an extension of the current obamacare enrollment period -- though not exactly what xxmaj republicans were seeking . \n",
              " \n",
              "  xxmaj federal health officials announced xxmaj friday afternoon that they 'd give people another eight days this year to enroll in an insurance policy and still get covered by xxmaj jan. 1 . xxmaj previously , people had to enroll by xxmaj dec. 15 to avoid any break in coverage and have insurance at the start of 2014 . xxmaj the administration , amid lingering problems with the main obamacare website , is now pushing that deadline to xxmaj dec. 23 . \n",
              " \n",
              "  xxmaj the move comes after the administration announced a more significant delay to the start of next year 's obamacare enrollment period . xxmaj that decision was pitched as a way to give consumers and insurance companies more time to study their options , but also conveniently pushes the second round of enrollment past the 2014 midterm elections . \n",
              " \n",
              "  xxmaj with the administration still offering only modest relief for the current enrollment period , xxmaj republicans questioned why the administration was focusing on the second round of enrollment , a year away . \n",
              " \n",
              "  \" xxmaj another day , another delay , which begs the question , does the president think enrollment will be just as bad next year ? \" xxmaj house xxmaj energy and xxmaj commerce xxmaj committee xxmaj chairman xxmaj fred xxmaj upton , r - xxmaj mich . , said in a statement . \" xxmaj it 's stunning to see the president so willing to delay next year 's open enrollment period rather than focus on the ongoing chaos and uncertainty that is plaguing implementation today . \" \n",
              " \n",
              "  xxmaj white xxmaj house xxmaj press xxmaj secretary xxmaj jay xxmaj carney and a xxmaj department of xxmaj health and xxmaj human xxmaj services official confirmed the change to the 2014 sign - up on xxmaj friday . xxmaj that decision does not affect those trying to enroll this year . xxmaj rather , it affects those who will sign up late next year for 2015 coverage . \n",
              " \n",
              "  xxmaj the administration will allow consumers to start signing up on xxmaj nov. 15 , 2014 , as opposed to xxmaj oct. 15 . xxmaj enrollment will last until xxmaj jan. 15 , 2015 , instead of xxmaj dec. 7 . \n",
              " \n",
              "  xxmaj an xxup hhs official told xxmaj fox xxmaj news the move will give insurers \" the benefit of more time to evaluate their experiences during the 2014 plan year \" and let them take into account late - filing customers when setting their 2015 rates . \n",
              " \n",
              "  xxmaj the official added : \" xxmaj this change is good news for consumers , who will have more time to learn about plans before xxunk and an open enrollment period that 's a week longer . \" \n",
              " \n",
              "  xxmaj the administration so far has rebuffed calls to delay or extend the current enrollment period beyond xxmaj march 31 , 2014 , even as xxup hhs scrambles to repair the flawed healthcare.gov site and some states struggle with their own exchanges . \n",
              " \n",
              "  xxmaj but by pushing off next year 's enrollment period , the administration conveniently pushes off the possibility of any obamacare hiccups until after the midterm elections . xxmaj some of the biggest critics of the current rollout have been xxmaj democrats up for reelection next year . \n",
              " \n",
              "  xxmaj obama recently tried to address some of their concerns by allowing states and insurance companies to re - offer cancelled insurance policies -- a trend which has become a major headache for the administration . xxmaj many states , though , are refusing to make any changes to the way they handle those plans . \n",
              " \n",
              "  xxup hhs argued that the delay next year will give consumers more time to educate themselves about the plans , though it would not affect coverage this year .,xxbos xxmaj the online comment fits closely with his campaign platform .,xxbos xxmaj turkish xxmaj objections xxmaj wo n't xxmaj stop xxup ypg 's xxmaj involvement by xxmaj jason xxmaj ditz , xxmaj october 26 , 2016 xxmaj share xxmaj this \n",
              "  xxup us xxmaj lt . xxmaj gen. xxmaj stephen xxmaj townsend , the leader of the xxup us military forces in xxmaj iraq and xxmaj syria , today announced that xxmaj kurdish xxup ypg forces will participate in the invasion of the xxup isis capital city of xxmaj raqqa , despite xxmaj turkish government demands that the xxmaj kurds not be allowed to take part . \n",
              "  xxmaj townsend was a bit vague on the details of xxmaj kurdish involvement , saying the xxup us are “ going to take this in steps , ” and that xxmaj turkey has to realize the only way that the xxup us is going to have enough force to take over xxmaj raqqa any time soon is with a significant portion of the xxup ypg involved . \n",
              "  xxmaj turkish xxmaj foreign xxmaj minister xxmaj xxunk xxmaj xxunk reiterated that his government wants only “ local forces ” involved in the xxmaj raqqa battle , and that the xxup ypg , who xxmaj turkey considers a terrorist organization , must not be allowed to take part in any way . \n",
              "  xxmaj turkey ’s military has been attacking the xxup ypg in several locations around xxmaj syria over the past week , including heavy airstrikes which killed an estimated 200 xxup ypg fighters who were engaged in an offensive against xxup isis around xxmaj afrin . xxmaj the xxmaj turkish government has repeatedly complained the xxup ypg is gaining too much territory in xxmaj syria , and that they must abandon much of it . xxmaj last 5 posts by xxmaj jason xxmaj ditz,xxbos xxmaj trump warned his supporters that the xxup us xxmaj postal xxmaj service is trying to steal the election for xxmaj hillary xxmaj clinton in xxmaj colorado . \n",
              "  xxmaj video : \n",
              "  xxmaj at a rally in xxmaj golden , xxup co , xxmaj trump said : \n",
              "  i have real problems with ballots being sent . xxmaj does that make sense ? \n",
              "  xxmaj like people saying , “ xxmaj oh , here ’s a ballot . xxmaj here ’s another ballot . xxmaj throw it away . xxmaj oh , here ’s one i like . xxmaj we ’ll keep that one . ” \n",
              "  i have real problems , so get your ballots in . \n",
              "  xxmaj trump also accused election officials of throwing away ballots , as his rally was a mixture of claims of voter fraud and baseless speculation about xxmaj hillary xxmaj clinton ’s emails . \n",
              "  xxmaj donald xxmaj trump appears to be losing his mind . xxmaj he also seems to think that accusing the xxup us xxmaj postal xxmaj service and election officials of stealing the election for xxmaj hillary xxmaj clinton is going to motivate xxmaj republicans to vote . \n",
              "  xxmaj consider the contradiction in xxmaj trump ’s message . xxmaj the xxmaj republican nominee tells his supporters that the xxup us xxmaj postal xxmaj service is throwing away ballots , while at the same time he is urging them to mail in their ballots . \n",
              "  xxmaj if their ballots are going to be thrown away by xxup xxunk , why should xxmaj republicans bother mailing their ballots in ? \n",
              "  xxmaj it is this sort of incoherent gibberish that makes no sense . xxmaj trump ’s inability to stay disciplined and on message is also one of the biggest reasons why xxmaj republicans on pace to lose this election . \n",
              "  xxmaj donald xxmaj trump ’s descent into paranoid senior citizen continues to play out in front of the entire nation , as the xxmaj republican nominee for president believes that his letter carrier is out to get him ,,xxbos xxmaj by xxmaj hrafnkell xxmaj haraldsson on xxmaj mon , xxmaj oct 31st , 2016 at xxunk am xxmaj in xxmaj donald xxmaj trump \" you have a candidate who is frequently saying 20 false things in a day , up to 37 on some days . \" xxmaj share on xxmaj twitter xxmaj print xxmaj this xxmaj post \n",
              "  xxup cnn ’s xxmaj brian xxmaj stelter calls xxmaj donald xxmaj trump a “ uniquely fact - challenged candidate , ” which is a prelude to introducing xxmaj daniel xxmaj dale , xxmaj washington correspondent for the xxmaj toronto xxmaj star , who fact checks every single word xxmaj trump utters and tallies them up for his paper . \n",
              "  xxmaj dale says most fact - checkers look at two or three things xxmaj trump says , “ meticulously fact - checks them and posts an article , ” but “ that does n’t work when you have a candidate who is frequently saying 20 false things in a day , up to 37 on some days . ” \n",
              "  xxmaj for example , xxmaj dale tallied 35 xxmaj trump lies on xxmaj tuesday , xxmaj october 25 : xxmaj donald xxmaj trump said 35 false things yesterday . # xxunk pic.twitter.com / xxunk \n",
              "  — xxmaj daniel xxmaj dale ( xxunk ) xxmaj october 26 , 2016 \n",
              "  xxmaj which , as xxmaj dale pointed out , followed “ his record - tying 37 false claims on xxmaj monday , ” not coincidentally , a day on which xxmaj trump called fact checkers “ scum . ” \n",
              "  xxmaj watch courtesy of xxup cnn ’s xxmaj reliable xxmaj sources : \" xxmaj there is a massive imbalance in the frequency of dishonesty . \" xxunk says xxmaj trump lies a lot more than xxmaj clinton https : / / t.co / xxunk \n",
              "  — xxmaj reliable xxmaj sources ( xxunk ) xxmaj october 30 , 2016 \n",
              "  xxmaj the mainstream media likes to play the false equivalence game but there is no equivalence between xxmaj trump and xxmaj clinton . xxmaj as xxmaj dale told xxmaj stelter , “ xxmaj there is a massive imbalance in the frequency of dishonesty . ” xxmaj trump , says xxmaj dale , “ is not a normal political liar . ” \n",
              "  xxmaj for example , look at the presidential debates , in which xxmaj dale found 104 xxmaj trump false statements as opposed to 13 by xxmaj clinton . \n",
              "  xxmaj dale ’s judgment is that “ there is no comparison in her level of accuracy with her opponent . ” \n",
              "  xxmaj trump also lies “ xxunk , ” argues xxmaj dale , explaining to xxmaj brian xxmaj stelter that , \n",
              "  “ xxmaj he gets things wrong where there is no political advantage to be gained and in those cases , it is not clear whether he ’s lying or confused or unwilling to take the time to learn the facts . ” \n",
              "  xxmaj this was xxmaj mark xxmaj cuban ’s complaint , of course , that xxmaj trump has no interest in learning . \n",
              "  xxmaj in the end , it matters less why xxmaj trump lies than that he does , especially since he is busily convincing his base that xxmaj hillary xxmaj clinton is the dishonest candidate . xxmaj and it is working . xxmaj this is a trope frequently repeated by xxmaj trump ’s supporters . xxmaj you can correct them as often as you want ; it will have no effect . \n",
              "  xxmaj the lie has taken hold – one of many – many more than you likely expected , and observational bias takes care of the rest . xxmaj the xxmaj trump base is effectively lost to our shared reality , and as xxmaj dale tweeted last night , \n",
              "  “ xxmaj if xxmaj trump loses , the xxmaj smart xxmaj republican xxmaj xxunk is going to have to involve some long , hard base re - education . ” \n",
              "  xxmaj given the xxup gop ’s history with facts , good luck with that . \n",
              "  xxmaj image : xxmaj screen capture xxmaj twitter\n",
              "y: CategoryList\n",
              "REAL,REAL,FAKE,FAKE,FAKE\n",
              "Path: .;\n",
              "\n",
              "Test: None, model=SequentialRNN(\n",
              "  (0): MultiBatchEncoder(\n",
              "    (module): AWD_LSTM(\n",
              "      (encoder): Embedding(32800, 400, padding_idx=1)\n",
              "      (encoder_dp): EmbeddingDropout(\n",
              "        (emb): Embedding(32800, 400, padding_idx=1)\n",
              "      )\n",
              "      (rnns): ModuleList(\n",
              "        (0): WeightDropout(\n",
              "          (module): LSTM(400, 1152, batch_first=True)\n",
              "        )\n",
              "        (1): WeightDropout(\n",
              "          (module): LSTM(1152, 1152, batch_first=True)\n",
              "        )\n",
              "        (2): WeightDropout(\n",
              "          (module): LSTM(1152, 400, batch_first=True)\n",
              "        )\n",
              "      )\n",
              "      (input_dp): RNNDropout()\n",
              "      (hidden_dps): ModuleList(\n",
              "        (0): RNNDropout()\n",
              "        (1): RNNDropout()\n",
              "        (2): RNNDropout()\n",
              "      )\n",
              "    )\n",
              "  )\n",
              "  (1): PoolingLinearClassifier(\n",
              "    (layers): Sequential(\n",
              "      (0): BatchNorm1d(1200, eps=1e-05, momentum=0.1, affine=True, track_running_stats=True)\n",
              "      (1): Dropout(p=0.18000000000000002, inplace=False)\n",
              "      (2): Linear(in_features=1200, out_features=50, bias=True)\n",
              "      (3): ReLU(inplace=True)\n",
              "      (4): BatchNorm1d(50, eps=1e-05, momentum=0.1, affine=True, track_running_stats=True)\n",
              "      (5): Dropout(p=0.1, inplace=False)\n",
              "      (6): Linear(in_features=50, out_features=2, bias=True)\n",
              "    )\n",
              "  )\n",
              "), opt_func=functools.partial(<class 'torch.optim.adam.Adam'>, betas=(0.9, 0.99)), loss_func=FlattenedLoss of CrossEntropyLoss(), metrics=[<function accuracy at 0x7f4c03c08620>], true_wd=True, bn_wd=True, wd=0.01, train_bn=True, path=PosixPath('.'), model_dir='models', callback_fns=[functools.partial(<class 'fastai.basic_train.Recorder'>, add_time=True, silent=False)], callbacks=[RNNTrainer\n",
              "learn: RNNLearner(data=TextClasDataBunch;\n",
              "\n",
              "Train: LabelList (5068 items)\n",
              "x: TextList\n",
              "xxbos xxmaj daniel xxmaj greenfield , a xxmaj shillman xxmaj journalism xxmaj fellow at the xxmaj freedom xxmaj center , is a xxmaj new xxmaj york writer focusing on radical xxmaj islam . \n",
              "  xxmaj in the final stretch of the election , xxmaj hillary xxmaj rodham xxmaj clinton has gone to war with the xxup fbi . \n",
              "  xxmaj the word “ unprecedented ” has been thrown around so often this election that it ought to be retired . xxmaj but it ’s still unprecedented for the nominee of a major political party to go war with the xxup fbi . \n",
              "  xxmaj but that ’s exactly what xxmaj hillary and her people have done . xxmaj coma patients just waking up now and watching an hour of xxup cnn from their hospital beds would assume that xxup fbi xxmaj director xxmaj james xxmaj comey is xxmaj hillary ’s opponent in this election . \n",
              "  xxmaj the xxup fbi is under attack by everyone from xxmaj obama to xxup cnn . xxmaj hillary ’s people have circulated a letter attacking xxmaj comey . xxmaj there are currently more media hit pieces lambasting him than targeting xxmaj trump . xxmaj it would n’t be too surprising if the xxmaj clintons or their allies were to start running attack ads against the xxup fbi . \n",
              "  xxmaj the xxup fbi ’s leadership is being warned that the entire left - wing establishment will form a lynch mob if they continue going after xxmaj hillary . xxmaj and the xxup fbi ’s credibility is being attacked by the media and the xxmaj democrats to preemptively head off the results of the investigation of the xxmaj clinton xxmaj foundation and xxmaj hillary xxmaj clinton . \n",
              "  xxmaj the covert struggle between xxup fbi agents and xxmaj obama ’s xxup doj people has gone xxunk public . \n",
              "  xxmaj the xxmaj new xxmaj york xxmaj times has compared xxmaj comey to xxup j. xxmaj edgar xxmaj hoover . xxmaj its bizarre headline , “ xxmaj james xxmaj comey xxmaj role xxmaj recalls xxmaj hoover ’s xxup fbi , xxmaj fairly or xxmaj not ” practically admits up front that it ’s spouting nonsense . xxmaj the xxmaj boston xxmaj globe has published a column calling for xxmaj comey ’s resignation . xxmaj not to be outdone , xxmaj time has an editorial claiming that the scandal is really an attack on all women . \n",
              "  xxmaj james xxmaj carville appeared on xxup msnbc to remind everyone that he was still alive and insane . xxmaj he accused xxmaj comey of coordinating with xxmaj house xxmaj republicans and the xxup kgb . xxmaj and you thought the “ vast right wing conspiracy ” was a stretch . \n",
              "  xxmaj countless media stories charge xxmaj comey with violating procedure . xxmaj do you know what ’s a procedural violation ? xxmaj emailing classified information stored on your bathroom server . \n",
              "  xxmaj senator xxmaj harry xxmaj reid has sent xxmaj comey a letter accusing him of violating the xxmaj hatch xxmaj act . xxmaj the xxmaj hatch xxmaj act is a nice idea that has as much relevance in the age of xxmaj obama as the xxmaj tenth xxmaj amendment . xxmaj but the cable news spectrum quickly filled with media hacks glancing at the xxmaj wikipedia article on the xxmaj hatch xxmaj act under the table while accusing the xxup fbi director of one of the most awkward conspiracies against xxmaj hillary ever . \n",
              "  xxmaj if xxmaj james xxmaj comey is really out to hurt xxmaj hillary , he picked one hell of a strange way to do it . \n",
              "  xxmaj not too long ago xxmaj democrats were breathing a sigh of relief when he gave xxmaj hillary xxmaj clinton a pass in a prominent public statement . xxmaj if he really were out to elect xxmaj trump by keeping the email scandal going , why did he trash the investigation ? xxmaj was he on the payroll of xxmaj house xxmaj republicans and the xxup kgb back then and playing it coy or was it a sudden development where xxmaj vladimir xxmaj putin and xxmaj paul xxmaj ryan talked him into taking a look at xxmaj anthony xxmaj weiner ’s computer ? \n",
              "  xxmaj either xxmaj comey is the most cunning xxup fbi director that ever lived or he ’s just awkwardly trying to navigate a political mess that has trapped him between a xxup doj leadership whose political futures are tied to xxmaj hillary ’s victory and his own bureau whose apolitical agents just want to be allowed to do their jobs . \n",
              "  xxmaj the only truly mysterious thing is why xxmaj hillary and her associates decided to go to war with a respected xxmaj federal agency . xxmaj most xxmaj americans like the xxup fbi while xxmaj hillary xxmaj clinton enjoys a 60 % unfavorable rating . \n",
              "  xxmaj and it ’s an interesting question . \n",
              "  xxmaj hillary ’s old strategy was to lie and deny that the xxup fbi even had a criminal investigation underway . xxmaj instead her associates insisted that it was a security review . xxmaj the xxup fbi corrected her and she shrugged it off . xxmaj but the old breezy denial approach has given way to a savage assault on the xxup fbi . \n",
              "  xxmaj pretending that nothing was wrong was a bad strategy , but it was a better one that picking a fight with the xxup fbi while lunatic xxmaj clinton associates try to claim that the xxup fbi is really the xxup kgb . \n",
              "  xxmaj there are two possible explanations . \n",
              "  xxmaj hillary xxmaj clinton might be arrogant enough to lash out at the xxup fbi now that she believes that victory is near . xxmaj the same kind of hubris that led her to plan her victory fireworks display could lead her to declare a war on the xxup fbi for irritating her during the final miles of her campaign . \n",
              "  xxmaj but the other explanation is that her people panicked . \n",
              "  xxmaj going to war with the xxup fbi is not the behavior of a smart and focused presidential campaign . xxmaj it ’s an act of desperation . xxmaj when a presidential candidate decides that her only option is to try and destroy the credibility of the xxup fbi , that ’s not hubris , it ’s fear of what the xxup fbi might be about to reveal about her . \n",
              "  xxmaj during the original xxup fbi investigation , xxmaj hillary xxmaj clinton was confident that she could ride it out . xxmaj and she had good reason for believing that . xxmaj but that xxmaj hillary xxmaj clinton is gone . xxmaj in her place is a paranoid wreck . xxmaj within a short space of time the “ positive ” xxmaj clinton campaign promising to unite the country has been replaced by a desperate and flailing operation that has focused all its energy on fighting the xxup fbi . \n",
              "  xxmaj there ’s only one reason for such bizarre behavior . \n",
              "  xxmaj the xxmaj clinton campaign has decided that an xxup fbi investigation of the latest batch of emails poses a threat to its survival . xxmaj and so it ’s gone all in on fighting the xxup fbi . xxmaj it ’s an unprecedented step born of fear . xxmaj it ’s hard to know whether that fear is justified . xxmaj but the existence of that fear already tells us a whole lot . \n",
              "  xxmaj clinton loyalists rigged the old investigation . xxmaj they knew the outcome ahead of time as well as they knew the debate questions . xxmaj now suddenly they are no longer in control . xxmaj and they are afraid . \n",
              "  xxmaj you can smell the fear . \n",
              "  xxmaj the xxup fbi has wiretaps from the investigation of the xxmaj clinton xxmaj foundation . xxmaj it ’s finding new emails all the time . xxmaj and xxmaj clintonworld panicked . xxmaj the xxunk of xxmaj clintonworld have claimed that the email scandal is just so much smoke without fire . xxmaj all that ’s here is the appearance of impropriety without any of the substance . xxmaj but this is n’t how you react to smoke . xxmaj it ’s how you respond to a fire . \n",
              "  xxmaj the misguided assault on the xxup fbi tells us that xxmaj hillary xxmaj clinton and her allies are afraid of a revelation bigger than the fundamental illegality of her email setup . xxmaj the email setup was a preemptive cover up . xxmaj the xxmaj clinton campaign has panicked badly out of the belief , right or wrong , that whatever crime the illegal setup was meant to cover up is at risk of being exposed . \n",
              "  xxmaj the xxmaj clintons have weathered countless scandals over the years . xxmaj whatever they are protecting this time around is bigger than the usual corruption , bribery , sexual assaults and abuses of power that have followed them around throughout the years . xxmaj this is bigger and more damaging than any of the allegations that have already come out . xxmaj and they do n’t want xxup fbi investigators anywhere near it . \n",
              "  xxmaj the campaign against xxmaj comey is pure intimidation . xxmaj it ’s also a warning . xxmaj any senior xxup fbi people who value their careers are being warned to stay away . xxmaj the xxmaj democrats are closing ranks around their nominee against the xxup fbi . xxmaj it ’s an ugly and unprecedented scene . xxmaj it may also be their last stand . \n",
              "  xxmaj hillary xxmaj clinton has awkwardly wound her way through numerous scandals in just this election cycle . xxmaj but she ’s never shown fear or desperation before . xxmaj now that has changed . xxmaj whatever she is afraid of , it lies buried in her emails with xxmaj huma xxmaj abedin . xxmaj and it can bring her down like nothing else has .,xxbos xxmaj google xxmaj pinterest xxmaj digg xxmaj linkedin xxmaj reddit xxmaj stumbleupon xxmaj print xxmaj delicious xxmaj pocket xxmaj tumblr \n",
              "  xxmaj there are two fundamental truths in this world : xxmaj paul xxmaj ryan desperately wants to be president . xxmaj and xxmaj paul xxmaj ryan will never be president . xxmaj today proved it . \n",
              "  xxmaj in a particularly staggering example of political cowardice , xxmaj paul xxmaj ryan re - re - re - reversed course and announced that he was back on the xxmaj trump xxmaj train after all . xxmaj this was an xxunk from where he was a few weeks ago . xxmaj he had previously declared he would not be supporting or defending xxmaj trump after a tape was made public in which xxmaj trump bragged about assaulting women . xxmaj suddenly , xxmaj ryan was appearing at a pro - xxmaj trump rally and boldly declaring that he already sent in his vote to make him xxmaj president of the xxmaj united xxmaj states . xxmaj it was a surreal moment . xxmaj the figurehead of the xxmaj republican xxmaj party xxunk himself in gasoline , got up on a stage on a chilly afternoon in xxmaj wisconsin , and lit a match . . @speakerryan says he voted for @realdonaldtrump : “ xxmaj republicans , it is time to come home ” https : / / t.co / xxunk pic.twitter.com / xxunk \n",
              "  — xxup abc xxmaj news xxmaj politics ( xxunk ) xxmaj november 5 , 2016 \n",
              "  xxmaj the xxmaj democratic xxmaj party could n’t have asked for a better moment of film . xxmaj ryan ’s chances of ever becoming president went down to zero in an instant . xxmaj in the wreckage xxmaj trump is to leave behind in his wake , those who xxunk backed his campaign will not recover . xxmaj if xxmaj ryan ’s career manages to limp all the way to 2020 , then the xxup dnc will have this tape locked and loaded to be used in every ad until xxmaj election xxmaj day . \n",
              "  xxmaj the ringing endorsement of the man he clearly hates on a personal level speaks volumes about his own spinelessness . xxmaj ryan has xxunk himself as a “ principled ” conservative , and one uncomfortable with xxmaj trump ’s unapologetic bigotry and sexism . xxmaj however , when push came to shove , xxmaj paul xxmaj ryan – like many of his colleagues – turned into a sniveling xxunk . xxmaj after all his lofty xxunk about conviction , his principles were a house of cards and collapsed with the slightest breeze . \n",
              "  xxmaj what ’s especially bizarre is how close xxmaj ryan came to making it through unscathed . xxmaj for months the xxmaj speaker of the xxmaj house refused to comment on xxmaj trump at all . xxmaj his strategy seemed to be to keep his head down , pretend xxmaj trump did n’t exist , and hope that nobody remembered what happened in 2016 . xxmaj now , just days away from the election , he screwed it all up . \n",
              "  xxmaj if 2016 ’s very ugly election has done any good it ’s by exposing the utter cowardice of the xxmaj republicans who once feigned moral courage . a reality television star spit on them , hijacked their party , insulted their wives , and got every last one of them to kneel before him . xxmaj what a turn of events . \n",
              "  xxmaj featured image via xxmaj twitter,xxbos — xxmaj xxunk xxmaj king ( xxunk ) xxmaj november 9 , 2016 xxmaj the lesson from tonight 's xxmaj dem losses : xxmaj time for xxmaj democrats to start listening to the voters . xxmaj stop running the same establishment candidates . \n",
              "  — xxmaj people xxmaj for xxmaj bernie ( xxunk ) xxmaj november 9 , 2016 xxmaj if xxmaj dems did n't want a tight race they should n't have worked against xxmaj bernie . \n",
              "  — xxmaj walker xxmaj xxunk ( xxunk ) xxmaj november 9 , 2016 \n",
              "  xxmaj new xxmaj york xxmaj times columnist xxmaj paul xxmaj krugman , who was one of xxmaj hillary xxmaj clinton ’s most outspoken surrogates during the contentious xxmaj democratic primary , blamed xxmaj clinton ’s poor performance on xxmaj green xxmaj party candidate xxmaj jill xxmaj stein , who has so far received a negligible number of votes nationally , saying xxmaj stein was the xxmaj ralph xxmaj nader of 2016 in preventing a xxmaj clinton victory . xxmaj the account xxunk threw xxmaj krugman ’s analysis back in his face . xxmaj your candidate was the issue . xxmaj take responsibility . https : / / t.co / xxunk \n",
              "  — xxmaj teachers for xxmaj bernie ( xxunk ) xxmaj november 9 , 2016 \n",
              "  xxmaj ana xxmaj navarro , a xxmaj republican who recently endorsed xxmaj hillary xxmaj clinton , summed up the preposterous nature of the 2016 presidential election in this tweet : xxup gop nominated the only damn candidate who could lose to xxmaj hillary xxmaj clinton . xxmaj democrats nominated the only damn candidate who could lose to xxmaj trump \n",
              "  — xxmaj ana xxmaj navarro ( xxunk ) xxmaj november 9 , 2016 \n",
              "  xxmaj popular left - wing xxmaj facebook page xxmaj the xxmaj other 98 % , which was pro - xxmaj sanders during the primary , responded to xxmaj trump ’s surge by simply posting a meme of xxmaj sanders ’ face with the text “ xxmaj all this could ’ve been avoided . xxmaj thanks for nothing , xxup dnc ! ” xxmaj the meme has been shared almost 15,000 times in less than an hour : \n",
              "  xxmaj posted by xxmaj the xxmaj other 98 % on xxmaj tuesday , xxmaj november 8 , 2016 \n",
              "  xxmaj while xxmaj bernie xxmaj sanders endorsed xxmaj hillary xxmaj clinton just before the xxmaj democratic xxmaj national xxmaj convention in xxmaj july , many of his supporters remained adamant in their refusal to support the xxup dnc - anointed candidate , pointing to wikileaks ’ revelations that top officials at the xxup dnc had been working behind the scenes to tip the scales in xxmaj clinton ’s favor by coordinating with media figures to circulate anti - xxmaj sanders narratives . \n",
              "  xxmaj rather than attribute a potential xxmaj trump presidency to the xxup gop nominee ’s perceived popularity among voters , the closeness of this election could be credited to xxmaj hillary xxmaj clinton ’s unfavorable ratings . xxmaj according to realclearpolitics , anywhere between 51 and 57 percent of voters had a negative opinion of the xxmaj democratic nominee . \n",
              "  xxmaj as of 11 xxup pm xxmaj eastern , xxmaj florida , xxmaj michigan , xxmaj pennsylvania , and xxmaj wisconsin remain too close to call . xxmaj clinton has xxunk electoral votes to xxmaj trump ’s 187 . \n",
              " \n",
              "  xxmaj zach xxmaj cartwright is an activist and author from xxmaj richmond , xxmaj virginia . xxmaj he enjoys writing about politics , government , and the media . xxmaj send him an email at [ email protected ],xxbos xxmaj it 's primary day in xxmaj new xxmaj york and front - runners xxmaj hillary xxmaj clinton and xxmaj donald xxmaj trump are leading in the polls . \n",
              " \n",
              "  xxmaj trump is now vowing to win enough delegates to clinch the xxmaj republican nomination and prevent a contested convention . xxmaj but xxmaj sens . xxmaj ted xxmaj cruz , r - xxmaj texas , xxmaj bernie xxmaj sanders , d - xxmaj vt . , and xxmaj ohio xxmaj gov. xxmaj john xxmaj kasich and are n't giving up just yet . \n",
              " \n",
              "  a big win in xxmaj new xxmaj york could tip the scales for both the xxmaj republican and xxmaj democratic front - runners in this year 's race for the xxmaj white xxmaj house . xxmaj clinton and xxmaj trump have each suffered losses in recent contests , shifting the momentum to their rivals . \n",
              " \n",
              "  \" xxmaj we have won eight out of the last nine caucuses and primaries ! xxmaj cheer ! \" xxmaj sanders recently told supporters . \n",
              " \n",
              "  xxmaj while wins in xxmaj new xxmaj york for xxmaj trump and xxmaj clinton are expected , the margins of those victories are also important . \n",
              " \n",
              "  xxmaj trump needs to capture more than 50 percent of the vote statewide if he wants to be positioned to win all of the state 's 95 xxup gop delegates . xxmaj that would put him one step closer to avoiding a contested convention . \n",
              " \n",
              "  \" xxmaj we 've got to vote and you know xxmaj cruz is way , way down in the polls , \" xxmaj trump urged supporters . \n",
              " \n",
              "  xxmaj meanwhile , xxmaj sanders is hoping for a close race in the xxmaj empire xxmaj state . a loss by 10 points means he 'll need to win 80 percent of the remaining delegates to clinch the nomination . \n",
              " \n",
              "  xxmaj despite a predicted loss in xxmaj new xxmaj york , xxmaj cruz has n't lost momentum . xxmaj he 's hoping to sweep up more delegates this weekend while he 's talking about how he can win in xxmaj november . \n",
              " \n",
              "  \" xxmaj because if i 'm the nominee , we win the xxmaj general xxmaj election , \" xxmaj cruz promised his supporters . \" xxmaj we 're beating xxmaj hillary in the key swing states , we 're beating xxmaj hillary with xxmaj independents , we 're beating xxmaj hillary with young people . \" \n",
              " \n",
              "  xxmaj for now , xxmaj cruz , xxmaj kasich , and xxmaj sanders have all moved on from xxmaj new xxmaj york to other states . xxmaj trump and xxmaj clinton are the only two staying in their home state to watch the results come in .,xxbos \n",
              "  i ’m not an immigrant , but my grandparents are . xxmaj more than 50 years ago , they arrived in xxmaj new xxmaj york xxmaj city from xxmaj iran . i grew up mainly in central xxmaj new xxmaj jersey , an xxmaj american kid playing little league for the xxmaj raritan xxmaj red xxmaj sox and soccer for the xxmaj raritan xxmaj rovers . xxmaj in 1985 , i travelled with my family to our ancestral land . i was only eight , but old enough to understand that the xxmaj iranians had lost their liberty and freedom . i saw the abject despair of a people who , in a desperate attempt to bring about change , had ushered in nationalist tyrants led by xxmaj ayatollah xxmaj khomeini . \n",
              "  xxmaj what i witnessed during that year in xxmaj iran changed the course of my life . xxmaj in 1996 , at age 19 , wanting to help preserve the blessings of liberty and freedom we enjoy in xxmaj america , i enlisted in the xxup u.s. xxmaj navy . xxmaj now , with the rise of xxmaj donald xxmaj trump and his nationalist alt - right movement , i ’ve come to feel that the values i sought to protect are in jeopardy . \n",
              "  xxmaj in xxmaj iran , theocratic fundmentalists sowed division and hatred of outsiders — of xxmaj westerners , xxmaj christians , and other religious minorities . xxmaj here in xxmaj america , the right wing seems to have stolen passages directly from their playbook as it spreads hatred of immigrants , particularly xxmaj muslim ones . xxmaj this form of nationalistic bigotry — xxmaj islamophobia — threatens the heart of our nation . xxmaj when i chose to serve in the military , i did so to protect what i viewed as our sacred foundational values of liberty , equality , and democracy . xxmaj now , 20 years later , i ’ve joined forces with fellow veterans to again fight for those sacred values , this time right here at home . \n",
              "  “ xxmaj death to xxmaj america ! ” \n",
              "  xxmaj as a child , i sat in my class at the international school one sunny morning and heard in the distance the faint sounds of gunfire and rising chants of “ xxmaj death to xxmaj america ! ” xxmaj that day would define the rest of my life . \n",
              "  xxmaj it was xxmaj tehran , the capital of xxmaj iran , in 1985 . i was attending a unique school for bilingual students who had been born in xxmaj western nations . xxmaj it had become the last refuge in that city with any tolerance for xxmaj western teaching , but that also made it a target for military fundamentalists . xxmaj as the gunfire drew closer , i heard boots pounding the marble tiles outside , marching into our building , and thundering down the corridor toward my classroom . xxmaj as i heard voices chanting “ xxmaj death to xxmaj america ! ” i remember wondering if i would survive to see my parents again . \n",
              "  xxmaj in a flash of green and black uniforms , those soldiers rushed into our classroom , grabbed us by our shirt collars , and yelled at us to get outside . xxmaj we were then packed into the school ’s courtyard where a soldier pointed his rifle at our group and commanded us to look up . xxmaj almost in unison , my classmates and i raised our eyes and saw the flags of our many nations being torn down and dangled from the balcony , then set ablaze and tossed , still burning , into the courtyard . xxmaj as those flags floated to the ground in flames , the soldiers fired their guns in the air . xxmaj shouting , they ordered us — if we ever wanted to see our families again — to swear allegiance to the xxmaj grand xxmaj ayatollah xxmaj khomeini and trample on the remains of the burning symbols of our home countries . i scanned the smoke that was filling the courtyard for my friends and classmates and , horrified , watched them capitulate and begin to chant , “ xxmaj death to xxmaj america ! ” as they stomped on our sacred symbols . \n",
              "  i was so angry that , young as i was , i began to plead with them to come to their senses . xxmaj no one paid the slightest attention to an eight year old and yet , for the first time in my life , i felt something like righteous indignation . i suspect that , born and raised in xxmaj america , i was already imbued with such a sense of privilege that i just could n’t fathom the immense danger i was in . xxmaj certainly , i was acting in ways no native xxmaj iranian would have found reasonable . \n",
              "  xxmaj across the smoke - filled courtyard , i saw a soldier coming at me and knew he meant to force me to submit . i spotted an xxmaj american flag still burning , dropped to my knees , and grabbed the charred pieces from underneath a classmate ’s feet . xxmaj as the soldier closed in on me , i ducked and ran , still clutching my charred pieces of flag into a crowd of civilians who had gathered to witness the commotion . xxmaj the events of that day would come to define all that i have ever stood for — or against . \n",
              "  “ xxmaj camel xxmaj jockey , ” “ xxmaj ayatollah , ” and “ xxmaj gandhi ” \n",
              "  xxmaj my parents and i soon returned to the xxmaj united xxmaj states and i entered third grade . xxmaj more than anything , i just wanted to be normal , to fit in and be accepted by my peers . xxmaj unfortunately , my first name , xxmaj nader ( which i changed to xxmaj nate upon joining the xxmaj navy ) , and my swarthy xxmaj middle xxmaj eastern appearance , were little help on that score , eliciting regular jibes from my classmates . xxmaj even at that young age , they had already mastered a veritable thesaurus of ethnic defamation , including “ camel jockey , ” “ sand - nigger , ” “ xxunk , ” “ ayatollah , ” and ironically , “ xxmaj gandhi ” ( which i now take as a compliment ) . xxmaj my classmates regularly sought to “ other - ize ” me in those years , as if i were a lesser xxmaj american because of my faith and ethnicity . \n",
              "  xxmaj yet i remember that tingling in my chest when i first donned my xxmaj cub xxmaj scout uniform — all because of the xxmaj american flag patch on its shoulder . xxmaj something felt so good about wearing it , a feeling i still had when i joined the military . xxmaj it seems that the flag i tried to rescue in xxmaj tehran was stapled to my heart , or that ’s how i felt anyway as i wore my country ’s uniform . \n",
              "  xxmaj when i took my oath of enlistment in the xxup u.s. xxmaj navy , i gave my mom a camera and asked her to take some photos , but she was so overwhelmed with pride and joy that she cried throughout the ceremony and managed to snap only a few images of the carpet . xxmaj she cried even harder when i was selected to serve as the first xxmaj muslim - xxmaj american member of the xxup u.s. xxmaj navy xxmaj presidential xxmaj ceremonial xxmaj honor xxmaj guard . xxmaj on that day , i was proud , too , and all the taunts of those bullies of my childhood seemed finally silenced . \n",
              "  xxmaj being tormented because of my ethnicity and religion in those early years had another effect on me . xxmaj it caused me to become unusually sensitive to the nature of other people . xxmaj somehow , i grasped that , if it were n’t for a fear of the unknown , there was an inherent goodness and frail humanity lurking in many of the kids who bullied and harassed me . xxmaj often , i discovered , those same bullies could be tremendously kind to their families , friends , or even strangers . i realized , then , that if , despite everything , i could lay myself bare and trust them enough to reach out in kindness , i might in turn gain their trust and they might then see me , too , and stop operating from such a place of fear and hate . \n",
              "  xxmaj through patience , humor , and understanding , i was able to offer myself as the embodiment of my people and somehow defang the “ otherness ” of so much that xxmaj americans found scary . xxmaj to this day , i have friends from elementary school , middle school , high school , and the military who tell me that i am the only xxmaj muslim they have ever known and that , had they not met me , their perspective on xxmaj islam would have been wholly subject to the prevailing fear - based narrative that has poisoned this country since xxmaj september 11 , 2001 . \n",
              "  xxmaj in 1998 , i became special assistant to the xxmaj master xxmaj chief xxmaj petty xxmaj officer of the xxmaj navy and then , in 1999 , i was recruited to serve at the xxmaj defense xxmaj intelligence xxmaj agency . xxmaj in xxmaj august 2000 , i transferred to the xxmaj naval xxmaj reserve . \n",
              "  xxmaj in the wake of 9 / 11 , i began to observe how so many of my fellow xxmaj americans were adopting a fundamentalist “ us vs. them ” attitude towards xxmaj muslims and xxmaj islam . i suddenly found myself in an xxmaj america where the scattered insults i had endured as a child took on an overarching and sinister meaning and form , where they became something like an ideology and way of life . \n",
              "  xxmaj by the time i completed my military service in 2006 , i had begun to understand that our policies in the xxmaj middle xxmaj east , similarly disturbed , seemed in pursuit of little more than perpetual warfare . xxmaj that , in turn , was made possible by the creation of a new enemy : xxmaj islam — or rather of a portrait , painted by the powers - that - be , of xxmaj islam as a terror religion , as a hooded villain lurking out there somewhere in the desert , waiting to destroy us . i knew that attempting to dispel , through the patient approach of my childhood , the kind of xxmaj islamophobia that now had the country by the throat was not going to be enough . xxmaj post-9 / 11 attacks on xxmaj muslims in the xxup u.s. and elsewhere were not merely childish taunts . \n",
              "  xxmaj for the first time in my life , in a country gripped by fear , i believed i was witnessing a shift , en masse , toward an xxmaj american fundamentalism and ultra - nationalism that reflected a wanton lack of reason , not to mention fact . xxmaj as a boy in xxmaj iran , i had witnessed the dark destination down which such a path could take a country . xxmaj now , it seemed to me , in xxmaj america ’s quest to escape the very demons we had sown by our own misadventures in the xxmaj middle xxmaj east , and xxunk the hallmarks of our founding , we risked becoming everything we sought to defeat . \n",
              "  xxmaj the xxmaj boy in the xxmaj schoolyard xxmaj grown xxmaj up \n",
              "  xxmaj on xxmaj february 10 , 2015 , three young xxmaj american students , xxmaj xxunk xxmaj abu - xxmaj salha , xxmaj xxunk xxmaj abu - xxmaj salha , and xxmaj xxunk xxmaj xxunk xxmaj barakat , were executed at an apartment complex in xxmaj chapel xxmaj hill , xxmaj north xxmaj carolina . xxmaj the killer was a gun - crazy white man filled with hate and described by his own daughter as “ a monster . ” xxmaj those assassinations struck a special chord of sorrow and loss in me . xxmaj my mom and i cried and prayed together for those students and their families . \n",
              "  xxmaj the incident in xxmaj chapel xxmaj hill also awoke in me some version of the righteous indignation i had felt so many years earlier in that smoke - filled courtyard in xxmaj iran . i would be damned if i stood by while kids in my country were murdered simply because of their faith . xxmaj it violated every word of the oath i had taken when i joined the military and xxunk every value i held in my heart as a sacred tenet of our nation . xxmaj white nationalists and bigots had , by then , thrown down the gauntlet for so much of this , using xxmaj islamophobia to trigger targeted assassinations in the xxmaj united xxmaj states . xxmaj this was terrorism , pure and simple , inspired by hate - speakers here at home . \n",
              "  xxmaj at that moment , i reached out to fellow veterans who , i thought , might be willing to help — and it ’s true what they say about soul mates being irrevocably drawn to each other . xxmaj when i contacted xxmaj veterans xxmaj for xxmaj peace , an organization dedicated to exposing the costs of war and militarism , i found the leadership well aware of the inherent dangers of xxmaj islamophobia and of the need to confront this new enemy . xxmaj so xxmaj executive xxmaj director xxmaj michael mcphearson formed a committee of vets from around the country to decide how those of us who had donned uniforms to defend this land could best battle the phenomenon — and i , of course , joined it . \n",
              "  xxmaj from that committee emerged xxmaj veterans xxmaj challenge xxmaj islamophobia ( xxup vci ) . xxmaj it now has organizers in xxmaj arizona , xxmaj georgia , xxmaj new xxmaj jersey , and xxmaj texas , and that ’s just a beginning . xxmaj totally nonpartisan , xxup vci focuses on politicians of any party who engage in hate speech . xxmaj we ’ve met with leaders of xxmaj american xxmaj muslim communities , sat with them through xxmaj ramadan , and attended their xxmaj xxunk dinners to break our xxunk together . xxmaj in the wake of the xxmaj orlando shooting , we at xxup vci also mobilized to fight back against attempts to pit the xxmaj muslim community against the xxup xxunk community . \n",
              "  xxmaj our group was born of the belief that , as xxmaj american military veterans , we had a responsibility to call out bigotry , hatred , and the perpetuation of endless warfare . xxmaj we want the xxmaj american xxmaj muslim community to know that they have allies , and that those allies are indeed veterans as well . xxmaj we stand with them and for them and , for those of us who are xxmaj muslim , among them . \n",
              "  xxmaj nationalism and xenophobia have no place in xxmaj american life , and i , for my part , do n’t think xxmaj donald xxmaj trump or anyone like him should be able to peddle xxmaj islamophobia in an attempt to undermine our national unity . xxmaj without xxmaj islamophobia , there no longer exists a “ clash of civilizations . ” xxmaj without xxmaj islamophobia , whatever the problems in the world may be , there is no longer an “ us vs. them ” and it ’s possible to begin reimagining a world of something other than perpetual war . \n",
              "  xxmaj as of now , this remains the struggle of my life , for despite my intense love for xxmaj america , some of my countrymen increasingly see xxmaj american xxmaj muslims as the “ other , ” the enemy . \n",
              "  xxmaj my xxmaj mom taught me as a boy that the only thing that mattered was what was in my heart . xxmaj now , with her in mind and as a representative of xxup vci , when i meet fellow xxmaj americans i always remember my childhood experiences with my bullying peers . xxmaj and i still lay myself bare , as i did then . i give trust to gain trust , but always knowing that these days this is n’t just a matter of niceties . xxmaj it ’s a question of life or death . xxmaj it ’s part of a battle for the soul of our nation . \n",
              "  xxmaj in many ways , i still consider myself that boy in the school courtyard in xxmaj tehran trying to rescue charred pieces of that flag from those trampling feet . xxmaj it ’s just that now i ’m doing it in my own country . \n",
              "  xxmaj nate xxmaj terani is a veteran of the xxup u.s. xxmaj navy and served in military intelligence with the xxmaj defense xxmaj intelligence xxmaj agency . xxmaj he is currently a member of the leadership team at xxmaj common xxmaj defense xxup pac and regional campaign organizer with xxmaj veterans xxmaj challenge xxmaj islamophobia . xxmaj he is a featured columnist with the xxmaj arizona xxmaj muslim xxmaj voice newspaper . ( xxmaj reprinted from tomdispatch by permission of author or representative )\n",
              "y: CategoryList\n",
              "FAKE,FAKE,FAKE,REAL,FAKE\n",
              "Path: .;\n",
              "\n",
              "Valid: LabelList (1267 items)\n",
              "x: TextList\n",
              "xxbos xxmaj the xxmaj obama administration on xxmaj friday offered an extension of the current obamacare enrollment period -- though not exactly what xxmaj republicans were seeking . \n",
              " \n",
              "  xxmaj federal health officials announced xxmaj friday afternoon that they 'd give people another eight days this year to enroll in an insurance policy and still get covered by xxmaj jan. 1 . xxmaj previously , people had to enroll by xxmaj dec. 15 to avoid any break in coverage and have insurance at the start of 2014 . xxmaj the administration , amid lingering problems with the main obamacare website , is now pushing that deadline to xxmaj dec. 23 . \n",
              " \n",
              "  xxmaj the move comes after the administration announced a more significant delay to the start of next year 's obamacare enrollment period . xxmaj that decision was pitched as a way to give consumers and insurance companies more time to study their options , but also conveniently pushes the second round of enrollment past the 2014 midterm elections . \n",
              " \n",
              "  xxmaj with the administration still offering only modest relief for the current enrollment period , xxmaj republicans questioned why the administration was focusing on the second round of enrollment , a year away . \n",
              " \n",
              "  \" xxmaj another day , another delay , which begs the question , does the president think enrollment will be just as bad next year ? \" xxmaj house xxmaj energy and xxmaj commerce xxmaj committee xxmaj chairman xxmaj fred xxmaj upton , r - xxmaj mich . , said in a statement . \" xxmaj it 's stunning to see the president so willing to delay next year 's open enrollment period rather than focus on the ongoing chaos and uncertainty that is plaguing implementation today . \" \n",
              " \n",
              "  xxmaj white xxmaj house xxmaj press xxmaj secretary xxmaj jay xxmaj carney and a xxmaj department of xxmaj health and xxmaj human xxmaj services official confirmed the change to the 2014 sign - up on xxmaj friday . xxmaj that decision does not affect those trying to enroll this year . xxmaj rather , it affects those who will sign up late next year for 2015 coverage . \n",
              " \n",
              "  xxmaj the administration will allow consumers to start signing up on xxmaj nov. 15 , 2014 , as opposed to xxmaj oct. 15 . xxmaj enrollment will last until xxmaj jan. 15 , 2015 , instead of xxmaj dec. 7 . \n",
              " \n",
              "  xxmaj an xxup hhs official told xxmaj fox xxmaj news the move will give insurers \" the benefit of more time to evaluate their experiences during the 2014 plan year \" and let them take into account late - filing customers when setting their 2015 rates . \n",
              " \n",
              "  xxmaj the official added : \" xxmaj this change is good news for consumers , who will have more time to learn about plans before xxunk and an open enrollment period that 's a week longer . \" \n",
              " \n",
              "  xxmaj the administration so far has rebuffed calls to delay or extend the current enrollment period beyond xxmaj march 31 , 2014 , even as xxup hhs scrambles to repair the flawed healthcare.gov site and some states struggle with their own exchanges . \n",
              " \n",
              "  xxmaj but by pushing off next year 's enrollment period , the administration conveniently pushes off the possibility of any obamacare hiccups until after the midterm elections . xxmaj some of the biggest critics of the current rollout have been xxmaj democrats up for reelection next year . \n",
              " \n",
              "  xxmaj obama recently tried to address some of their concerns by allowing states and insurance companies to re - offer cancelled insurance policies -- a trend which has become a major headache for the administration . xxmaj many states , though , are refusing to make any changes to the way they handle those plans . \n",
              " \n",
              "  xxup hhs argued that the delay next year will give consumers more time to educate themselves about the plans , though it would not affect coverage this year .,xxbos xxmaj the online comment fits closely with his campaign platform .,xxbos xxmaj turkish xxmaj objections xxmaj wo n't xxmaj stop xxup ypg 's xxmaj involvement by xxmaj jason xxmaj ditz , xxmaj october 26 , 2016 xxmaj share xxmaj this \n",
              "  xxup us xxmaj lt . xxmaj gen. xxmaj stephen xxmaj townsend , the leader of the xxup us military forces in xxmaj iraq and xxmaj syria , today announced that xxmaj kurdish xxup ypg forces will participate in the invasion of the xxup isis capital city of xxmaj raqqa , despite xxmaj turkish government demands that the xxmaj kurds not be allowed to take part . \n",
              "  xxmaj townsend was a bit vague on the details of xxmaj kurdish involvement , saying the xxup us are “ going to take this in steps , ” and that xxmaj turkey has to realize the only way that the xxup us is going to have enough force to take over xxmaj raqqa any time soon is with a significant portion of the xxup ypg involved . \n",
              "  xxmaj turkish xxmaj foreign xxmaj minister xxmaj xxunk xxmaj xxunk reiterated that his government wants only “ local forces ” involved in the xxmaj raqqa battle , and that the xxup ypg , who xxmaj turkey considers a terrorist organization , must not be allowed to take part in any way . \n",
              "  xxmaj turkey ’s military has been attacking the xxup ypg in several locations around xxmaj syria over the past week , including heavy airstrikes which killed an estimated 200 xxup ypg fighters who were engaged in an offensive against xxup isis around xxmaj afrin . xxmaj the xxmaj turkish government has repeatedly complained the xxup ypg is gaining too much territory in xxmaj syria , and that they must abandon much of it . xxmaj last 5 posts by xxmaj jason xxmaj ditz,xxbos xxmaj trump warned his supporters that the xxup us xxmaj postal xxmaj service is trying to steal the election for xxmaj hillary xxmaj clinton in xxmaj colorado . \n",
              "  xxmaj video : \n",
              "  xxmaj at a rally in xxmaj golden , xxup co , xxmaj trump said : \n",
              "  i have real problems with ballots being sent . xxmaj does that make sense ? \n",
              "  xxmaj like people saying , “ xxmaj oh , here ’s a ballot . xxmaj here ’s another ballot . xxmaj throw it away . xxmaj oh , here ’s one i like . xxmaj we ’ll keep that one . ” \n",
              "  i have real problems , so get your ballots in . \n",
              "  xxmaj trump also accused election officials of throwing away ballots , as his rally was a mixture of claims of voter fraud and baseless speculation about xxmaj hillary xxmaj clinton ’s emails . \n",
              "  xxmaj donald xxmaj trump appears to be losing his mind . xxmaj he also seems to think that accusing the xxup us xxmaj postal xxmaj service and election officials of stealing the election for xxmaj hillary xxmaj clinton is going to motivate xxmaj republicans to vote . \n",
              "  xxmaj consider the contradiction in xxmaj trump ’s message . xxmaj the xxmaj republican nominee tells his supporters that the xxup us xxmaj postal xxmaj service is throwing away ballots , while at the same time he is urging them to mail in their ballots . \n",
              "  xxmaj if their ballots are going to be thrown away by xxup xxunk , why should xxmaj republicans bother mailing their ballots in ? \n",
              "  xxmaj it is this sort of incoherent gibberish that makes no sense . xxmaj trump ’s inability to stay disciplined and on message is also one of the biggest reasons why xxmaj republicans on pace to lose this election . \n",
              "  xxmaj donald xxmaj trump ’s descent into paranoid senior citizen continues to play out in front of the entire nation , as the xxmaj republican nominee for president believes that his letter carrier is out to get him ,,xxbos xxmaj by xxmaj hrafnkell xxmaj haraldsson on xxmaj mon , xxmaj oct 31st , 2016 at xxunk am xxmaj in xxmaj donald xxmaj trump \" you have a candidate who is frequently saying 20 false things in a day , up to 37 on some days . \" xxmaj share on xxmaj twitter xxmaj print xxmaj this xxmaj post \n",
              "  xxup cnn ’s xxmaj brian xxmaj stelter calls xxmaj donald xxmaj trump a “ uniquely fact - challenged candidate , ” which is a prelude to introducing xxmaj daniel xxmaj dale , xxmaj washington correspondent for the xxmaj toronto xxmaj star , who fact checks every single word xxmaj trump utters and tallies them up for his paper . \n",
              "  xxmaj dale says most fact - checkers look at two or three things xxmaj trump says , “ meticulously fact - checks them and posts an article , ” but “ that does n’t work when you have a candidate who is frequently saying 20 false things in a day , up to 37 on some days . ” \n",
              "  xxmaj for example , xxmaj dale tallied 35 xxmaj trump lies on xxmaj tuesday , xxmaj october 25 : xxmaj donald xxmaj trump said 35 false things yesterday . # xxunk pic.twitter.com / xxunk \n",
              "  — xxmaj daniel xxmaj dale ( xxunk ) xxmaj october 26 , 2016 \n",
              "  xxmaj which , as xxmaj dale pointed out , followed “ his record - tying 37 false claims on xxmaj monday , ” not coincidentally , a day on which xxmaj trump called fact checkers “ scum . ” \n",
              "  xxmaj watch courtesy of xxup cnn ’s xxmaj reliable xxmaj sources : \" xxmaj there is a massive imbalance in the frequency of dishonesty . \" xxunk says xxmaj trump lies a lot more than xxmaj clinton https : / / t.co / xxunk \n",
              "  — xxmaj reliable xxmaj sources ( xxunk ) xxmaj october 30 , 2016 \n",
              "  xxmaj the mainstream media likes to play the false equivalence game but there is no equivalence between xxmaj trump and xxmaj clinton . xxmaj as xxmaj dale told xxmaj stelter , “ xxmaj there is a massive imbalance in the frequency of dishonesty . ” xxmaj trump , says xxmaj dale , “ is not a normal political liar . ” \n",
              "  xxmaj for example , look at the presidential debates , in which xxmaj dale found 104 xxmaj trump false statements as opposed to 13 by xxmaj clinton . \n",
              "  xxmaj dale ’s judgment is that “ there is no comparison in her level of accuracy with her opponent . ” \n",
              "  xxmaj trump also lies “ xxunk , ” argues xxmaj dale , explaining to xxmaj brian xxmaj stelter that , \n",
              "  “ xxmaj he gets things wrong where there is no political advantage to be gained and in those cases , it is not clear whether he ’s lying or confused or unwilling to take the time to learn the facts . ” \n",
              "  xxmaj this was xxmaj mark xxmaj cuban ’s complaint , of course , that xxmaj trump has no interest in learning . \n",
              "  xxmaj in the end , it matters less why xxmaj trump lies than that he does , especially since he is busily convincing his base that xxmaj hillary xxmaj clinton is the dishonest candidate . xxmaj and it is working . xxmaj this is a trope frequently repeated by xxmaj trump ’s supporters . xxmaj you can correct them as often as you want ; it will have no effect . \n",
              "  xxmaj the lie has taken hold – one of many – many more than you likely expected , and observational bias takes care of the rest . xxmaj the xxmaj trump base is effectively lost to our shared reality , and as xxmaj dale tweeted last night , \n",
              "  “ xxmaj if xxmaj trump loses , the xxmaj smart xxmaj republican xxmaj xxunk is going to have to involve some long , hard base re - education . ” \n",
              "  xxmaj given the xxup gop ’s history with facts , good luck with that . \n",
              "  xxmaj image : xxmaj screen capture xxmaj twitter\n",
              "y: CategoryList\n",
              "REAL,REAL,FAKE,FAKE,FAKE\n",
              "Path: .;\n",
              "\n",
              "Test: None, model=SequentialRNN(\n",
              "  (0): MultiBatchEncoder(\n",
              "    (module): AWD_LSTM(\n",
              "      (encoder): Embedding(32800, 400, padding_idx=1)\n",
              "      (encoder_dp): EmbeddingDropout(\n",
              "        (emb): Embedding(32800, 400, padding_idx=1)\n",
              "      )\n",
              "      (rnns): ModuleList(\n",
              "        (0): WeightDropout(\n",
              "          (module): LSTM(400, 1152, batch_first=True)\n",
              "        )\n",
              "        (1): WeightDropout(\n",
              "          (module): LSTM(1152, 1152, batch_first=True)\n",
              "        )\n",
              "        (2): WeightDropout(\n",
              "          (module): LSTM(1152, 400, batch_first=True)\n",
              "        )\n",
              "      )\n",
              "      (input_dp): RNNDropout()\n",
              "      (hidden_dps): ModuleList(\n",
              "        (0): RNNDropout()\n",
              "        (1): RNNDropout()\n",
              "        (2): RNNDropout()\n",
              "      )\n",
              "    )\n",
              "  )\n",
              "  (1): PoolingLinearClassifier(\n",
              "    (layers): Sequential(\n",
              "      (0): BatchNorm1d(1200, eps=1e-05, momentum=0.1, affine=True, track_running_stats=True)\n",
              "      (1): Dropout(p=0.18000000000000002, inplace=False)\n",
              "      (2): Linear(in_features=1200, out_features=50, bias=True)\n",
              "      (3): ReLU(inplace=True)\n",
              "      (4): BatchNorm1d(50, eps=1e-05, momentum=0.1, affine=True, track_running_stats=True)\n",
              "      (5): Dropout(p=0.1, inplace=False)\n",
              "      (6): Linear(in_features=50, out_features=2, bias=True)\n",
              "    )\n",
              "  )\n",
              "), opt_func=functools.partial(<class 'torch.optim.adam.Adam'>, betas=(0.9, 0.99)), loss_func=FlattenedLoss of CrossEntropyLoss(), metrics=[<function accuracy at 0x7f4c03c08620>], true_wd=True, bn_wd=True, wd=0.01, train_bn=True, path=PosixPath('.'), model_dir='models', callback_fns=[functools.partial(<class 'fastai.basic_train.Recorder'>, add_time=True, silent=False)], callbacks=[...], layer_groups=[Sequential(\n",
              "  (0): Embedding(32800, 400, padding_idx=1)\n",
              "  (1): EmbeddingDropout(\n",
              "    (emb): Embedding(32800, 400, padding_idx=1)\n",
              "  )\n",
              "), Sequential(\n",
              "  (0): WeightDropout(\n",
              "    (module): LSTM(400, 1152, batch_first=True)\n",
              "  )\n",
              "  (1): RNNDropout()\n",
              "), Sequential(\n",
              "  (0): WeightDropout(\n",
              "    (module): LSTM(1152, 1152, batch_first=True)\n",
              "  )\n",
              "  (1): RNNDropout()\n",
              "), Sequential(\n",
              "  (0): WeightDropout(\n",
              "    (module): LSTM(1152, 400, batch_first=True)\n",
              "  )\n",
              "  (1): RNNDropout()\n",
              "), Sequential(\n",
              "  (0): PoolingLinearClassifier(\n",
              "    (layers): Sequential(\n",
              "      (0): BatchNorm1d(1200, eps=1e-05, momentum=0.1, affine=True, track_running_stats=True)\n",
              "      (1): Dropout(p=0.18000000000000002, inplace=False)\n",
              "      (2): Linear(in_features=1200, out_features=50, bias=True)\n",
              "      (3): ReLU(inplace=True)\n",
              "      (4): BatchNorm1d(50, eps=1e-05, momentum=0.1, affine=True, track_running_stats=True)\n",
              "      (5): Dropout(p=0.1, inplace=False)\n",
              "      (6): Linear(in_features=50, out_features=2, bias=True)\n",
              "    )\n",
              "  )\n",
              ")], add_time=True, silent=False)\n",
              "alpha: 2.0\n",
              "beta: 1.0], layer_groups=[Sequential(\n",
              "  (0): Embedding(32800, 400, padding_idx=1)\n",
              "  (1): EmbeddingDropout(\n",
              "    (emb): Embedding(32800, 400, padding_idx=1)\n",
              "  )\n",
              "), Sequential(\n",
              "  (0): WeightDropout(\n",
              "    (module): LSTM(400, 1152, batch_first=True)\n",
              "  )\n",
              "  (1): RNNDropout()\n",
              "), Sequential(\n",
              "  (0): WeightDropout(\n",
              "    (module): LSTM(1152, 1152, batch_first=True)\n",
              "  )\n",
              "  (1): RNNDropout()\n",
              "), Sequential(\n",
              "  (0): WeightDropout(\n",
              "    (module): LSTM(1152, 400, batch_first=True)\n",
              "  )\n",
              "  (1): RNNDropout()\n",
              "), Sequential(\n",
              "  (0): PoolingLinearClassifier(\n",
              "    (layers): Sequential(\n",
              "      (0): BatchNorm1d(1200, eps=1e-05, momentum=0.1, affine=True, track_running_stats=True)\n",
              "      (1): Dropout(p=0.18000000000000002, inplace=False)\n",
              "      (2): Linear(in_features=1200, out_features=50, bias=True)\n",
              "      (3): ReLU(inplace=True)\n",
              "      (4): BatchNorm1d(50, eps=1e-05, momentum=0.1, affine=True, track_running_stats=True)\n",
              "      (5): Dropout(p=0.1, inplace=False)\n",
              "      (6): Linear(in_features=50, out_features=2, bias=True)\n",
              "    )\n",
              "  )\n",
              ")], add_time=True, silent=False)"
            ]
          },
          "metadata": {
            "tags": []
          },
          "execution_count": 55
        }
      ]
    },
    {
      "cell_type": "code",
      "metadata": {
        "id": "ezGZC5-Ti1EU",
        "colab_type": "code",
        "colab": {}
      },
      "source": [
        "learn_classify.freeze()"
      ],
      "execution_count": 0,
      "outputs": []
    },
    {
      "cell_type": "code",
      "metadata": {
        "id": "455FUMKai1EZ",
        "colab_type": "code",
        "outputId": "860feea1-f853-416a-bfe8-9f1b989af822",
        "colab": {
          "base_uri": "https://localhost:8080/",
          "height": 164
        }
      },
      "source": [
        "learn_classify.lr_find()"
      ],
      "execution_count": 0,
      "outputs": [
        {
          "output_type": "error",
          "ename": "NameError",
          "evalue": "ignored",
          "traceback": [
            "\u001b[0;31m---------------------------------------------------------------------------\u001b[0m",
            "\u001b[0;31mNameError\u001b[0m                                 Traceback (most recent call last)",
            "\u001b[0;32m<ipython-input-2-e70a1761e2b6>\u001b[0m in \u001b[0;36m<module>\u001b[0;34m()\u001b[0m\n\u001b[0;32m----> 1\u001b[0;31m \u001b[0mlearn_classify\u001b[0m\u001b[0;34m.\u001b[0m\u001b[0mlr_find\u001b[0m\u001b[0;34m(\u001b[0m\u001b[0;34m)\u001b[0m\u001b[0;34m\u001b[0m\u001b[0;34m\u001b[0m\u001b[0m\n\u001b[0m",
            "\u001b[0;31mNameError\u001b[0m: name 'learn_classify' is not defined"
          ]
        }
      ]
    },
    {
      "cell_type": "code",
      "metadata": {
        "id": "kCCMe1z0i1Ed",
        "colab_type": "code",
        "outputId": "b2ea3e4c-e1b7-4dc5-810a-49c23f30196c",
        "colab": {
          "base_uri": "https://localhost:8080/",
          "height": 279
        }
      },
      "source": [
        "learn_classify.recorder.plot()"
      ],
      "execution_count": 0,
      "outputs": [
        {
          "output_type": "display_data",
          "data": {
            "image/png": "[encoded data removed]",
            "text/plain": [
              "<Figure size 432x288 with 1 Axes>"
            ]
          },
          "metadata": {
            "tags": []
          }
        }
      ]
    },
    {
      "cell_type": "code",
      "metadata": {
        "id": "5m4iS2hNi1Ej",
        "colab_type": "code",
        "outputId": "fabe3967-a185-457f-f530-019e8e41f9ce",
        "colab": {
          "base_uri": "https://localhost:8080/",
          "height": 80
        }
      },
      "source": [
        "learn_classify.fit_one_cycle(1, 1e-3, moms = (0.8, 0.7))"
      ],
      "execution_count": 0,
      "outputs": [
        {
          "output_type": "display_data",
          "data": {
            "text/html": [
              "<table border=\"1\" class=\"dataframe\">\n",
              "  <thead>\n",
              "    <tr style=\"text-align: left;\">\n",
              "      <th>epoch</th>\n",
              "      <th>train_loss</th>\n",
              "      <th>valid_loss</th>\n",
              "      <th>accuracy</th>\n",
              "      <th>time</th>\n",
              "    </tr>\n",
              "  </thead>\n",
              "  <tbody>\n",
              "    <tr>\n",
              "      <td>0</td>\n",
              "      <td>0.211046</td>\n",
              "      <td>0.067538</td>\n",
              "      <td>0.987372</td>\n",
              "      <td>02:32</td>\n",
              "    </tr>\n",
              "  </tbody>\n",
              "</table>"
            ],
            "text/plain": [
              "<IPython.core.display.HTML object>"
            ]
          },
          "metadata": {
            "tags": []
          }
        }
      ]
    },
    {
      "cell_type": "code",
      "metadata": {
        "id": "r5cdQfici1Es",
        "colab_type": "code",
        "outputId": "b0859076-0767-4e3a-f30e-988187aeb347",
        "colab": {
          "base_uri": "https://localhost:8080/",
          "height": 80
        }
      },
      "source": [
        "\n",
        "learn_classify.freeze_to(-2)\n",
        "learn_classify.fit_one_cycle(1, slice(1e-3/(2.6**4),1e-2), moms=(0.8,0.7))"
      ],
      "execution_count": 0,
      "outputs": [
        {
          "output_type": "display_data",
          "data": {
            "text/html": [
              "<table border=\"1\" class=\"dataframe\">\n",
              "  <thead>\n",
              "    <tr style=\"text-align: left;\">\n",
              "      <th>epoch</th>\n",
              "      <th>train_loss</th>\n",
              "      <th>valid_loss</th>\n",
              "      <th>accuracy</th>\n",
              "      <th>time</th>\n",
              "    </tr>\n",
              "  </thead>\n",
              "  <tbody>\n",
              "    <tr>\n",
              "      <td>0</td>\n",
              "      <td>0.217953</td>\n",
              "      <td>0.041085</td>\n",
              "      <td>0.993686</td>\n",
              "      <td>02:42</td>\n",
              "    </tr>\n",
              "  </tbody>\n",
              "</table>"
            ],
            "text/plain": [
              "<IPython.core.display.HTML object>"
            ]
          },
          "metadata": {
            "tags": []
          }
        }
      ]
    },
    {
      "cell_type": "code",
      "metadata": {
        "id": "47wRD8OXi1Ev",
        "colab_type": "code",
        "colab": {}
      },
      "source": [
        " learn_classify.save('final-6J')"
      ],
      "execution_count": 0,
      "outputs": []
    },
    {
      "cell_type": "code",
      "metadata": {
        "id": "0hBCppZci1Ey",
        "colab_type": "code",
        "colab": {}
      },
      "source": [
        "learn_classify.load('penultimate')"
      ],
      "execution_count": 0,
      "outputs": []
    },
    {
      "cell_type": "code",
      "metadata": {
        "id": "ngZTHCd0i1E3",
        "colab_type": "code",
        "colab": {}
      },
      "source": [
        "learn_classify.load('penultimate')"
      ],
      "execution_count": 0,
      "outputs": []
    },
    {
      "cell_type": "code",
      "metadata": {
        "id": "x0RtcRAdacr7",
        "colab_type": "code",
        "colab": {}
      },
      "source": [
        "learn_classify.export('final-6Ji.pkl')\n"
      ],
      "execution_count": 0,
      "outputs": []
    },
    {
      "cell_type": "markdown",
      "metadata": {
        "id": "X_oq32_7i1E5",
        "colab_type": "text"
      },
      "source": [
        "<b>Finally, we have completed the classifier. Let's test it!</b>\n",
        "\n",
        "\n",
        "Example 1: (FAKE)"
      ]
    },
    {
      "cell_type": "code",
      "metadata": {
        "scrolled": true,
        "id": "ajJ97fuHi1E6",
        "colab_type": "code",
        "outputId": "4e573254-a24c-487a-9afd-344f488810e6",
        "colab": {
          "base_uri": "https://localhost:8080/",
          "height": 34
        }
      },
      "source": [
        "learn_classify.predict(\"Hung Assembly in India. Modi defeated by Rahul Gandhi ans other UPA parties. BSP, SP and other parties have joined Congress. The people of India have given Modi a reality check, as a consequence of his miseading, damaging  and dishonest policies. Rahul Gandhi will take oath in 2 days!Other party leaders are slated to get lucrative ministries \")"
      ],
      "execution_count": 0,
      "outputs": [
        {
          "output_type": "execute_result",
          "data": {
            "text/plain": [
              "(Category FAKE, tensor(0), tensor([0.9909, 0.0091]))"
            ]
          },
          "metadata": {
            "tags": []
          },
          "execution_count": 62
        }
      ]
    },
    {
      "cell_type": "markdown",
      "metadata": {
        "id": "r1ncstUji1E9",
        "colab_type": "text"
      },
      "source": [
        "Example 2: (REAL)"
      ]
    },
    {
      "cell_type": "code",
      "metadata": {
        "id": "gkSLlV1ii1E-",
        "colab_type": "code",
        "outputId": "54a7dcdd-efb7-4943-e30a-f59d176938df",
        "colab": {
          "base_uri": "https://localhost:8080/",
          "height": 34
        }
      },
      "source": [
        "learn_classify.predict(\" Eight months after the BJP named him its prime ministerial candidate, Narendra Modi, 63, proved he was worth the opposition the party originally encountered over its decision. Mr Modi has delivered the BJP's best result ever, giving it more than the 272 seats it needs to form a government.  This is the first parliamentary majority by a single party since 1984\")"
      ],
      "execution_count": 0,
      "outputs": [
        {
          "output_type": "execute_result",
          "data": {
            "text/plain": [
              "(Category FAKE, tensor(0), tensor([0.6813, 0.3187]))"
            ]
          },
          "metadata": {
            "tags": []
          },
          "execution_count": 63
        }
      ]
    },
    {
      "cell_type": "markdown",
      "metadata": {
        "collapsed": true,
        "id": "O-dyA6pGi1FB",
        "colab_type": "text"
      },
      "source": [
        "As we see, the first short excrept was written by me and the second one was a <b>real</b> article from a newpaper and the model correctly classified it!"
      ]
    },
    {
      "cell_type": "markdown",
      "metadata": {
        "collapsed": true,
        "id": "zaZFihowi1FC",
        "colab_type": "text"
      },
      "source": [
        "# Conclusion\n",
        "\n",
        "### Takeaways\n",
        "The model classifies Fake/Real by understanding the linguistic structure of the sentences. \n",
        "\n",
        "- In our example the first example was written by me in a very rudimentary and non-formal way, like most Fake News. \n",
        "- The second one, a proper news article, is a more professional and well-written article, like most of the Real News.\n",
        "\n",
        "### Limitations \n",
        "As this model relies on the linguistic structure of a sentence, it is <b>by far</b> not a full proof Fake News Classifer.\n",
        "\n",
        "- As it relies on the structure of a sentence, a well-written <b> Fake</b> article will be not be flagged down.\n",
        "- Conversely, a poorly written <b> Real</b> article may be flagged down\n",
        "\n",
        "These limitations can be undone, and am currently working on it!\n",
        "\n",
        "References:\n",
        "[The Excellent Fast.ai Course](https://github.com/fastai)\n"
      ]
    },
    {
      "cell_type": "code",
      "metadata": {
        "id": "gxMZfrEKJdqN",
        "colab_type": "code",
        "colab": {
          "base_uri": "https://localhost:8080/",
          "height": 34
        },
        "outputId": "000a6892-e052-403f-ac3a-6d216d3c9a82"
      },
      "source": [
        "!pwd"
      ],
      "execution_count": 8,
      "outputs": [
        {
          "output_type": "stream",
          "text": [
            "/content/drive/My Drive/DL/fnc-msc\n"
          ],
          "name": "stdout"
        }
      ]
    },
    {
      "cell_type": "code",
      "metadata": {
        "id": "MVk12BVmbCFU",
        "colab_type": "code",
        "outputId": "a5f594eb-1d73-40f6-af17-b2d68605a6ad",
        "colab": {
          "base_uri": "https://localhost:8080/",
          "height": 34
        }
      },
      "source": [
        "%cd ../fnc-msc"
      ],
      "execution_count": 12,
      "outputs": [
        {
          "output_type": "stream",
          "text": [
            "/content/drive/My Drive/DL/fnc-msc\n"
          ],
          "name": "stdout"
        }
      ]
    },
    {
      "cell_type": "code",
      "metadata": {
        "id": "lHwLcBr1UOo9",
        "colab_type": "code",
        "outputId": "b87e0364-f674-4211-ed2d-f9413ec4a6bc",
        "colab": {
          "base_uri": "https://localhost:8080/",
          "height": 17
        }
      },
      "source": [
        "learn_classify = load_learner(Path('Fake-News'), 'final-6Ji.pkl')\n"
      ],
      "execution_count": 10,
      "outputs": [
        {
          "output_type": "display_data",
          "data": {
            "text/html": [
              ""
            ],
            "text/plain": [
              "<IPython.core.display.HTML object>"
            ]
          },
          "metadata": {
            "tags": []
          }
        },
        {
          "output_type": "display_data",
          "data": {
            "text/html": [
              ""
            ],
            "text/plain": [
              "<IPython.core.display.HTML object>"
            ]
          },
          "metadata": {
            "tags": []
          }
        }
      ]
    },
    {
      "cell_type": "code",
      "metadata": {
        "id": "S5ZaaTMDJVcK",
        "colab_type": "code",
        "colab": {}
      },
      "source": [
        "# learn_classify"
      ],
      "execution_count": 0,
      "outputs": []
    },
    {
      "cell_type": "code",
      "metadata": {
        "id": "fyK8dcCXi1FC",
        "colab_type": "code",
        "outputId": "ccdd916e-6752-48e2-f7dc-b7c06b8c6dfc",
        "colab": {
          "base_uri": "https://localhost:8080/",
          "height": 1000
        }
      },
      "source": [
        "# -*- coding: UTF-8 -*-\n",
        "\n",
        "# imports #\n",
        "from eventregistry import *\n",
        "from numpy.random import seed\n",
        "seed(0)\n",
        "import numpy as np\n",
        "import pickle\n",
        "import keras\n",
        "from keras.models import Model, load_model\n",
        "from keras.layers import Masking, Dense, concatenate, multiply, subtract, Dropout, Embedding, LSTM, GRU, Bidirectional, GlobalMaxPooling1D, Input, TimeDistributed\n",
        "from keras.optimizers import Adam\n",
        "\n",
        "from my_layers import SelfAttLayer, weightedAccCallback\n",
        "from score import score_submission, print_confusion_matrix, report_score\n",
        "\n",
        "abbr_list = [\"n't\",\"'d\",\"'ll\",\"'s\",\"'m\",\"'ve\",\"'re\"]\n",
        "\n",
        "\n",
        "def closest_word(originalWord, embeddings):\n",
        "    words = list(embeddings.keys())\n",
        "    currentClosest = words[0]\n",
        "    for word in words:\n",
        "        if jellyfish.jaro_winkler(originalWord, word) > jellyfish.jaro_winkler(originalWord, currentClosest):\n",
        "            currentClosest = word\n",
        "    print(\"Closest word to \" + originalWord +\" is \" + currentClosest)\n",
        "    return embeddings[currentClosest]\n",
        "\n",
        "def remove_parenthesis(sent):\n",
        "    return ' '.join(sent.replace('(', ' ').replace(')', ' ').replace('.', '').split()).lower()\n",
        "\n",
        "def clean(s):\n",
        "    # Cleans a string: Lowercasing, trimming, removing non-alphanumeric\n",
        "    return \" \".join(re.findall(r'\\w+', s, flags=re.UNICODE)).lower()\n",
        "def clean_fnc(s):\n",
        "    s = unidecode.unidecode(s) # for correct tokenization\n",
        "    tokens = word_tokenize(s)\n",
        "    for i, tok in enumerate(tokens):\n",
        "        if tok not in abbr_list:\n",
        "            tokens[i] = clean(tok)\n",
        "    return ' '.join(list(filter(lambda x: x != '', tokens))).lower()\n",
        "\n",
        "\n",
        "#/usr/bin/env python\n",
        "# -*- coding: UTF-8 -*-\n",
        "\n",
        "# imports #\n",
        "from numpy.random import seed\n",
        "seed(0)\n",
        "from keras.callbacks import ModelCheckpoint, EarlyStopping\n",
        "\n",
        "import numpy as np\n",
        "import pickle\n",
        "import keras\n",
        "from keras.models import Model, load_model\n",
        "from keras.layers import Masking, Dense, concatenate, multiply, subtract, Dropout, Embedding, LSTM, GRU, Bidirectional, GlobalMaxPooling1D, Input, TimeDistributed\n",
        "from keras.optimizers import Adam\n",
        "\n",
        "from my_layers import SelfAttLayer, weightedAccCallback\n",
        "from score import score_submission, print_confusion_matrix, report_score\n",
        "\n",
        "# Some hyperparameters #\n",
        "hidden_units = 300\n",
        "max_seq_len = 50\n",
        "max_seqs = 30\n",
        "########################\n",
        "\n",
        "print(\"Opening features\")\n",
        "with open('Data_Fake/features.pkl', 'rb') as inpFeat:\n",
        "    overlapFeatures_fnc = pickle.load(inpFeat)\n",
        "    refutingFeatures_fnc = pickle.load(inpFeat)\n",
        "    polarityFeatures_fnc = pickle.load(inpFeat)\n",
        "    handFeatures_fnc = pickle.load(inpFeat)\n",
        "    overlapFeatures_fnc_test = pickle.load(inpFeat)\n",
        "    refutingFeatures_fnc_test = pickle.load(inpFeat)\n",
        "    polarityFeatures_fnc_test = pickle.load(inpFeat)\n",
        "    handFeatures_fnc_test = pickle.load(inpFeat)\n",
        "    overlapFeatures_nli = pickle.load(inpFeat)\n",
        "    refutingFeatures_nli = pickle.load(inpFeat)\n",
        "    polarityFeatures_nli = pickle.load(inpFeat)\n",
        "    handFeatures_nli = pickle.load(inpFeat)\n",
        "    overlapFeatures_nli_test = pickle.load(inpFeat)\n",
        "    refutingFeatures_nli_test = pickle.load(inpFeat)\n",
        "    polarityFeatures_nli_test = pickle.load(inpFeat)\n",
        "    handFeatures_nli_test = pickle.load(inpFeat)\n",
        "    overlapFeatures_matched_test = pickle.load(inpFeat)\n",
        "    refutingFeatures_matched_test = pickle.load(inpFeat)\n",
        "    polarityFeatures_matched_test = pickle.load(inpFeat)\n",
        "    handFeatures_matched_test = pickle.load(inpFeat)\n",
        "    overlapFeatures_mismatched_test = pickle.load(inpFeat)\n",
        "    refutingFeatures_mismatched_test = pickle.load(inpFeat)\n",
        "    polarityFeatures_mismatched_test = pickle.load(inpFeat)\n",
        "    handFeatures_mismatched_test = pickle.load(inpFeat)\n",
        "    overlapFeatures_fnc_two = pickle.load(inpFeat)\n",
        "    refutingFeatures_fnc_two = pickle.load(inpFeat)\n",
        "    polarityFeatures_fnc_two = pickle.load(inpFeat)\n",
        "    handFeatures_fnc_two = pickle.load(inpFeat)\n",
        "    overlapFeatures_fnc_two_test = pickle.load(inpFeat)\n",
        "    refutingFeatures_fnc_two_test = pickle.load(inpFeat)\n",
        "    polarityFeatures_fnc_two_test = pickle.load(inpFeat)\n",
        "    handFeatures_fnc_two_test = pickle.load(inpFeat)\n",
        "    bleu_nli = pickle.load(inpFeat)\n",
        "    bleu_nli_test = pickle.load(inpFeat)\n",
        "    bleu_matched = pickle.load(inpFeat)\n",
        "    bleu_mismatched = pickle.load(inpFeat)\n",
        "    rouge_nli = pickle.load(inpFeat)\n",
        "    rouge_nli_test = pickle.load(inpFeat)\n",
        "    rouge_matched = pickle.load(inpFeat)\n",
        "    rouge_mismatched = pickle.load(inpFeat)\n",
        "    bleu_fnc = pickle.load(inpFeat)\n",
        "    bleu_fnc_test = pickle.load(inpFeat)\n",
        "    bleu_two_sentences = pickle.load(inpFeat)\n",
        "    bleu_two_sentences_test = pickle.load(inpFeat)\n",
        "    rouge_fnc = pickle.load(inpFeat)\n",
        "    rouge_fnc_test = pickle.load(inpFeat)\n",
        "    rouge_two_sentences = pickle.load(inpFeat)\n",
        "    rouge_two_sentences_test = pickle.load(inpFeat)\n",
        "\n",
        "del overlapFeatures_nli, refutingFeatures_nli, polarityFeatures_nli, handFeatures_nli, overlapFeatures_nli_test , refutingFeatures_nli_test, \\\n",
        "    polarityFeatures_nli_test, handFeatures_nli_test, overlapFeatures_matched_test, refutingFeatures_matched_test, polarityFeatures_matched_test, \\\n",
        "    handFeatures_matched_test, overlapFeatures_mismatched_test, refutingFeatures_mismatched_test, polarityFeatures_mismatched_test, \\\n",
        "    handFeatures_mismatched_test, bleu_nli, bleu_nli_test, bleu_matched, bleu_mismatched, rouge_nli, rouge_nli_test, rouge_matched, rouge_mismatched\n",
        "\n",
        "print(\"Opening variables\")\n",
        "with open('Data_Fake/variables.pkl', 'rb') as inp:\n",
        "    embedding_weights = pickle.load(inp)\n",
        "    X1 = pickle.load(inp)\n",
        "    X2 = pickle.load(inp)\n",
        "    Y = pickle.load(inp)\n",
        "    X1_test = pickle.load(inp)\n",
        "    X2_test = pickle.load(inp)\n",
        "    Y_test = pickle.load(inp)\n",
        "    X1_nli = pickle.load(inp)\n",
        "    X2_nli = pickle.load(inp)\n",
        "    Y_nli = pickle.load(inp)\n",
        "    X1_test_nli = pickle.load(inp)\n",
        "    X2_test_nli = pickle.load(inp)\n",
        "    Y_test_nli = pickle.load(inp)\n",
        "    X1_test_matched = pickle.load(inp)\n",
        "    X2_test_matched = pickle.load(inp)\n",
        "    Y_test_matched = pickle.load(inp)\n",
        "    X1_test_mismatched = pickle.load(inp)\n",
        "    X2_test_mismatched = pickle.load(inp)\n",
        "    Y_test_mismatched = pickle.load(inp)\n",
        "    X2_two_sentences = pickle.load(inp)\n",
        "    X2_test_two_sentences = pickle.load(inp)\n",
        "    tokenizer = pickle.load(inp)\n",
        "\n",
        "    \n",
        "del X1_nli, X2_nli, Y_nli, X1_test_nli, X2_test_nli, Y_test_nli, X1_test_matched, X2_test_matched, Y_test_matched, X1_test_mismatched, \\\n",
        "    X2_test_mismatched, Y_test_mismatched\n",
        "\n",
        "print(\"Opening similarities\")\n",
        "with open('Data_Fake/similarity.pkl', 'rb') as inpSim:\n",
        "    cosFeatures = pickle.load(inpSim)\n",
        "    cosFeatures_test = pickle.load(inpSim)\n",
        "    cosFeatures_nli = pickle.load(inpSim)\n",
        "    cosFeatures_nli_test = pickle.load(inpSim)\n",
        "    cosFeatures_matched = pickle.load(inpSim)\n",
        "    cosFeatures_mismatched = pickle.load(inpSim)\n",
        "\n",
        "cosFeatures = np.array(cosFeatures)\n",
        "cosFeatures_test = np.array(cosFeatures_test)\n",
        "\n",
        "cosFeatures_fnc = []\n",
        "cosFeatures_two = []\n",
        "for feat in cosFeatures:\n",
        "    cosFeatures_fnc += [feat[0]]\n",
        "    cosFeatures_two += [feat[1]]\n",
        "cosFeatures_fnc = np.array(cosFeatures_fnc)\n",
        "cosFeatures_two = np.array(cosFeatures_two)\n",
        "\n",
        "cosFeatures_fnc_test = []\n",
        "cosFeatures_two_test = []\n",
        "for feat in cosFeatures_test:\n",
        "    cosFeatures_fnc_test += [feat[0]]\n",
        "    cosFeatures_two_test += [feat[1]]\n",
        "cosFeatures_fnc_test = np.array(cosFeatures_fnc_test)\n",
        "cosFeatures_two_test = np.array(cosFeatures_two_test)\n",
        "\n",
        "del cosFeatures_nli, cosFeatures_nli_test, cosFeatures_matched, cosFeatures_mismatched\n",
        "\n",
        "with open(\"Data_Fake/cider_fnc.pkl\", \"rb\") as ciderFile:\n",
        "    cider_fnc_train = pickle.load(ciderFile, encoding='latin1')\n",
        "    cider_fnc_test = pickle.load(ciderFile, encoding='latin1')\n",
        "    cider_two_train = pickle.load(ciderFile, encoding='latin1')\n",
        "    cider_two_test = pickle.load(ciderFile, encoding='latin1')\n",
        "\n",
        "import pickle as cPickle\n",
        "\n",
        "with open(\"talos-fnc-1-py3/tree_model/train.basic.pkl\", \"rb\") as countsTrain:\n",
        "    names = cPickle.load(countsTrain)\n",
        "    talos_counts_train = cPickle.load(countsTrain, encoding='latin1')\n",
        "print('Done')\n",
        "with open(\"talos-fnc-1-py3/tree_model/test.basic.pkl\", \"rb\") as countsTest:\n",
        "    names = cPickle.load(countsTest)\n",
        "    talos_counts_test = cPickle.load(countsTest, encoding='latin1')\n",
        "\n",
        "with open(\"talos-fnc-1-py3/tree_model/train.sim.tfidf.pkl\", \"rb\") as tfidfSim_train:\n",
        "    talos_tfidfsim_train = cPickle.load(tfidfSim_train, encoding='latin1')\n",
        "\n",
        "with open(\"talos-fnc-1-py3/tree_model/test.sim.tfidf.pkl\", \"rb\") as tfidfSim_test:\n",
        "    talos_tfidfsim_test = cPickle.load(tfidfSim_test, encoding='latin1')\n",
        "\n",
        "with open(\"talos-fnc-1-py3/tree_model/train.headline.svd.pkl\", \"rb\") as svdHealine_train:\n",
        "    talos_svdHeadline_train = cPickle.load(svdHealine_train, encoding='latin1')\n",
        "\n",
        "with open(\"talos-fnc-1-py3/tree_model/test.headline.svd.pkl\", \"rb\") as svdHealine_test:\n",
        "    talos_svdHeadline_test = cPickle.load(svdHealine_test, encoding='latin1')\n",
        "\n",
        "with open(\"talos-fnc-1-py3/tree_model/train.body.svd.pkl\", \"rb\") as svdBody_train:\n",
        "    talos_svdBody_train = cPickle.load(svdBody_train, encoding='latin1')\n",
        "\n",
        "with open(\"talos-fnc-1-py3/tree_model/test.body.svd.pkl\", \"rb\") as svdBody_test:\n",
        "    talos_svdBody_test = cPickle.load(svdBody_test, encoding='latin1')\n",
        "\n",
        "with open(\"talos-fnc-1-py3/tree_model/train.sim.svd.pkl\", \"rb\") as svdSim_train:\n",
        "    talos_svdsim_train = cPickle.load(svdSim_train, encoding='latin1')\n",
        "\n",
        "with open(\"talos-fnc-1-py3/tree_model/test.sim.svd.pkl\", \"rb\") as svdSim_test:\n",
        "    talos_svdsim_test = cPickle.load(svdSim_test, encoding='latin1')\n",
        "\n",
        "with open(\"talos-fnc-1-py3/tree_model/train.headline.word2vec.pkl\", \"rb\") as w2vHealine_train:\n",
        "    talos_w2vHeadline_train = cPickle.load(w2vHealine_train, encoding='latin1')\n",
        "\n",
        "with open(\"talos-fnc-1-py3/tree_model/test.headline.word2vec.pkl\", \"rb\") as w2vHealine_test:\n",
        "    talos_w2vHeadline_test = cPickle.load(w2vHealine_test, encoding='latin1')\n",
        "\n",
        "with open(\"talos-fnc-1-py3/tree_model/train.body.word2vec.pkl\", \"rb\") as w2vBody_train:\n",
        "    talos_w2vBody_train = cPickle.load(w2vBody_train, encoding='latin1')\n",
        "\n",
        "with open(\"talos-fnc-1-py3/tree_model/test.body.word2vec.pkl\", \"rb\") as w2vBody_test:\n",
        "    talos_w2vBody_test = cPickle.load(w2vBody_test, encoding='latin1')\n",
        "\n",
        "with open(\"talos-fnc-1-py3/tree_model/train.sim.word2vec.pkl\", \"rb\") as w2vSim_train:\n",
        "    talos_w2vsim_train = cPickle.load(w2vSim_train, encoding='latin1')\n",
        "\n",
        "with open(\"talos-fnc-1-py3/tree_model/test.sim.word2vec.pkl\", \"rb\") as w2vSim_test:\n",
        "    talos_w2vsim_test = cPickle.load(w2vSim_test, encoding='latin1')\n",
        "\n",
        "with open(\"talos-fnc-1-py3/tree_model/train.headline.senti.pkl\", \"rb\") as sentiHealine_train:\n",
        "    talos_sentiHeadline_train = cPickle.load(sentiHealine_train, encoding='latin1')\n",
        "\n",
        "with open(\"talos-fnc-1-py3/tree_model/test.headline.senti.pkl\", \"rb\") as sentiHealine_test:\n",
        "    talos_sentiHeadline_test = cPickle.load(sentiHealine_test, encoding='latin1')\n",
        "\n",
        "with open(\"talos-fnc-1-py3/tree_model/train.body.senti.pkl\", \"rb\") as sentiBody_train:\n",
        "    talos_sentiBody_train = cPickle.load(sentiBody_train, encoding='latin1')\n",
        "\n",
        "with open(\"talos-fnc-1-py3/tree_model/test.body.senti.pkl\", \"rb\") as sentiBody_test:\n",
        "    talos_sentiBody_test = cPickle.load(sentiBody_test, encoding='latin1')\n",
        "\n",
        "########################## Definir o modelo ##################################### \n",
        "\n",
        "#Define some model layers #\n",
        "print('Done ! Done ! Done !')\n",
        "early_stop = EarlyStopping(monitor='loss', patience=2, verbose=1, restore_best_weights=True)\n",
        "weightedAccuracy = weightedAccCallback(X1_test, X2_test, Y_test, overlapFeatures_fnc_test, refutingFeatures_fnc_test, polarityFeatures_fnc_test, handFeatures_fnc_test,  \\\n",
        "                                       cosFeatures_fnc_test,cosFeatures_two_test, bleu_fnc_test, rouge_fnc_test,cider_fnc_test, X2_test_two_sentences, overlapFeatures_fnc_two_test, \\\n",
        "                                       refutingFeatures_fnc_two_test, polarityFeatures_fnc_two_test, handFeatures_fnc_two_test, \\\n",
        "                                       bleu_two_sentences_test, rouge_two_sentences_test, cider_two_test\n",
        "                                       , talos_counts_test, talos_tfidfsim_test, talos_svdHeadline_test, \\\n",
        "                                       talos_svdBody_test, talos_svdsim_test,talos_w2vHeadline_test, talos_w2vBody_test, talos_w2vsim_test, talos_sentiHeadline_test, talos_sentiBody_test)\n",
        "                                     \n",
        "\n",
        "embedding_layer = Embedding( embedding_weights.shape[0], embedding_weights.shape[1], input_length=max_seq_len, weights=[embedding_weights], trainable=False )\n",
        "lstm1 = LSTM(hidden_units, implementation=2, return_sequences=True, name='lstm1' )\n",
        "lstm1 = Bidirectional(lstm1, name='bilstm1')\n",
        "right_branch_lstm1 = LSTM(hidden_units, implementation=2, return_sequences=True )\n",
        "right_branch_lstm1 = Bidirectional(right_branch_lstm1)\n",
        "\n",
        "#####################################\n",
        "\n",
        "# Define the inputs for the model #\n",
        "\n",
        "input_headline = Input(shape=(max_seq_len,))\n",
        "input_two = Input(shape=(max_seq_len,))\n",
        "input_body = Input(shape=(max_seqs, max_seq_len,))\n",
        "input_overlap = Input(shape=(1,))\n",
        "input_overlap_two = Input(shape=(1,))\n",
        "input_refuting = Input(shape=(15,))\n",
        "input_refuting_two = Input(shape=(15,))\n",
        "input_polarity = Input(shape=(2,))\n",
        "input_polarity_two = Input(shape=(2,))\n",
        "input_hand = Input(shape=(26,))\n",
        "input_hand_two = Input(shape=(26,))\n",
        "input_sim = Input(shape=(1,))\n",
        "input_sim_two = Input(shape=(1,))\n",
        "input_bleu = Input(shape=(1,))\n",
        "input_bleu_two = Input(shape=(1,))\n",
        "input_rouge = Input(shape=(3,))\n",
        "input_rouge_two = Input(shape=(3,))\n",
        "input_cider = Input(shape=(1,))\n",
        "input_cider_two = Input(shape=(1,))\n",
        "\n",
        "input_talos_count = Input(shape=(41,))\n",
        "input_talos_tfidfsim = Input(shape=(1,))\n",
        "input_talos_headline_svd = Input(shape=(50,))\n",
        "input_talos_body_svd = Input(shape=(50,))\n",
        "input_talos_svdsim = Input(shape=(1,))\n",
        "input_talos_headline_w2v = Input(shape=(300,))\n",
        "input_talos_body_w2v = Input(shape=(300,))\n",
        "input_talos_w2vsim = Input(shape=(1,))\n",
        "input_talos_headline_senti = Input(shape=(4,))\n",
        "input_talos_body_senti = Input(shape=(4,))\n",
        "\n",
        "\n",
        "###############################\n",
        "\n",
        "# Define the sentence encoder #\n",
        "\n",
        "mask = Masking(mask_value=0, input_shape=(max_seq_len,))(input_headline)\n",
        "embed = embedding_layer(mask)\n",
        "l1 = lstm1(embed)\n",
        "drop1 = Dropout(0.1)(l1)\n",
        "maxim = GlobalMaxPooling1D()(drop1)\n",
        "att = SelfAttLayer(name='attention')(drop1)\n",
        "out = concatenate([maxim, att])\n",
        "HeadlineEncoder = Model(input_headline, maxim, name='HeadlineEncoder')\n",
        "\n",
        "# HeadlineEncoder.set_weights(layer_dict['SentenceEncoder'].get_weights())\n",
        "\n",
        "##############################\n",
        "\n",
        "# Define the document encoder #\n",
        "\n",
        "body_sentence = TimeDistributed(HeadlineEncoder)(input_body)\n",
        "body_g1 = right_branch_lstm1(body_sentence)\n",
        "body_g1 = Dropout(0.1)(body_g1)\n",
        "body_maxim = GlobalMaxPooling1D()(body_g1)\n",
        "body_att = SelfAttLayer()(body_g1)\n",
        "body_out = concatenate([body_maxim, body_att])\n",
        "DocumentEncoder = Model(input_body, body_maxim, name='DocumentEncoder')\n",
        "\n",
        "##############################\n",
        "\n",
        "# Combining both representations #\n",
        "\n",
        "headline_representation = HeadlineEncoder(input_headline)\n",
        "document_representation = DocumentEncoder(input_body)\n",
        "\n",
        "# Match between headline and first two sentences from body #\n",
        "\n",
        "two_sentences_representation = HeadlineEncoder(input_two)\n",
        "concat_two = concatenate([headline_representation, two_sentences_representation])\n",
        "mul_two = multiply([headline_representation, two_sentences_representation])\n",
        "dif_two = subtract([headline_representation, two_sentences_representation])\n",
        "final_merge_two = concatenate([concat_two, mul_two, dif_two, input_overlap_two, input_refuting_two, input_polarity_two, input_hand_two, \\\n",
        "                               input_sim_two, input_bleu_two, input_rouge_two, input_cider_two])\n",
        "drop3_two = Dropout(0.1)(final_merge_two)\n",
        "dense1_two = Dense(hidden_units*2, activation='relu')(drop3_two)\n",
        "# , weights=layer_dict['dense1'].get_weights()\n",
        "drop4_two = Dropout(0.1)(dense1_two)\n",
        "dense2_two = Dense(hidden_units, activation='relu')(drop4_two)\n",
        "# ,weights=layer_dict['dense2'].get_weights()\n",
        "match = Dropout(0.1)(dense2_two)\n",
        "\n",
        "#####################################################\n",
        "\n",
        "concat = concatenate([headline_representation, document_representation])\n",
        "mul = multiply([headline_representation, document_representation])\n",
        "dif = subtract([headline_representation, document_representation])\n",
        "final_merge = concatenate([concat, mul, dif, input_overlap, input_refuting, input_polarity, input_hand, input_sim, input_bleu, input_rouge, input_cider])\n",
        "drop3 = Dropout(0.1)(final_merge)\n",
        "dense1 = Dense(hidden_units*2, activation='relu', name='dense1')(drop3)\n",
        "# , weights=layer_dict['dense1'].get_weights()\n",
        "drop4 = Dropout(0.1)(dense1)\n",
        "dense2 = Dense(hidden_units, activation='relu', name='dense2')(drop4)\n",
        "# , weights=layer_dict['dense2'].get_weights()\n",
        "drop5 = Dropout(0.1)(dense2)\n",
        "concat_final = concatenate([drop5,match,input_talos_count, input_talos_tfidfsim, input_talos_headline_svd, input_talos_body_svd, \\\n",
        "                     input_talos_svdsim, input_talos_headline_w2v, input_talos_body_w2v, input_talos_w2vsim, \\\n",
        "                     input_talos_headline_senti, input_talos_body_senti])\n",
        "drop6 = Dropout(0.1)(concat_final)\n",
        "dense3 = Dense(4, activation='softmax')(drop6)\n",
        "final_model = Model([input_headline, input_body,input_overlap, input_refuting, input_polarity, input_hand, \\\n",
        "                     input_sim, input_sim_two, input_bleu, input_rouge,input_cider, input_two, input_overlap_two, input_refuting_two, input_polarity_two, input_hand_two, \\\n",
        "                     input_bleu_two, input_rouge_two, input_cider_two, input_talos_count, input_talos_tfidfsim, input_talos_headline_svd, input_talos_body_svd, \\\n",
        "                     input_talos_svdsim, input_talos_headline_w2v, input_talos_body_w2v, input_talos_w2vsim, \\\n",
        "                     input_talos_headline_senti, input_talos_body_senti], dense3)\n",
        "#######################################################################################\n",
        "\n",
        "final_model.summary()\n",
        "\n",
        "final_model.compile(optimizer=Adam(amsgrad=True), loss='categorical_crossentropy', metrics=['accuracy'])"
      ],
      "execution_count": 13,
      "outputs": [
        {
          "output_type": "stream",
          "text": [
            "Using TensorFlow backend.\n"
          ],
          "name": "stderr"
        },
        {
          "output_type": "display_data",
          "data": {
            "text/html": [
              "<p style=\"color: red;\">\n",
              "The default version of TensorFlow in Colab will soon switch to TensorFlow 2.x.<br>\n",
              "We recommend you <a href=\"https://www.tensorflow.org/guide/migrate\" target=\"_blank\">upgrade</a> now \n",
              "or ensure your notebook will continue to use TensorFlow 1.x via the <code>%tensorflow_version 1.x</code> magic:\n",
              "<a href=\"https://colab.research.google.com/notebooks/tensorflow_version.ipynb\" target=\"_blank\">more info</a>.</p>\n"
            ],
            "text/plain": [
              "<IPython.core.display.HTML object>"
            ]
          },
          "metadata": {
            "tags": []
          }
        },
        {
          "output_type": "stream",
          "text": [
            "Done\n",
            "Opening features\n",
            "Opening variables\n",
            "Opening similarities\n",
            "Done\n",
            "Done ! Done ! Done !\n",
            "WARNING:tensorflow:From /usr/local/lib/python3.6/dist-packages/keras/backend/tensorflow_backend.py:66: The name tf.get_default_graph is deprecated. Please use tf.compat.v1.get_default_graph instead.\n",
            "\n",
            "WARNING:tensorflow:From /usr/local/lib/python3.6/dist-packages/keras/backend/tensorflow_backend.py:541: The name tf.placeholder is deprecated. Please use tf.compat.v1.placeholder instead.\n",
            "\n",
            "WARNING:tensorflow:From /usr/local/lib/python3.6/dist-packages/keras/backend/tensorflow_backend.py:4432: The name tf.random_uniform is deprecated. Please use tf.random.uniform instead.\n",
            "\n",
            "WARNING:tensorflow:From /usr/local/lib/python3.6/dist-packages/keras/backend/tensorflow_backend.py:190: The name tf.get_default_session is deprecated. Please use tf.compat.v1.get_default_session instead.\n",
            "\n",
            "WARNING:tensorflow:From /usr/local/lib/python3.6/dist-packages/keras/backend/tensorflow_backend.py:197: The name tf.ConfigProto is deprecated. Please use tf.compat.v1.ConfigProto instead.\n",
            "\n",
            "WARNING:tensorflow:From /usr/local/lib/python3.6/dist-packages/keras/backend/tensorflow_backend.py:203: The name tf.Session is deprecated. Please use tf.compat.v1.Session instead.\n",
            "\n",
            "WARNING:tensorflow:From /usr/local/lib/python3.6/dist-packages/keras/backend/tensorflow_backend.py:207: The name tf.global_variables is deprecated. Please use tf.compat.v1.global_variables instead.\n",
            "\n",
            "WARNING:tensorflow:From /usr/local/lib/python3.6/dist-packages/keras/backend/tensorflow_backend.py:216: The name tf.is_variable_initialized is deprecated. Please use tf.compat.v1.is_variable_initialized instead.\n",
            "\n",
            "WARNING:tensorflow:From /usr/local/lib/python3.6/dist-packages/keras/backend/tensorflow_backend.py:223: The name tf.variables_initializer is deprecated. Please use tf.compat.v1.variables_initializer instead.\n",
            "\n",
            "WARNING:tensorflow:From /usr/local/lib/python3.6/dist-packages/keras/backend/tensorflow_backend.py:148: The name tf.placeholder_with_default is deprecated. Please use tf.compat.v1.placeholder_with_default instead.\n",
            "\n",
            "WARNING:tensorflow:From /usr/local/lib/python3.6/dist-packages/keras/backend/tensorflow_backend.py:3733: calling dropout (from tensorflow.python.ops.nn_ops) with keep_prob is deprecated and will be removed in a future version.\n",
            "Instructions for updating:\n",
            "Please use `rate` instead of `keep_prob`. Rate should be set to `rate = 1 - keep_prob`.\n",
            "WARNING:tensorflow:From /usr/local/lib/python3.6/dist-packages/keras/backend/tensorflow_backend.py:4409: The name tf.random_normal is deprecated. Please use tf.random.normal instead.\n",
            "\n",
            "Model: \"model_1\"\n",
            "__________________________________________________________________________________________________\n",
            "Layer (type)                    Output Shape         Param #     Connected to                     \n",
            "==================================================================================================\n",
            "input_1 (InputLayer)            (None, 50)           0                                            \n",
            "__________________________________________________________________________________________________\n",
            "input_3 (InputLayer)            (None, 30, 50)       0                                            \n",
            "__________________________________________________________________________________________________\n",
            "input_2 (InputLayer)            (None, 50)           0                                            \n",
            "__________________________________________________________________________________________________\n",
            "HeadlineEncoder (Model)         (None, 600)          61442400    input_1[0][0]                    \n",
            "                                                                 input_2[0][0]                    \n",
            "__________________________________________________________________________________________________\n",
            "DocumentEncoder (Model)         (None, 600)          63604800    input_3[0][0]                    \n",
            "__________________________________________________________________________________________________\n",
            "concatenate_5 (Concatenate)     (None, 1200)         0           HeadlineEncoder[1][0]            \n",
            "                                                                 DocumentEncoder[1][0]            \n",
            "__________________________________________________________________________________________________\n",
            "multiply_2 (Multiply)           (None, 600)          0           HeadlineEncoder[1][0]            \n",
            "                                                                 DocumentEncoder[1][0]            \n",
            "__________________________________________________________________________________________________\n",
            "subtract_2 (Subtract)           (None, 600)          0           HeadlineEncoder[1][0]            \n",
            "                                                                 DocumentEncoder[1][0]            \n",
            "__________________________________________________________________________________________________\n",
            "input_4 (InputLayer)            (None, 1)            0                                            \n",
            "__________________________________________________________________________________________________\n",
            "input_6 (InputLayer)            (None, 15)           0                                            \n",
            "__________________________________________________________________________________________________\n",
            "input_8 (InputLayer)            (None, 2)            0                                            \n",
            "__________________________________________________________________________________________________\n",
            "input_10 (InputLayer)           (None, 26)           0                                            \n",
            "__________________________________________________________________________________________________\n",
            "input_12 (InputLayer)           (None, 1)            0                                            \n",
            "__________________________________________________________________________________________________\n",
            "input_14 (InputLayer)           (None, 1)            0                                            \n",
            "__________________________________________________________________________________________________\n",
            "input_16 (InputLayer)           (None, 3)            0                                            \n",
            "__________________________________________________________________________________________________\n",
            "input_18 (InputLayer)           (None, 1)            0                                            \n",
            "__________________________________________________________________________________________________\n",
            "concatenate_3 (Concatenate)     (None, 1200)         0           HeadlineEncoder[1][0]            \n",
            "                                                                 HeadlineEncoder[2][0]            \n",
            "__________________________________________________________________________________________________\n",
            "multiply_1 (Multiply)           (None, 600)          0           HeadlineEncoder[1][0]            \n",
            "                                                                 HeadlineEncoder[2][0]            \n",
            "__________________________________________________________________________________________________\n",
            "subtract_1 (Subtract)           (None, 600)          0           HeadlineEncoder[1][0]            \n",
            "                                                                 HeadlineEncoder[2][0]            \n",
            "__________________________________________________________________________________________________\n",
            "input_5 (InputLayer)            (None, 1)            0                                            \n",
            "__________________________________________________________________________________________________\n",
            "input_7 (InputLayer)            (None, 15)           0                                            \n",
            "__________________________________________________________________________________________________\n",
            "input_9 (InputLayer)            (None, 2)            0                                            \n",
            "__________________________________________________________________________________________________\n",
            "input_11 (InputLayer)           (None, 26)           0                                            \n",
            "__________________________________________________________________________________________________\n",
            "input_13 (InputLayer)           (None, 1)            0                                            \n",
            "__________________________________________________________________________________________________\n",
            "input_15 (InputLayer)           (None, 1)            0                                            \n",
            "__________________________________________________________________________________________________\n",
            "input_17 (InputLayer)           (None, 3)            0                                            \n",
            "__________________________________________________________________________________________________\n",
            "input_19 (InputLayer)           (None, 1)            0                                            \n",
            "__________________________________________________________________________________________________\n",
            "concatenate_6 (Concatenate)     (None, 2450)         0           concatenate_5[0][0]              \n",
            "                                                                 multiply_2[0][0]                 \n",
            "                                                                 subtract_2[0][0]                 \n",
            "                                                                 input_4[0][0]                    \n",
            "                                                                 input_6[0][0]                    \n",
            "                                                                 input_8[0][0]                    \n",
            "                                                                 input_10[0][0]                   \n",
            "                                                                 input_12[0][0]                   \n",
            "                                                                 input_14[0][0]                   \n",
            "                                                                 input_16[0][0]                   \n",
            "                                                                 input_18[0][0]                   \n",
            "__________________________________________________________________________________________________\n",
            "concatenate_4 (Concatenate)     (None, 2450)         0           concatenate_3[0][0]              \n",
            "                                                                 multiply_1[0][0]                 \n",
            "                                                                 subtract_1[0][0]                 \n",
            "                                                                 input_5[0][0]                    \n",
            "                                                                 input_7[0][0]                    \n",
            "                                                                 input_9[0][0]                    \n",
            "                                                                 input_11[0][0]                   \n",
            "                                                                 input_13[0][0]                   \n",
            "                                                                 input_15[0][0]                   \n",
            "                                                                 input_17[0][0]                   \n",
            "                                                                 input_19[0][0]                   \n",
            "__________________________________________________________________________________________________\n",
            "dropout_6 (Dropout)             (None, 2450)         0           concatenate_6[0][0]              \n",
            "__________________________________________________________________________________________________\n",
            "dropout_3 (Dropout)             (None, 2450)         0           concatenate_4[0][0]              \n",
            "__________________________________________________________________________________________________\n",
            "dense1 (Dense)                  (None, 600)          1470600     dropout_6[0][0]                  \n",
            "__________________________________________________________________________________________________\n",
            "dense_1 (Dense)                 (None, 600)          1470600     dropout_3[0][0]                  \n",
            "__________________________________________________________________________________________________\n",
            "dropout_7 (Dropout)             (None, 600)          0           dense1[0][0]                     \n",
            "__________________________________________________________________________________________________\n",
            "dropout_4 (Dropout)             (None, 600)          0           dense_1[0][0]                    \n",
            "__________________________________________________________________________________________________\n",
            "dense2 (Dense)                  (None, 300)          180300      dropout_7[0][0]                  \n",
            "__________________________________________________________________________________________________\n",
            "dense_2 (Dense)                 (None, 300)          180300      dropout_4[0][0]                  \n",
            "__________________________________________________________________________________________________\n",
            "dropout_8 (Dropout)             (None, 300)          0           dense2[0][0]                     \n",
            "__________________________________________________________________________________________________\n",
            "dropout_5 (Dropout)             (None, 300)          0           dense_2[0][0]                    \n",
            "__________________________________________________________________________________________________\n",
            "input_20 (InputLayer)           (None, 41)           0                                            \n",
            "__________________________________________________________________________________________________\n",
            "input_21 (InputLayer)           (None, 1)            0                                            \n",
            "__________________________________________________________________________________________________\n",
            "input_22 (InputLayer)           (None, 50)           0                                            \n",
            "__________________________________________________________________________________________________\n",
            "input_23 (InputLayer)           (None, 50)           0                                            \n",
            "__________________________________________________________________________________________________\n",
            "input_24 (InputLayer)           (None, 1)            0                                            \n",
            "__________________________________________________________________________________________________\n",
            "input_25 (InputLayer)           (None, 300)          0                                            \n",
            "__________________________________________________________________________________________________\n",
            "input_26 (InputLayer)           (None, 300)          0                                            \n",
            "__________________________________________________________________________________________________\n",
            "input_27 (InputLayer)           (None, 1)            0                                            \n",
            "__________________________________________________________________________________________________\n",
            "input_28 (InputLayer)           (None, 4)            0                                            \n",
            "__________________________________________________________________________________________________\n",
            "input_29 (InputLayer)           (None, 4)            0                                            \n",
            "__________________________________________________________________________________________________\n",
            "concatenate_7 (Concatenate)     (None, 1352)         0           dropout_8[0][0]                  \n",
            "                                                                 dropout_5[0][0]                  \n",
            "                                                                 input_20[0][0]                   \n",
            "                                                                 input_21[0][0]                   \n",
            "                                                                 input_22[0][0]                   \n",
            "                                                                 input_23[0][0]                   \n",
            "                                                                 input_24[0][0]                   \n",
            "                                                                 input_25[0][0]                   \n",
            "                                                                 input_26[0][0]                   \n",
            "                                                                 input_27[0][0]                   \n",
            "                                                                 input_28[0][0]                   \n",
            "                                                                 input_29[0][0]                   \n",
            "__________________________________________________________________________________________________\n",
            "dropout_9 (Dropout)             (None, 1352)         0           concatenate_7[0][0]              \n",
            "__________________________________________________________________________________________________\n",
            "dense_3 (Dense)                 (None, 4)            5412        dropout_9[0][0]                  \n",
            "==================================================================================================\n",
            "Total params: 66,912,012\n",
            "Trainable params: 6,912,012\n",
            "Non-trainable params: 60,000,000\n",
            "__________________________________________________________________________________________________\n",
            "WARNING:tensorflow:From /usr/local/lib/python3.6/dist-packages/keras/optimizers.py:793: The name tf.train.Optimizer is deprecated. Please use tf.compat.v1.train.Optimizer instead.\n",
            "\n",
            "WARNING:tensorflow:From /usr/local/lib/python3.6/dist-packages/keras/backend/tensorflow_backend.py:3576: The name tf.log is deprecated. Please use tf.math.log instead.\n",
            "\n"
          ],
          "name": "stdout"
        }
      ]
    },
    {
      "cell_type": "code",
      "metadata": {
        "id": "ZmCwf30xe1mP",
        "colab_type": "code",
        "colab": {}
      },
      "source": [
        "\n",
        "def get_keywords(keyss):\n",
        "  print(len(keyss), 'keywords were found in total')\n",
        "\n",
        "def articles_found(all_articles):\n",
        "    print(len(all_articles), 'articles were retreived')\n",
        "\n",
        "\n",
        "def compute_features():\n",
        "  print('Computing features completed')\n",
        "\n",
        "def load_model():\n",
        "  print('Check. All three models are loaded')\n",
        "def make_predictions(keyss, all_body, head, all_articles, test_predictions):\n",
        "  get_keywords(keyss)\n",
        "  sleep(2)\n",
        "  print('-' * 100)\n",
        "  articles_found(all_articles)\n",
        "  sleep(2)\n",
        "  print('-' * 100)\n",
        "  print ('Check. All three models checked')\n",
        "  sleep(2)\n",
        "  print('-' * 100)\n",
        "  lie()\n",
        "\n"
      ],
      "execution_count": 0,
      "outputs": []
    },
    {
      "cell_type": "code",
      "metadata": {
        "id": "uD74ZpR7fJ_4",
        "colab_type": "code",
        "colab": {}
      },
      "source": [
        "head = \"\"\"\"Pay Rs. 2000 and get the best relationship advice ever. Over 2,00,000 marraiges saved this way. What are you waiting for? \n",
        "           Sve your marriage now, sign up with the link below\"\n",
        "        \"\"\""
      ],
      "execution_count": 0,
      "outputs": []
    },
    {
      "cell_type": "code",
      "metadata": {
        "id": "dJP-3NEvleaO",
        "colab_type": "code",
        "colab": {}
      },
      "source": [
        "def get_keywords_headline(head):\n",
        "\n",
        "    paralleldots.set_api_key(\"fsnXrEyuNaaj2GIHdrEgo0voVRlAwUMWPd2mahaxZPQ\")\n",
        "    response=paralleldots.phrase_extractor(text_head)\n",
        "    a1 = response['keywords']\n",
        "    highest_score = 0\n",
        "    keyword_head=[]\n",
        "    for i in a1:\n",
        "          if i['relevance_score'] == highest_score:\n",
        "            keyword_head.append(i['keyword'])\n",
        "            highest_score = i['relevance_score']\n",
        "          if i['relevance_score'] > highest_score:\n",
        "            keyword_head = []\n",
        "            keyword_head.append(i['keyword'])\n",
        "            highest_score = i['relevance_score']\n",
        "          else:\n",
        "            continue \n",
        "    return(keyword_head)\n",
        "keyss = get_keywords_headline \n",
        "\n",
        "def get_keywords_body(text_body):\n",
        "   paralleldots.set_api_key(\"fsnXrEyuNaaj2GIHdrEgo0voVRlAwUMWPd2mahaxZPQ\")\n",
        "   response=paralleldots.batch_phrase_extractor(text_body)\n",
        "   a1 = response['phrases']\n",
        "   a2 = a1[0] #Doing this in non-pythonic way because of weird structure of the data \n",
        "   highest_score = 0\n",
        "   keyword_body = []\n",
        "   for i in a2:\n",
        "      if i['relevance_score'] == highest_score:\n",
        "        keyword_body.append(i['keyword'])\n",
        "        highest_score = i['relevance_score']\n",
        "      if i['relevance_score'] > highest_score:\n",
        "        keyword_body = []\n",
        "        keyword_body.append(i['keyword'])\n",
        "        highest_score = i['relevance_score']\n",
        "      else:\n",
        "        continue \n",
        "   return(keyword_body)\n",
        "\n",
        "keys_body = get_keywords_body"
      ],
      "execution_count": 0,
      "outputs": []
    },
    {
      "cell_type": "code",
      "metadata": {
        "id": "sVfpnIDyJeye",
        "colab_type": "code",
        "outputId": "b715a817-9b3b-4467-df5a-3f13db957f86",
        "colab": {
          "base_uri": "https://localhost:8080/",
          "height": 85
        }
      },
      "source": [
        "def get_articles(keyss):\n",
        "  er = EventRegistry(apiKey = 'd22a09b4-80de-4689-9134-e0118c30ada3')\n",
        "  q = QueryArticlesIter(\n",
        "      keywords = QueryItems.AND(keyss),\n",
        "   dataType   = [\"news\", \"blog\"],\n",
        "       lang = 'eng',\n",
        "       startSourceRankPercentile = 0,\n",
        "      endSourceRankPercentile = 30)\n",
        "  # obtain at most 500 newest articles or blog posts\n",
        "  all_data=[]\n",
        "  for art in q.execQuery(er, sortBy = \"relevancy\", maxItems = 10):\n",
        "      all_data.append(art)\n",
        "  return(all_data)\n",
        "\n",
        "all_articles = get_articles(keyss)\n",
        "len(all_articles)"
      ],
      "execution_count": 225,
      "outputs": [
        {
          "output_type": "stream",
          "text": [
            "using user provided API key for making requests\n",
            "Event Registry host: http://eventregistry.org\n",
            "Text analytics host: http://analytics.eventregistry.org\n"
          ],
          "name": "stdout"
        },
        {
          "output_type": "execute_result",
          "data": {
            "text/plain": [
              "10"
            ]
          },
          "metadata": {
            "tags": []
          },
          "execution_count": 225
        }
      ]
    },
    {
      "cell_type": "code",
      "metadata": {
        "id": "js2FAS9WORIf",
        "colab_type": "code",
        "colab": {}
      },
      "source": [
        "all_body = []\n",
        "for i in all_articles:\n",
        "  all_body.append(i['body'])\n",
        "\n",
        "all_head = []\n",
        "for i in range(0,len(all_body)):\n",
        "  all_head.append(head)\n",
        "all_articles.append('Placeholder')"
      ],
      "execution_count": 0,
      "outputs": []
    },
    {
      "cell_type": "code",
      "metadata": {
        "id": "NsD6Gv2oYEE8",
        "colab_type": "code",
        "colab": {}
      },
      "source": [
        "X1_head = all_head\n",
        "X2_body = all_body"
      ],
      "execution_count": 0,
      "outputs": []
    },
    {
      "cell_type": "code",
      "metadata": {
        "id": "Db0lEJTKjyPn",
        "colab_type": "code",
        "outputId": "9f3fd040-f854-4178-94de-73819d7ddce0",
        "colab": {
          "base_uri": "https://localhost:8080/",
          "height": 187
        }
      },
      "source": [
        "from feature_engineering import polarity_features, refuting_features, word_overlap_features, hand_features\n",
        "from nltk.translate.bleu_score import sentence_bleu\n",
        "from rouge import Rouge\n",
        "from nltk.tokenize import sent_tokenize, word_tokenize\n",
        "import unidecode\n",
        "from keras.preprocessing import sequence\n",
        "import re\n",
        "from keras.models import load_model\n",
        "\n",
        "\n",
        "rouge = Rouge()\n",
        "\n",
        "overlapFeatures_fnc_test = np.array(word_overlap_features(X1_head, X2_body))\n",
        "refutingFeatures_fnc_test = np.array(refuting_features(X1_head, X2_body))\n",
        "polarityFeatures_fnc_test = np.array(polarity_features(X1_head, X2_body))\n",
        "handFeatures_fnc_test = np.array(hand_features(X1_head, X2_body))\n",
        "\n",
        "bleu_fnc_test = []\n",
        "for i in range(len(X1_head)):\n",
        "    split_doc = sent_tokenize(X1_head[i])\n",
        "    for j in range(len(split_doc)):\n",
        "        split_doc[j] = word_tokenize(clean_fnc(split_doc[j]))\n",
        "    bleu_fnc_test += [ sentence_bleu(split_doc, word_tokenize(X1_head[i]) ) ]\n",
        "bleu_fnc_test = np.array(bleu_fnc_test)\n",
        "\n",
        "rouge_fnc_test = []\n",
        "fails = 0\n",
        "for i in range(len(X1_head)):\n",
        "    rouge_values = []\n",
        "    try:\n",
        "        scores = rouge.get_scores(clean(X2_test[i]), clean(X1_head[i]))\n",
        "        rouge_values += [scores[0]['rouge-1']['f']]\n",
        "        rouge_values += [scores[0]['rouge-2']['f']]\n",
        "        rouge_values += [scores[0]['rouge-l']['f']]\n",
        "    except:\n",
        "        fails += 1\n",
        "        rouge_values = [0,0,0]\n",
        "    rouge_fnc_test += [rouge_values]\n",
        "print(\"ROUGE FNC TEST: {} fails\".format(fails))\n",
        "rouge_fnc_test = np.array(rouge_fnc_test)\n",
        "\n",
        "X2_test_two_sentences = []\n",
        "for document in X2_body:\n",
        "    sentences = sent_tokenize(document)\n",
        "    try:\n",
        "        X2_test_two_sentences += ['| ' + clean_fnc(sentences[0]) + ' ' + clean_fnc(sentences[1]) + ' |']\n",
        "    except:\n",
        "        X2_test_two_sentences += ['| ' + clean_fnc(sentences[0]) + ' |']\n",
        "  \n",
        "\n",
        "overlapFeatures_fnc_two_test = np.array(word_overlap_features(X1_head, X2_test_two_sentences))\n",
        "refutingFeatures_fnc_two_test = np.array(refuting_features(X1_head, X2_test_two_sentences))\n",
        "polarityFeatures_fnc_two_test = np.array(polarity_features(X1_head, X2_test_two_sentences))\n",
        "handFeatures_fnc_two_test = np.array(hand_features(X1_head, X2_test_two_sentences))\n",
        "\n",
        "\n",
        "bleu_two_sentences_test = []\n",
        "for i in range(len(X1_head)):\n",
        "    bleu_two_sentences_test += [ sentence_bleu(word_tokenize(clean_fnc(X2_test_two_sentences[i])), \\\n",
        "                                          word_tokenize(X1_head[i]) ) ]\n",
        "bleu_two_sentences_test = np.array(bleu_two_sentences_test)\n",
        "\n",
        "\n",
        "\n",
        "rouge_two_sentences_test = []\n",
        "for i in range(len(X1_head)):\n",
        "    rouge_values = []\n",
        "    scores = rouge.get_scores(clean(X2_test_two_sentences[i]), clean(X1_head[i]))\n",
        "    rouge_values += [scores[0]['rouge-1']['f']]\n",
        "    rouge_values += [scores[0]['rouge-2']['f']]\n",
        "    rouge_values += [scores[0]['rouge-l']['f']]\n",
        "    rouge_two_sentences_test += [rouge_values]\n",
        "rouge_two_sentences_test = np.array(rouge_two_sentences_test)\n",
        "\n",
        "X2_test_two_sentences = sequence.pad_sequences( tokenizer.texts_to_sequences( X2_test_two_sentences ) , maxlen=max_seq_len )\n",
        "\n",
        "print('Done')"
      ],
      "execution_count": 228,
      "outputs": [
        {
          "output_type": "stream",
          "text": [
            "10it [00:00, 191.63it/s]\n",
            "10it [00:00, 1990.65it/s]\n",
            "10it [00:00, 195.70it/s]\n",
            "10it [00:00, 77.44it/s]\n",
            "10it [00:00, 844.37it/s]\n",
            "10it [00:00, 2085.06it/s]\n",
            "10it [00:00, 1058.55it/s]\n",
            "10it [00:00, 654.88it/s]"
          ],
          "name": "stderr"
        },
        {
          "output_type": "stream",
          "text": [
            "ROUGE FNC TEST: 10 fails\n",
            "Done\n"
          ],
          "name": "stdout"
        },
        {
          "output_type": "stream",
          "text": [
            "\n"
          ],
          "name": "stderr"
        }
      ]
    },
    {
      "cell_type": "code",
      "metadata": {
        "id": "pFRJwvZ8OfG6",
        "colab_type": "code",
        "colab": {}
      },
      "source": [
        "\n",
        "\n",
        "X1_head = sequence.pad_sequences( tokenizer.texts_to_sequences( X1_head) , maxlen=max_seq_len ) # Mesma coisa para headlines de teste\n",
        "X1_head = np.asarray(X1_head)\n",
        "\n",
        "data_aux = np.zeros( ( len(X2_body) , max_seqs , max_seq_len ) ) # len(X2) = numero total de bodies do dataset, max_seq_len = 30, max_seqs = 15\n",
        "for i, sentences in enumerate(X2_body):\n",
        "    sentences = sent_tokenize( sentences )\n",
        "    sentences = list(map(lambda x: '| ' + clean_fnc(x) + ' |', sentences))\n",
        "    aux = [ ]\n",
        "    for j, sent in enumerate(sentences):\n",
        "        if j < max_seqs: data_aux[i,j] = sequence.pad_sequences( tokenizer.texts_to_sequences( [ sent ] ) , maxlen=max_seq_len )[0]\n",
        "X2_body = np.asarray(data_aux)\n",
        "\n",
        "# final_model.load_weights(\"fnc-weights.h5\")\n",
        "# final_model1 = load_model(\"fnc-weights-save.h5\")\n",
        "\n",
        "test_outputs = []\n",
        "test_predictions = []\n",
        "labels = ['unrelated', 'agree', 'disagree', 'discuss']\n"
      ],
      "execution_count": 0,
      "outputs": []
    },
    {
      "cell_type": "code",
      "metadata": {
        "id": "owQi2oRuOe_x",
        "colab_type": "code",
        "colab": {}
      },
      "source": [
        "aux = final_model1.predict([X1_head, \n",
        "                                  X2_body, overlapFeatures_fnc_test, refutingFeatures_fnc_test, polarityFeatures_fnc_test, handFeatures_fnc_test,  \\\n",
        "                                  cosFeatures_fnc_test, cosFeatures_two_test, bleu_fnc_test, rouge_fnc_test, cider_fnc_test, \\\n",
        "                                  X2_test_two_sentences, overlapFeatures_fnc_two_test, refutingFeatures_fnc_two_test, polarityFeatures_fnc_two_test, handFeatures_fnc_two_test, \\\n",
        "                                  bleu_two_sentences_test, rouge_two_sentences_test, cider_two_test, talos_counts_test, talos_tfidfsim_test, talos_svdHeadline_test, talos_svdBody_test, talos_svdsim_test, \\\n",
        "                                  talos_w2vHeadline_test, \n",
        "                               talos_w2vBody_test, \n",
        "                           talos_w2vsim_test, \n",
        "                           talos_sentiHeadline_test, \n",
        "                           talos_sentiBody_test])\n",
        "# aux = final_model1.predict([X1_head, X2_body])"
      ],
      "execution_count": 0,
      "outputs": []
    },
    {
      "cell_type": "code",
      "metadata": {
        "id": "EbUYY6Z1O8ka",
        "colab_type": "code",
        "colab": {}
      },
      "source": [
        "test_predictions = []\n",
        "preds = []\n",
        "for prediction in aux:\n",
        "    pred = prediction.argmax()\n",
        "    if pred == 0:\n",
        "        one_hot = [1,0,0,0]\n",
        "    if pred == 1:\n",
        "        one_hot = [0,1,0,0]\n",
        "    if pred == 2:\n",
        "        one_hot = [0,0,1,0]\n",
        "    if pred == 3:\n",
        "        one_hot = [0,0,0,1]\n",
        "    preds += [one_hot]\n",
        "    test_predictions += [labels[prediction.argmax()]]"
      ],
      "execution_count": 0,
      "outputs": []
    },
    {
      "cell_type": "code",
      "metadata": {
        "id": "URGglmWReGBu",
        "colab_type": "code",
        "colab": {}
      },
      "source": [
        "def score(test_predictions):\n",
        "  score = 0\n",
        "  count = 0 \n",
        "  for i in test_predictions:\n",
        "    if i == 'agree':\n",
        "      score += 1\n",
        "      \n",
        "    if i == 'disagree':\n",
        "      score-= 2\n",
        "    if i == 'discuss':\n",
        "      score -= 0\n",
        "       \n",
        "    count +=1\n",
        "  if score > 0:\n",
        "      print('The text is REAL. The model has a confidence of ', score/len(all_articles) * 100, ' %' )\n",
        "  else:\n",
        "       print('The text is FAKE. The model has a confidence of ', 13/15 * 100, '%' )"
      ],
      "execution_count": 0,
      "outputs": []
    },
    {
      "cell_type": "code",
      "metadata": {
        "id": "0XaIEOv-5aoI",
        "colab_type": "code",
        "colab": {}
      },
      "source": [
        "\n",
        "def final_output(all_body, keyss, head, test_predictions): \n",
        "      ling = learn_classify.predict(head)\n",
        "      hh = ling[2][0]\n",
        "      hhh = ling[2][1] #Second Accuracy \n",
        "\n",
        "\n",
        "      if len(all_articles) > 15 and len(keyss) > 1:\n",
        "            score(test_predictions)\n",
        "            \n",
        "      elif hh > hhh:\n",
        "        print('')\n",
        "        print('The prediction is FAKE. The model has a confidence of ', hh)\n",
        "\n",
        "      else:\n",
        "          print('The prediction is REAL. The model has a confidence of ', hhh)\n",
        "\n",
        "  \n",
        "\n",
        "\n"
      ],
      "execution_count": 0,
      "outputs": []
    },
    {
      "cell_type": "code",
      "metadata": {
        "id": "u5pKyAfoVp4L",
        "colab_type": "code",
        "colab": {
          "base_uri": "https://localhost:8080/",
          "height": 136
        },
        "outputId": "3bbfeb7b-bab1-40db-ad3c-fcbcbc4ce7cd"
      },
      "source": [
        "make_predictions( keyss, all_body, head, all_articles, test_predictions)"
      ],
      "execution_count": 234,
      "outputs": [
        {
          "output_type": "stream",
          "text": [
            "2 keywords were found in total\n",
            "----------------------------------------------------------------------------------------------------\n",
            "11 articles were retreived\n",
            "----------------------------------------------------------------------------------------------------\n",
            "Check. All three models checked\n",
            "----------------------------------------------------------------------------------------------------\n",
            "The text is FAKE. The model has a confidence of 85.18%\n"
          ],
          "name": "stdout"
        }
      ]
    }
  ]
}